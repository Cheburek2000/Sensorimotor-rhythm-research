{
 "cells": [
  {
   "cell_type": "code",
   "execution_count": 1,
   "id": "7fddb196",
   "metadata": {},
   "outputs": [],
   "source": [
    "import mne\n",
    "from mne.preprocessing import ICA\n",
    "import matplotlib.pyplot as plt\n",
    "import numpy as np\n",
    "from scipy.stats import kurtosis\n",
    "from scipy.stats import skew , variation\n",
    "from scipy.signal import welch\n",
    "import pandas as pd\n",
    "from scipy.signal import hilbert\n",
    "import glob\n",
    "from mne.event import define_target_events"
   ]
  },
  {
   "cell_type": "code",
   "execution_count": 2,
   "id": "72831c97",
   "metadata": {},
   "outputs": [],
   "source": [
    "#подгружаем библиотитеку которая октрывает ЭЭГ(картинки) в отдельном окне \n",
    "%matplotlib qt"
   ]
  },
  {
   "cell_type": "code",
   "execution_count": 3,
   "id": "37800d3b",
   "metadata": {},
   "outputs": [],
   "source": [
    "import os"
   ]
  },
  {
   "cell_type": "code",
   "execution_count": 4,
   "id": "7d0cc763",
   "metadata": {},
   "outputs": [],
   "source": [
    "os.chdir('D:/all_eeg/mu_eeg/chernovik_2/ssd/')"
   ]
  },
  {
   "cell_type": "code",
   "execution_count": 5,
   "id": "6778dae0",
   "metadata": {},
   "outputs": [
    {
     "data": {
      "text/plain": [
       "['NP102302',\n",
       " 'NP102303',\n",
       " 'NP102304',\n",
       " 'NP102305',\n",
       " 'NP102306',\n",
       " 'NP102307',\n",
       " 'NP102309',\n",
       " 'NP102310',\n",
       " 'NP102311',\n",
       " 'NP102312',\n",
       " 'NP102313',\n",
       " 'NP102314',\n",
       " 'NP102315',\n",
       " 'NP112301',\n",
       " 'NP112302',\n",
       " 'NP112303',\n",
       " 'NP112304',\n",
       " 'NP112306',\n",
       " 'NP112307',\n",
       " 'NP112308',\n",
       " 'NP112309',\n",
       " 'NP112310',\n",
       " 'NP112311',\n",
       " '~$мментарии (автовосстановление).docx',\n",
       " '~$мментарии.docx',\n",
       " 'Комментарии (автовосстановление).docx',\n",
       " 'Комментарии.docx']"
      ]
     },
     "execution_count": 5,
     "metadata": {},
     "output_type": "execute_result"
    }
   ],
   "source": [
    "filenames = glob.glob('*')#кавычокой я опредляю тип файлов для просмотра \n",
    "filenames"
   ]
  },
  {
   "cell_type": "code",
   "execution_count": 6,
   "id": "7fb8e12b",
   "metadata": {},
   "outputs": [
    {
     "data": {
      "text/plain": [
       "['NP102302', 'NP102303']"
      ]
     },
     "execution_count": 6,
     "metadata": {},
     "output_type": "execute_result"
    }
   ],
   "source": [
    "ID=filenames[0:2]#вынеси объекты 3:4\n",
    "ID"
   ]
  },
  {
   "cell_type": "code",
   "execution_count": null,
   "id": "697da43a",
   "metadata": {},
   "outputs": [],
   "source": [
    "#редактируем чтобы были только полные записи \n",
    "#02,03,04,05,06,10,11,12,13,14  \n",
    "del ID [5:7]\n",
    "print(ID)"
   ]
  },
  {
   "cell_type": "code",
   "execution_count": null,
   "id": "56c4763f",
   "metadata": {},
   "outputs": [],
   "source": [
    "#каналы: 'Fp1', 'Fz', 'F3', 'F7', 'FT9', 'FC5', 'FC1', 'C3', 'T7', 'TP9', 'CP5', 'CP1', 'Pz', 'P3', 'P7', 'O1', 'O2', 'P4', 'P8', 'TP10', 'CP6', 'CP2', 'Cz', 'C4', 'T8', 'FT10', 'FC6', 'FC2', 'F4', 'F8', 'Fp2'\n",
    "#каналы затылочные O1, O2, Oz, PO3, PO4, P7, P8, P3, P4, Pz\n",
    "#каналы прецентарльной извилины F3, F4, Fz, C3, C4, Cz "
   ]
  },
  {
   "cell_type": "markdown",
   "id": "a9e2d2cf",
   "metadata": {},
   "source": [
    "# Рабочий шаблон с подсчетом PSD и сохранением результатов в таблицу! "
   ]
  },
  {
   "cell_type": "code",
   "execution_count": 37,
   "id": "8626c63a",
   "metadata": {
    "scrolled": false
   },
   "outputs": [
    {
     "name": "stdout",
     "output_type": "stream",
     "text": [
      "NP102302\n",
      "Reading D:\\all_eeg\\mu_eeg\\chernovik_2\\ssd\\NP102302\\NP102302_all_epochs_new_fractal.fif ...\n",
      "    Found the data of interest:\n",
      "        t =       0.00 ...    1998.00 ms\n",
      "        0 CTF compensation matrices available\n",
      "Not setting metadata\n",
      "29 matching events found\n",
      "No baseline correction applied\n",
      "0 projection items activated\n",
      "Effective window size : 2.000 (s)\n",
      "PSD NP102302_all_epochs_new_fractal.fif: -112.13874056119712\n",
      "NP102303\n",
      "Reading D:\\all_eeg\\mu_eeg\\chernovik_2\\ssd\\NP102303\\NP102303_all_epochs_new_fractal.fif ...\n",
      "    Found the data of interest:\n",
      "        t =       0.00 ...    1998.00 ms\n",
      "        0 CTF compensation matrices available\n",
      "Not setting metadata\n",
      "23 matching events found\n",
      "No baseline correction applied\n",
      "0 projection items activated\n",
      "Effective window size : 2.000 (s)\n",
      "PSD NP102303_all_epochs_new_fractal.fif: -113.82041553054049\n",
      "avr_PSD_variable_first = -112.79888642051056\n",
      "[-112.13874056119712, -113.82041553054049]\n",
      "[['NP102302_all_epochs_new_fractal.fif'], ['NP102303_all_epochs_new_fractal.fif']]\n",
      "                                      ID         PSD\n",
      "0  [NP102302_all_epochs_new_fractal.fif] -112.138741\n",
      "1  [NP102303_all_epochs_new_fractal.fif] -113.820416\n"
     ]
    },
    {
     "name": "stderr",
     "output_type": "stream",
     "text": [
      "C:\\Users\\chuba\\AppData\\Local\\Temp\\ipykernel_5828\\916221396.py:14: RuntimeWarning: This filename (NP102302/NP102302_all_epochs_new_fractal.fif) does not conform to MNE naming conventions. All epochs files should end with -epo.fif, -epo.fif.gz, _epo.fif or _epo.fif.gz\n",
      "  variable_first = mne.read_epochs(name, proj=True, preload=True, verbose=None)#читаем запись\n",
      "C:\\Users\\chuba\\AppData\\Local\\Temp\\ipykernel_5828\\916221396.py:14: RuntimeWarning: This filename (NP102303/NP102303_all_epochs_new_fractal.fif) does not conform to MNE naming conventions. All epochs files should end with -epo.fif, -epo.fif.gz, _epo.fif or _epo.fif.gz\n",
      "  variable_first = mne.read_epochs(name, proj=True, preload=True, verbose=None)#читаем запись\n"
     ]
    },
    {
     "name": "stdout",
     "output_type": "stream",
     "text": [
      "NP102302\n",
      "Reading D:\\all_eeg\\mu_eeg\\chernovik_2\\ssd\\NP102302\\NP102302_all_epochs_new_fractal_audio.fif ...\n",
      "    Found the data of interest:\n",
      "        t =       0.00 ...    1998.00 ms\n",
      "        0 CTF compensation matrices available\n",
      "Not setting metadata\n",
      "30 matching events found\n",
      "No baseline correction applied\n",
      "0 projection items activated\n",
      "Effective window size : 2.000 (s)\n",
      "PSD NP102302_all_epochs_new_fractal_audio.fif: -113.12341888907837\n",
      "NP102303\n",
      "Reading D:\\all_eeg\\mu_eeg\\chernovik_2\\ssd\\NP102303\\NP102303_all_epochs_new_fractal_audio.fif ...\n",
      "    Found the data of interest:\n",
      "        t =       0.00 ...    1998.00 ms\n",
      "        0 CTF compensation matrices available\n",
      "Not setting metadata\n",
      "16 matching events found\n",
      "No baseline correction applied\n",
      "0 projection items activated\n",
      "Effective window size : 2.000 (s)\n",
      "PSD NP102303_all_epochs_new_fractal_audio.fif: -113.61042629727265\n",
      "avr_PSD_variable_second = -113.35187735225263\n",
      "[-113.12341888907837, -113.61042629727265]\n",
      "[['NP102302_all_epochs_new_fractal_audio.fif'], ['NP102303_all_epochs_new_fractal_audio.fif']]\n",
      "                                            ID         PSD\n",
      "0  [NP102302_all_epochs_new_fractal_audio.fif] -113.123419\n",
      "1  [NP102303_all_epochs_new_fractal_audio.fif] -113.610426\n"
     ]
    },
    {
     "name": "stderr",
     "output_type": "stream",
     "text": [
      "C:\\Users\\chuba\\AppData\\Local\\Temp\\ipykernel_5828\\916221396.py:49: RuntimeWarning: This filename (NP102302/NP102302_all_epochs_new_fractal_audio.fif) does not conform to MNE naming conventions. All epochs files should end with -epo.fif, -epo.fif.gz, _epo.fif or _epo.fif.gz\n",
      "  variable_second = mne.read_epochs(name, proj=True, preload=True, verbose=None)\n",
      "C:\\Users\\chuba\\AppData\\Local\\Temp\\ipykernel_5828\\916221396.py:49: RuntimeWarning: This filename (NP102303/NP102303_all_epochs_new_fractal_audio.fif) does not conform to MNE naming conventions. All epochs files should end with -epo.fif, -epo.fif.gz, _epo.fif or _epo.fif.gz\n",
      "  variable_second = mne.read_epochs(name, proj=True, preload=True, verbose=None)\n"
     ]
    }
   ],
   "source": [
    "#код для подсечта PSD по Эпохам для условий фракталы с аудио и без по каналам С3 И С4 в частоте 1-15 Гц \n",
    "#код с подсчетом psd \n",
    "#необходимо изменить только название фафла для обработки и название файлов которые собираешься изменять \n",
    "fig, ax = plt.subplots()\n",
    "\n",
    "#перове условие Название: \n",
    "psds_target_list = []\n",
    "data_variable_first = [] \n",
    "data_id = []\n",
    "\n",
    "for i in range(len(ID)):\n",
    "    print(ID[i])\n",
    "    name = f'{ID[i]}/{ID[i]}_all_epochs_new_fractal.fif'\n",
    "    variable_first = mne.read_epochs(name, proj=True, preload=True, verbose=None)#читаем запись \n",
    "    spectrum = variable_first.compute_psd(method='welch', fmin=1, fmax=15, tmin=None, tmax=None, proj=False, n_jobs=1, verbose=None)#считаем PSD\n",
    "    psds, freqs = spectrum.get_data(return_freqs=True)#Получите все эпохи в виде 3D-массива\n",
    "\n",
    "    # Find corresponding indices using mne.pick_types() \n",
    "    # mne.pick_types определяет индексы каналов ЭЭГ для обращения\n",
    "    picks_roi_vis = mne.pick_types(variable_first.info, eeg=True, stim=False, exclude='bads', selection=[\"C3\",\"C4\"])\n",
    "    psds_mean=np.mean(psds, axis=0)#cчитаем сред знач Эпох\n",
    "    psds_target = psds_mean[picks_roi_vis]#СОЗДАЕМ СПИСОК ИНДЕКСОВ \n",
    "    psd_variable_first = 10 * np.log10(psds_target.mean())#считаем PSD для подсчета \n",
    "    ID_namber = [f'{ID[i]}_all_epochs_new_fractal.fif']\n",
    "    data_variable_first.append(psd_variable_first)\n",
    "    data_id.append(ID_namber)\n",
    "    print(f'PSD {ID[i]}_all_epochs_new_fractal.fif: {psd_variable_first}')\n",
    "    \n",
    "    psds_target_list.append(psds_target[0])#создаем список (списков?) нужных нам отведений \n",
    "    ax.plot(freqs, psds_target[0], color='white', alpha=0.1, label=f\"PSD {ID[i]}_all_epochs_new_fractal.fif: {psd_variable_first:.2f}\")\n",
    "av_psds_target_list =  np.mean(np.array(psds_target_list), axis=0)#считается усред PSD                             \n",
    "ax.plot(freqs,  av_psds_target_list, color='b')\n",
    "avr_PSD_variable_first = 10 * np.log10(av_psds_target_list.mean())#Считается усред PSD для принта \n",
    "df = pd.DataFrame({\"ID\": data_id, \"PSD\": data_variable_first})\n",
    "print(f'avr_PSD_variable_first = {avr_PSD_variable_first}')\n",
    "print(data_variable_first)\n",
    "print(data_id)\n",
    "print(df)\n",
    "df.to_excel('D:/all_eeg/mu_eeg/obrabot/общие графики/draft PSD для фракталов (С3,С4,1-15Гц).xlsx', index=False)\n",
    "\n",
    "#второе условие Название:   \n",
    "psds_target_list = []\n",
    "data_variable_second = []\n",
    "data_id_2 = []\n",
    "\n",
    "for i in range(len(ID)):\n",
    "    print(ID[i])\n",
    "    name = f'{ID[i]}/{ID[i]}_all_epochs_new_fractal_audio.fif'\n",
    "    variable_second = mne.read_epochs(name, proj=True, preload=True, verbose=None)\n",
    "    spectrum = variable_second.compute_psd(method='welch', fmin=1, fmax=15, tmin=None, tmax=None, proj=False, n_jobs=1, verbose=None)\n",
    "    psds, freqs = spectrum.get_data(return_freqs=True)\n",
    "\n",
    "    # Find corresponding indices using mne.pick_types() \n",
    "    picks_roi_vis = mne.pick_types(variable_second.info, eeg=True, stim=False, exclude='bads', selection=[\"C3\",\"C4\"])\n",
    "    psds_mean=np.mean(psds, axis=0)   \n",
    "    psds_target = psds_mean[picks_roi_vis]\n",
    "    psd_variable_second = 10 * np.log10(psds_target.mean()) \n",
    "    ID_namber_2 = [f'{ID[i]}_all_epochs_new_fractal_audio.fif']\n",
    "    data_variable_second.append(psd_variable_second)\n",
    "    data_id_2.append(ID_namber_2)\n",
    "    print(f'PSD {ID[i]}_all_epochs_new_fractal_audio.fif: {psd_variable_second}')\n",
    "    psds_target_list.append(psds_target[0])\n",
    "    ax.plot(freqs, psds_target[0], color='white', alpha=0.1, label=f\"PSD {ID[i]}_all_epochs_new_fractal_audio.fif: {psd_variable_second:.2f}\")\n",
    "av_psds_target_list =  np.mean(np.array(psds_target_list), axis=0)                              \n",
    "ax.plot(freqs,  av_psds_target_list, '--b')\n",
    "avr_PSD_variable_second = 10 * np.log10(av_psds_target_list.mean()) \n",
    "df = pd.DataFrame({\"ID\": data_id_2, \"PSD\": data_variable_second})\n",
    "print(f'avr_PSD_variable_second = {avr_PSD_variable_second}')\n",
    "print(data_variable_second)\n",
    "print(data_id_2)\n",
    "print(df)\n",
    "df.to_excel('D:/all_eeg/mu_eeg/obrabot/общие графики/draft PSD для фракталов с аудио (С3,С4,1-15Гц).xlsx', index=False)\n",
    "\n",
    "\n",
    "# выводим легенду и оси\n",
    "ax.legend()\n",
    "ax.set_xlabel('Freguency (Hz)')\n",
    "ax.set_ylabel('PSD (fT/cm)^2/Hz (dB)')\n",
    "ax.set_title(f'PSD для условий фракталы с аудио и без  1-15 по отведениям с3,с4, {len(ID)} человек. avr_PSD_var_first = {avr_PSD_variable_first}, avr_PSD_var_second  = {avr_PSD_variable_second}')\n",
    "ax.grid(True)\n",
    "\n",
    "plt.show()\n"
   ]
  },
  {
   "cell_type": "code",
   "execution_count": null,
   "id": "14a77e7d",
   "metadata": {},
   "outputs": [],
   "source": []
  },
  {
   "cell_type": "code",
   "execution_count": null,
   "id": "2ca9566c",
   "metadata": {},
   "outputs": [],
   "source": []
  },
  {
   "cell_type": "code",
   "execution_count": null,
   "id": "0a5e8aab",
   "metadata": {},
   "outputs": [],
   "source": []
  },
  {
   "cell_type": "code",
   "execution_count": null,
   "id": "6de0b045",
   "metadata": {},
   "outputs": [],
   "source": []
  },
  {
   "cell_type": "code",
   "execution_count": null,
   "id": "fd316eb1",
   "metadata": {},
   "outputs": [],
   "source": []
  },
  {
   "cell_type": "code",
   "execution_count": null,
   "id": "36c9397b",
   "metadata": {},
   "outputs": [],
   "source": []
  },
  {
   "cell_type": "code",
   "execution_count": null,
   "id": "5f9ad305",
   "metadata": {},
   "outputs": [],
   "source": []
  },
  {
   "cell_type": "code",
   "execution_count": null,
   "id": "3c4d6d9a",
   "metadata": {},
   "outputs": [],
   "source": []
  },
  {
   "cell_type": "code",
   "execution_count": null,
   "id": "ceb9acd5",
   "metadata": {},
   "outputs": [],
   "source": []
  },
  {
   "cell_type": "code",
   "execution_count": null,
   "id": "fd93ae2c",
   "metadata": {},
   "outputs": [],
   "source": []
  },
  {
   "cell_type": "code",
   "execution_count": null,
   "id": "81f04dfb",
   "metadata": {},
   "outputs": [],
   "source": []
  },
  {
   "cell_type": "code",
   "execution_count": null,
   "id": "dc65f0d0",
   "metadata": {},
   "outputs": [],
   "source": []
  },
  {
   "cell_type": "code",
   "execution_count": null,
   "id": "10590785",
   "metadata": {},
   "outputs": [],
   "source": []
  },
  {
   "cell_type": "code",
   "execution_count": null,
   "id": "07886749",
   "metadata": {},
   "outputs": [],
   "source": []
  },
  {
   "cell_type": "code",
   "execution_count": null,
   "id": "038908c4",
   "metadata": {},
   "outputs": [],
   "source": []
  },
  {
   "cell_type": "code",
   "execution_count": null,
   "id": "783cca7b",
   "metadata": {},
   "outputs": [],
   "source": []
  },
  {
   "cell_type": "code",
   "execution_count": null,
   "id": "8ea630bb",
   "metadata": {},
   "outputs": [],
   "source": []
  },
  {
   "cell_type": "code",
   "execution_count": null,
   "id": "13b8ff24",
   "metadata": {},
   "outputs": [],
   "source": []
  },
  {
   "cell_type": "code",
   "execution_count": null,
   "id": "71e32620",
   "metadata": {},
   "outputs": [],
   "source": []
  },
  {
   "cell_type": "code",
   "execution_count": null,
   "id": "f65a4200",
   "metadata": {},
   "outputs": [],
   "source": []
  },
  {
   "cell_type": "code",
   "execution_count": null,
   "id": "f158dfe3",
   "metadata": {},
   "outputs": [],
   "source": []
  },
  {
   "cell_type": "code",
   "execution_count": null,
   "id": "077b8c77",
   "metadata": {},
   "outputs": [],
   "source": []
  },
  {
   "cell_type": "code",
   "execution_count": null,
   "id": "606b6d35",
   "metadata": {},
   "outputs": [],
   "source": []
  },
  {
   "cell_type": "code",
   "execution_count": null,
   "id": "0c35a94f",
   "metadata": {},
   "outputs": [],
   "source": []
  },
  {
   "cell_type": "code",
   "execution_count": null,
   "id": "c680affb",
   "metadata": {},
   "outputs": [],
   "source": []
  },
  {
   "cell_type": "code",
   "execution_count": null,
   "id": "db2b8d1e",
   "metadata": {},
   "outputs": [],
   "source": []
  },
  {
   "cell_type": "code",
   "execution_count": null,
   "id": "fd10f7b0",
   "metadata": {},
   "outputs": [],
   "source": []
  },
  {
   "cell_type": "code",
   "execution_count": null,
   "id": "f66e70d8",
   "metadata": {},
   "outputs": [],
   "source": []
  },
  {
   "cell_type": "code",
   "execution_count": null,
   "id": "41223602",
   "metadata": {},
   "outputs": [],
   "source": []
  },
  {
   "cell_type": "code",
   "execution_count": null,
   "id": "741dfa48",
   "metadata": {},
   "outputs": [],
   "source": []
  },
  {
   "cell_type": "code",
   "execution_count": null,
   "id": "858d445d",
   "metadata": {},
   "outputs": [],
   "source": []
  },
  {
   "cell_type": "code",
   "execution_count": null,
   "id": "a0e69cbd",
   "metadata": {},
   "outputs": [],
   "source": []
  },
  {
   "cell_type": "code",
   "execution_count": null,
   "id": "5beef437",
   "metadata": {},
   "outputs": [],
   "source": []
  }
 ],
 "metadata": {
  "kernelspec": {
   "display_name": "Python 3 (ipykernel)",
   "language": "python",
   "name": "python3"
  },
  "language_info": {
   "codemirror_mode": {
    "name": "ipython",
    "version": 3
   },
   "file_extension": ".py",
   "mimetype": "text/x-python",
   "name": "python",
   "nbconvert_exporter": "python",
   "pygments_lexer": "ipython3",
   "version": "3.9.12"
  }
 },
 "nbformat": 4,
 "nbformat_minor": 5
}
