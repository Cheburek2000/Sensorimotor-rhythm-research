{
 "cells": [
  {
   "cell_type": "code",
   "execution_count": 1,
   "id": "7fddb196",
   "metadata": {},
   "outputs": [],
   "source": [
    "import mne\n",
    "from mne.preprocessing import ICA\n",
    "import matplotlib.pyplot as plt\n",
    "import numpy as np\n",
    "from scipy.stats import kurtosis\n",
    "from scipy.stats import skew , variation\n",
    "from scipy.signal import welch\n",
    "import pandas as pd\n",
    "from scipy.signal import hilbert\n",
    "import glob\n",
    "from mne.event import define_target_events"
   ]
  },
  {
   "cell_type": "code",
   "execution_count": 2,
   "id": "72831c97",
   "metadata": {},
   "outputs": [],
   "source": [
    "#подгружаем библиотитеку которая октрывает ЭЭГ(картинки) в отдельном окне \n",
    "%matplotlib qt"
   ]
  },
  {
   "cell_type": "code",
   "execution_count": 3,
   "id": "37800d3b",
   "metadata": {},
   "outputs": [],
   "source": [
    "import os"
   ]
  },
  {
   "cell_type": "code",
   "execution_count": 4,
   "id": "7d0cc763",
   "metadata": {},
   "outputs": [],
   "source": [
    "os.chdir('D:/all_eeg/mu_eeg/chernovik_2/NL_2_3-4_years_preprocecc/NL2_hg_epoch/NL2_hg_epoch/')"
   ]
  },
  {
   "cell_type": "code",
   "execution_count": 5,
   "id": "6778dae0",
   "metadata": {},
   "outputs": [
    {
     "name": "stdout",
     "output_type": "stream",
     "text": [
      "31\n"
     ]
    },
    {
     "data": {
      "text/plain": [
       "['NP022303_NL_2_fractal_story_epoch.fif',\n",
       " 'NP042303_NL_2_fractal_before_epoch.fif',\n",
       " 'NP042303_NL_2_fractal_story_epoch.fif',\n",
       " 'NP042304_NL_2_fractal_before_epoch.fif',\n",
       " 'NP042304_NL_2_fractal_story_epoch.fif',\n",
       " 'NP042306_NL_2_fractal_before_epoch.fif',\n",
       " 'NP042306_NL_2_fractal_story_epoch.fif',\n",
       " 'NP042307_NL_2_fractal_before_epoch.fif',\n",
       " 'NP042307_NL_2_fractal_story_epoch.fif',\n",
       " 'NP042309_NL_2_fractal_before_epoch.fif',\n",
       " 'NP042309_NL_2_fractal_story_epoch.fif',\n",
       " 'NP042317_NL_2_fractal_before_epoch.fif',\n",
       " 'NP042317_NL_2_fractal_story_epoch.fif',\n",
       " 'NP042331_NL_2_fractal_before_epoch.fif',\n",
       " 'NP042331_NL_2_fractal_story_epoch.fif',\n",
       " 'NP052310_NL_2_fractal_before_epoch.fif',\n",
       " 'NP052310_NL_2_fractal_story_epoch.fif',\n",
       " 'NP052315_NL_2_fractal_before_epoch.fif',\n",
       " 'NP052315_NL_2_fractal_story_epoch.fif',\n",
       " 'NP062306_NL_2_fractal_before_epoch.fif',\n",
       " 'NP062306_NL_2_fractal_story_epoch.fif',\n",
       " 'NP112314_NL_2_fractal_before_epoch.fif',\n",
       " 'NP112314_NL_2_fractal_story_epoch.fif',\n",
       " 'NP112317_NL_2_fractal_before_epoch.fif',\n",
       " 'NP112317_NL_2_fractal_story_epoch.fif',\n",
       " 'NP112318_NL_2_fractal_before_epoch.fif',\n",
       " 'NP112318_NL_2_fractal_story_epoch.fif',\n",
       " 'NP112321_NL_2_fractal_before_epoch.fif',\n",
       " 'NP112321_NL_2_fractal_story_epoch.fif',\n",
       " 'NP122302_NL_2_fractal_before_epoch.fif',\n",
       " 'NP122302_NL_2_fractal_story_epoch.fif']"
      ]
     },
     "execution_count": 5,
     "metadata": {},
     "output_type": "execute_result"
    }
   ],
   "source": [
    "filenames = glob.glob('*')#смотрю все файлы в папке \n",
    "print(len(filenames))\n",
    "filenames"
   ]
  },
  {
   "cell_type": "code",
   "execution_count": 6,
   "id": "ea4d24e8",
   "metadata": {},
   "outputs": [
    {
     "name": "stdout",
     "output_type": "stream",
     "text": [
      "15\n"
     ]
    },
    {
     "data": {
      "text/plain": [
       "['NP042303_NL_2_fractal_before_epoch.fif',\n",
       " 'NP042304_NL_2_fractal_before_epoch.fif',\n",
       " 'NP042306_NL_2_fractal_before_epoch.fif',\n",
       " 'NP042307_NL_2_fractal_before_epoch.fif',\n",
       " 'NP042309_NL_2_fractal_before_epoch.fif',\n",
       " 'NP042317_NL_2_fractal_before_epoch.fif',\n",
       " 'NP042331_NL_2_fractal_before_epoch.fif',\n",
       " 'NP052310_NL_2_fractal_before_epoch.fif',\n",
       " 'NP052315_NL_2_fractal_before_epoch.fif',\n",
       " 'NP062306_NL_2_fractal_before_epoch.fif',\n",
       " 'NP112314_NL_2_fractal_before_epoch.fif',\n",
       " 'NP112317_NL_2_fractal_before_epoch.fif',\n",
       " 'NP112318_NL_2_fractal_before_epoch.fif',\n",
       " 'NP112321_NL_2_fractal_before_epoch.fif',\n",
       " 'NP122302_NL_2_fractal_before_epoch.fif']"
      ]
     },
     "execution_count": 6,
     "metadata": {},
     "output_type": "execute_result"
    }
   ],
   "source": [
    "filenames_fractal_before_epoch = glob.glob('*before_epoch.fif')# \"..\" кавычокой я опредляю название файлов для просмотра \n",
    "print(len(filenames_fractal_before_epoch))\n",
    "filenames_fractal_before_epoch"
   ]
  },
  {
   "cell_type": "code",
   "execution_count": null,
   "id": "c1fe60d1",
   "metadata": {},
   "outputs": [],
   "source": [
    "#сформировали список для фракталов "
   ]
  },
  {
   "cell_type": "code",
   "execution_count": 30,
   "id": "d6ef6f30",
   "metadata": {},
   "outputs": [],
   "source": [
    "ID_f_b_epoch = filenames_fractal_before_epoch"
   ]
  },
  {
   "cell_type": "code",
   "execution_count": 8,
   "id": "128cb9cc",
   "metadata": {},
   "outputs": [
    {
     "name": "stdout",
     "output_type": "stream",
     "text": [
      "16\n"
     ]
    },
    {
     "data": {
      "text/plain": [
       "['NP022303_NL_2_fractal_story_epoch.fif',\n",
       " 'NP042303_NL_2_fractal_story_epoch.fif',\n",
       " 'NP042304_NL_2_fractal_story_epoch.fif',\n",
       " 'NP042306_NL_2_fractal_story_epoch.fif',\n",
       " 'NP042307_NL_2_fractal_story_epoch.fif',\n",
       " 'NP042309_NL_2_fractal_story_epoch.fif',\n",
       " 'NP042317_NL_2_fractal_story_epoch.fif',\n",
       " 'NP042331_NL_2_fractal_story_epoch.fif',\n",
       " 'NP052310_NL_2_fractal_story_epoch.fif',\n",
       " 'NP052315_NL_2_fractal_story_epoch.fif',\n",
       " 'NP062306_NL_2_fractal_story_epoch.fif',\n",
       " 'NP112314_NL_2_fractal_story_epoch.fif',\n",
       " 'NP112317_NL_2_fractal_story_epoch.fif',\n",
       " 'NP112318_NL_2_fractal_story_epoch.fif',\n",
       " 'NP112321_NL_2_fractal_story_epoch.fif',\n",
       " 'NP122302_NL_2_fractal_story_epoch.fif']"
      ]
     },
     "execution_count": 8,
     "metadata": {},
     "output_type": "execute_result"
    }
   ],
   "source": [
    "filenames_fractal_story_epoch = glob.glob('*fractal_story_epoch.fif')#кавычокой я опредляю тип файлов для просмотра \n",
    "print(len(filenames_fractal_story_epoch))\n",
    "filenames_fractal_story_epoch"
   ]
  },
  {
   "cell_type": "code",
   "execution_count": 28,
   "id": "ab206991",
   "metadata": {},
   "outputs": [],
   "source": [
    "ID_f_s_epoch = filenames_fractal_story_epoch"
   ]
  },
  {
   "cell_type": "code",
   "execution_count": 11,
   "id": "258284ef",
   "metadata": {},
   "outputs": [],
   "source": [
    "os.chdir('D:/all_eeg/mu_eeg/chernovik_2/mu1_and_mu2_3-4_years_preprocecc/MU_hg_epoch (1)/MU_hg_epoch (1)/')"
   ]
  },
  {
   "cell_type": "code",
   "execution_count": 12,
   "id": "27ed046f",
   "metadata": {},
   "outputs": [
    {
     "name": "stdout",
     "output_type": "stream",
     "text": [
      "38\n"
     ]
    },
    {
     "data": {
      "text/plain": [
       "['NP022303_CE_epoch.fif',\n",
       " 'NP022303_PCH_epoch.fif',\n",
       " 'NP042301_CE_epoch.fif',\n",
       " 'NP042301_PCH_epoch.fif',\n",
       " 'NP042303_CE_epoch.fif',\n",
       " 'NP042303_PCH_epoch.fif',\n",
       " 'NP042304_CE_epoch.fif',\n",
       " 'NP042304_PCH_epoch.fif',\n",
       " 'NP042305_CE_epoch.fif',\n",
       " 'NP042305_mu1_CE_epoch.fif',\n",
       " 'NP042305_mu1_PCH_epoch.fif',\n",
       " 'NP042305_PCH_epoch.fif',\n",
       " 'NP042306_CE_epoch.fif',\n",
       " 'NP042306_PCH_epoch.fif',\n",
       " 'NP042307_mu1_CE_epoch.fif',\n",
       " 'NP042307_mu1_PCH_epoch.fif',\n",
       " 'NP042309_CE_epoch.fif',\n",
       " 'NP042309_PCH_epoch.fif',\n",
       " 'NP042317_CE_epoch.fif',\n",
       " 'NP042317_PCH_epoch.fif',\n",
       " 'NP042331_CE_epoch.fif',\n",
       " 'NP042331_PCH_epoch.fif',\n",
       " 'NP052310_CE_epoch.fif',\n",
       " 'NP052310_PCH_epoch.fif',\n",
       " 'NP052315_CE_epoch.fif',\n",
       " 'NP052315_PCH_epoch.fif',\n",
       " 'NP062306_CE_epoch.fif',\n",
       " 'NP062306_PCH_epoch.fif',\n",
       " 'NP112314_CE_epoch.fif',\n",
       " 'NP112314_PCH_epoch.fif',\n",
       " 'NP112317_CE_epoch.fif',\n",
       " 'NP112317_PCH_epoch.fif',\n",
       " 'NP112318_CE_epoch.fif',\n",
       " 'NP112318_PCH_epoch.fif',\n",
       " 'NP112321_mu1_CE_epoch.fif',\n",
       " 'NP112321_mu1_PCH_epoch.fif',\n",
       " 'NP122302_CE_epoch.fif',\n",
       " 'NP122309_PCH_epoch.fif']"
      ]
     },
     "execution_count": 12,
     "metadata": {},
     "output_type": "execute_result"
    }
   ],
   "source": [
    "filenames_1 = glob.glob('*')\n",
    "print(len(filenames_1))\n",
    "filenames_1"
   ]
  },
  {
   "cell_type": "code",
   "execution_count": 13,
   "id": "369fd9fb",
   "metadata": {},
   "outputs": [
    {
     "name": "stdout",
     "output_type": "stream",
     "text": [
      "19\n"
     ]
    },
    {
     "data": {
      "text/plain": [
       "['NP022303_PCH_epoch.fif',\n",
       " 'NP042301_PCH_epoch.fif',\n",
       " 'NP042303_PCH_epoch.fif',\n",
       " 'NP042304_PCH_epoch.fif',\n",
       " 'NP042305_mu1_PCH_epoch.fif',\n",
       " 'NP042305_PCH_epoch.fif',\n",
       " 'NP042306_PCH_epoch.fif',\n",
       " 'NP042307_mu1_PCH_epoch.fif',\n",
       " 'NP042309_PCH_epoch.fif',\n",
       " 'NP042317_PCH_epoch.fif',\n",
       " 'NP042331_PCH_epoch.fif',\n",
       " 'NP052310_PCH_epoch.fif',\n",
       " 'NP052315_PCH_epoch.fif',\n",
       " 'NP062306_PCH_epoch.fif',\n",
       " 'NP112314_PCH_epoch.fif',\n",
       " 'NP112317_PCH_epoch.fif',\n",
       " 'NP112318_PCH_epoch.fif',\n",
       " 'NP112321_mu1_PCH_epoch.fif',\n",
       " 'NP122309_PCH_epoch.fif']"
      ]
     },
     "execution_count": 13,
     "metadata": {},
     "output_type": "execute_result"
    }
   ],
   "source": [
    "filenames_PCH_epoch = glob.glob('*_PCH_epoch.fif')#кавычокой я опредляю название файлов для просмотра \n",
    "print(len(filenames_PCH_epoch))\n",
    "filenames_PCH_epoch"
   ]
  },
  {
   "cell_type": "code",
   "execution_count": 25,
   "id": "ad0aca04",
   "metadata": {},
   "outputs": [],
   "source": [
    "#сформировали список для PHC "
   ]
  },
  {
   "cell_type": "code",
   "execution_count": 26,
   "id": "e08d5de3",
   "metadata": {},
   "outputs": [],
   "source": [
    "ID_PHC_epoch = filenames_PCH_epoch"
   ]
  },
  {
   "cell_type": "code",
   "execution_count": 31,
   "id": "a9c35ee7",
   "metadata": {},
   "outputs": [
    {
     "name": "stdout",
     "output_type": "stream",
     "text": [
      "19\n"
     ]
    },
    {
     "data": {
      "text/plain": [
       "['NP022303_CE_epoch.fif',\n",
       " 'NP042301_CE_epoch.fif',\n",
       " 'NP042303_CE_epoch.fif',\n",
       " 'NP042304_CE_epoch.fif',\n",
       " 'NP042305_CE_epoch.fif',\n",
       " 'NP042305_mu1_CE_epoch.fif',\n",
       " 'NP042306_CE_epoch.fif',\n",
       " 'NP042307_mu1_CE_epoch.fif',\n",
       " 'NP042309_CE_epoch.fif',\n",
       " 'NP042317_CE_epoch.fif',\n",
       " 'NP042331_CE_epoch.fif',\n",
       " 'NP052310_CE_epoch.fif',\n",
       " 'NP052315_CE_epoch.fif',\n",
       " 'NP062306_CE_epoch.fif',\n",
       " 'NP112314_CE_epoch.fif',\n",
       " 'NP112317_CE_epoch.fif',\n",
       " 'NP112318_CE_epoch.fif',\n",
       " 'NP112321_mu1_CE_epoch.fif',\n",
       " 'NP122302_CE_epoch.fif']"
      ]
     },
     "execution_count": 31,
     "metadata": {},
     "output_type": "execute_result"
    }
   ],
   "source": [
    "filenames_CE_epoch = glob.glob('*_CE_epoch.fif')\n",
    "print(len(filenames_CE_epoch))\n",
    "filenames_CE_epoch"
   ]
  },
  {
   "cell_type": "code",
   "execution_count": 37,
   "id": "6dec2837",
   "metadata": {},
   "outputs": [],
   "source": [
    "ID_CE_epoch = filenames_CE_epoch"
   ]
  },
  {
   "cell_type": "code",
   "execution_count": null,
   "id": "56c4763f",
   "metadata": {},
   "outputs": [],
   "source": [
    "#каналы: 'Fp1', 'Fz', 'F3', 'F7', 'FT9', 'FC5', 'FC1', 'C3', 'T7', 'TP9', 'CP5', 'CP1', 'Pz', 'P3', 'P7', 'O1', 'O2', 'P4', 'P8', 'TP10', 'CP6', 'CP2', 'Cz', 'C4', 'T8', 'FT10', 'FC6', 'FC2', 'F4', 'F8', 'Fp2'\n",
    "#каналы затылочные O1, O2, Oz, PO3, PO4, P7, P8, P3, P4, Pz\n",
    "#каналы прецентарльной извилины F3, F4, Fz, C3, C4, Cz "
   ]
  },
  {
   "cell_type": "code",
   "execution_count": 90,
   "id": "0675d79a",
   "metadata": {},
   "outputs": [
    {
     "name": "stdout",
     "output_type": "stream",
     "text": [
      "NP042303_NL_2_fractal_before_epoch.fif\n",
      "Reading D:\\all_eeg\\mu_eeg\\chernovik_2\\NL_2_3-4_years_preprocecc\\NL2_hg_epoch\\NL2_hg_epoch\\NP042303_NL_2_fractal_before_epoch.fif ...\n",
      "    Found the data of interest:\n",
      "        t =       0.00 ...    1998.00 ms\n",
      "        0 CTF compensation matrices available\n",
      "Not setting metadata\n",
      "22 matching events found\n",
      "No baseline correction applied\n",
      "0 projection items activated\n",
      "Effective window size : 2.000 (s)\n",
      "NP042303_NL_2_fractal_before_epoch.fif -117.67622358691965\n",
      "NP042304_NL_2_fractal_before_epoch.fif\n",
      "Reading D:\\all_eeg\\mu_eeg\\chernovik_2\\NL_2_3-4_years_preprocecc\\NL2_hg_epoch\\NL2_hg_epoch\\NP042304_NL_2_fractal_before_epoch.fif ...\n",
      "    Found the data of interest:\n",
      "        t =       0.00 ...    1998.00 ms\n",
      "        0 CTF compensation matrices available\n",
      "Not setting metadata\n",
      "15 matching events found\n",
      "No baseline correction applied\n",
      "0 projection items activated\n",
      "Effective window size : 2.000 (s)\n",
      "NP042304_NL_2_fractal_before_epoch.fif -114.23735101041443\n",
      "NP042306_NL_2_fractal_before_epoch.fif\n",
      "Reading D:\\all_eeg\\mu_eeg\\chernovik_2\\NL_2_3-4_years_preprocecc\\NL2_hg_epoch\\NL2_hg_epoch\\NP042306_NL_2_fractal_before_epoch.fif ...\n",
      "    Found the data of interest:\n",
      "        t =       0.00 ...    1998.00 ms\n",
      "        0 CTF compensation matrices available\n",
      "Not setting metadata\n",
      "22 matching events found\n",
      "No baseline correction applied\n",
      "0 projection items activated\n",
      "Effective window size : 2.000 (s)\n"
     ]
    },
    {
     "name": "stderr",
     "output_type": "stream",
     "text": [
      "C:\\Users\\chuba\\AppData\\Local\\Temp\\ipykernel_4080\\777855994.py:14: RuntimeWarning: This filename (NP042303_NL_2_fractal_before_epoch.fif) does not conform to MNE naming conventions. All epochs files should end with -epo.fif, -epo.fif.gz, _epo.fif or _epo.fif.gz\n",
      "  variable_first = mne.read_epochs(name, proj=True, preload=True, verbose=None)#читаем запись\n",
      "C:\\Users\\chuba\\AppData\\Local\\Temp\\ipykernel_4080\\777855994.py:14: RuntimeWarning: This filename (NP042304_NL_2_fractal_before_epoch.fif) does not conform to MNE naming conventions. All epochs files should end with -epo.fif, -epo.fif.gz, _epo.fif or _epo.fif.gz\n",
      "  variable_first = mne.read_epochs(name, proj=True, preload=True, verbose=None)#читаем запись\n",
      "C:\\Users\\chuba\\AppData\\Local\\Temp\\ipykernel_4080\\777855994.py:14: RuntimeWarning: This filename (NP042306_NL_2_fractal_before_epoch.fif) does not conform to MNE naming conventions. All epochs files should end with -epo.fif, -epo.fif.gz, _epo.fif or _epo.fif.gz\n",
      "  variable_first = mne.read_epochs(name, proj=True, preload=True, verbose=None)#читаем запись\n"
     ]
    },
    {
     "name": "stdout",
     "output_type": "stream",
     "text": [
      "NP042306_NL_2_fractal_before_epoch.fif -115.75430298414274\n",
      "NP042307_NL_2_fractal_before_epoch.fif\n",
      "Reading D:\\all_eeg\\mu_eeg\\chernovik_2\\NL_2_3-4_years_preprocecc\\NL2_hg_epoch\\NL2_hg_epoch\\NP042307_NL_2_fractal_before_epoch.fif ...\n",
      "    Found the data of interest:\n",
      "        t =       0.00 ...    1998.00 ms\n",
      "        0 CTF compensation matrices available\n",
      "Not setting metadata\n",
      "19 matching events found\n",
      "No baseline correction applied\n",
      "0 projection items activated\n",
      "Effective window size : 2.000 (s)\n",
      "NP042307_NL_2_fractal_before_epoch.fif -112.14436956019907\n",
      "NP042309_NL_2_fractal_before_epoch.fif\n",
      "Reading D:\\all_eeg\\mu_eeg\\chernovik_2\\NL_2_3-4_years_preprocecc\\NL2_hg_epoch\\NL2_hg_epoch\\NP042309_NL_2_fractal_before_epoch.fif ...\n",
      "    Found the data of interest:\n",
      "        t =       0.00 ...    1998.00 ms\n",
      "        0 CTF compensation matrices available\n",
      "Not setting metadata\n",
      "13 matching events found\n",
      "No baseline correction applied\n",
      "0 projection items activated\n",
      "Effective window size : 2.000 (s)\n",
      "NP042309_NL_2_fractal_before_epoch.fif -117.71580980246463\n",
      "NP042317_NL_2_fractal_before_epoch.fif\n",
      "Reading D:\\all_eeg\\mu_eeg\\chernovik_2\\NL_2_3-4_years_preprocecc\\NL2_hg_epoch\\NL2_hg_epoch\\NP042317_NL_2_fractal_before_epoch.fif ...\n",
      "    Found the data of interest:\n",
      "        t =       0.00 ...    1998.00 ms\n",
      "        0 CTF compensation matrices available\n",
      "Not setting metadata\n"
     ]
    },
    {
     "name": "stderr",
     "output_type": "stream",
     "text": [
      "C:\\Users\\chuba\\AppData\\Local\\Temp\\ipykernel_4080\\777855994.py:14: RuntimeWarning: This filename (NP042307_NL_2_fractal_before_epoch.fif) does not conform to MNE naming conventions. All epochs files should end with -epo.fif, -epo.fif.gz, _epo.fif or _epo.fif.gz\n",
      "  variable_first = mne.read_epochs(name, proj=True, preload=True, verbose=None)#читаем запись\n",
      "C:\\Users\\chuba\\AppData\\Local\\Temp\\ipykernel_4080\\777855994.py:14: RuntimeWarning: This filename (NP042309_NL_2_fractal_before_epoch.fif) does not conform to MNE naming conventions. All epochs files should end with -epo.fif, -epo.fif.gz, _epo.fif or _epo.fif.gz\n",
      "  variable_first = mne.read_epochs(name, proj=True, preload=True, verbose=None)#читаем запись\n",
      "C:\\Users\\chuba\\AppData\\Local\\Temp\\ipykernel_4080\\777855994.py:14: RuntimeWarning: This filename (NP042317_NL_2_fractal_before_epoch.fif) does not conform to MNE naming conventions. All epochs files should end with -epo.fif, -epo.fif.gz, _epo.fif or _epo.fif.gz\n",
      "  variable_first = mne.read_epochs(name, proj=True, preload=True, verbose=None)#читаем запись\n"
     ]
    },
    {
     "name": "stdout",
     "output_type": "stream",
     "text": [
      "22 matching events found\n",
      "No baseline correction applied\n",
      "0 projection items activated\n",
      "Effective window size : 2.000 (s)\n",
      "NP042317_NL_2_fractal_before_epoch.fif -113.6411064461231\n",
      "NP042331_NL_2_fractal_before_epoch.fif\n",
      "Reading D:\\all_eeg\\mu_eeg\\chernovik_2\\NL_2_3-4_years_preprocecc\\NL2_hg_epoch\\NL2_hg_epoch\\NP042331_NL_2_fractal_before_epoch.fif ...\n",
      "    Found the data of interest:\n",
      "        t =       0.00 ...    1998.00 ms\n",
      "        0 CTF compensation matrices available\n",
      "Not setting metadata\n",
      "22 matching events found\n",
      "No baseline correction applied\n",
      "0 projection items activated\n",
      "Effective window size : 2.000 (s)\n",
      "NP042331_NL_2_fractal_before_epoch.fif -111.02785570904659\n",
      "NP052310_NL_2_fractal_before_epoch.fif\n",
      "Reading D:\\all_eeg\\mu_eeg\\chernovik_2\\NL_2_3-4_years_preprocecc\\NL2_hg_epoch\\NL2_hg_epoch\\NP052310_NL_2_fractal_before_epoch.fif ...\n",
      "    Found the data of interest:\n",
      "        t =       0.00 ...    1998.00 ms\n",
      "        0 CTF compensation matrices available\n",
      "Not setting metadata\n",
      "15 matching events found\n",
      "No baseline correction applied\n",
      "0 projection items activated\n",
      "Effective window size : 2.000 (s)\n",
      "NP052310_NL_2_fractal_before_epoch.fif -110.75853500503337\n",
      "NP052315_NL_2_fractal_before_epoch.fif\n",
      "Reading D:\\all_eeg\\mu_eeg\\chernovik_2\\NL_2_3-4_years_preprocecc\\NL2_hg_epoch\\NL2_hg_epoch\\NP052315_NL_2_fractal_before_epoch.fif ...\n",
      "    Found the data of interest:\n",
      "        t =       0.00 ...    1998.00 ms\n",
      "        0 CTF compensation matrices available\n",
      "Not setting metadata\n",
      "15 matching events found\n",
      "No baseline correction applied\n",
      "0 projection items activated\n",
      "Effective window size : 2.000 (s)\n"
     ]
    },
    {
     "name": "stderr",
     "output_type": "stream",
     "text": [
      "C:\\Users\\chuba\\AppData\\Local\\Temp\\ipykernel_4080\\777855994.py:14: RuntimeWarning: This filename (NP042331_NL_2_fractal_before_epoch.fif) does not conform to MNE naming conventions. All epochs files should end with -epo.fif, -epo.fif.gz, _epo.fif or _epo.fif.gz\n",
      "  variable_first = mne.read_epochs(name, proj=True, preload=True, verbose=None)#читаем запись\n",
      "C:\\Users\\chuba\\AppData\\Local\\Temp\\ipykernel_4080\\777855994.py:14: RuntimeWarning: This filename (NP052310_NL_2_fractal_before_epoch.fif) does not conform to MNE naming conventions. All epochs files should end with -epo.fif, -epo.fif.gz, _epo.fif or _epo.fif.gz\n",
      "  variable_first = mne.read_epochs(name, proj=True, preload=True, verbose=None)#читаем запись\n",
      "C:\\Users\\chuba\\AppData\\Local\\Temp\\ipykernel_4080\\777855994.py:14: RuntimeWarning: This filename (NP052315_NL_2_fractal_before_epoch.fif) does not conform to MNE naming conventions. All epochs files should end with -epo.fif, -epo.fif.gz, _epo.fif or _epo.fif.gz\n",
      "  variable_first = mne.read_epochs(name, proj=True, preload=True, verbose=None)#читаем запись\n",
      "C:\\Users\\chuba\\AppData\\Local\\Temp\\ipykernel_4080\\777855994.py:14: RuntimeWarning: This filename (NP062306_NL_2_fractal_before_epoch.fif) does not conform to MNE naming conventions. All epochs files should end with -epo.fif, -epo.fif.gz, _epo.fif or _epo.fif.gz\n",
      "  variable_first = mne.read_epochs(name, proj=True, preload=True, verbose=None)#читаем запись\n"
     ]
    },
    {
     "name": "stdout",
     "output_type": "stream",
     "text": [
      "NP052315_NL_2_fractal_before_epoch.fif -110.21050559404219\n",
      "NP062306_NL_2_fractal_before_epoch.fif\n",
      "Reading D:\\all_eeg\\mu_eeg\\chernovik_2\\NL_2_3-4_years_preprocecc\\NL2_hg_epoch\\NL2_hg_epoch\\NP062306_NL_2_fractal_before_epoch.fif ...\n",
      "    Found the data of interest:\n",
      "        t =       0.00 ...    1998.00 ms\n",
      "        0 CTF compensation matrices available\n",
      "Not setting metadata\n",
      "15 matching events found\n",
      "No baseline correction applied\n",
      "0 projection items activated\n",
      "Effective window size : 2.000 (s)\n",
      "NP062306_NL_2_fractal_before_epoch.fif -116.0488939920701\n",
      "NP112314_NL_2_fractal_before_epoch.fif\n",
      "Reading D:\\all_eeg\\mu_eeg\\chernovik_2\\NL_2_3-4_years_preprocecc\\NL2_hg_epoch\\NL2_hg_epoch\\NP112314_NL_2_fractal_before_epoch.fif ...\n",
      "    Found the data of interest:\n",
      "        t =       0.00 ...    1998.00 ms\n",
      "        0 CTF compensation matrices available\n",
      "Not setting metadata\n",
      "21 matching events found\n",
      "No baseline correction applied\n",
      "0 projection items activated\n",
      "Effective window size : 2.000 (s)\n",
      "NP112314_NL_2_fractal_before_epoch.fif -117.23442404670365\n",
      "NP112317_NL_2_fractal_before_epoch.fif\n",
      "Reading D:\\all_eeg\\mu_eeg\\chernovik_2\\NL_2_3-4_years_preprocecc\\NL2_hg_epoch\\NL2_hg_epoch\\NP112317_NL_2_fractal_before_epoch.fif ...\n",
      "    Found the data of interest:\n",
      "        t =       0.00 ...    1998.00 ms\n",
      "        0 CTF compensation matrices available\n",
      "Not setting metadata\n",
      "22 matching events found\n",
      "No baseline correction applied\n",
      "0 projection items activated\n",
      "Effective window size : 2.000 (s)\n",
      "NP112317_NL_2_fractal_before_epoch.fif -113.9854716426227\n",
      "NP112318_NL_2_fractal_before_epoch.fif\n",
      "Reading D:\\all_eeg\\mu_eeg\\chernovik_2\\NL_2_3-4_years_preprocecc\\NL2_hg_epoch\\NL2_hg_epoch\\NP112318_NL_2_fractal_before_epoch.fif ...\n",
      "    Found the data of interest:\n",
      "        t =       0.00 ...    1998.00 ms\n",
      "        0 CTF compensation matrices available\n",
      "Not setting metadata\n",
      "22 matching events found\n",
      "No baseline correction applied\n",
      "0 projection items activated\n",
      "Effective window size : 2.000 (s)\n"
     ]
    },
    {
     "name": "stderr",
     "output_type": "stream",
     "text": [
      "C:\\Users\\chuba\\AppData\\Local\\Temp\\ipykernel_4080\\777855994.py:14: RuntimeWarning: This filename (NP112314_NL_2_fractal_before_epoch.fif) does not conform to MNE naming conventions. All epochs files should end with -epo.fif, -epo.fif.gz, _epo.fif or _epo.fif.gz\n",
      "  variable_first = mne.read_epochs(name, proj=True, preload=True, verbose=None)#читаем запись\n",
      "C:\\Users\\chuba\\AppData\\Local\\Temp\\ipykernel_4080\\777855994.py:14: RuntimeWarning: This filename (NP112317_NL_2_fractal_before_epoch.fif) does not conform to MNE naming conventions. All epochs files should end with -epo.fif, -epo.fif.gz, _epo.fif or _epo.fif.gz\n",
      "  variable_first = mne.read_epochs(name, proj=True, preload=True, verbose=None)#читаем запись\n",
      "C:\\Users\\chuba\\AppData\\Local\\Temp\\ipykernel_4080\\777855994.py:14: RuntimeWarning: This filename (NP112318_NL_2_fractal_before_epoch.fif) does not conform to MNE naming conventions. All epochs files should end with -epo.fif, -epo.fif.gz, _epo.fif or _epo.fif.gz\n",
      "  variable_first = mne.read_epochs(name, proj=True, preload=True, verbose=None)#читаем запись\n"
     ]
    },
    {
     "name": "stdout",
     "output_type": "stream",
     "text": [
      "NP112318_NL_2_fractal_before_epoch.fif -112.3874510354496\n",
      "NP112321_NL_2_fractal_before_epoch.fif\n",
      "Reading D:\\all_eeg\\mu_eeg\\chernovik_2\\NL_2_3-4_years_preprocecc\\NL2_hg_epoch\\NL2_hg_epoch\\NP112321_NL_2_fractal_before_epoch.fif ...\n",
      "    Found the data of interest:\n",
      "        t =       0.00 ...    1998.00 ms\n",
      "        0 CTF compensation matrices available\n",
      "Not setting metadata\n",
      "14 matching events found\n",
      "No baseline correction applied\n",
      "0 projection items activated\n",
      "Effective window size : 2.000 (s)\n",
      "NP112321_NL_2_fractal_before_epoch.fif -118.35077083913797\n",
      "avr_PSD_variable_first = -113.56034910461047\n",
      "[-117.67622358691965, -114.23735101041443, -115.75430298414274, -112.14436956019907, -117.71580980246463, -113.6411064461231, -111.02785570904659, -110.75853500503337, -110.21050559404219, -116.0488939920701, -117.23442404670365, -113.9854716426227, -112.3874510354496, -118.35077083913797]\n",
      "[['NP042303_NL_2_fractal_before_epoch.fif'], ['NP042304_NL_2_fractal_before_epoch.fif'], ['NP042306_NL_2_fractal_before_epoch.fif'], ['NP042307_NL_2_fractal_before_epoch.fif'], ['NP042309_NL_2_fractal_before_epoch.fif'], ['NP042317_NL_2_fractal_before_epoch.fif'], ['NP042331_NL_2_fractal_before_epoch.fif'], ['NP052310_NL_2_fractal_before_epoch.fif'], ['NP052315_NL_2_fractal_before_epoch.fif'], ['NP062306_NL_2_fractal_before_epoch.fif'], ['NP112314_NL_2_fractal_before_epoch.fif'], ['NP112317_NL_2_fractal_before_epoch.fif'], ['NP112318_NL_2_fractal_before_epoch.fif'], ['NP112321_NL_2_fractal_before_epoch.fif']]\n",
      "                                          ID         PSD\n",
      "0   [NP042303_NL_2_fractal_before_epoch.fif] -117.676224\n",
      "1   [NP042304_NL_2_fractal_before_epoch.fif] -114.237351\n",
      "2   [NP042306_NL_2_fractal_before_epoch.fif] -115.754303\n",
      "3   [NP042307_NL_2_fractal_before_epoch.fif] -112.144370\n",
      "4   [NP042309_NL_2_fractal_before_epoch.fif] -117.715810\n",
      "5   [NP042317_NL_2_fractal_before_epoch.fif] -113.641106\n",
      "6   [NP042331_NL_2_fractal_before_epoch.fif] -111.027856\n",
      "7   [NP052310_NL_2_fractal_before_epoch.fif] -110.758535\n",
      "8   [NP052315_NL_2_fractal_before_epoch.fif] -110.210506\n",
      "9   [NP062306_NL_2_fractal_before_epoch.fif] -116.048894\n",
      "10  [NP112314_NL_2_fractal_before_epoch.fif] -117.234424\n",
      "11  [NP112317_NL_2_fractal_before_epoch.fif] -113.985472\n",
      "12  [NP112318_NL_2_fractal_before_epoch.fif] -112.387451\n",
      "13  [NP112321_NL_2_fractal_before_epoch.fif] -118.350771\n",
      "NP042303_NL_2_fractal_story_epoch.fif\n",
      "Reading D:\\all_eeg\\mu_eeg\\chernovik_2\\NL_2_3-4_years_preprocecc\\NL2_hg_epoch\\NL2_hg_epoch\\NP042303_NL_2_fractal_story_epoch.fif ...\n",
      "    Found the data of interest:\n",
      "        t =       0.00 ...    1998.00 ms\n",
      "        0 CTF compensation matrices available\n",
      "Not setting metadata\n"
     ]
    },
    {
     "name": "stderr",
     "output_type": "stream",
     "text": [
      "C:\\Users\\chuba\\AppData\\Local\\Temp\\ipykernel_4080\\777855994.py:14: RuntimeWarning: This filename (NP112321_NL_2_fractal_before_epoch.fif) does not conform to MNE naming conventions. All epochs files should end with -epo.fif, -epo.fif.gz, _epo.fif or _epo.fif.gz\n",
      "  variable_first = mne.read_epochs(name, proj=True, preload=True, verbose=None)#читаем запись\n",
      "C:\\Users\\chuba\\AppData\\Local\\Temp\\ipykernel_4080\\777855994.py:49: RuntimeWarning: This filename (NP042303_NL_2_fractal_story_epoch.fif) does not conform to MNE naming conventions. All epochs files should end with -epo.fif, -epo.fif.gz, _epo.fif or _epo.fif.gz\n",
      "  variable_second = mne.read_epochs(name, proj=True, preload=True, verbose=None)\n"
     ]
    },
    {
     "name": "stdout",
     "output_type": "stream",
     "text": [
      "29 matching events found\n",
      "No baseline correction applied\n",
      "0 projection items activated\n",
      "Effective window size : 2.000 (s)\n",
      "NP042303_NL_2_fractal_story_epoch.fif -117.91817923594678\n",
      "NP042304_NL_2_fractal_story_epoch.fif\n",
      "Reading D:\\all_eeg\\mu_eeg\\chernovik_2\\NL_2_3-4_years_preprocecc\\NL2_hg_epoch\\NL2_hg_epoch\\NP042304_NL_2_fractal_story_epoch.fif ...\n",
      "    Found the data of interest:\n",
      "        t =       0.00 ...    1998.00 ms\n",
      "        0 CTF compensation matrices available\n",
      "Not setting metadata\n",
      "14 matching events found\n",
      "No baseline correction applied\n",
      "0 projection items activated\n",
      "Effective window size : 2.000 (s)\n",
      "NP042304_NL_2_fractal_story_epoch.fif -113.58891325059491\n",
      "NP042306_NL_2_fractal_story_epoch.fif\n",
      "Reading D:\\all_eeg\\mu_eeg\\chernovik_2\\NL_2_3-4_years_preprocecc\\NL2_hg_epoch\\NL2_hg_epoch\\NP042306_NL_2_fractal_story_epoch.fif ...\n",
      "    Found the data of interest:\n",
      "        t =       0.00 ...    1998.00 ms\n",
      "        0 CTF compensation matrices available\n",
      "Not setting metadata\n",
      "29 matching events found\n",
      "No baseline correction applied\n",
      "0 projection items activated\n",
      "Effective window size : 2.000 (s)\n",
      "NP042306_NL_2_fractal_story_epoch.fif -115.54639002848023\n",
      "NP042307_NL_2_fractal_story_epoch.fif\n",
      "Reading D:\\all_eeg\\mu_eeg\\chernovik_2\\NL_2_3-4_years_preprocecc\\NL2_hg_epoch\\NL2_hg_epoch\\NP042307_NL_2_fractal_story_epoch.fif ...\n",
      "    Found the data of interest:\n",
      "        t =       0.00 ...    1998.00 ms\n",
      "        0 CTF compensation matrices available\n",
      "Not setting metadata\n",
      "26 matching events found\n",
      "No baseline correction applied\n",
      "0 projection items activated\n",
      "Effective window size : 2.000 (s)\n"
     ]
    },
    {
     "name": "stderr",
     "output_type": "stream",
     "text": [
      "C:\\Users\\chuba\\AppData\\Local\\Temp\\ipykernel_4080\\777855994.py:49: RuntimeWarning: This filename (NP042304_NL_2_fractal_story_epoch.fif) does not conform to MNE naming conventions. All epochs files should end with -epo.fif, -epo.fif.gz, _epo.fif or _epo.fif.gz\n",
      "  variable_second = mne.read_epochs(name, proj=True, preload=True, verbose=None)\n",
      "C:\\Users\\chuba\\AppData\\Local\\Temp\\ipykernel_4080\\777855994.py:49: RuntimeWarning: This filename (NP042306_NL_2_fractal_story_epoch.fif) does not conform to MNE naming conventions. All epochs files should end with -epo.fif, -epo.fif.gz, _epo.fif or _epo.fif.gz\n",
      "  variable_second = mne.read_epochs(name, proj=True, preload=True, verbose=None)\n",
      "C:\\Users\\chuba\\AppData\\Local\\Temp\\ipykernel_4080\\777855994.py:49: RuntimeWarning: This filename (NP042307_NL_2_fractal_story_epoch.fif) does not conform to MNE naming conventions. All epochs files should end with -epo.fif, -epo.fif.gz, _epo.fif or _epo.fif.gz\n",
      "  variable_second = mne.read_epochs(name, proj=True, preload=True, verbose=None)\n"
     ]
    },
    {
     "name": "stdout",
     "output_type": "stream",
     "text": [
      "NP042307_NL_2_fractal_story_epoch.fif -111.86463673069647\n",
      "NP042309_NL_2_fractal_story_epoch.fif\n",
      "Reading D:\\all_eeg\\mu_eeg\\chernovik_2\\NL_2_3-4_years_preprocecc\\NL2_hg_epoch\\NL2_hg_epoch\\NP042309_NL_2_fractal_story_epoch.fif ...\n",
      "    Found the data of interest:\n",
      "        t =       0.00 ...    1998.00 ms\n",
      "        0 CTF compensation matrices available\n",
      "Not setting metadata\n",
      "19 matching events found\n",
      "No baseline correction applied\n",
      "0 projection items activated\n",
      "Effective window size : 2.000 (s)\n",
      "NP042309_NL_2_fractal_story_epoch.fif -118.03079734008381\n",
      "NP042317_NL_2_fractal_story_epoch.fif\n",
      "Reading D:\\all_eeg\\mu_eeg\\chernovik_2\\NL_2_3-4_years_preprocecc\\NL2_hg_epoch\\NL2_hg_epoch\\NP042317_NL_2_fractal_story_epoch.fif ...\n",
      "    Found the data of interest:\n",
      "        t =       0.00 ...    1998.00 ms\n",
      "        0 CTF compensation matrices available\n",
      "Not setting metadata\n",
      "29 matching events found\n",
      "No baseline correction applied\n",
      "0 projection items activated\n",
      "Effective window size : 2.000 (s)\n",
      "NP042317_NL_2_fractal_story_epoch.fif -113.9378412009753\n",
      "NP042331_NL_2_fractal_story_epoch.fif\n",
      "Reading D:\\all_eeg\\mu_eeg\\chernovik_2\\NL_2_3-4_years_preprocecc\\NL2_hg_epoch\\NL2_hg_epoch\\NP042331_NL_2_fractal_story_epoch.fif ...\n",
      "    Found the data of interest:\n",
      "        t =       0.00 ...    1998.00 ms\n",
      "        0 CTF compensation matrices available\n",
      "Not setting metadata\n",
      "29 matching events found\n",
      "No baseline correction applied\n",
      "0 projection items activated\n",
      "Effective window size : 2.000 (s)\n"
     ]
    },
    {
     "name": "stderr",
     "output_type": "stream",
     "text": [
      "C:\\Users\\chuba\\AppData\\Local\\Temp\\ipykernel_4080\\777855994.py:49: RuntimeWarning: This filename (NP042309_NL_2_fractal_story_epoch.fif) does not conform to MNE naming conventions. All epochs files should end with -epo.fif, -epo.fif.gz, _epo.fif or _epo.fif.gz\n",
      "  variable_second = mne.read_epochs(name, proj=True, preload=True, verbose=None)\n",
      "C:\\Users\\chuba\\AppData\\Local\\Temp\\ipykernel_4080\\777855994.py:49: RuntimeWarning: This filename (NP042317_NL_2_fractal_story_epoch.fif) does not conform to MNE naming conventions. All epochs files should end with -epo.fif, -epo.fif.gz, _epo.fif or _epo.fif.gz\n",
      "  variable_second = mne.read_epochs(name, proj=True, preload=True, verbose=None)\n",
      "C:\\Users\\chuba\\AppData\\Local\\Temp\\ipykernel_4080\\777855994.py:49: RuntimeWarning: This filename (NP042331_NL_2_fractal_story_epoch.fif) does not conform to MNE naming conventions. All epochs files should end with -epo.fif, -epo.fif.gz, _epo.fif or _epo.fif.gz\n",
      "  variable_second = mne.read_epochs(name, proj=True, preload=True, verbose=None)\n"
     ]
    },
    {
     "name": "stdout",
     "output_type": "stream",
     "text": [
      "NP042331_NL_2_fractal_story_epoch.fif -110.84673346195731\n",
      "NP052310_NL_2_fractal_story_epoch.fif\n",
      "Reading D:\\all_eeg\\mu_eeg\\chernovik_2\\NL_2_3-4_years_preprocecc\\NL2_hg_epoch\\NL2_hg_epoch\\NP052310_NL_2_fractal_story_epoch.fif ...\n",
      "    Found the data of interest:\n",
      "        t =       0.00 ...    1998.00 ms\n",
      "        0 CTF compensation matrices available\n",
      "Not setting metadata\n",
      "14 matching events found\n",
      "No baseline correction applied\n",
      "0 projection items activated\n",
      "Effective window size : 2.000 (s)\n",
      "NP052310_NL_2_fractal_story_epoch.fif -110.72036867144972\n",
      "NP052315_NL_2_fractal_story_epoch.fif\n",
      "Reading D:\\all_eeg\\mu_eeg\\chernovik_2\\NL_2_3-4_years_preprocecc\\NL2_hg_epoch\\NL2_hg_epoch\\NP052315_NL_2_fractal_story_epoch.fif ...\n",
      "    Found the data of interest:\n",
      "        t =       0.00 ...    1998.00 ms\n",
      "        0 CTF compensation matrices available\n",
      "Not setting metadata\n",
      "14 matching events found\n",
      "No baseline correction applied\n",
      "0 projection items activated\n",
      "Effective window size : 2.000 (s)\n",
      "NP052315_NL_2_fractal_story_epoch.fif -113.52995565580564\n",
      "NP062306_NL_2_fractal_story_epoch.fif\n",
      "Reading D:\\all_eeg\\mu_eeg\\chernovik_2\\NL_2_3-4_years_preprocecc\\NL2_hg_epoch\\NL2_hg_epoch\\NP062306_NL_2_fractal_story_epoch.fif ...\n",
      "    Found the data of interest:\n",
      "        t =       0.00 ...    1998.00 ms\n",
      "        0 CTF compensation matrices available\n",
      "Not setting metadata\n",
      "14 matching events found\n",
      "No baseline correction applied\n",
      "0 projection items activated\n",
      "Effective window size : 2.000 (s)\n",
      "NP062306_NL_2_fractal_story_epoch.fif -116.39935465182809\n",
      "NP112314_NL_2_fractal_story_epoch.fif\n",
      "Reading D:\\all_eeg\\mu_eeg\\chernovik_2\\NL_2_3-4_years_preprocecc\\NL2_hg_epoch\\NL2_hg_epoch\\NP112314_NL_2_fractal_story_epoch.fif ...\n",
      "    Found the data of interest:\n",
      "        t =       0.00 ...    1998.00 ms\n",
      "        0 CTF compensation matrices available\n",
      "Not setting metadata\n"
     ]
    },
    {
     "name": "stderr",
     "output_type": "stream",
     "text": [
      "C:\\Users\\chuba\\AppData\\Local\\Temp\\ipykernel_4080\\777855994.py:49: RuntimeWarning: This filename (NP052310_NL_2_fractal_story_epoch.fif) does not conform to MNE naming conventions. All epochs files should end with -epo.fif, -epo.fif.gz, _epo.fif or _epo.fif.gz\n",
      "  variable_second = mne.read_epochs(name, proj=True, preload=True, verbose=None)\n",
      "C:\\Users\\chuba\\AppData\\Local\\Temp\\ipykernel_4080\\777855994.py:49: RuntimeWarning: This filename (NP052315_NL_2_fractal_story_epoch.fif) does not conform to MNE naming conventions. All epochs files should end with -epo.fif, -epo.fif.gz, _epo.fif or _epo.fif.gz\n",
      "  variable_second = mne.read_epochs(name, proj=True, preload=True, verbose=None)\n",
      "C:\\Users\\chuba\\AppData\\Local\\Temp\\ipykernel_4080\\777855994.py:49: RuntimeWarning: This filename (NP062306_NL_2_fractal_story_epoch.fif) does not conform to MNE naming conventions. All epochs files should end with -epo.fif, -epo.fif.gz, _epo.fif or _epo.fif.gz\n",
      "  variable_second = mne.read_epochs(name, proj=True, preload=True, verbose=None)\n",
      "C:\\Users\\chuba\\AppData\\Local\\Temp\\ipykernel_4080\\777855994.py:49: RuntimeWarning: This filename (NP112314_NL_2_fractal_story_epoch.fif) does not conform to MNE naming conventions. All epochs files should end with -epo.fif, -epo.fif.gz, _epo.fif or _epo.fif.gz\n",
      "  variable_second = mne.read_epochs(name, proj=True, preload=True, verbose=None)\n"
     ]
    },
    {
     "name": "stdout",
     "output_type": "stream",
     "text": [
      "29 matching events found\n",
      "No baseline correction applied\n",
      "0 projection items activated\n",
      "Effective window size : 2.000 (s)\n",
      "NP112314_NL_2_fractal_story_epoch.fif -116.90258333183236\n",
      "NP112317_NL_2_fractal_story_epoch.fif\n",
      "Reading D:\\all_eeg\\mu_eeg\\chernovik_2\\NL_2_3-4_years_preprocecc\\NL2_hg_epoch\\NL2_hg_epoch\\NP112317_NL_2_fractal_story_epoch.fif ...\n",
      "    Found the data of interest:\n",
      "        t =       0.00 ...    1998.00 ms\n",
      "        0 CTF compensation matrices available\n",
      "Not setting metadata\n",
      "29 matching events found\n",
      "No baseline correction applied\n",
      "0 projection items activated\n",
      "Effective window size : 2.000 (s)\n",
      "NP112317_NL_2_fractal_story_epoch.fif -113.85190313434092\n",
      "NP112318_NL_2_fractal_story_epoch.fif\n",
      "Reading D:\\all_eeg\\mu_eeg\\chernovik_2\\NL_2_3-4_years_preprocecc\\NL2_hg_epoch\\NL2_hg_epoch\\NP112318_NL_2_fractal_story_epoch.fif ...\n",
      "    Found the data of interest:\n",
      "        t =       0.00 ...    1998.00 ms\n",
      "        0 CTF compensation matrices available\n",
      "Not setting metadata\n",
      "29 matching events found\n",
      "No baseline correction applied\n",
      "0 projection items activated\n",
      "Effective window size : 2.000 (s)\n",
      "NP112318_NL_2_fractal_story_epoch.fif -112.91065066009759\n",
      "NP112321_NL_2_fractal_story_epoch.fif\n"
     ]
    },
    {
     "name": "stderr",
     "output_type": "stream",
     "text": [
      "C:\\Users\\chuba\\AppData\\Local\\Temp\\ipykernel_4080\\777855994.py:49: RuntimeWarning: This filename (NP112317_NL_2_fractal_story_epoch.fif) does not conform to MNE naming conventions. All epochs files should end with -epo.fif, -epo.fif.gz, _epo.fif or _epo.fif.gz\n",
      "  variable_second = mne.read_epochs(name, proj=True, preload=True, verbose=None)\n",
      "C:\\Users\\chuba\\AppData\\Local\\Temp\\ipykernel_4080\\777855994.py:49: RuntimeWarning: This filename (NP112318_NL_2_fractal_story_epoch.fif) does not conform to MNE naming conventions. All epochs files should end with -epo.fif, -epo.fif.gz, _epo.fif or _epo.fif.gz\n",
      "  variable_second = mne.read_epochs(name, proj=True, preload=True, verbose=None)\n",
      "C:\\Users\\chuba\\AppData\\Local\\Temp\\ipykernel_4080\\777855994.py:49: RuntimeWarning: This filename (NP112321_NL_2_fractal_story_epoch.fif) does not conform to MNE naming conventions. All epochs files should end with -epo.fif, -epo.fif.gz, _epo.fif or _epo.fif.gz\n",
      "  variable_second = mne.read_epochs(name, proj=True, preload=True, verbose=None)\n"
     ]
    },
    {
     "name": "stdout",
     "output_type": "stream",
     "text": [
      "Reading D:\\all_eeg\\mu_eeg\\chernovik_2\\NL_2_3-4_years_preprocecc\\NL2_hg_epoch\\NL2_hg_epoch\\NP112321_NL_2_fractal_story_epoch.fif ...\n",
      "    Found the data of interest:\n",
      "        t =       0.00 ...    1998.00 ms\n",
      "        0 CTF compensation matrices available\n",
      "Not setting metadata\n",
      "14 matching events found\n",
      "No baseline correction applied\n",
      "0 projection items activated\n",
      "Effective window size : 2.000 (s)\n",
      "NP112321_NL_2_fractal_story_epoch.fif -119.39759415499849\n",
      "avr_PSD_variable_second = -113.921367771906\n",
      "[-117.91817923594678, -113.58891325059491, -115.54639002848023, -111.86463673069647, -118.03079734008381, -113.9378412009753, -110.84673346195731, -110.72036867144972, -113.52995565580564, -116.39935465182809, -116.90258333183236, -113.85190313434092, -112.91065066009759, -119.39759415499849]\n",
      "[['NP042303_NL_2_fractal_story_epoch.fif'], ['NP042304_NL_2_fractal_story_epoch.fif'], ['NP042306_NL_2_fractal_story_epoch.fif'], ['NP042307_NL_2_fractal_story_epoch.fif'], ['NP042309_NL_2_fractal_story_epoch.fif'], ['NP042317_NL_2_fractal_story_epoch.fif'], ['NP042331_NL_2_fractal_story_epoch.fif'], ['NP052310_NL_2_fractal_story_epoch.fif'], ['NP052315_NL_2_fractal_story_epoch.fif'], ['NP062306_NL_2_fractal_story_epoch.fif'], ['NP112314_NL_2_fractal_story_epoch.fif'], ['NP112317_NL_2_fractal_story_epoch.fif'], ['NP112318_NL_2_fractal_story_epoch.fif'], ['NP112321_NL_2_fractal_story_epoch.fif']]\n",
      "                                         ID         PSD\n",
      "0   [NP042303_NL_2_fractal_story_epoch.fif] -117.918179\n",
      "1   [NP042304_NL_2_fractal_story_epoch.fif] -113.588913\n",
      "2   [NP042306_NL_2_fractal_story_epoch.fif] -115.546390\n",
      "3   [NP042307_NL_2_fractal_story_epoch.fif] -111.864637\n",
      "4   [NP042309_NL_2_fractal_story_epoch.fif] -118.030797\n",
      "5   [NP042317_NL_2_fractal_story_epoch.fif] -113.937841\n",
      "6   [NP042331_NL_2_fractal_story_epoch.fif] -110.846733\n",
      "7   [NP052310_NL_2_fractal_story_epoch.fif] -110.720369\n",
      "8   [NP052315_NL_2_fractal_story_epoch.fif] -113.529956\n",
      "9   [NP062306_NL_2_fractal_story_epoch.fif] -116.399355\n",
      "10  [NP112314_NL_2_fractal_story_epoch.fif] -116.902583\n",
      "11  [NP112317_NL_2_fractal_story_epoch.fif] -113.851903\n",
      "12  [NP112318_NL_2_fractal_story_epoch.fif] -112.910651\n",
      "13  [NP112321_NL_2_fractal_story_epoch.fif] -119.397594\n",
      "NP042303_PCH_epoch.fif\n",
      "Reading D:\\all_eeg\\mu_eeg\\chernovik_2\\mu1_and_mu2_3-4_years_preprocecc\\MU_hg_epoch (1)\\MU_hg_epoch (1)\\NP042303_PCH_epoch.fif ...\n",
      "    Found the data of interest:\n",
      "        t =       0.00 ...    1998.00 ms\n",
      "        0 CTF compensation matrices available\n",
      "Not setting metadata\n",
      "44 matching events found\n",
      "No baseline correction applied\n",
      "0 projection items activated\n",
      "Effective window size : 2.000 (s)\n"
     ]
    },
    {
     "name": "stderr",
     "output_type": "stream",
     "text": [
      "C:\\Users\\chuba\\AppData\\Local\\Temp\\ipykernel_4080\\777855994.py:87: RuntimeWarning: This filename (NP042303_PCH_epoch.fif) does not conform to MNE naming conventions. All epochs files should end with -epo.fif, -epo.fif.gz, _epo.fif or _epo.fif.gz\n",
      "  variable_second = mne.read_epochs(name, proj=True, preload=True, verbose=None)\n"
     ]
    },
    {
     "name": "stdout",
     "output_type": "stream",
     "text": [
      "NP042303_PCH_epoch.fif -115.94783433520868\n",
      "NP042304_PCH_epoch.fif\n",
      "Reading D:\\all_eeg\\mu_eeg\\chernovik_2\\mu1_and_mu2_3-4_years_preprocecc\\MU_hg_epoch (1)\\MU_hg_epoch (1)\\NP042304_PCH_epoch.fif ...\n",
      "    Found the data of interest:\n",
      "        t =       0.00 ...    1998.00 ms\n",
      "        0 CTF compensation matrices available\n",
      "Not setting metadata\n",
      "53 matching events found\n",
      "No baseline correction applied\n",
      "0 projection items activated\n",
      "Effective window size : 2.000 (s)\n"
     ]
    },
    {
     "name": "stderr",
     "output_type": "stream",
     "text": [
      "C:\\Users\\chuba\\AppData\\Local\\Temp\\ipykernel_4080\\777855994.py:87: RuntimeWarning: This filename (NP042304_PCH_epoch.fif) does not conform to MNE naming conventions. All epochs files should end with -epo.fif, -epo.fif.gz, _epo.fif or _epo.fif.gz\n",
      "  variable_second = mne.read_epochs(name, proj=True, preload=True, verbose=None)\n"
     ]
    },
    {
     "name": "stdout",
     "output_type": "stream",
     "text": [
      "NP042304_PCH_epoch.fif -115.20392092964755\n",
      "NP042306_PCH_epoch.fif\n",
      "Reading D:\\all_eeg\\mu_eeg\\chernovik_2\\mu1_and_mu2_3-4_years_preprocecc\\MU_hg_epoch (1)\\MU_hg_epoch (1)\\NP042306_PCH_epoch.fif ...\n",
      "    Found the data of interest:\n",
      "        t =       0.00 ...    1998.00 ms\n",
      "        0 CTF compensation matrices available\n",
      "Not setting metadata\n",
      "64 matching events found\n",
      "No baseline correction applied\n",
      "0 projection items activated\n",
      "Effective window size : 2.000 (s)\n"
     ]
    },
    {
     "name": "stderr",
     "output_type": "stream",
     "text": [
      "C:\\Users\\chuba\\AppData\\Local\\Temp\\ipykernel_4080\\777855994.py:87: RuntimeWarning: This filename (NP042306_PCH_epoch.fif) does not conform to MNE naming conventions. All epochs files should end with -epo.fif, -epo.fif.gz, _epo.fif or _epo.fif.gz\n",
      "  variable_second = mne.read_epochs(name, proj=True, preload=True, verbose=None)\n"
     ]
    },
    {
     "name": "stdout",
     "output_type": "stream",
     "text": [
      "NP042306_PCH_epoch.fif -116.3372097864388\n",
      "NP042307_mu1_PCH_epoch.fif\n",
      "Reading D:\\all_eeg\\mu_eeg\\chernovik_2\\mu1_and_mu2_3-4_years_preprocecc\\MU_hg_epoch (1)\\MU_hg_epoch (1)\\NP042307_mu1_PCH_epoch.fif ...\n",
      "    Found the data of interest:\n",
      "        t =       0.00 ...    1998.00 ms\n",
      "        0 CTF compensation matrices available\n",
      "Not setting metadata\n",
      "21 matching events found\n",
      "No baseline correction applied\n",
      "0 projection items activated\n",
      "Effective window size : 2.000 (s)\n",
      "NP042307_mu1_PCH_epoch.fif -114.00759786943489\n",
      "NP042309_PCH_epoch.fif\n",
      "Reading D:\\all_eeg\\mu_eeg\\chernovik_2\\mu1_and_mu2_3-4_years_preprocecc\\MU_hg_epoch (1)\\MU_hg_epoch (1)\\NP042309_PCH_epoch.fif ...\n",
      "    Found the data of interest:\n",
      "        t =       0.00 ...    1998.00 ms\n",
      "        0 CTF compensation matrices available\n",
      "Not setting metadata\n",
      "84 matching events found\n",
      "No baseline correction applied\n",
      "0 projection items activated\n",
      "Effective window size : 2.000 (s)\n"
     ]
    },
    {
     "name": "stderr",
     "output_type": "stream",
     "text": [
      "C:\\Users\\chuba\\AppData\\Local\\Temp\\ipykernel_4080\\777855994.py:87: RuntimeWarning: This filename (NP042307_mu1_PCH_epoch.fif) does not conform to MNE naming conventions. All epochs files should end with -epo.fif, -epo.fif.gz, _epo.fif or _epo.fif.gz\n",
      "  variable_second = mne.read_epochs(name, proj=True, preload=True, verbose=None)\n",
      "C:\\Users\\chuba\\AppData\\Local\\Temp\\ipykernel_4080\\777855994.py:87: RuntimeWarning: This filename (NP042309_PCH_epoch.fif) does not conform to MNE naming conventions. All epochs files should end with -epo.fif, -epo.fif.gz, _epo.fif or _epo.fif.gz\n",
      "  variable_second = mne.read_epochs(name, proj=True, preload=True, verbose=None)\n"
     ]
    },
    {
     "name": "stdout",
     "output_type": "stream",
     "text": [
      "NP042309_PCH_epoch.fif -116.51329378910545\n",
      "NP042317_PCH_epoch.fif\n",
      "Reading D:\\all_eeg\\mu_eeg\\chernovik_2\\mu1_and_mu2_3-4_years_preprocecc\\MU_hg_epoch (1)\\MU_hg_epoch (1)\\NP042317_PCH_epoch.fif ...\n",
      "    Found the data of interest:\n",
      "        t =       0.00 ...    1998.00 ms\n",
      "        0 CTF compensation matrices available\n",
      "Not setting metadata\n",
      "79 matching events found\n",
      "No baseline correction applied\n",
      "0 projection items activated\n",
      "Effective window size : 2.000 (s)\n"
     ]
    },
    {
     "name": "stderr",
     "output_type": "stream",
     "text": [
      "C:\\Users\\chuba\\AppData\\Local\\Temp\\ipykernel_4080\\777855994.py:87: RuntimeWarning: This filename (NP042317_PCH_epoch.fif) does not conform to MNE naming conventions. All epochs files should end with -epo.fif, -epo.fif.gz, _epo.fif or _epo.fif.gz\n",
      "  variable_second = mne.read_epochs(name, proj=True, preload=True, verbose=None)\n"
     ]
    },
    {
     "name": "stdout",
     "output_type": "stream",
     "text": [
      "NP042317_PCH_epoch.fif -115.76306950652459\n",
      "NP042331_PCH_epoch.fif\n",
      "Reading D:\\all_eeg\\mu_eeg\\chernovik_2\\mu1_and_mu2_3-4_years_preprocecc\\MU_hg_epoch (1)\\MU_hg_epoch (1)\\NP042331_PCH_epoch.fif ...\n",
      "    Found the data of interest:\n",
      "        t =       0.00 ...    1998.00 ms\n",
      "        0 CTF compensation matrices available\n",
      "Not setting metadata\n",
      "65 matching events found\n",
      "No baseline correction applied\n",
      "0 projection items activated\n",
      "Effective window size : 2.000 (s)\n"
     ]
    },
    {
     "name": "stderr",
     "output_type": "stream",
     "text": [
      "C:\\Users\\chuba\\AppData\\Local\\Temp\\ipykernel_4080\\777855994.py:87: RuntimeWarning: This filename (NP042331_PCH_epoch.fif) does not conform to MNE naming conventions. All epochs files should end with -epo.fif, -epo.fif.gz, _epo.fif or _epo.fif.gz\n",
      "  variable_second = mne.read_epochs(name, proj=True, preload=True, verbose=None)\n"
     ]
    },
    {
     "name": "stdout",
     "output_type": "stream",
     "text": [
      "NP042331_PCH_epoch.fif -115.91005042433719\n",
      "NP052310_PCH_epoch.fif\n",
      "Reading D:\\all_eeg\\mu_eeg\\chernovik_2\\mu1_and_mu2_3-4_years_preprocecc\\MU_hg_epoch (1)\\MU_hg_epoch (1)\\NP052310_PCH_epoch.fif ...\n",
      "    Found the data of interest:\n",
      "        t =       0.00 ...    1998.00 ms\n",
      "        0 CTF compensation matrices available\n",
      "Not setting metadata\n",
      "48 matching events found\n",
      "No baseline correction applied\n",
      "0 projection items activated\n",
      "Effective window size : 2.000 (s)\n"
     ]
    },
    {
     "name": "stderr",
     "output_type": "stream",
     "text": [
      "C:\\Users\\chuba\\AppData\\Local\\Temp\\ipykernel_4080\\777855994.py:87: RuntimeWarning: This filename (NP052310_PCH_epoch.fif) does not conform to MNE naming conventions. All epochs files should end with -epo.fif, -epo.fif.gz, _epo.fif or _epo.fif.gz\n",
      "  variable_second = mne.read_epochs(name, proj=True, preload=True, verbose=None)\n"
     ]
    },
    {
     "name": "stdout",
     "output_type": "stream",
     "text": [
      "NP052310_PCH_epoch.fif -114.02823219066455\n",
      "NP052315_PCH_epoch.fif\n",
      "Reading D:\\all_eeg\\mu_eeg\\chernovik_2\\mu1_and_mu2_3-4_years_preprocecc\\MU_hg_epoch (1)\\MU_hg_epoch (1)\\NP052315_PCH_epoch.fif ...\n",
      "    Found the data of interest:\n",
      "        t =       0.00 ...    1998.00 ms\n",
      "        0 CTF compensation matrices available\n",
      "Not setting metadata\n",
      "40 matching events found\n",
      "No baseline correction applied\n",
      "0 projection items activated\n",
      "Effective window size : 2.000 (s)\n",
      "NP052315_PCH_epoch.fif -113.73019481761682\n",
      "NP062306_PCH_epoch.fif\n",
      "Reading D:\\all_eeg\\mu_eeg\\chernovik_2\\mu1_and_mu2_3-4_years_preprocecc\\MU_hg_epoch (1)\\MU_hg_epoch (1)\\NP062306_PCH_epoch.fif ...\n",
      "    Found the data of interest:\n",
      "        t =       0.00 ...    1998.00 ms\n",
      "        0 CTF compensation matrices available\n",
      "Not setting metadata\n",
      "39 matching events found\n",
      "No baseline correction applied\n",
      "0 projection items activated\n",
      "Effective window size : 2.000 (s)\n",
      "NP062306_PCH_epoch.fif -115.62379923492692\n",
      "NP112314_PCH_epoch.fif\n"
     ]
    },
    {
     "name": "stderr",
     "output_type": "stream",
     "text": [
      "C:\\Users\\chuba\\AppData\\Local\\Temp\\ipykernel_4080\\777855994.py:87: RuntimeWarning: This filename (NP052315_PCH_epoch.fif) does not conform to MNE naming conventions. All epochs files should end with -epo.fif, -epo.fif.gz, _epo.fif or _epo.fif.gz\n",
      "  variable_second = mne.read_epochs(name, proj=True, preload=True, verbose=None)\n",
      "C:\\Users\\chuba\\AppData\\Local\\Temp\\ipykernel_4080\\777855994.py:87: RuntimeWarning: This filename (NP062306_PCH_epoch.fif) does not conform to MNE naming conventions. All epochs files should end with -epo.fif, -epo.fif.gz, _epo.fif or _epo.fif.gz\n",
      "  variable_second = mne.read_epochs(name, proj=True, preload=True, verbose=None)\n",
      "C:\\Users\\chuba\\AppData\\Local\\Temp\\ipykernel_4080\\777855994.py:87: RuntimeWarning: This filename (NP112314_PCH_epoch.fif) does not conform to MNE naming conventions. All epochs files should end with -epo.fif, -epo.fif.gz, _epo.fif or _epo.fif.gz\n",
      "  variable_second = mne.read_epochs(name, proj=True, preload=True, verbose=None)\n"
     ]
    },
    {
     "name": "stdout",
     "output_type": "stream",
     "text": [
      "Reading D:\\all_eeg\\mu_eeg\\chernovik_2\\mu1_and_mu2_3-4_years_preprocecc\\MU_hg_epoch (1)\\MU_hg_epoch (1)\\NP112314_PCH_epoch.fif ...\n",
      "    Found the data of interest:\n",
      "        t =       0.00 ...    1998.00 ms\n",
      "        0 CTF compensation matrices available\n",
      "Not setting metadata\n",
      "13 matching events found\n",
      "No baseline correction applied\n",
      "0 projection items activated\n",
      "Effective window size : 2.000 (s)\n",
      "NP112314_PCH_epoch.fif -116.33079603790202\n",
      "NP112317_PCH_epoch.fif\n",
      "Reading D:\\all_eeg\\mu_eeg\\chernovik_2\\mu1_and_mu2_3-4_years_preprocecc\\MU_hg_epoch (1)\\MU_hg_epoch (1)\\NP112317_PCH_epoch.fif ...\n",
      "    Found the data of interest:\n",
      "        t =       0.00 ...    1998.00 ms\n",
      "        0 CTF compensation matrices available\n",
      "Not setting metadata\n",
      "21 matching events found\n",
      "No baseline correction applied\n",
      "0 projection items activated\n",
      "Effective window size : 2.000 (s)\n",
      "NP112317_PCH_epoch.fif -114.29374678982481\n",
      "NP112318_PCH_epoch.fif\n",
      "Reading D:\\all_eeg\\mu_eeg\\chernovik_2\\mu1_and_mu2_3-4_years_preprocecc\\MU_hg_epoch (1)\\MU_hg_epoch (1)\\NP112318_PCH_epoch.fif ...\n",
      "    Found the data of interest:\n",
      "        t =       0.00 ...    1998.00 ms\n",
      "        0 CTF compensation matrices available\n",
      "Not setting metadata\n",
      "46 matching events found\n",
      "No baseline correction applied\n",
      "0 projection items activated\n",
      "Effective window size : 2.000 (s)\n"
     ]
    },
    {
     "name": "stderr",
     "output_type": "stream",
     "text": [
      "C:\\Users\\chuba\\AppData\\Local\\Temp\\ipykernel_4080\\777855994.py:87: RuntimeWarning: This filename (NP112317_PCH_epoch.fif) does not conform to MNE naming conventions. All epochs files should end with -epo.fif, -epo.fif.gz, _epo.fif or _epo.fif.gz\n",
      "  variable_second = mne.read_epochs(name, proj=True, preload=True, verbose=None)\n",
      "C:\\Users\\chuba\\AppData\\Local\\Temp\\ipykernel_4080\\777855994.py:87: RuntimeWarning: This filename (NP112318_PCH_epoch.fif) does not conform to MNE naming conventions. All epochs files should end with -epo.fif, -epo.fif.gz, _epo.fif or _epo.fif.gz\n",
      "  variable_second = mne.read_epochs(name, proj=True, preload=True, verbose=None)\n"
     ]
    },
    {
     "name": "stdout",
     "output_type": "stream",
     "text": [
      "NP112318_PCH_epoch.fif -114.34072512174508\n",
      "NP112321_mu1_PCH_epoch.fif\n",
      "Reading D:\\all_eeg\\mu_eeg\\chernovik_2\\mu1_and_mu2_3-4_years_preprocecc\\MU_hg_epoch (1)\\MU_hg_epoch (1)\\NP112321_mu1_PCH_epoch.fif ...\n",
      "    Found the data of interest:\n",
      "        t =       0.00 ...    1998.00 ms\n",
      "        0 CTF compensation matrices available\n",
      "Not setting metadata\n",
      "42 matching events found\n",
      "No baseline correction applied\n",
      "0 projection items activated\n",
      "Effective window size : 2.000 (s)\n"
     ]
    },
    {
     "name": "stderr",
     "output_type": "stream",
     "text": [
      "C:\\Users\\chuba\\AppData\\Local\\Temp\\ipykernel_4080\\777855994.py:87: RuntimeWarning: This filename (NP112321_mu1_PCH_epoch.fif) does not conform to MNE naming conventions. All epochs files should end with -epo.fif, -epo.fif.gz, _epo.fif or _epo.fif.gz\n",
      "  variable_second = mne.read_epochs(name, proj=True, preload=True, verbose=None)\n"
     ]
    },
    {
     "name": "stdout",
     "output_type": "stream",
     "text": [
      "NP112321_mu1_PCH_epoch.fif -117.37565773463132\n",
      "avr_PSD_variable_second = -115.2498771427575\n",
      "[-115.94783433520868, -115.20392092964755, -116.3372097864388, -114.00759786943489, -116.51329378910545, -115.76306950652459, -115.91005042433719, -114.02823219066455, -113.73019481761682, -115.62379923492692, -116.33079603790202, -114.29374678982481, -114.34072512174508, -117.37565773463132]\n",
      "[['NP042303_PCH_epoch.fif'], ['NP042304_PCH_epoch.fif'], ['NP042306_PCH_epoch.fif'], ['NP042307_mu1_PCH_epoch.fif'], ['NP042309_PCH_epoch.fif'], ['NP042317_PCH_epoch.fif'], ['NP042331_PCH_epoch.fif'], ['NP052310_PCH_epoch.fif'], ['NP052315_PCH_epoch.fif'], ['NP062306_PCH_epoch.fif'], ['NP112314_PCH_epoch.fif'], ['NP112317_PCH_epoch.fif'], ['NP112318_PCH_epoch.fif'], ['NP112321_mu1_PCH_epoch.fif']]\n",
      "                              ID         PSD\n",
      "0       [NP042303_PCH_epoch.fif] -115.947834\n",
      "1       [NP042304_PCH_epoch.fif] -115.203921\n",
      "2       [NP042306_PCH_epoch.fif] -116.337210\n",
      "3   [NP042307_mu1_PCH_epoch.fif] -114.007598\n",
      "4       [NP042309_PCH_epoch.fif] -116.513294\n",
      "5       [NP042317_PCH_epoch.fif] -115.763070\n",
      "6       [NP042331_PCH_epoch.fif] -115.910050\n",
      "7       [NP052310_PCH_epoch.fif] -114.028232\n",
      "8       [NP052315_PCH_epoch.fif] -113.730195\n",
      "9       [NP062306_PCH_epoch.fif] -115.623799\n",
      "10      [NP112314_PCH_epoch.fif] -116.330796\n",
      "11      [NP112317_PCH_epoch.fif] -114.293747\n",
      "12      [NP112318_PCH_epoch.fif] -114.340725\n",
      "13  [NP112321_mu1_PCH_epoch.fif] -117.375658\n",
      "NP042303_CE_epoch.fif\n",
      "Reading D:\\all_eeg\\mu_eeg\\chernovik_2\\mu1_and_mu2_3-4_years_preprocecc\\MU_hg_epoch (1)\\MU_hg_epoch (1)\\NP042303_CE_epoch.fif ...\n",
      "    Found the data of interest:\n",
      "        t =       0.00 ...    1998.00 ms\n",
      "        0 CTF compensation matrices available\n",
      "Not setting metadata\n",
      "78 matching events found\n",
      "No baseline correction applied\n",
      "0 projection items activated\n",
      "Effective window size : 2.000 (s)\n"
     ]
    },
    {
     "name": "stderr",
     "output_type": "stream",
     "text": [
      "C:\\Users\\chuba\\AppData\\Local\\Temp\\ipykernel_4080\\777855994.py:123: RuntimeWarning: This filename (NP042303_CE_epoch.fif) does not conform to MNE naming conventions. All epochs files should end with -epo.fif, -epo.fif.gz, _epo.fif or _epo.fif.gz\n",
      "  variable_second = mne.read_epochs(name, proj=True, preload=True, verbose=None)\n"
     ]
    },
    {
     "name": "stdout",
     "output_type": "stream",
     "text": [
      "NP042303_CE_epoch.fif -113.28346707333843\n",
      "NP042304_CE_epoch.fif\n",
      "Reading D:\\all_eeg\\mu_eeg\\chernovik_2\\mu1_and_mu2_3-4_years_preprocecc\\MU_hg_epoch (1)\\MU_hg_epoch (1)\\NP042304_CE_epoch.fif ...\n",
      "    Found the data of interest:\n",
      "        t =       0.00 ...    1998.00 ms\n",
      "        0 CTF compensation matrices available\n",
      "Not setting metadata\n",
      "79 matching events found\n",
      "No baseline correction applied\n",
      "0 projection items activated\n",
      "Effective window size : 2.000 (s)\n"
     ]
    },
    {
     "name": "stderr",
     "output_type": "stream",
     "text": [
      "C:\\Users\\chuba\\AppData\\Local\\Temp\\ipykernel_4080\\777855994.py:123: RuntimeWarning: This filename (NP042304_CE_epoch.fif) does not conform to MNE naming conventions. All epochs files should end with -epo.fif, -epo.fif.gz, _epo.fif or _epo.fif.gz\n",
      "  variable_second = mne.read_epochs(name, proj=True, preload=True, verbose=None)\n"
     ]
    },
    {
     "name": "stdout",
     "output_type": "stream",
     "text": [
      "NP042304_CE_epoch.fif -112.30593413920116\n",
      "NP042306_CE_epoch.fif\n",
      "Reading D:\\all_eeg\\mu_eeg\\chernovik_2\\mu1_and_mu2_3-4_years_preprocecc\\MU_hg_epoch (1)\\MU_hg_epoch (1)\\NP042306_CE_epoch.fif ...\n",
      "    Found the data of interest:\n",
      "        t =       0.00 ...    1998.00 ms\n",
      "        0 CTF compensation matrices available\n",
      "Not setting metadata\n",
      "72 matching events found\n",
      "No baseline correction applied\n",
      "0 projection items activated\n",
      "Effective window size : 2.000 (s)\n"
     ]
    },
    {
     "name": "stderr",
     "output_type": "stream",
     "text": [
      "C:\\Users\\chuba\\AppData\\Local\\Temp\\ipykernel_4080\\777855994.py:123: RuntimeWarning: This filename (NP042306_CE_epoch.fif) does not conform to MNE naming conventions. All epochs files should end with -epo.fif, -epo.fif.gz, _epo.fif or _epo.fif.gz\n",
      "  variable_second = mne.read_epochs(name, proj=True, preload=True, verbose=None)\n"
     ]
    },
    {
     "name": "stdout",
     "output_type": "stream",
     "text": [
      "NP042306_CE_epoch.fif -114.32422529181763\n",
      "NP042307_mu1_CE_epoch.fif\n",
      "Reading D:\\all_eeg\\mu_eeg\\chernovik_2\\mu1_and_mu2_3-4_years_preprocecc\\MU_hg_epoch (1)\\MU_hg_epoch (1)\\NP042307_mu1_CE_epoch.fif ...\n",
      "    Found the data of interest:\n",
      "        t =       0.00 ...    1998.00 ms\n",
      "        0 CTF compensation matrices available\n",
      "Not setting metadata\n",
      "3 matching events found\n",
      "No baseline correction applied\n",
      "0 projection items activated\n",
      "Effective window size : 2.000 (s)\n",
      "NP042307_mu1_CE_epoch.fif -113.71288377785022\n",
      "NP042309_CE_epoch.fif\n",
      "Reading D:\\all_eeg\\mu_eeg\\chernovik_2\\mu1_and_mu2_3-4_years_preprocecc\\MU_hg_epoch (1)\\MU_hg_epoch (1)\\NP042309_CE_epoch.fif ...\n",
      "    Found the data of interest:\n",
      "        t =       0.00 ...    1998.00 ms\n",
      "        0 CTF compensation matrices available\n",
      "Not setting metadata\n",
      "83 matching events found\n",
      "No baseline correction applied\n",
      "0 projection items activated\n",
      "Effective window size : 2.000 (s)\n"
     ]
    },
    {
     "name": "stderr",
     "output_type": "stream",
     "text": [
      "C:\\Users\\chuba\\AppData\\Local\\Temp\\ipykernel_4080\\777855994.py:123: RuntimeWarning: This filename (NP042307_mu1_CE_epoch.fif) does not conform to MNE naming conventions. All epochs files should end with -epo.fif, -epo.fif.gz, _epo.fif or _epo.fif.gz\n",
      "  variable_second = mne.read_epochs(name, proj=True, preload=True, verbose=None)\n",
      "C:\\Users\\chuba\\AppData\\Local\\Temp\\ipykernel_4080\\777855994.py:123: RuntimeWarning: This filename (NP042309_CE_epoch.fif) does not conform to MNE naming conventions. All epochs files should end with -epo.fif, -epo.fif.gz, _epo.fif or _epo.fif.gz\n",
      "  variable_second = mne.read_epochs(name, proj=True, preload=True, verbose=None)\n"
     ]
    },
    {
     "name": "stdout",
     "output_type": "stream",
     "text": [
      "NP042309_CE_epoch.fif -114.19421894762127\n",
      "NP042317_CE_epoch.fif\n",
      "Reading D:\\all_eeg\\mu_eeg\\chernovik_2\\mu1_and_mu2_3-4_years_preprocecc\\MU_hg_epoch (1)\\MU_hg_epoch (1)\\NP042317_CE_epoch.fif ...\n",
      "    Found the data of interest:\n",
      "        t =       0.00 ...    1998.00 ms\n",
      "        0 CTF compensation matrices available\n",
      "Not setting metadata\n",
      "84 matching events found\n",
      "No baseline correction applied\n",
      "0 projection items activated\n",
      "Effective window size : 2.000 (s)\n"
     ]
    },
    {
     "name": "stderr",
     "output_type": "stream",
     "text": [
      "C:\\Users\\chuba\\AppData\\Local\\Temp\\ipykernel_4080\\777855994.py:123: RuntimeWarning: This filename (NP042317_CE_epoch.fif) does not conform to MNE naming conventions. All epochs files should end with -epo.fif, -epo.fif.gz, _epo.fif or _epo.fif.gz\n",
      "  variable_second = mne.read_epochs(name, proj=True, preload=True, verbose=None)\n"
     ]
    },
    {
     "name": "stdout",
     "output_type": "stream",
     "text": [
      "NP042317_CE_epoch.fif -114.87563760403728\n",
      "NP042331_CE_epoch.fif\n",
      "Reading D:\\all_eeg\\mu_eeg\\chernovik_2\\mu1_and_mu2_3-4_years_preprocecc\\MU_hg_epoch (1)\\MU_hg_epoch (1)\\NP042331_CE_epoch.fif ...\n",
      "    Found the data of interest:\n",
      "        t =       0.00 ...    1998.00 ms\n",
      "        0 CTF compensation matrices available\n",
      "Not setting metadata\n",
      "87 matching events found\n",
      "No baseline correction applied\n",
      "0 projection items activated\n",
      "Effective window size : 2.000 (s)\n"
     ]
    },
    {
     "name": "stderr",
     "output_type": "stream",
     "text": [
      "C:\\Users\\chuba\\AppData\\Local\\Temp\\ipykernel_4080\\777855994.py:123: RuntimeWarning: This filename (NP042331_CE_epoch.fif) does not conform to MNE naming conventions. All epochs files should end with -epo.fif, -epo.fif.gz, _epo.fif or _epo.fif.gz\n",
      "  variable_second = mne.read_epochs(name, proj=True, preload=True, verbose=None)\n"
     ]
    },
    {
     "name": "stdout",
     "output_type": "stream",
     "text": [
      "NP042331_CE_epoch.fif -114.66738478582153\n",
      "NP052310_CE_epoch.fif\n",
      "Reading D:\\all_eeg\\mu_eeg\\chernovik_2\\mu1_and_mu2_3-4_years_preprocecc\\MU_hg_epoch (1)\\MU_hg_epoch (1)\\NP052310_CE_epoch.fif ...\n",
      "    Found the data of interest:\n",
      "        t =       0.00 ...    1998.00 ms\n",
      "        0 CTF compensation matrices available\n",
      "Not setting metadata\n",
      "78 matching events found\n",
      "No baseline correction applied\n",
      "0 projection items activated\n",
      "Effective window size : 2.000 (s)\n"
     ]
    },
    {
     "name": "stderr",
     "output_type": "stream",
     "text": [
      "C:\\Users\\chuba\\AppData\\Local\\Temp\\ipykernel_4080\\777855994.py:123: RuntimeWarning: This filename (NP052310_CE_epoch.fif) does not conform to MNE naming conventions. All epochs files should end with -epo.fif, -epo.fif.gz, _epo.fif or _epo.fif.gz\n",
      "  variable_second = mne.read_epochs(name, proj=True, preload=True, verbose=None)\n"
     ]
    },
    {
     "name": "stdout",
     "output_type": "stream",
     "text": [
      "NP052310_CE_epoch.fif -113.32311374225387\n",
      "NP052315_CE_epoch.fif\n",
      "Reading D:\\all_eeg\\mu_eeg\\chernovik_2\\mu1_and_mu2_3-4_years_preprocecc\\MU_hg_epoch (1)\\MU_hg_epoch (1)\\NP052315_CE_epoch.fif ...\n",
      "    Found the data of interest:\n",
      "        t =       0.00 ...    1998.00 ms\n",
      "        0 CTF compensation matrices available\n",
      "Not setting metadata\n",
      "79 matching events found\n",
      "No baseline correction applied\n",
      "0 projection items activated\n",
      "Effective window size : 2.000 (s)\n"
     ]
    },
    {
     "name": "stderr",
     "output_type": "stream",
     "text": [
      "C:\\Users\\chuba\\AppData\\Local\\Temp\\ipykernel_4080\\777855994.py:123: RuntimeWarning: This filename (NP052315_CE_epoch.fif) does not conform to MNE naming conventions. All epochs files should end with -epo.fif, -epo.fif.gz, _epo.fif or _epo.fif.gz\n",
      "  variable_second = mne.read_epochs(name, proj=True, preload=True, verbose=None)\n"
     ]
    },
    {
     "name": "stdout",
     "output_type": "stream",
     "text": [
      "NP052315_CE_epoch.fif -108.72606925475408\n",
      "NP062306_CE_epoch.fif\n",
      "Reading D:\\all_eeg\\mu_eeg\\chernovik_2\\mu1_and_mu2_3-4_years_preprocecc\\MU_hg_epoch (1)\\MU_hg_epoch (1)\\NP062306_CE_epoch.fif ...\n",
      "    Found the data of interest:\n",
      "        t =       0.00 ...    1998.00 ms\n",
      "        0 CTF compensation matrices available\n",
      "Not setting metadata\n",
      "81 matching events found\n",
      "No baseline correction applied\n",
      "0 projection items activated\n",
      "Effective window size : 2.000 (s)\n"
     ]
    },
    {
     "name": "stderr",
     "output_type": "stream",
     "text": [
      "C:\\Users\\chuba\\AppData\\Local\\Temp\\ipykernel_4080\\777855994.py:123: RuntimeWarning: This filename (NP062306_CE_epoch.fif) does not conform to MNE naming conventions. All epochs files should end with -epo.fif, -epo.fif.gz, _epo.fif or _epo.fif.gz\n",
      "  variable_second = mne.read_epochs(name, proj=True, preload=True, verbose=None)\n"
     ]
    },
    {
     "name": "stdout",
     "output_type": "stream",
     "text": [
      "NP062306_CE_epoch.fif -113.40629680880191\n",
      "NP112314_CE_epoch.fif\n",
      "Reading D:\\all_eeg\\mu_eeg\\chernovik_2\\mu1_and_mu2_3-4_years_preprocecc\\MU_hg_epoch (1)\\MU_hg_epoch (1)\\NP112314_CE_epoch.fif ...\n",
      "    Found the data of interest:\n",
      "        t =       0.00 ...    1998.00 ms\n",
      "        0 CTF compensation matrices available\n",
      "Not setting metadata\n",
      "37 matching events found\n",
      "No baseline correction applied\n",
      "0 projection items activated\n",
      "Effective window size : 2.000 (s)\n",
      "NP112314_CE_epoch.fif -113.57539553292837\n",
      "NP112317_CE_epoch.fif\n",
      "Reading D:\\all_eeg\\mu_eeg\\chernovik_2\\mu1_and_mu2_3-4_years_preprocecc\\MU_hg_epoch (1)\\MU_hg_epoch (1)\\NP112317_CE_epoch.fif ...\n",
      "    Found the data of interest:\n",
      "        t =       0.00 ...    1998.00 ms\n",
      "        0 CTF compensation matrices available\n",
      "Not setting metadata\n",
      "44 matching events found\n",
      "No baseline correction applied\n",
      "0 projection items activated\n",
      "Effective window size : 2.000 (s)\n"
     ]
    },
    {
     "name": "stderr",
     "output_type": "stream",
     "text": [
      "C:\\Users\\chuba\\AppData\\Local\\Temp\\ipykernel_4080\\777855994.py:123: RuntimeWarning: This filename (NP112314_CE_epoch.fif) does not conform to MNE naming conventions. All epochs files should end with -epo.fif, -epo.fif.gz, _epo.fif or _epo.fif.gz\n",
      "  variable_second = mne.read_epochs(name, proj=True, preload=True, verbose=None)\n",
      "C:\\Users\\chuba\\AppData\\Local\\Temp\\ipykernel_4080\\777855994.py:123: RuntimeWarning: This filename (NP112317_CE_epoch.fif) does not conform to MNE naming conventions. All epochs files should end with -epo.fif, -epo.fif.gz, _epo.fif or _epo.fif.gz\n",
      "  variable_second = mne.read_epochs(name, proj=True, preload=True, verbose=None)\n"
     ]
    },
    {
     "name": "stdout",
     "output_type": "stream",
     "text": [
      "NP112317_CE_epoch.fif -109.59171031074627\n",
      "NP112318_CE_epoch.fif\n",
      "Reading D:\\all_eeg\\mu_eeg\\chernovik_2\\mu1_and_mu2_3-4_years_preprocecc\\MU_hg_epoch (1)\\MU_hg_epoch (1)\\NP112318_CE_epoch.fif ...\n",
      "    Found the data of interest:\n",
      "        t =       0.00 ...    1998.00 ms\n",
      "        0 CTF compensation matrices available\n",
      "Not setting metadata\n",
      "88 matching events found\n",
      "No baseline correction applied\n",
      "0 projection items activated\n",
      "Effective window size : 2.000 (s)\n"
     ]
    },
    {
     "name": "stderr",
     "output_type": "stream",
     "text": [
      "C:\\Users\\chuba\\AppData\\Local\\Temp\\ipykernel_4080\\777855994.py:123: RuntimeWarning: This filename (NP112318_CE_epoch.fif) does not conform to MNE naming conventions. All epochs files should end with -epo.fif, -epo.fif.gz, _epo.fif or _epo.fif.gz\n",
      "  variable_second = mne.read_epochs(name, proj=True, preload=True, verbose=None)\n"
     ]
    },
    {
     "name": "stdout",
     "output_type": "stream",
     "text": [
      "NP112318_CE_epoch.fif -110.79568227417097\n",
      "NP112321_mu1_CE_epoch.fif\n",
      "Reading D:\\all_eeg\\mu_eeg\\chernovik_2\\mu1_and_mu2_3-4_years_preprocecc\\MU_hg_epoch (1)\\MU_hg_epoch (1)\\NP112321_mu1_CE_epoch.fif ...\n",
      "    Found the data of interest:\n",
      "        t =       0.00 ...    1998.00 ms\n",
      "        0 CTF compensation matrices available\n",
      "Not setting metadata\n",
      "83 matching events found\n",
      "No baseline correction applied\n",
      "0 projection items activated\n",
      "Effective window size : 2.000 (s)\n"
     ]
    },
    {
     "name": "stderr",
     "output_type": "stream",
     "text": [
      "C:\\Users\\chuba\\AppData\\Local\\Temp\\ipykernel_4080\\777855994.py:123: RuntimeWarning: This filename (NP112321_mu1_CE_epoch.fif) does not conform to MNE naming conventions. All epochs files should end with -epo.fif, -epo.fif.gz, _epo.fif or _epo.fif.gz\n",
      "  variable_second = mne.read_epochs(name, proj=True, preload=True, verbose=None)\n",
      "No artists with labels found to put in legend.  Note that artists whose label start with an underscore are ignored when legend() is called with no argument.\n"
     ]
    },
    {
     "name": "stdout",
     "output_type": "stream",
     "text": [
      "NP112321_mu1_CE_epoch.fif -113.66660701237447\n",
      "avr_PSD_variable_second = -112.45081218482882\n",
      "[-113.28346707333843, -112.30593413920116, -114.32422529181763, -113.71288377785022, -114.19421894762127, -114.87563760403728, -114.66738478582153, -113.32311374225387, -108.72606925475408, -113.40629680880191, -113.57539553292837, -109.59171031074627, -110.79568227417097, -113.66660701237447]\n",
      "[['NP042303_CE_epoch.fif'], ['NP042304_CE_epoch.fif'], ['NP042306_CE_epoch.fif'], ['NP042307_mu1_CE_epoch.fif'], ['NP042309_CE_epoch.fif'], ['NP042317_CE_epoch.fif'], ['NP042331_CE_epoch.fif'], ['NP052310_CE_epoch.fif'], ['NP052315_CE_epoch.fif'], ['NP062306_CE_epoch.fif'], ['NP112314_CE_epoch.fif'], ['NP112317_CE_epoch.fif'], ['NP112318_CE_epoch.fif'], ['NP112321_mu1_CE_epoch.fif']]\n",
      "                             ID         PSD\n",
      "0       [NP042303_CE_epoch.fif] -113.283467\n",
      "1       [NP042304_CE_epoch.fif] -112.305934\n",
      "2       [NP042306_CE_epoch.fif] -114.324225\n",
      "3   [NP042307_mu1_CE_epoch.fif] -113.712884\n",
      "4       [NP042309_CE_epoch.fif] -114.194219\n",
      "5       [NP042317_CE_epoch.fif] -114.875638\n",
      "6       [NP042331_CE_epoch.fif] -114.667385\n",
      "7       [NP052310_CE_epoch.fif] -113.323114\n",
      "8       [NP052315_CE_epoch.fif] -108.726069\n",
      "9       [NP062306_CE_epoch.fif] -113.406297\n",
      "10      [NP112314_CE_epoch.fif] -113.575396\n",
      "11      [NP112317_CE_epoch.fif] -109.591710\n",
      "12      [NP112318_CE_epoch.fif] -110.795682\n",
      "13  [NP112321_mu1_CE_epoch.fif] -113.666607\n"
     ]
    }
   ],
   "source": [
    "#4 условия для канала с3 частота 6-13\n",
    "#необходимо изменить только название файла для обработки и название файлов которые собираешься изменять \n",
    "fig, ax = plt.subplots()\n",
    "\n",
    "#перове условие Название: \n",
    "os.chdir('D:/all_eeg/mu_eeg/chernovik_2/NL_2_3-4_years_preprocecc/NL2_hg_epoch/NL2_hg_epoch/')\n",
    "psds_target_list = []\n",
    "data_variable_first = [] \n",
    "data_id = []\n",
    "\n",
    "for i in range(len(ID_f_b_epoch)):\n",
    "    print(ID_f_b_epoch[i])\n",
    "    name = ID_f_b_epoch[i]\n",
    "    variable_first = mne.read_epochs(name, proj=True, preload=True, verbose=None)#читаем запись \n",
    "    spectrum = variable_first.compute_psd(method='welch', fmin=6, fmax=13, tmin=None, tmax=None, proj=False, n_jobs=1, verbose=None)#считаем PSD\n",
    "    psds, freqs = spectrum.get_data(return_freqs=True)#Получите все эпохи в виде 3D-массива\n",
    "\n",
    "    # Find corresponding indices using mne.pick_types() \n",
    "    # mne.pick_types определяет индексы каналов ЭЭГ для обращения\n",
    "    picks_roi_vis = mne.pick_types(variable_first.info, eeg=True, stim=False, exclude='bads', selection=[\"C3\"])\n",
    "    psds_mean=np.mean(psds, axis=0)#cчитаем сред знач Эпох\n",
    "    psds_target = psds_mean[picks_roi_vis]#СОЗДАЕМ СПИСОК ИНДЕКСОВ \n",
    "    psd_variable_first = 10 * np.log10(psds_target.mean())#считаем PSD для подсчета \n",
    "    ID_namber = [ID_f_b_epoch[i]]\n",
    "    data_variable_first.append(psd_variable_first)\n",
    "    data_id.append(ID_namber)\n",
    "    print(ID_f_b_epoch[i], f'{psd_variable_first}')\n",
    "    \n",
    "    psds_target_list.append(psds_target[0])#создаем список (списков?) нужных нам отведений \n",
    "    #ax.plot(freqs, psds_target[0], color='white', alpha=0.1, label=f\"PSD {ID[i]}_all_epochs_new_fractal.fif: {psd_variable_first:.2f}\")\n",
    "av_psds_target_list =  np.mean(np.array(psds_target_list), axis=0)#считается усред PSD                             \n",
    "ax.plot(freqs,  av_psds_target_list, color='b')\n",
    "avr_PSD_variable_first = 10 * np.log10(av_psds_target_list.mean())#Считается усред PSD для принта \n",
    "df = pd.DataFrame({\"ID\": data_id, \"PSD\": data_variable_first})\n",
    "print(f'avr_PSD_variable_first = {avr_PSD_variable_first}')\n",
    "print(data_variable_first)\n",
    "print(data_id)\n",
    "print(df)\n",
    "df.to_excel('D:/all_eeg/mu_eeg/obrabot/общие графики/эпохи PSD для фракталов (С3(6-13Гц)).xlsx', index=False)\n",
    "\n",
    "#второе условие Название:   \n",
    "psds_target_list = []\n",
    "data_variable_second = []\n",
    "data_id_2 = []\n",
    "\n",
    "for i in range(len(ID_f_s_epoch)):\n",
    "    print(ID_f_s_epoch[i])\n",
    "    name = ID_f_s_epoch[i]\n",
    "    variable_second = mne.read_epochs(name, proj=True, preload=True, verbose=None)\n",
    "    spectrum = variable_second.compute_psd(method='welch', fmin=6, fmax=13, tmin=None, tmax=None, proj=False, n_jobs=1, verbose=None)\n",
    "    psds, freqs = spectrum.get_data(return_freqs=True)\n",
    "\n",
    "    # Find corresponding indices using mne.pick_types() \n",
    "    picks_roi_vis = mne.pick_types(variable_second.info, eeg=True, stim=False, exclude='bads', selection=[\"C3\"])\n",
    "    psds_mean=np.mean(psds, axis=0)   \n",
    "    psds_target = psds_mean[picks_roi_vis]\n",
    "    psd_variable_second = 10 * np.log10(psds_target.mean()) \n",
    "    ID_namber_2 = [ID_f_s_epoch[i]]\n",
    "    data_variable_second.append(psd_variable_second)\n",
    "    data_id_2.append(ID_namber_2)\n",
    "    print(ID_f_s_epoch[i], f'{psd_variable_second}')\n",
    "    \n",
    "    \n",
    "    psds_target_list.append(psds_target[0])\n",
    "    #ax.plot(freqs, psds_target[0], color='white', alpha=0.1, label=f\"PSD {ID[i]}_all_epochs_new_fractal_audio.fif: {psd_variable_second:.2f}\")\n",
    "av_psds_target_list =  np.mean(np.array(psds_target_list), axis=0)                              \n",
    "ax.plot(freqs,  av_psds_target_list, '--b')\n",
    "avr_PSD_variable_second = 10 * np.log10(av_psds_target_list.mean()) \n",
    "df = pd.DataFrame({\"ID\": data_id_2, \"PSD\": data_variable_second})\n",
    "print(f'avr_PSD_variable_second = {avr_PSD_variable_second}')\n",
    "print(data_variable_second)\n",
    "print(data_id_2)\n",
    "print(df)\n",
    "df.to_excel('D:/all_eeg/mu_eeg/obrabot/общие графики/эпохи PSD для фракталов с аудио (С3(6-13Гц)).xlsx', index=False)\n",
    "\n",
    "\n",
    "#третье условие Название:   \n",
    "\n",
    "os.chdir('D:/all_eeg/mu_eeg/chernovik_2/mu1_and_mu2_3-4_years_preprocecc/MU_hg_epoch (1)/MU_hg_epoch (1)/')\n",
    "psds_target_list = []\n",
    "data_variable_second = []\n",
    "data_id_3 = []\n",
    "\n",
    "for i in range(len(ID_PHC_epoch)):\n",
    "    print(ID_PHC_epoch[i])\n",
    "    name = ID_PHC_epoch[i]\n",
    "    variable_second = mne.read_epochs(name, proj=True, preload=True, verbose=None)\n",
    "    spectrum = variable_second.compute_psd(method='welch', fmin=6, fmax=13, tmin=None, tmax=None, proj=False, n_jobs=1, verbose=None)\n",
    "    psds, freqs = spectrum.get_data(return_freqs=True)\n",
    "\n",
    "    # Find corresponding indices using mne.pick_types() \n",
    "    picks_roi_vis = mne.pick_types(variable_second.info, eeg=True, stim=False, exclude='bads', selection=[\"C3\"])\n",
    "    psds_mean=np.mean(psds, axis=0)   \n",
    "    psds_target = psds_mean[picks_roi_vis]\n",
    "    psd_variable_second = 10 * np.log10(psds_target.mean()) \n",
    "    ID_namber_3 = [ID_PHC_epoch[i]]\n",
    "    data_variable_second.append(psd_variable_second)\n",
    "    data_id_3.append(ID_namber_3)\n",
    "    print(ID_PHC_epoch[i], f'{psd_variable_second}')\n",
    "    \n",
    "    \n",
    "    psds_target_list.append(psds_target[0])\n",
    "    #ax.plot(freqs, psds_target[0], color='white', alpha=0.1, label=f\"PSD {ID[i]}_all_epochs_new_fractal_audio.fif: {psd_variable_second:.2f}\")\n",
    "av_psds_target_list =  np.mean(np.array(psds_target_list), axis=0)                              \n",
    "ax.plot(freqs,  av_psds_target_list, 'g')\n",
    "avr_PSD_variable_second = 10 * np.log10(av_psds_target_list.mean()) \n",
    "df = pd.DataFrame({\"ID\": data_id_3, \"PSD\": data_variable_second})\n",
    "print(f'avr_PSD_variable_second = {avr_PSD_variable_second}')\n",
    "print(data_variable_second)\n",
    "print(data_id_3)\n",
    "print(df)\n",
    "df.to_excel('D:/all_eeg/mu_eeg/obrabot/общие графики/эпохи PSD пассивного сжатия руки(С3(6-13Гц)).xlsx', index=False)\n",
    "\n",
    "#четвертое условие Название:   \n",
    "\n",
    "psds_target_list = []\n",
    "data_variable_second = []\n",
    "data_id_4 = []\n",
    "\n",
    "for i in range(len(ID_CE_epoch)):\n",
    "    print(ID_CE_epoch[i])\n",
    "    name = ID_CE_epoch[i]\n",
    "    variable_second = mne.read_epochs(name, proj=True, preload=True, verbose=None)\n",
    "    spectrum = variable_second.compute_psd(method='welch', fmin=6, fmax=13, tmin=None, tmax=None, proj=False, n_jobs=1, verbose=None)\n",
    "    psds, freqs = spectrum.get_data(return_freqs=True)\n",
    "\n",
    "    # Find corresponding indices using mne.pick_types() \n",
    "    picks_roi_vis = mne.pick_types(variable_second.info, eeg=True, stim=False, exclude='bads', selection=[\"C3\"])\n",
    "    psds_mean=np.mean(psds, axis=0)   \n",
    "    psds_target = psds_mean[picks_roi_vis]\n",
    "    psd_variable_second = 10 * np.log10(psds_target.mean()) \n",
    "    ID_namber_4 = [ID_CE_epoch[i]]\n",
    "    data_variable_second.append(psd_variable_second)\n",
    "    data_id_4.append(ID_namber_4)\n",
    "    print(ID_CE_epoch[i], f'{psd_variable_second}')\n",
    "    \n",
    "    \n",
    "    psds_target_list.append(psds_target[0])\n",
    "    #ax.plot(freqs, psds_target[0], color='white', alpha=0.1, label=f\"PSD {ID[i]}_all_epochs_new_fractal_audio.fif: {psd_variable_second:.2f}\")\n",
    "av_psds_target_list =  np.mean(np.array(psds_target_list), axis=0)                              \n",
    "ax.plot(freqs,  av_psds_target_list, 'k')\n",
    "avr_PSD_variable_second = 10 * np.log10(av_psds_target_list.mean()) \n",
    "df = pd.DataFrame({\"ID\": data_id_4, \"PSD\": data_variable_second})\n",
    "print(f'avr_PSD_variable_second = {avr_PSD_variable_second}')\n",
    "print(data_variable_second)\n",
    "print(data_id_4)\n",
    "print(df)\n",
    "df.to_excel('D:/all_eeg/mu_eeg/obrabot/общие графики/эпохи PSD закрытые глаза(С3(6-13Гц)).xlsx', index=False)\n",
    "\n",
    "# выводим легенду и оси\n",
    "ax.legend()\n",
    "ax.set_xlabel('Freguency (Hz)')\n",
    "ax.set_ylabel('PSD (fT/cm)^2/Hz (dB)')\n",
    "ax.set_title(f'PSD для 4 условий,С4(6-13Гц),{len(ID_f_b_epoch)} человек. avr_PSD_var_first = {avr_PSD_variable_first}, avr_PSD_var_second  = {avr_PSD_variable_second}')\n",
    "ax.grid(True)\n",
    "\n",
    "plt.show()\n"
   ]
  },
  {
   "cell_type": "code",
   "execution_count": null,
   "id": "7c9a3ae0",
   "metadata": {},
   "outputs": [],
   "source": [
    "#для другого условия "
   ]
  },
  {
   "cell_type": "code",
   "execution_count": 54,
   "id": "4275ab8e",
   "metadata": {},
   "outputs": [
    {
     "name": "stdout",
     "output_type": "stream",
     "text": [
      "NP042303_NL_2_fractal_before_epoch.fif\n",
      "Reading D:\\all_eeg\\mu_eeg\\chernovik_2\\NL_2_3-4_years_preprocecc\\NL2_hg_epoch\\NL2_hg_epoch\\NP042303_NL_2_fractal_before_epoch.fif ...\n",
      "    Found the data of interest:\n",
      "        t =       0.00 ...    1998.00 ms\n",
      "        0 CTF compensation matrices available\n",
      "Not setting metadata\n",
      "22 matching events found\n",
      "No baseline correction applied\n",
      "0 projection items activated\n",
      "Effective window size : 2.000 (s)\n",
      "NP042303_NL_2_fractal_before_epoch.fif -117.35217362981794\n",
      "NP042304_NL_2_fractal_before_epoch.fif\n",
      "Reading D:\\all_eeg\\mu_eeg\\chernovik_2\\NL_2_3-4_years_preprocecc\\NL2_hg_epoch\\NL2_hg_epoch\\NP042304_NL_2_fractal_before_epoch.fif ...\n",
      "    Found the data of interest:\n",
      "        t =       0.00 ...    1998.00 ms\n",
      "        0 CTF compensation matrices available\n",
      "Not setting metadata\n",
      "15 matching events found\n",
      "No baseline correction applied\n",
      "0 projection items activated\n",
      "Effective window size : 2.000 (s)\n",
      "NP042304_NL_2_fractal_before_epoch.fif -115.10158816284589\n",
      "NP042306_NL_2_fractal_before_epoch.fif\n"
     ]
    },
    {
     "name": "stderr",
     "output_type": "stream",
     "text": [
      "C:\\Users\\chuba\\AppData\\Local\\Temp\\ipykernel_4080\\2790341650.py:14: RuntimeWarning: This filename (NP042303_NL_2_fractal_before_epoch.fif) does not conform to MNE naming conventions. All epochs files should end with -epo.fif, -epo.fif.gz, _epo.fif or _epo.fif.gz\n",
      "  variable_first = mne.read_epochs(name, proj=True, preload=True, verbose=None)#читаем запись\n",
      "C:\\Users\\chuba\\AppData\\Local\\Temp\\ipykernel_4080\\2790341650.py:14: RuntimeWarning: This filename (NP042304_NL_2_fractal_before_epoch.fif) does not conform to MNE naming conventions. All epochs files should end with -epo.fif, -epo.fif.gz, _epo.fif or _epo.fif.gz\n",
      "  variable_first = mne.read_epochs(name, proj=True, preload=True, verbose=None)#читаем запись\n",
      "C:\\Users\\chuba\\AppData\\Local\\Temp\\ipykernel_4080\\2790341650.py:14: RuntimeWarning: This filename (NP042306_NL_2_fractal_before_epoch.fif) does not conform to MNE naming conventions. All epochs files should end with -epo.fif, -epo.fif.gz, _epo.fif or _epo.fif.gz\n",
      "  variable_first = mne.read_epochs(name, proj=True, preload=True, verbose=None)#читаем запись\n"
     ]
    },
    {
     "name": "stdout",
     "output_type": "stream",
     "text": [
      "Reading D:\\all_eeg\\mu_eeg\\chernovik_2\\NL_2_3-4_years_preprocecc\\NL2_hg_epoch\\NL2_hg_epoch\\NP042306_NL_2_fractal_before_epoch.fif ...\n",
      "    Found the data of interest:\n",
      "        t =       0.00 ...    1998.00 ms\n",
      "        0 CTF compensation matrices available\n",
      "Not setting metadata\n",
      "22 matching events found\n",
      "No baseline correction applied\n",
      "0 projection items activated\n",
      "Effective window size : 2.000 (s)\n",
      "NP042306_NL_2_fractal_before_epoch.fif -113.40726301986311\n",
      "NP042307_NL_2_fractal_before_epoch.fif\n",
      "Reading D:\\all_eeg\\mu_eeg\\chernovik_2\\NL_2_3-4_years_preprocecc\\NL2_hg_epoch\\NL2_hg_epoch\\NP042307_NL_2_fractal_before_epoch.fif ...\n",
      "    Found the data of interest:\n",
      "        t =       0.00 ...    1998.00 ms\n",
      "        0 CTF compensation matrices available\n",
      "Not setting metadata\n",
      "19 matching events found\n",
      "No baseline correction applied\n",
      "0 projection items activated\n",
      "Effective window size : 2.000 (s)\n",
      "NP042307_NL_2_fractal_before_epoch.fif -114.25236397176658\n",
      "NP042309_NL_2_fractal_before_epoch.fif\n",
      "Reading D:\\all_eeg\\mu_eeg\\chernovik_2\\NL_2_3-4_years_preprocecc\\NL2_hg_epoch\\NL2_hg_epoch\\NP042309_NL_2_fractal_before_epoch.fif ...\n",
      "    Found the data of interest:\n",
      "        t =       0.00 ...    1998.00 ms\n",
      "        0 CTF compensation matrices available\n",
      "Not setting metadata\n",
      "13 matching events found\n",
      "No baseline correction applied\n",
      "0 projection items activated\n",
      "Effective window size : 2.000 (s)\n",
      "NP042309_NL_2_fractal_before_epoch.fif -118.38706832685236\n",
      "NP042317_NL_2_fractal_before_epoch.fif\n",
      "Reading D:\\all_eeg\\mu_eeg\\chernovik_2\\NL_2_3-4_years_preprocecc\\NL2_hg_epoch\\NL2_hg_epoch\\NP042317_NL_2_fractal_before_epoch.fif ...\n",
      "    Found the data of interest:\n",
      "        t =       0.00 ...    1998.00 ms\n",
      "        0 CTF compensation matrices available\n",
      "Not setting metadata\n",
      "22 matching events found\n"
     ]
    },
    {
     "name": "stderr",
     "output_type": "stream",
     "text": [
      "C:\\Users\\chuba\\AppData\\Local\\Temp\\ipykernel_4080\\2790341650.py:14: RuntimeWarning: This filename (NP042307_NL_2_fractal_before_epoch.fif) does not conform to MNE naming conventions. All epochs files should end with -epo.fif, -epo.fif.gz, _epo.fif or _epo.fif.gz\n",
      "  variable_first = mne.read_epochs(name, proj=True, preload=True, verbose=None)#читаем запись\n",
      "C:\\Users\\chuba\\AppData\\Local\\Temp\\ipykernel_4080\\2790341650.py:14: RuntimeWarning: This filename (NP042309_NL_2_fractal_before_epoch.fif) does not conform to MNE naming conventions. All epochs files should end with -epo.fif, -epo.fif.gz, _epo.fif or _epo.fif.gz\n",
      "  variable_first = mne.read_epochs(name, proj=True, preload=True, verbose=None)#читаем запись\n",
      "C:\\Users\\chuba\\AppData\\Local\\Temp\\ipykernel_4080\\2790341650.py:14: RuntimeWarning: This filename (NP042317_NL_2_fractal_before_epoch.fif) does not conform to MNE naming conventions. All epochs files should end with -epo.fif, -epo.fif.gz, _epo.fif or _epo.fif.gz\n",
      "  variable_first = mne.read_epochs(name, proj=True, preload=True, verbose=None)#читаем запись\n"
     ]
    },
    {
     "name": "stdout",
     "output_type": "stream",
     "text": [
      "No baseline correction applied\n",
      "0 projection items activated\n",
      "Effective window size : 2.000 (s)\n",
      "NP042317_NL_2_fractal_before_epoch.fif -113.91844137350205\n",
      "NP042331_NL_2_fractal_before_epoch.fif\n",
      "Reading D:\\all_eeg\\mu_eeg\\chernovik_2\\NL_2_3-4_years_preprocecc\\NL2_hg_epoch\\NL2_hg_epoch\\NP042331_NL_2_fractal_before_epoch.fif ...\n",
      "    Found the data of interest:\n",
      "        t =       0.00 ...    1998.00 ms\n",
      "        0 CTF compensation matrices available\n",
      "Not setting metadata\n",
      "22 matching events found\n",
      "No baseline correction applied\n",
      "0 projection items activated\n",
      "Effective window size : 2.000 (s)\n",
      "NP042331_NL_2_fractal_before_epoch.fif -113.92332534347108\n",
      "NP052310_NL_2_fractal_before_epoch.fif\n",
      "Reading D:\\all_eeg\\mu_eeg\\chernovik_2\\NL_2_3-4_years_preprocecc\\NL2_hg_epoch\\NL2_hg_epoch\\NP052310_NL_2_fractal_before_epoch.fif ...\n",
      "    Found the data of interest:\n",
      "        t =       0.00 ...    1998.00 ms\n",
      "        0 CTF compensation matrices available\n",
      "Not setting metadata\n",
      "15 matching events found\n",
      "No baseline correction applied\n",
      "0 projection items activated\n",
      "Effective window size : 2.000 (s)\n",
      "NP052310_NL_2_fractal_before_epoch.fif -111.55646384107358\n",
      "NP052315_NL_2_fractal_before_epoch.fif\n"
     ]
    },
    {
     "name": "stderr",
     "output_type": "stream",
     "text": [
      "C:\\Users\\chuba\\AppData\\Local\\Temp\\ipykernel_4080\\2790341650.py:14: RuntimeWarning: This filename (NP042331_NL_2_fractal_before_epoch.fif) does not conform to MNE naming conventions. All epochs files should end with -epo.fif, -epo.fif.gz, _epo.fif or _epo.fif.gz\n",
      "  variable_first = mne.read_epochs(name, proj=True, preload=True, verbose=None)#читаем запись\n",
      "C:\\Users\\chuba\\AppData\\Local\\Temp\\ipykernel_4080\\2790341650.py:14: RuntimeWarning: This filename (NP052310_NL_2_fractal_before_epoch.fif) does not conform to MNE naming conventions. All epochs files should end with -epo.fif, -epo.fif.gz, _epo.fif or _epo.fif.gz\n",
      "  variable_first = mne.read_epochs(name, proj=True, preload=True, verbose=None)#читаем запись\n",
      "C:\\Users\\chuba\\AppData\\Local\\Temp\\ipykernel_4080\\2790341650.py:14: RuntimeWarning: This filename (NP052315_NL_2_fractal_before_epoch.fif) does not conform to MNE naming conventions. All epochs files should end with -epo.fif, -epo.fif.gz, _epo.fif or _epo.fif.gz\n",
      "  variable_first = mne.read_epochs(name, proj=True, preload=True, verbose=None)#читаем запись\n"
     ]
    },
    {
     "name": "stdout",
     "output_type": "stream",
     "text": [
      "Reading D:\\all_eeg\\mu_eeg\\chernovik_2\\NL_2_3-4_years_preprocecc\\NL2_hg_epoch\\NL2_hg_epoch\\NP052315_NL_2_fractal_before_epoch.fif ...\n",
      "    Found the data of interest:\n",
      "        t =       0.00 ...    1998.00 ms\n",
      "        0 CTF compensation matrices available\n",
      "Not setting metadata\n",
      "15 matching events found\n",
      "No baseline correction applied\n",
      "0 projection items activated\n",
      "Effective window size : 2.000 (s)\n",
      "NP052315_NL_2_fractal_before_epoch.fif -111.58492335737637\n",
      "NP062306_NL_2_fractal_before_epoch.fif\n",
      "Reading D:\\all_eeg\\mu_eeg\\chernovik_2\\NL_2_3-4_years_preprocecc\\NL2_hg_epoch\\NL2_hg_epoch\\NP062306_NL_2_fractal_before_epoch.fif ...\n",
      "    Found the data of interest:\n",
      "        t =       0.00 ...    1998.00 ms\n",
      "        0 CTF compensation matrices available\n",
      "Not setting metadata\n",
      "15 matching events found\n",
      "No baseline correction applied\n",
      "0 projection items activated\n",
      "Effective window size : 2.000 (s)\n",
      "NP062306_NL_2_fractal_before_epoch.fif -115.36653997685454\n",
      "NP112314_NL_2_fractal_before_epoch.fif\n",
      "Reading D:\\all_eeg\\mu_eeg\\chernovik_2\\NL_2_3-4_years_preprocecc\\NL2_hg_epoch\\NL2_hg_epoch\\NP112314_NL_2_fractal_before_epoch.fif ...\n",
      "    Found the data of interest:\n",
      "        t =       0.00 ...    1998.00 ms\n",
      "        0 CTF compensation matrices available\n",
      "Not setting metadata\n",
      "21 matching events found\n",
      "No baseline correction applied\n",
      "0 projection items activated\n",
      "Effective window size : 2.000 (s)\n"
     ]
    },
    {
     "name": "stderr",
     "output_type": "stream",
     "text": [
      "C:\\Users\\chuba\\AppData\\Local\\Temp\\ipykernel_4080\\2790341650.py:14: RuntimeWarning: This filename (NP062306_NL_2_fractal_before_epoch.fif) does not conform to MNE naming conventions. All epochs files should end with -epo.fif, -epo.fif.gz, _epo.fif or _epo.fif.gz\n",
      "  variable_first = mne.read_epochs(name, proj=True, preload=True, verbose=None)#читаем запись\n",
      "C:\\Users\\chuba\\AppData\\Local\\Temp\\ipykernel_4080\\2790341650.py:14: RuntimeWarning: This filename (NP112314_NL_2_fractal_before_epoch.fif) does not conform to MNE naming conventions. All epochs files should end with -epo.fif, -epo.fif.gz, _epo.fif or _epo.fif.gz\n",
      "  variable_first = mne.read_epochs(name, proj=True, preload=True, verbose=None)#читаем запись\n",
      "C:\\Users\\chuba\\AppData\\Local\\Temp\\ipykernel_4080\\2790341650.py:14: RuntimeWarning: This filename (NP112317_NL_2_fractal_before_epoch.fif) does not conform to MNE naming conventions. All epochs files should end with -epo.fif, -epo.fif.gz, _epo.fif or _epo.fif.gz\n",
      "  variable_first = mne.read_epochs(name, proj=True, preload=True, verbose=None)#читаем запись\n"
     ]
    },
    {
     "name": "stdout",
     "output_type": "stream",
     "text": [
      "NP112314_NL_2_fractal_before_epoch.fif -115.72106340801832\n",
      "NP112317_NL_2_fractal_before_epoch.fif\n",
      "Reading D:\\all_eeg\\mu_eeg\\chernovik_2\\NL_2_3-4_years_preprocecc\\NL2_hg_epoch\\NL2_hg_epoch\\NP112317_NL_2_fractal_before_epoch.fif ...\n",
      "    Found the data of interest:\n",
      "        t =       0.00 ...    1998.00 ms\n",
      "        0 CTF compensation matrices available\n",
      "Not setting metadata\n",
      "22 matching events found\n",
      "No baseline correction applied\n",
      "0 projection items activated\n",
      "Effective window size : 2.000 (s)\n",
      "NP112317_NL_2_fractal_before_epoch.fif -114.23178206840078\n",
      "NP112318_NL_2_fractal_before_epoch.fif\n",
      "Reading D:\\all_eeg\\mu_eeg\\chernovik_2\\NL_2_3-4_years_preprocecc\\NL2_hg_epoch\\NL2_hg_epoch\\NP112318_NL_2_fractal_before_epoch.fif ...\n",
      "    Found the data of interest:\n",
      "        t =       0.00 ...    1998.00 ms\n",
      "        0 CTF compensation matrices available\n",
      "Not setting metadata\n",
      "22 matching events found\n",
      "No baseline correction applied\n",
      "0 projection items activated\n",
      "Effective window size : 2.000 (s)\n",
      "NP112318_NL_2_fractal_before_epoch.fif -113.40110450482818\n",
      "NP112321_NL_2_fractal_before_epoch.fif\n",
      "Reading D:\\all_eeg\\mu_eeg\\chernovik_2\\NL_2_3-4_years_preprocecc\\NL2_hg_epoch\\NL2_hg_epoch\\NP112321_NL_2_fractal_before_epoch.fif ...\n",
      "    Found the data of interest:\n",
      "        t =       0.00 ...    1998.00 ms\n",
      "        0 CTF compensation matrices available\n",
      "Not setting metadata\n",
      "14 matching events found\n"
     ]
    },
    {
     "name": "stderr",
     "output_type": "stream",
     "text": [
      "C:\\Users\\chuba\\AppData\\Local\\Temp\\ipykernel_4080\\2790341650.py:14: RuntimeWarning: This filename (NP112318_NL_2_fractal_before_epoch.fif) does not conform to MNE naming conventions. All epochs files should end with -epo.fif, -epo.fif.gz, _epo.fif or _epo.fif.gz\n",
      "  variable_first = mne.read_epochs(name, proj=True, preload=True, verbose=None)#читаем запись\n",
      "C:\\Users\\chuba\\AppData\\Local\\Temp\\ipykernel_4080\\2790341650.py:14: RuntimeWarning: This filename (NP112321_NL_2_fractal_before_epoch.fif) does not conform to MNE naming conventions. All epochs files should end with -epo.fif, -epo.fif.gz, _epo.fif or _epo.fif.gz\n",
      "  variable_first = mne.read_epochs(name, proj=True, preload=True, verbose=None)#читаем запись\n"
     ]
    },
    {
     "name": "stdout",
     "output_type": "stream",
     "text": [
      "No baseline correction applied\n",
      "0 projection items activated\n",
      "Effective window size : 2.000 (s)\n",
      "NP112321_NL_2_fractal_before_epoch.fif -117.76708936473716\n",
      "avr_PSD_variable_first = -114.2730929281704\n",
      "[-117.35217362981794, -115.10158816284589, -113.40726301986311, -114.25236397176658, -118.38706832685236, -113.91844137350205, -113.92332534347108, -111.55646384107358, -111.58492335737637, -115.36653997685454, -115.72106340801832, -114.23178206840078, -113.40110450482818, -117.76708936473716]\n",
      "[['NP042303_NL_2_fractal_before_epoch.fif'], ['NP042304_NL_2_fractal_before_epoch.fif'], ['NP042306_NL_2_fractal_before_epoch.fif'], ['NP042307_NL_2_fractal_before_epoch.fif'], ['NP042309_NL_2_fractal_before_epoch.fif'], ['NP042317_NL_2_fractal_before_epoch.fif'], ['NP042331_NL_2_fractal_before_epoch.fif'], ['NP052310_NL_2_fractal_before_epoch.fif'], ['NP052315_NL_2_fractal_before_epoch.fif'], ['NP062306_NL_2_fractal_before_epoch.fif'], ['NP112314_NL_2_fractal_before_epoch.fif'], ['NP112317_NL_2_fractal_before_epoch.fif'], ['NP112318_NL_2_fractal_before_epoch.fif'], ['NP112321_NL_2_fractal_before_epoch.fif']]\n",
      "                                          ID         PSD\n",
      "0   [NP042303_NL_2_fractal_before_epoch.fif] -117.352174\n",
      "1   [NP042304_NL_2_fractal_before_epoch.fif] -115.101588\n",
      "2   [NP042306_NL_2_fractal_before_epoch.fif] -113.407263\n",
      "3   [NP042307_NL_2_fractal_before_epoch.fif] -114.252364\n",
      "4   [NP042309_NL_2_fractal_before_epoch.fif] -118.387068\n",
      "5   [NP042317_NL_2_fractal_before_epoch.fif] -113.918441\n",
      "6   [NP042331_NL_2_fractal_before_epoch.fif] -113.923325\n",
      "7   [NP052310_NL_2_fractal_before_epoch.fif] -111.556464\n",
      "8   [NP052315_NL_2_fractal_before_epoch.fif] -111.584923\n",
      "9   [NP062306_NL_2_fractal_before_epoch.fif] -115.366540\n",
      "10  [NP112314_NL_2_fractal_before_epoch.fif] -115.721063\n",
      "11  [NP112317_NL_2_fractal_before_epoch.fif] -114.231782\n",
      "12  [NP112318_NL_2_fractal_before_epoch.fif] -113.401105\n",
      "13  [NP112321_NL_2_fractal_before_epoch.fif] -117.767089\n",
      "NP042303_NL_2_fractal_story_epoch.fif\n",
      "Reading D:\\all_eeg\\mu_eeg\\chernovik_2\\NL_2_3-4_years_preprocecc\\NL2_hg_epoch\\NL2_hg_epoch\\NP042303_NL_2_fractal_story_epoch.fif ...\n",
      "    Found the data of interest:\n",
      "        t =       0.00 ...    1998.00 ms\n",
      "        0 CTF compensation matrices available\n",
      "Not setting metadata\n",
      "29 matching events found\n",
      "No baseline correction applied\n",
      "0 projection items activated\n",
      "Effective window size : 2.000 (s)\n",
      "NP042303_NL_2_fractal_story_epoch.fif -117.34722237600297\n",
      "NP042304_NL_2_fractal_story_epoch.fif\n",
      "Reading D:\\all_eeg\\mu_eeg\\chernovik_2\\NL_2_3-4_years_preprocecc\\NL2_hg_epoch\\NL2_hg_epoch\\NP042304_NL_2_fractal_story_epoch.fif ...\n",
      "    Found the data of interest:\n"
     ]
    },
    {
     "name": "stderr",
     "output_type": "stream",
     "text": [
      "C:\\Users\\chuba\\AppData\\Local\\Temp\\ipykernel_4080\\2790341650.py:49: RuntimeWarning: This filename (NP042303_NL_2_fractal_story_epoch.fif) does not conform to MNE naming conventions. All epochs files should end with -epo.fif, -epo.fif.gz, _epo.fif or _epo.fif.gz\n",
      "  variable_second = mne.read_epochs(name, proj=True, preload=True, verbose=None)\n",
      "C:\\Users\\chuba\\AppData\\Local\\Temp\\ipykernel_4080\\2790341650.py:49: RuntimeWarning: This filename (NP042304_NL_2_fractal_story_epoch.fif) does not conform to MNE naming conventions. All epochs files should end with -epo.fif, -epo.fif.gz, _epo.fif or _epo.fif.gz\n",
      "  variable_second = mne.read_epochs(name, proj=True, preload=True, verbose=None)\n"
     ]
    },
    {
     "name": "stdout",
     "output_type": "stream",
     "text": [
      "        t =       0.00 ...    1998.00 ms\n",
      "        0 CTF compensation matrices available\n",
      "Not setting metadata\n",
      "14 matching events found\n",
      "No baseline correction applied\n",
      "0 projection items activated\n",
      "Effective window size : 2.000 (s)\n",
      "NP042304_NL_2_fractal_story_epoch.fif -114.81179909396349\n",
      "NP042306_NL_2_fractal_story_epoch.fif\n",
      "Reading D:\\all_eeg\\mu_eeg\\chernovik_2\\NL_2_3-4_years_preprocecc\\NL2_hg_epoch\\NL2_hg_epoch\\NP042306_NL_2_fractal_story_epoch.fif ...\n",
      "    Found the data of interest:\n",
      "        t =       0.00 ...    1998.00 ms\n",
      "        0 CTF compensation matrices available\n",
      "Not setting metadata\n",
      "29 matching events found\n",
      "No baseline correction applied\n",
      "0 projection items activated\n",
      "Effective window size : 2.000 (s)\n",
      "NP042306_NL_2_fractal_story_epoch.fif -113.53711993711939\n",
      "NP042307_NL_2_fractal_story_epoch.fif\n",
      "Reading D:\\all_eeg\\mu_eeg\\chernovik_2\\NL_2_3-4_years_preprocecc\\NL2_hg_epoch\\NL2_hg_epoch\\NP042307_NL_2_fractal_story_epoch.fif ...\n",
      "    Found the data of interest:\n",
      "        t =       0.00 ...    1998.00 ms\n",
      "        0 CTF compensation matrices available\n",
      "Not setting metadata\n",
      "26 matching events found\n",
      "No baseline correction applied\n",
      "0 projection items activated\n"
     ]
    },
    {
     "name": "stderr",
     "output_type": "stream",
     "text": [
      "C:\\Users\\chuba\\AppData\\Local\\Temp\\ipykernel_4080\\2790341650.py:49: RuntimeWarning: This filename (NP042306_NL_2_fractal_story_epoch.fif) does not conform to MNE naming conventions. All epochs files should end with -epo.fif, -epo.fif.gz, _epo.fif or _epo.fif.gz\n",
      "  variable_second = mne.read_epochs(name, proj=True, preload=True, verbose=None)\n",
      "C:\\Users\\chuba\\AppData\\Local\\Temp\\ipykernel_4080\\2790341650.py:49: RuntimeWarning: This filename (NP042307_NL_2_fractal_story_epoch.fif) does not conform to MNE naming conventions. All epochs files should end with -epo.fif, -epo.fif.gz, _epo.fif or _epo.fif.gz\n",
      "  variable_second = mne.read_epochs(name, proj=True, preload=True, verbose=None)\n"
     ]
    },
    {
     "name": "stdout",
     "output_type": "stream",
     "text": [
      "Effective window size : 2.000 (s)\n",
      "NP042307_NL_2_fractal_story_epoch.fif -113.98099226293428\n",
      "NP042309_NL_2_fractal_story_epoch.fif\n",
      "Reading D:\\all_eeg\\mu_eeg\\chernovik_2\\NL_2_3-4_years_preprocecc\\NL2_hg_epoch\\NL2_hg_epoch\\NP042309_NL_2_fractal_story_epoch.fif ...\n",
      "    Found the data of interest:\n",
      "        t =       0.00 ...    1998.00 ms\n",
      "        0 CTF compensation matrices available\n",
      "Not setting metadata\n",
      "19 matching events found\n",
      "No baseline correction applied\n",
      "0 projection items activated\n",
      "Effective window size : 2.000 (s)\n",
      "NP042309_NL_2_fractal_story_epoch.fif -118.34531716462116\n",
      "NP042317_NL_2_fractal_story_epoch.fif\n",
      "Reading D:\\all_eeg\\mu_eeg\\chernovik_2\\NL_2_3-4_years_preprocecc\\NL2_hg_epoch\\NL2_hg_epoch\\NP042317_NL_2_fractal_story_epoch.fif ...\n",
      "    Found the data of interest:\n",
      "        t =       0.00 ...    1998.00 ms\n",
      "        0 CTF compensation matrices available\n",
      "Not setting metadata\n",
      "29 matching events found\n",
      "No baseline correction applied\n",
      "0 projection items activated\n",
      "Effective window size : 2.000 (s)\n"
     ]
    },
    {
     "name": "stderr",
     "output_type": "stream",
     "text": [
      "C:\\Users\\chuba\\AppData\\Local\\Temp\\ipykernel_4080\\2790341650.py:49: RuntimeWarning: This filename (NP042309_NL_2_fractal_story_epoch.fif) does not conform to MNE naming conventions. All epochs files should end with -epo.fif, -epo.fif.gz, _epo.fif or _epo.fif.gz\n",
      "  variable_second = mne.read_epochs(name, proj=True, preload=True, verbose=None)\n",
      "C:\\Users\\chuba\\AppData\\Local\\Temp\\ipykernel_4080\\2790341650.py:49: RuntimeWarning: This filename (NP042317_NL_2_fractal_story_epoch.fif) does not conform to MNE naming conventions. All epochs files should end with -epo.fif, -epo.fif.gz, _epo.fif or _epo.fif.gz\n",
      "  variable_second = mne.read_epochs(name, proj=True, preload=True, verbose=None)\n"
     ]
    },
    {
     "name": "stdout",
     "output_type": "stream",
     "text": [
      "NP042317_NL_2_fractal_story_epoch.fif -114.43286126533815\n",
      "NP042331_NL_2_fractal_story_epoch.fif\n",
      "Reading D:\\all_eeg\\mu_eeg\\chernovik_2\\NL_2_3-4_years_preprocecc\\NL2_hg_epoch\\NL2_hg_epoch\\NP042331_NL_2_fractal_story_epoch.fif ...\n",
      "    Found the data of interest:\n",
      "        t =       0.00 ...    1998.00 ms\n",
      "        0 CTF compensation matrices available\n",
      "Not setting metadata\n",
      "29 matching events found\n",
      "No baseline correction applied\n",
      "0 projection items activated\n",
      "Effective window size : 2.000 (s)\n",
      "NP042331_NL_2_fractal_story_epoch.fif -113.8457049196311\n",
      "NP052310_NL_2_fractal_story_epoch.fif\n",
      "Reading D:\\all_eeg\\mu_eeg\\chernovik_2\\NL_2_3-4_years_preprocecc\\NL2_hg_epoch\\NL2_hg_epoch\\NP052310_NL_2_fractal_story_epoch.fif ...\n",
      "    Found the data of interest:\n"
     ]
    },
    {
     "name": "stderr",
     "output_type": "stream",
     "text": [
      "C:\\Users\\chuba\\AppData\\Local\\Temp\\ipykernel_4080\\2790341650.py:49: RuntimeWarning: This filename (NP042331_NL_2_fractal_story_epoch.fif) does not conform to MNE naming conventions. All epochs files should end with -epo.fif, -epo.fif.gz, _epo.fif or _epo.fif.gz\n",
      "  variable_second = mne.read_epochs(name, proj=True, preload=True, verbose=None)\n",
      "C:\\Users\\chuba\\AppData\\Local\\Temp\\ipykernel_4080\\2790341650.py:49: RuntimeWarning: This filename (NP052310_NL_2_fractal_story_epoch.fif) does not conform to MNE naming conventions. All epochs files should end with -epo.fif, -epo.fif.gz, _epo.fif or _epo.fif.gz\n",
      "  variable_second = mne.read_epochs(name, proj=True, preload=True, verbose=None)\n"
     ]
    },
    {
     "name": "stdout",
     "output_type": "stream",
     "text": [
      "        t =       0.00 ...    1998.00 ms\n",
      "        0 CTF compensation matrices available\n",
      "Not setting metadata\n",
      "14 matching events found\n",
      "No baseline correction applied\n",
      "0 projection items activated\n",
      "Effective window size : 2.000 (s)\n",
      "NP052310_NL_2_fractal_story_epoch.fif -110.89474277767393\n",
      "NP052315_NL_2_fractal_story_epoch.fif\n",
      "Reading D:\\all_eeg\\mu_eeg\\chernovik_2\\NL_2_3-4_years_preprocecc\\NL2_hg_epoch\\NL2_hg_epoch\\NP052315_NL_2_fractal_story_epoch.fif ...\n",
      "    Found the data of interest:\n",
      "        t =       0.00 ...    1998.00 ms\n",
      "        0 CTF compensation matrices available\n",
      "Not setting metadata\n",
      "14 matching events found\n",
      "No baseline correction applied\n",
      "0 projection items activated\n",
      "Effective window size : 2.000 (s)\n",
      "NP052315_NL_2_fractal_story_epoch.fif -112.99016358882348\n",
      "NP062306_NL_2_fractal_story_epoch.fif\n",
      "Reading D:\\all_eeg\\mu_eeg\\chernovik_2\\NL_2_3-4_years_preprocecc\\NL2_hg_epoch\\NL2_hg_epoch\\NP062306_NL_2_fractal_story_epoch.fif ...\n",
      "    Found the data of interest:\n",
      "        t =       0.00 ...    1998.00 ms\n",
      "        0 CTF compensation matrices available\n",
      "Not setting metadata\n",
      "14 matching events found\n",
      "No baseline correction applied\n",
      "0 projection items activated\n",
      "Effective window size : 2.000 (s)\n",
      "NP062306_NL_2_fractal_story_epoch.fif -116.35116843831847\n",
      "NP112314_NL_2_fractal_story_epoch.fif\n",
      "Reading D:\\all_eeg\\mu_eeg\\chernovik_2\\NL_2_3-4_years_preprocecc\\NL2_hg_epoch\\NL2_hg_epoch\\NP112314_NL_2_fractal_story_epoch.fif ...\n"
     ]
    },
    {
     "name": "stderr",
     "output_type": "stream",
     "text": [
      "C:\\Users\\chuba\\AppData\\Local\\Temp\\ipykernel_4080\\2790341650.py:49: RuntimeWarning: This filename (NP052315_NL_2_fractal_story_epoch.fif) does not conform to MNE naming conventions. All epochs files should end with -epo.fif, -epo.fif.gz, _epo.fif or _epo.fif.gz\n",
      "  variable_second = mne.read_epochs(name, proj=True, preload=True, verbose=None)\n",
      "C:\\Users\\chuba\\AppData\\Local\\Temp\\ipykernel_4080\\2790341650.py:49: RuntimeWarning: This filename (NP062306_NL_2_fractal_story_epoch.fif) does not conform to MNE naming conventions. All epochs files should end with -epo.fif, -epo.fif.gz, _epo.fif or _epo.fif.gz\n",
      "  variable_second = mne.read_epochs(name, proj=True, preload=True, verbose=None)\n",
      "C:\\Users\\chuba\\AppData\\Local\\Temp\\ipykernel_4080\\2790341650.py:49: RuntimeWarning: This filename (NP112314_NL_2_fractal_story_epoch.fif) does not conform to MNE naming conventions. All epochs files should end with -epo.fif, -epo.fif.gz, _epo.fif or _epo.fif.gz\n",
      "  variable_second = mne.read_epochs(name, proj=True, preload=True, verbose=None)\n"
     ]
    },
    {
     "name": "stdout",
     "output_type": "stream",
     "text": [
      "    Found the data of interest:\n",
      "        t =       0.00 ...    1998.00 ms\n",
      "        0 CTF compensation matrices available\n",
      "Not setting metadata\n",
      "29 matching events found\n",
      "No baseline correction applied\n",
      "0 projection items activated\n",
      "Effective window size : 2.000 (s)\n",
      "NP112314_NL_2_fractal_story_epoch.fif -115.852906906332\n",
      "NP112317_NL_2_fractal_story_epoch.fif\n",
      "Reading D:\\all_eeg\\mu_eeg\\chernovik_2\\NL_2_3-4_years_preprocecc\\NL2_hg_epoch\\NL2_hg_epoch\\NP112317_NL_2_fractal_story_epoch.fif ...\n",
      "    Found the data of interest:\n",
      "        t =       0.00 ...    1998.00 ms\n",
      "        0 CTF compensation matrices available\n",
      "Not setting metadata\n",
      "29 matching events found\n",
      "No baseline correction applied\n",
      "0 projection items activated\n",
      "Effective window size : 2.000 (s)\n",
      "NP112317_NL_2_fractal_story_epoch.fif -114.1743964163051\n",
      "NP112318_NL_2_fractal_story_epoch.fif\n",
      "Reading D:\\all_eeg\\mu_eeg\\chernovik_2\\NL_2_3-4_years_preprocecc\\NL2_hg_epoch\\NL2_hg_epoch\\NP112318_NL_2_fractal_story_epoch.fif ...\n",
      "    Found the data of interest:\n"
     ]
    },
    {
     "name": "stderr",
     "output_type": "stream",
     "text": [
      "C:\\Users\\chuba\\AppData\\Local\\Temp\\ipykernel_4080\\2790341650.py:49: RuntimeWarning: This filename (NP112317_NL_2_fractal_story_epoch.fif) does not conform to MNE naming conventions. All epochs files should end with -epo.fif, -epo.fif.gz, _epo.fif or _epo.fif.gz\n",
      "  variable_second = mne.read_epochs(name, proj=True, preload=True, verbose=None)\n",
      "C:\\Users\\chuba\\AppData\\Local\\Temp\\ipykernel_4080\\2790341650.py:49: RuntimeWarning: This filename (NP112318_NL_2_fractal_story_epoch.fif) does not conform to MNE naming conventions. All epochs files should end with -epo.fif, -epo.fif.gz, _epo.fif or _epo.fif.gz\n",
      "  variable_second = mne.read_epochs(name, proj=True, preload=True, verbose=None)\n"
     ]
    },
    {
     "name": "stdout",
     "output_type": "stream",
     "text": [
      "        t =       0.00 ...    1998.00 ms\n",
      "        0 CTF compensation matrices available\n",
      "Not setting metadata\n",
      "29 matching events found\n",
      "No baseline correction applied\n",
      "0 projection items activated\n",
      "Effective window size : 2.000 (s)\n",
      "NP112318_NL_2_fractal_story_epoch.fif -113.88987006659876\n",
      "NP112321_NL_2_fractal_story_epoch.fif\n",
      "Reading D:\\all_eeg\\mu_eeg\\chernovik_2\\NL_2_3-4_years_preprocecc\\NL2_hg_epoch\\NL2_hg_epoch\\NP112321_NL_2_fractal_story_epoch.fif ...\n",
      "    Found the data of interest:\n",
      "        t =       0.00 ...    1998.00 ms\n",
      "        0 CTF compensation matrices available\n",
      "Not setting metadata\n",
      "14 matching events found\n",
      "No baseline correction applied\n",
      "0 projection items activated\n",
      "Effective window size : 2.000 (s)\n",
      "NP112321_NL_2_fractal_story_epoch.fif -118.8740347251505\n",
      "avr_PSD_variable_second = -114.46775218147403\n",
      "[-117.34722237600297, -114.81179909396349, -113.53711993711939, -113.98099226293428, -118.34531716462116, -114.43286126533815, -113.8457049196311, -110.89474277767393, -112.99016358882348, -116.35116843831847, -115.852906906332, -114.1743964163051, -113.88987006659876, -118.8740347251505]\n",
      "[['NP042303_NL_2_fractal_story_epoch.fif'], ['NP042304_NL_2_fractal_story_epoch.fif'], ['NP042306_NL_2_fractal_story_epoch.fif'], ['NP042307_NL_2_fractal_story_epoch.fif'], ['NP042309_NL_2_fractal_story_epoch.fif'], ['NP042317_NL_2_fractal_story_epoch.fif'], ['NP042331_NL_2_fractal_story_epoch.fif'], ['NP052310_NL_2_fractal_story_epoch.fif'], ['NP052315_NL_2_fractal_story_epoch.fif'], ['NP062306_NL_2_fractal_story_epoch.fif'], ['NP112314_NL_2_fractal_story_epoch.fif'], ['NP112317_NL_2_fractal_story_epoch.fif'], ['NP112318_NL_2_fractal_story_epoch.fif'], ['NP112321_NL_2_fractal_story_epoch.fif']]\n",
      "                                         ID         PSD\n",
      "0   [NP042303_NL_2_fractal_story_epoch.fif] -117.347222\n",
      "1   [NP042304_NL_2_fractal_story_epoch.fif] -114.811799\n",
      "2   [NP042306_NL_2_fractal_story_epoch.fif] -113.537120\n",
      "3   [NP042307_NL_2_fractal_story_epoch.fif] -113.980992\n",
      "4   [NP042309_NL_2_fractal_story_epoch.fif] -118.345317\n",
      "5   [NP042317_NL_2_fractal_story_epoch.fif] -114.432861\n",
      "6   [NP042331_NL_2_fractal_story_epoch.fif] -113.845705\n",
      "7   [NP052310_NL_2_fractal_story_epoch.fif] -110.894743\n",
      "8   [NP052315_NL_2_fractal_story_epoch.fif] -112.990164\n",
      "9   [NP062306_NL_2_fractal_story_epoch.fif] -116.351168\n",
      "10  [NP112314_NL_2_fractal_story_epoch.fif] -115.852907\n",
      "11  [NP112317_NL_2_fractal_story_epoch.fif] -114.174396\n",
      "12  [NP112318_NL_2_fractal_story_epoch.fif] -113.889870\n",
      "13  [NP112321_NL_2_fractal_story_epoch.fif] -118.874035\n",
      "NP042303_PCH_epoch.fif\n",
      "Reading D:\\all_eeg\\mu_eeg\\chernovik_2\\mu1_and_mu2_3-4_years_preprocecc\\MU_hg_epoch (1)\\MU_hg_epoch (1)\\NP042303_PCH_epoch.fif ...\n",
      "    Found the data of interest:\n",
      "        t =       0.00 ...    1998.00 ms\n",
      "        0 CTF compensation matrices available\n",
      "Not setting metadata\n",
      "44 matching events found\n",
      "No baseline correction applied\n",
      "0 projection items activated\n",
      "Effective window size : 2.000 (s)\n"
     ]
    },
    {
     "name": "stderr",
     "output_type": "stream",
     "text": [
      "C:\\Users\\chuba\\AppData\\Local\\Temp\\ipykernel_4080\\2790341650.py:49: RuntimeWarning: This filename (NP112321_NL_2_fractal_story_epoch.fif) does not conform to MNE naming conventions. All epochs files should end with -epo.fif, -epo.fif.gz, _epo.fif or _epo.fif.gz\n",
      "  variable_second = mne.read_epochs(name, proj=True, preload=True, verbose=None)\n",
      "C:\\Users\\chuba\\AppData\\Local\\Temp\\ipykernel_4080\\2790341650.py:87: RuntimeWarning: This filename (NP042303_PCH_epoch.fif) does not conform to MNE naming conventions. All epochs files should end with -epo.fif, -epo.fif.gz, _epo.fif or _epo.fif.gz\n",
      "  variable_second = mne.read_epochs(name, proj=True, preload=True, verbose=None)\n"
     ]
    },
    {
     "name": "stdout",
     "output_type": "stream",
     "text": [
      "NP042303_PCH_epoch.fif -116.49283933379522\n",
      "NP042304_PCH_epoch.fif\n",
      "Reading D:\\all_eeg\\mu_eeg\\chernovik_2\\mu1_and_mu2_3-4_years_preprocecc\\MU_hg_epoch (1)\\MU_hg_epoch (1)\\NP042304_PCH_epoch.fif ...\n",
      "    Found the data of interest:\n",
      "        t =       0.00 ...    1998.00 ms\n",
      "        0 CTF compensation matrices available\n",
      "Not setting metadata\n",
      "53 matching events found\n",
      "No baseline correction applied\n",
      "0 projection items activated\n",
      "Effective window size : 2.000 (s)\n"
     ]
    },
    {
     "name": "stderr",
     "output_type": "stream",
     "text": [
      "C:\\Users\\chuba\\AppData\\Local\\Temp\\ipykernel_4080\\2790341650.py:87: RuntimeWarning: This filename (NP042304_PCH_epoch.fif) does not conform to MNE naming conventions. All epochs files should end with -epo.fif, -epo.fif.gz, _epo.fif or _epo.fif.gz\n",
      "  variable_second = mne.read_epochs(name, proj=True, preload=True, verbose=None)\n"
     ]
    },
    {
     "name": "stdout",
     "output_type": "stream",
     "text": [
      "NP042304_PCH_epoch.fif -115.00412386798003\n",
      "NP042306_PCH_epoch.fif\n",
      "Reading D:\\all_eeg\\mu_eeg\\chernovik_2\\mu1_and_mu2_3-4_years_preprocecc\\MU_hg_epoch (1)\\MU_hg_epoch (1)\\NP042306_PCH_epoch.fif ...\n",
      "    Found the data of interest:\n",
      "        t =       0.00 ...    1998.00 ms\n",
      "        0 CTF compensation matrices available\n",
      "Not setting metadata\n",
      "64 matching events found\n",
      "No baseline correction applied\n",
      "0 projection items activated\n",
      "Effective window size : 2.000 (s)\n"
     ]
    },
    {
     "name": "stderr",
     "output_type": "stream",
     "text": [
      "C:\\Users\\chuba\\AppData\\Local\\Temp\\ipykernel_4080\\2790341650.py:87: RuntimeWarning: This filename (NP042306_PCH_epoch.fif) does not conform to MNE naming conventions. All epochs files should end with -epo.fif, -epo.fif.gz, _epo.fif or _epo.fif.gz\n",
      "  variable_second = mne.read_epochs(name, proj=True, preload=True, verbose=None)\n"
     ]
    },
    {
     "name": "stdout",
     "output_type": "stream",
     "text": [
      "NP042306_PCH_epoch.fif -115.27351863515243\n",
      "NP042307_mu1_PCH_epoch.fif\n",
      "Reading D:\\all_eeg\\mu_eeg\\chernovik_2\\mu1_and_mu2_3-4_years_preprocecc\\MU_hg_epoch (1)\\MU_hg_epoch (1)\\NP042307_mu1_PCH_epoch.fif ...\n",
      "    Found the data of interest:\n",
      "        t =       0.00 ...    1998.00 ms\n",
      "        0 CTF compensation matrices available\n",
      "Not setting metadata\n",
      "21 matching events found\n",
      "No baseline correction applied\n",
      "0 projection items activated\n",
      "Effective window size : 2.000 (s)\n",
      "NP042307_mu1_PCH_epoch.fif -114.76514624740716\n",
      "NP042309_PCH_epoch.fif\n",
      "Reading D:\\all_eeg\\mu_eeg\\chernovik_2\\mu1_and_mu2_3-4_years_preprocecc\\MU_hg_epoch (1)\\MU_hg_epoch (1)\\NP042309_PCH_epoch.fif ...\n",
      "    Found the data of interest:\n",
      "        t =       0.00 ...    1998.00 ms\n",
      "        0 CTF compensation matrices available\n",
      "Not setting metadata\n"
     ]
    },
    {
     "name": "stderr",
     "output_type": "stream",
     "text": [
      "C:\\Users\\chuba\\AppData\\Local\\Temp\\ipykernel_4080\\2790341650.py:87: RuntimeWarning: This filename (NP042307_mu1_PCH_epoch.fif) does not conform to MNE naming conventions. All epochs files should end with -epo.fif, -epo.fif.gz, _epo.fif or _epo.fif.gz\n",
      "  variable_second = mne.read_epochs(name, proj=True, preload=True, verbose=None)\n",
      "C:\\Users\\chuba\\AppData\\Local\\Temp\\ipykernel_4080\\2790341650.py:87: RuntimeWarning: This filename (NP042309_PCH_epoch.fif) does not conform to MNE naming conventions. All epochs files should end with -epo.fif, -epo.fif.gz, _epo.fif or _epo.fif.gz\n",
      "  variable_second = mne.read_epochs(name, proj=True, preload=True, verbose=None)\n"
     ]
    },
    {
     "name": "stdout",
     "output_type": "stream",
     "text": [
      "84 matching events found\n",
      "No baseline correction applied\n",
      "0 projection items activated\n",
      "Effective window size : 2.000 (s)\n",
      "NP042309_PCH_epoch.fif -116.71593753790063\n",
      "NP042317_PCH_epoch.fif\n",
      "Reading D:\\all_eeg\\mu_eeg\\chernovik_2\\mu1_and_mu2_3-4_years_preprocecc\\MU_hg_epoch (1)\\MU_hg_epoch (1)\\NP042317_PCH_epoch.fif ...\n",
      "    Found the data of interest:\n",
      "        t =       0.00 ...    1998.00 ms\n",
      "        0 CTF compensation matrices available\n",
      "Not setting metadata\n",
      "79 matching events found\n",
      "No baseline correction applied\n",
      "0 projection items activated\n",
      "Effective window size : 2.000 (s)\n"
     ]
    },
    {
     "name": "stderr",
     "output_type": "stream",
     "text": [
      "C:\\Users\\chuba\\AppData\\Local\\Temp\\ipykernel_4080\\2790341650.py:87: RuntimeWarning: This filename (NP042317_PCH_epoch.fif) does not conform to MNE naming conventions. All epochs files should end with -epo.fif, -epo.fif.gz, _epo.fif or _epo.fif.gz\n",
      "  variable_second = mne.read_epochs(name, proj=True, preload=True, verbose=None)\n"
     ]
    },
    {
     "name": "stdout",
     "output_type": "stream",
     "text": [
      "NP042317_PCH_epoch.fif -115.82081285478014\n",
      "NP042331_PCH_epoch.fif\n",
      "Reading D:\\all_eeg\\mu_eeg\\chernovik_2\\mu1_and_mu2_3-4_years_preprocecc\\MU_hg_epoch (1)\\MU_hg_epoch (1)\\NP042331_PCH_epoch.fif ...\n",
      "    Found the data of interest:\n",
      "        t =       0.00 ...    1998.00 ms\n",
      "        0 CTF compensation matrices available\n",
      "Not setting metadata\n",
      "65 matching events found\n",
      "No baseline correction applied\n",
      "0 projection items activated\n",
      "Effective window size : 2.000 (s)\n"
     ]
    },
    {
     "name": "stderr",
     "output_type": "stream",
     "text": [
      "C:\\Users\\chuba\\AppData\\Local\\Temp\\ipykernel_4080\\2790341650.py:87: RuntimeWarning: This filename (NP042331_PCH_epoch.fif) does not conform to MNE naming conventions. All epochs files should end with -epo.fif, -epo.fif.gz, _epo.fif or _epo.fif.gz\n",
      "  variable_second = mne.read_epochs(name, proj=True, preload=True, verbose=None)\n"
     ]
    },
    {
     "name": "stdout",
     "output_type": "stream",
     "text": [
      "NP042331_PCH_epoch.fif -117.1465199264963\n",
      "NP052310_PCH_epoch.fif\n",
      "Reading D:\\all_eeg\\mu_eeg\\chernovik_2\\mu1_and_mu2_3-4_years_preprocecc\\MU_hg_epoch (1)\\MU_hg_epoch (1)\\NP052310_PCH_epoch.fif ...\n",
      "    Found the data of interest:\n",
      "        t =       0.00 ...    1998.00 ms\n",
      "        0 CTF compensation matrices available\n",
      "Not setting metadata\n",
      "48 matching events found\n",
      "No baseline correction applied\n",
      "0 projection items activated\n",
      "Effective window size : 2.000 (s)\n"
     ]
    },
    {
     "name": "stderr",
     "output_type": "stream",
     "text": [
      "C:\\Users\\chuba\\AppData\\Local\\Temp\\ipykernel_4080\\2790341650.py:87: RuntimeWarning: This filename (NP052310_PCH_epoch.fif) does not conform to MNE naming conventions. All epochs files should end with -epo.fif, -epo.fif.gz, _epo.fif or _epo.fif.gz\n",
      "  variable_second = mne.read_epochs(name, proj=True, preload=True, verbose=None)\n"
     ]
    },
    {
     "name": "stdout",
     "output_type": "stream",
     "text": [
      "NP052310_PCH_epoch.fif -114.47005111922985\n",
      "NP052315_PCH_epoch.fif\n",
      "Reading D:\\all_eeg\\mu_eeg\\chernovik_2\\mu1_and_mu2_3-4_years_preprocecc\\MU_hg_epoch (1)\\MU_hg_epoch (1)\\NP052315_PCH_epoch.fif ...\n",
      "    Found the data of interest:\n",
      "        t =       0.00 ...    1998.00 ms\n",
      "        0 CTF compensation matrices available\n",
      "Not setting metadata\n",
      "40 matching events found\n",
      "No baseline correction applied\n",
      "0 projection items activated\n",
      "Effective window size : 2.000 (s)\n",
      "NP052315_PCH_epoch.fif -112.9126918999495\n",
      "NP062306_PCH_epoch.fif\n",
      "Reading D:\\all_eeg\\mu_eeg\\chernovik_2\\mu1_and_mu2_3-4_years_preprocecc\\MU_hg_epoch (1)\\MU_hg_epoch (1)\\NP062306_PCH_epoch.fif ...\n",
      "    Found the data of interest:\n",
      "        t =       0.00 ...    1998.00 ms\n",
      "        0 CTF compensation matrices available\n",
      "Not setting metadata\n"
     ]
    },
    {
     "name": "stderr",
     "output_type": "stream",
     "text": [
      "C:\\Users\\chuba\\AppData\\Local\\Temp\\ipykernel_4080\\2790341650.py:87: RuntimeWarning: This filename (NP052315_PCH_epoch.fif) does not conform to MNE naming conventions. All epochs files should end with -epo.fif, -epo.fif.gz, _epo.fif or _epo.fif.gz\n",
      "  variable_second = mne.read_epochs(name, proj=True, preload=True, verbose=None)\n",
      "C:\\Users\\chuba\\AppData\\Local\\Temp\\ipykernel_4080\\2790341650.py:87: RuntimeWarning: This filename (NP062306_PCH_epoch.fif) does not conform to MNE naming conventions. All epochs files should end with -epo.fif, -epo.fif.gz, _epo.fif or _epo.fif.gz\n",
      "  variable_second = mne.read_epochs(name, proj=True, preload=True, verbose=None)\n"
     ]
    },
    {
     "name": "stdout",
     "output_type": "stream",
     "text": [
      "39 matching events found\n",
      "No baseline correction applied\n",
      "0 projection items activated\n",
      "Effective window size : 2.000 (s)\n",
      "NP062306_PCH_epoch.fif -115.2226235277347\n",
      "NP112314_PCH_epoch.fif\n",
      "Reading D:\\all_eeg\\mu_eeg\\chernovik_2\\mu1_and_mu2_3-4_years_preprocecc\\MU_hg_epoch (1)\\MU_hg_epoch (1)\\NP112314_PCH_epoch.fif ...\n",
      "    Found the data of interest:\n",
      "        t =       0.00 ...    1998.00 ms\n",
      "        0 CTF compensation matrices available\n",
      "Not setting metadata\n",
      "13 matching events found\n",
      "No baseline correction applied\n",
      "0 projection items activated\n",
      "Effective window size : 2.000 (s)\n",
      "NP112314_PCH_epoch.fif -117.07716307953052\n",
      "NP112317_PCH_epoch.fif\n",
      "Reading D:\\all_eeg\\mu_eeg\\chernovik_2\\mu1_and_mu2_3-4_years_preprocecc\\MU_hg_epoch (1)\\MU_hg_epoch (1)\\NP112317_PCH_epoch.fif ...\n",
      "    Found the data of interest:\n",
      "        t =       0.00 ...    1998.00 ms\n",
      "        0 CTF compensation matrices available\n",
      "Not setting metadata\n",
      "21 matching events found\n",
      "No baseline correction applied\n",
      "0 projection items activated\n",
      "Effective window size : 2.000 (s)\n",
      "NP112317_PCH_epoch.fif -114.1563652400041\n",
      "NP112318_PCH_epoch.fif\n"
     ]
    },
    {
     "name": "stderr",
     "output_type": "stream",
     "text": [
      "C:\\Users\\chuba\\AppData\\Local\\Temp\\ipykernel_4080\\2790341650.py:87: RuntimeWarning: This filename (NP112314_PCH_epoch.fif) does not conform to MNE naming conventions. All epochs files should end with -epo.fif, -epo.fif.gz, _epo.fif or _epo.fif.gz\n",
      "  variable_second = mne.read_epochs(name, proj=True, preload=True, verbose=None)\n",
      "C:\\Users\\chuba\\AppData\\Local\\Temp\\ipykernel_4080\\2790341650.py:87: RuntimeWarning: This filename (NP112317_PCH_epoch.fif) does not conform to MNE naming conventions. All epochs files should end with -epo.fif, -epo.fif.gz, _epo.fif or _epo.fif.gz\n",
      "  variable_second = mne.read_epochs(name, proj=True, preload=True, verbose=None)\n",
      "C:\\Users\\chuba\\AppData\\Local\\Temp\\ipykernel_4080\\2790341650.py:87: RuntimeWarning: This filename (NP112318_PCH_epoch.fif) does not conform to MNE naming conventions. All epochs files should end with -epo.fif, -epo.fif.gz, _epo.fif or _epo.fif.gz\n",
      "  variable_second = mne.read_epochs(name, proj=True, preload=True, verbose=None)\n"
     ]
    },
    {
     "name": "stdout",
     "output_type": "stream",
     "text": [
      "Reading D:\\all_eeg\\mu_eeg\\chernovik_2\\mu1_and_mu2_3-4_years_preprocecc\\MU_hg_epoch (1)\\MU_hg_epoch (1)\\NP112318_PCH_epoch.fif ...\n",
      "    Found the data of interest:\n",
      "        t =       0.00 ...    1998.00 ms\n",
      "        0 CTF compensation matrices available\n",
      "Not setting metadata\n",
      "46 matching events found\n",
      "No baseline correction applied\n",
      "0 projection items activated\n",
      "Effective window size : 2.000 (s)\n",
      "NP112318_PCH_epoch.fif -114.51305608436749\n",
      "NP112321_mu1_PCH_epoch.fif\n",
      "Reading D:\\all_eeg\\mu_eeg\\chernovik_2\\mu1_and_mu2_3-4_years_preprocecc\\MU_hg_epoch (1)\\MU_hg_epoch (1)\\NP112321_mu1_PCH_epoch.fif ...\n",
      "    Found the data of interest:\n",
      "        t =       0.00 ...    1998.00 ms\n",
      "        0 CTF compensation matrices available\n",
      "Not setting metadata\n",
      "42 matching events found\n",
      "No baseline correction applied\n",
      "0 projection items activated\n",
      "Effective window size : 2.000 (s)\n"
     ]
    },
    {
     "name": "stderr",
     "output_type": "stream",
     "text": [
      "C:\\Users\\chuba\\AppData\\Local\\Temp\\ipykernel_4080\\2790341650.py:87: RuntimeWarning: This filename (NP112321_mu1_PCH_epoch.fif) does not conform to MNE naming conventions. All epochs files should end with -epo.fif, -epo.fif.gz, _epo.fif or _epo.fif.gz\n",
      "  variable_second = mne.read_epochs(name, proj=True, preload=True, verbose=None)\n"
     ]
    },
    {
     "name": "stdout",
     "output_type": "stream",
     "text": [
      "NP112321_mu1_PCH_epoch.fif -117.19272669660485\n",
      "avr_PSD_variable_second = -115.2993640102075\n",
      "[-116.49283933379522, -115.00412386798003, -115.27351863515243, -114.76514624740716, -116.71593753790063, -115.82081285478014, -117.1465199264963, -114.47005111922985, -112.9126918999495, -115.2226235277347, -117.07716307953052, -114.1563652400041, -114.51305608436749, -117.19272669660485]\n",
      "[['NP042303_PCH_epoch.fif'], ['NP042304_PCH_epoch.fif'], ['NP042306_PCH_epoch.fif'], ['NP042307_mu1_PCH_epoch.fif'], ['NP042309_PCH_epoch.fif'], ['NP042317_PCH_epoch.fif'], ['NP042331_PCH_epoch.fif'], ['NP052310_PCH_epoch.fif'], ['NP052315_PCH_epoch.fif'], ['NP062306_PCH_epoch.fif'], ['NP112314_PCH_epoch.fif'], ['NP112317_PCH_epoch.fif'], ['NP112318_PCH_epoch.fif'], ['NP112321_mu1_PCH_epoch.fif']]\n",
      "                              ID         PSD\n",
      "0       [NP042303_PCH_epoch.fif] -116.492839\n",
      "1       [NP042304_PCH_epoch.fif] -115.004124\n",
      "2       [NP042306_PCH_epoch.fif] -115.273519\n",
      "3   [NP042307_mu1_PCH_epoch.fif] -114.765146\n",
      "4       [NP042309_PCH_epoch.fif] -116.715938\n",
      "5       [NP042317_PCH_epoch.fif] -115.820813\n",
      "6       [NP042331_PCH_epoch.fif] -117.146520\n",
      "7       [NP052310_PCH_epoch.fif] -114.470051\n",
      "8       [NP052315_PCH_epoch.fif] -112.912692\n",
      "9       [NP062306_PCH_epoch.fif] -115.222624\n",
      "10      [NP112314_PCH_epoch.fif] -117.077163\n",
      "11      [NP112317_PCH_epoch.fif] -114.156365\n",
      "12      [NP112318_PCH_epoch.fif] -114.513056\n",
      "13  [NP112321_mu1_PCH_epoch.fif] -117.192727\n",
      "NP042303_CE_epoch.fif\n",
      "Reading D:\\all_eeg\\mu_eeg\\chernovik_2\\mu1_and_mu2_3-4_years_preprocecc\\MU_hg_epoch (1)\\MU_hg_epoch (1)\\NP042303_CE_epoch.fif ...\n",
      "    Found the data of interest:\n",
      "        t =       0.00 ...    1998.00 ms\n",
      "        0 CTF compensation matrices available\n",
      "Not setting metadata\n",
      "78 matching events found\n",
      "No baseline correction applied\n",
      "0 projection items activated\n",
      "Effective window size : 2.000 (s)\n"
     ]
    },
    {
     "name": "stderr",
     "output_type": "stream",
     "text": [
      "C:\\Users\\chuba\\AppData\\Local\\Temp\\ipykernel_4080\\2790341650.py:123: RuntimeWarning: This filename (NP042303_CE_epoch.fif) does not conform to MNE naming conventions. All epochs files should end with -epo.fif, -epo.fif.gz, _epo.fif or _epo.fif.gz\n",
      "  variable_second = mne.read_epochs(name, proj=True, preload=True, verbose=None)\n"
     ]
    },
    {
     "name": "stdout",
     "output_type": "stream",
     "text": [
      "NP042303_CE_epoch.fif -113.6792714057955\n",
      "NP042304_CE_epoch.fif\n",
      "Reading D:\\all_eeg\\mu_eeg\\chernovik_2\\mu1_and_mu2_3-4_years_preprocecc\\MU_hg_epoch (1)\\MU_hg_epoch (1)\\NP042304_CE_epoch.fif ...\n",
      "    Found the data of interest:\n",
      "        t =       0.00 ...    1998.00 ms\n",
      "        0 CTF compensation matrices available\n",
      "Not setting metadata\n",
      "79 matching events found\n",
      "No baseline correction applied\n",
      "0 projection items activated\n",
      "Effective window size : 2.000 (s)\n"
     ]
    },
    {
     "name": "stderr",
     "output_type": "stream",
     "text": [
      "C:\\Users\\chuba\\AppData\\Local\\Temp\\ipykernel_4080\\2790341650.py:123: RuntimeWarning: This filename (NP042304_CE_epoch.fif) does not conform to MNE naming conventions. All epochs files should end with -epo.fif, -epo.fif.gz, _epo.fif or _epo.fif.gz\n",
      "  variable_second = mne.read_epochs(name, proj=True, preload=True, verbose=None)\n"
     ]
    },
    {
     "name": "stdout",
     "output_type": "stream",
     "text": [
      "NP042304_CE_epoch.fif -112.30690266960562\n",
      "NP042306_CE_epoch.fif\n",
      "Reading D:\\all_eeg\\mu_eeg\\chernovik_2\\mu1_and_mu2_3-4_years_preprocecc\\MU_hg_epoch (1)\\MU_hg_epoch (1)\\NP042306_CE_epoch.fif ...\n",
      "    Found the data of interest:\n",
      "        t =       0.00 ...    1998.00 ms\n",
      "        0 CTF compensation matrices available\n",
      "Not setting metadata\n",
      "72 matching events found\n",
      "No baseline correction applied\n",
      "0 projection items activated\n",
      "Effective window size : 2.000 (s)\n"
     ]
    },
    {
     "name": "stderr",
     "output_type": "stream",
     "text": [
      "C:\\Users\\chuba\\AppData\\Local\\Temp\\ipykernel_4080\\2790341650.py:123: RuntimeWarning: This filename (NP042306_CE_epoch.fif) does not conform to MNE naming conventions. All epochs files should end with -epo.fif, -epo.fif.gz, _epo.fif or _epo.fif.gz\n",
      "  variable_second = mne.read_epochs(name, proj=True, preload=True, verbose=None)\n"
     ]
    },
    {
     "name": "stdout",
     "output_type": "stream",
     "text": [
      "NP042306_CE_epoch.fif -113.43854546507833\n",
      "NP042307_mu1_CE_epoch.fif\n",
      "Reading D:\\all_eeg\\mu_eeg\\chernovik_2\\mu1_and_mu2_3-4_years_preprocecc\\MU_hg_epoch (1)\\MU_hg_epoch (1)\\NP042307_mu1_CE_epoch.fif ...\n",
      "    Found the data of interest:\n",
      "        t =       0.00 ...    1998.00 ms\n",
      "        0 CTF compensation matrices available\n",
      "Not setting metadata\n",
      "3 matching events found\n",
      "No baseline correction applied\n",
      "0 projection items activated\n",
      "Effective window size : 2.000 (s)\n",
      "NP042307_mu1_CE_epoch.fif -113.99459734674886\n",
      "NP042309_CE_epoch.fif\n",
      "Reading D:\\all_eeg\\mu_eeg\\chernovik_2\\mu1_and_mu2_3-4_years_preprocecc\\MU_hg_epoch (1)\\MU_hg_epoch (1)\\NP042309_CE_epoch.fif ...\n",
      "    Found the data of interest:\n",
      "        t =       0.00 ...    1998.00 ms\n",
      "        0 CTF compensation matrices available\n",
      "Not setting metadata\n",
      "83 matching events found\n",
      "No baseline correction applied\n",
      "0 projection items activated\n",
      "Effective window size : 2.000 (s)\n"
     ]
    },
    {
     "name": "stderr",
     "output_type": "stream",
     "text": [
      "C:\\Users\\chuba\\AppData\\Local\\Temp\\ipykernel_4080\\2790341650.py:123: RuntimeWarning: This filename (NP042307_mu1_CE_epoch.fif) does not conform to MNE naming conventions. All epochs files should end with -epo.fif, -epo.fif.gz, _epo.fif or _epo.fif.gz\n",
      "  variable_second = mne.read_epochs(name, proj=True, preload=True, verbose=None)\n",
      "C:\\Users\\chuba\\AppData\\Local\\Temp\\ipykernel_4080\\2790341650.py:123: RuntimeWarning: This filename (NP042309_CE_epoch.fif) does not conform to MNE naming conventions. All epochs files should end with -epo.fif, -epo.fif.gz, _epo.fif or _epo.fif.gz\n",
      "  variable_second = mne.read_epochs(name, proj=True, preload=True, verbose=None)\n"
     ]
    },
    {
     "name": "stdout",
     "output_type": "stream",
     "text": [
      "NP042309_CE_epoch.fif -115.10926314044646\n",
      "NP042317_CE_epoch.fif\n",
      "Reading D:\\all_eeg\\mu_eeg\\chernovik_2\\mu1_and_mu2_3-4_years_preprocecc\\MU_hg_epoch (1)\\MU_hg_epoch (1)\\NP042317_CE_epoch.fif ...\n",
      "    Found the data of interest:\n",
      "        t =       0.00 ...    1998.00 ms\n",
      "        0 CTF compensation matrices available\n",
      "Not setting metadata\n",
      "84 matching events found\n",
      "No baseline correction applied\n",
      "0 projection items activated\n",
      "Effective window size : 2.000 (s)\n"
     ]
    },
    {
     "name": "stderr",
     "output_type": "stream",
     "text": [
      "C:\\Users\\chuba\\AppData\\Local\\Temp\\ipykernel_4080\\2790341650.py:123: RuntimeWarning: This filename (NP042317_CE_epoch.fif) does not conform to MNE naming conventions. All epochs files should end with -epo.fif, -epo.fif.gz, _epo.fif or _epo.fif.gz\n",
      "  variable_second = mne.read_epochs(name, proj=True, preload=True, verbose=None)\n"
     ]
    },
    {
     "name": "stdout",
     "output_type": "stream",
     "text": [
      "NP042317_CE_epoch.fif -114.33518575302116\n",
      "NP042331_CE_epoch.fif\n",
      "Reading D:\\all_eeg\\mu_eeg\\chernovik_2\\mu1_and_mu2_3-4_years_preprocecc\\MU_hg_epoch (1)\\MU_hg_epoch (1)\\NP042331_CE_epoch.fif ...\n",
      "    Found the data of interest:\n",
      "        t =       0.00 ...    1998.00 ms\n",
      "        0 CTF compensation matrices available\n",
      "Not setting metadata\n",
      "87 matching events found\n",
      "No baseline correction applied\n",
      "0 projection items activated\n",
      "Effective window size : 2.000 (s)\n"
     ]
    },
    {
     "name": "stderr",
     "output_type": "stream",
     "text": [
      "C:\\Users\\chuba\\AppData\\Local\\Temp\\ipykernel_4080\\2790341650.py:123: RuntimeWarning: This filename (NP042331_CE_epoch.fif) does not conform to MNE naming conventions. All epochs files should end with -epo.fif, -epo.fif.gz, _epo.fif or _epo.fif.gz\n",
      "  variable_second = mne.read_epochs(name, proj=True, preload=True, verbose=None)\n"
     ]
    },
    {
     "name": "stdout",
     "output_type": "stream",
     "text": [
      "NP042331_CE_epoch.fif -114.97492424979399\n",
      "NP052310_CE_epoch.fif\n",
      "Reading D:\\all_eeg\\mu_eeg\\chernovik_2\\mu1_and_mu2_3-4_years_preprocecc\\MU_hg_epoch (1)\\MU_hg_epoch (1)\\NP052310_CE_epoch.fif ...\n",
      "    Found the data of interest:\n",
      "        t =       0.00 ...    1998.00 ms\n",
      "        0 CTF compensation matrices available\n",
      "Not setting metadata\n",
      "78 matching events found\n",
      "No baseline correction applied\n",
      "0 projection items activated\n",
      "Effective window size : 2.000 (s)\n"
     ]
    },
    {
     "name": "stderr",
     "output_type": "stream",
     "text": [
      "C:\\Users\\chuba\\AppData\\Local\\Temp\\ipykernel_4080\\2790341650.py:123: RuntimeWarning: This filename (NP052310_CE_epoch.fif) does not conform to MNE naming conventions. All epochs files should end with -epo.fif, -epo.fif.gz, _epo.fif or _epo.fif.gz\n",
      "  variable_second = mne.read_epochs(name, proj=True, preload=True, verbose=None)\n"
     ]
    },
    {
     "name": "stdout",
     "output_type": "stream",
     "text": [
      "NP052310_CE_epoch.fif -113.61207114341681\n",
      "NP052315_CE_epoch.fif\n",
      "Reading D:\\all_eeg\\mu_eeg\\chernovik_2\\mu1_and_mu2_3-4_years_preprocecc\\MU_hg_epoch (1)\\MU_hg_epoch (1)\\NP052315_CE_epoch.fif ...\n",
      "    Found the data of interest:\n",
      "        t =       0.00 ...    1998.00 ms\n",
      "        0 CTF compensation matrices available\n",
      "Not setting metadata\n",
      "79 matching events found\n",
      "No baseline correction applied\n",
      "0 projection items activated\n",
      "Effective window size : 2.000 (s)\n"
     ]
    },
    {
     "name": "stderr",
     "output_type": "stream",
     "text": [
      "C:\\Users\\chuba\\AppData\\Local\\Temp\\ipykernel_4080\\2790341650.py:123: RuntimeWarning: This filename (NP052315_CE_epoch.fif) does not conform to MNE naming conventions. All epochs files should end with -epo.fif, -epo.fif.gz, _epo.fif or _epo.fif.gz\n",
      "  variable_second = mne.read_epochs(name, proj=True, preload=True, verbose=None)\n"
     ]
    },
    {
     "name": "stdout",
     "output_type": "stream",
     "text": [
      "NP052315_CE_epoch.fif -109.38656633589946\n",
      "NP062306_CE_epoch.fif\n",
      "Reading D:\\all_eeg\\mu_eeg\\chernovik_2\\mu1_and_mu2_3-4_years_preprocecc\\MU_hg_epoch (1)\\MU_hg_epoch (1)\\NP062306_CE_epoch.fif ...\n",
      "    Found the data of interest:\n",
      "        t =       0.00 ...    1998.00 ms\n",
      "        0 CTF compensation matrices available\n",
      "Not setting metadata\n",
      "81 matching events found\n",
      "No baseline correction applied\n",
      "0 projection items activated\n",
      "Effective window size : 2.000 (s)\n"
     ]
    },
    {
     "name": "stderr",
     "output_type": "stream",
     "text": [
      "C:\\Users\\chuba\\AppData\\Local\\Temp\\ipykernel_4080\\2790341650.py:123: RuntimeWarning: This filename (NP062306_CE_epoch.fif) does not conform to MNE naming conventions. All epochs files should end with -epo.fif, -epo.fif.gz, _epo.fif or _epo.fif.gz\n",
      "  variable_second = mne.read_epochs(name, proj=True, preload=True, verbose=None)\n"
     ]
    },
    {
     "name": "stdout",
     "output_type": "stream",
     "text": [
      "NP062306_CE_epoch.fif -113.65574228377156\n",
      "NP112314_CE_epoch.fif\n",
      "Reading D:\\all_eeg\\mu_eeg\\chernovik_2\\mu1_and_mu2_3-4_years_preprocecc\\MU_hg_epoch (1)\\MU_hg_epoch (1)\\NP112314_CE_epoch.fif ...\n",
      "    Found the data of interest:\n",
      "        t =       0.00 ...    1998.00 ms\n",
      "        0 CTF compensation matrices available\n",
      "Not setting metadata\n",
      "37 matching events found\n",
      "No baseline correction applied\n",
      "0 projection items activated\n",
      "Effective window size : 2.000 (s)\n",
      "NP112314_CE_epoch.fif -115.67190124328634\n",
      "NP112317_CE_epoch.fif\n",
      "Reading D:\\all_eeg\\mu_eeg\\chernovik_2\\mu1_and_mu2_3-4_years_preprocecc\\MU_hg_epoch (1)\\MU_hg_epoch (1)\\NP112317_CE_epoch.fif ...\n",
      "    Found the data of interest:\n"
     ]
    },
    {
     "name": "stderr",
     "output_type": "stream",
     "text": [
      "C:\\Users\\chuba\\AppData\\Local\\Temp\\ipykernel_4080\\2790341650.py:123: RuntimeWarning: This filename (NP112314_CE_epoch.fif) does not conform to MNE naming conventions. All epochs files should end with -epo.fif, -epo.fif.gz, _epo.fif or _epo.fif.gz\n",
      "  variable_second = mne.read_epochs(name, proj=True, preload=True, verbose=None)\n",
      "C:\\Users\\chuba\\AppData\\Local\\Temp\\ipykernel_4080\\2790341650.py:123: RuntimeWarning: This filename (NP112317_CE_epoch.fif) does not conform to MNE naming conventions. All epochs files should end with -epo.fif, -epo.fif.gz, _epo.fif or _epo.fif.gz\n",
      "  variable_second = mne.read_epochs(name, proj=True, preload=True, verbose=None)\n"
     ]
    },
    {
     "name": "stdout",
     "output_type": "stream",
     "text": [
      "        t =       0.00 ...    1998.00 ms\n",
      "        0 CTF compensation matrices available\n",
      "Not setting metadata\n",
      "44 matching events found\n",
      "No baseline correction applied\n",
      "0 projection items activated\n",
      "Effective window size : 2.000 (s)\n",
      "NP112317_CE_epoch.fif -111.14974263250497\n",
      "NP112318_CE_epoch.fif\n",
      "Reading D:\\all_eeg\\mu_eeg\\chernovik_2\\mu1_and_mu2_3-4_years_preprocecc\\MU_hg_epoch (1)\\MU_hg_epoch (1)\\NP112318_CE_epoch.fif ...\n",
      "    Found the data of interest:\n",
      "        t =       0.00 ...    1998.00 ms\n",
      "        0 CTF compensation matrices available\n",
      "Not setting metadata\n",
      "88 matching events found\n",
      "No baseline correction applied\n",
      "0 projection items activated\n",
      "Effective window size : 2.000 (s)\n"
     ]
    },
    {
     "name": "stderr",
     "output_type": "stream",
     "text": [
      "C:\\Users\\chuba\\AppData\\Local\\Temp\\ipykernel_4080\\2790341650.py:123: RuntimeWarning: This filename (NP112318_CE_epoch.fif) does not conform to MNE naming conventions. All epochs files should end with -epo.fif, -epo.fif.gz, _epo.fif or _epo.fif.gz\n",
      "  variable_second = mne.read_epochs(name, proj=True, preload=True, verbose=None)\n"
     ]
    },
    {
     "name": "stdout",
     "output_type": "stream",
     "text": [
      "NP112318_CE_epoch.fif -110.71696302445025\n",
      "NP112321_mu1_CE_epoch.fif\n",
      "Reading D:\\all_eeg\\mu_eeg\\chernovik_2\\mu1_and_mu2_3-4_years_preprocecc\\MU_hg_epoch (1)\\MU_hg_epoch (1)\\NP112321_mu1_CE_epoch.fif ...\n",
      "    Found the data of interest:\n",
      "        t =       0.00 ...    1998.00 ms\n",
      "        0 CTF compensation matrices available\n",
      "Not setting metadata\n",
      "83 matching events found\n",
      "No baseline correction applied\n",
      "0 projection items activated\n",
      "Effective window size : 2.000 (s)\n"
     ]
    },
    {
     "name": "stderr",
     "output_type": "stream",
     "text": [
      "C:\\Users\\chuba\\AppData\\Local\\Temp\\ipykernel_4080\\2790341650.py:123: RuntimeWarning: This filename (NP112321_mu1_CE_epoch.fif) does not conform to MNE naming conventions. All epochs files should end with -epo.fif, -epo.fif.gz, _epo.fif or _epo.fif.gz\n",
      "  variable_second = mne.read_epochs(name, proj=True, preload=True, verbose=None)\n",
      "No artists with labels found to put in legend.  Note that artists whose label start with an underscore are ignored when legend() is called with no argument.\n"
     ]
    },
    {
     "name": "stdout",
     "output_type": "stream",
     "text": [
      "NP112321_mu1_CE_epoch.fif -114.97840806572822\n",
      "avr_PSD_variable_second = -112.95785518838161\n",
      "[-113.6792714057955, -112.30690266960562, -113.43854546507833, -113.99459734674886, -115.10926314044646, -114.33518575302116, -114.97492424979399, -113.61207114341681, -109.38656633589946, -113.65574228377156, -115.67190124328634, -111.14974263250497, -110.71696302445025, -114.97840806572822]\n",
      "[['NP042303_CE_epoch.fif'], ['NP042304_CE_epoch.fif'], ['NP042306_CE_epoch.fif'], ['NP042307_mu1_CE_epoch.fif'], ['NP042309_CE_epoch.fif'], ['NP042317_CE_epoch.fif'], ['NP042331_CE_epoch.fif'], ['NP052310_CE_epoch.fif'], ['NP052315_CE_epoch.fif'], ['NP062306_CE_epoch.fif'], ['NP112314_CE_epoch.fif'], ['NP112317_CE_epoch.fif'], ['NP112318_CE_epoch.fif'], ['NP112321_mu1_CE_epoch.fif']]\n",
      "                             ID         PSD\n",
      "0       [NP042303_CE_epoch.fif] -113.679271\n",
      "1       [NP042304_CE_epoch.fif] -112.306903\n",
      "2       [NP042306_CE_epoch.fif] -113.438545\n",
      "3   [NP042307_mu1_CE_epoch.fif] -113.994597\n",
      "4       [NP042309_CE_epoch.fif] -115.109263\n",
      "5       [NP042317_CE_epoch.fif] -114.335186\n",
      "6       [NP042331_CE_epoch.fif] -114.974924\n",
      "7       [NP052310_CE_epoch.fif] -113.612071\n",
      "8       [NP052315_CE_epoch.fif] -109.386566\n",
      "9       [NP062306_CE_epoch.fif] -113.655742\n",
      "10      [NP112314_CE_epoch.fif] -115.671901\n",
      "11      [NP112317_CE_epoch.fif] -111.149743\n",
      "12      [NP112318_CE_epoch.fif] -110.716963\n",
      "13  [NP112321_mu1_CE_epoch.fif] -114.978408\n"
     ]
    }
   ],
   "source": [
    "#условия для канала с4 частота 6-13\n",
    "#необходимо изменить только название фафла для обработки и название файлов которые собираешься изменять \n",
    "fig, ax = plt.subplots()\n",
    "\n",
    "#перове условие Название: \n",
    "os.chdir('D:/all_eeg/mu_eeg/chernovik_2/NL_2_3-4_years_preprocecc/NL2_hg_epoch/NL2_hg_epoch/')\n",
    "psds_target_list = []\n",
    "data_variable_first = [] \n",
    "data_id = []\n",
    "\n",
    "for i in range(len(ID_f_b_epoch)):\n",
    "    print(ID_f_b_epoch[i])\n",
    "    name = ID_f_b_epoch[i]\n",
    "    variable_first = mne.read_epochs(name, proj=True, preload=True, verbose=None)#читаем запись \n",
    "    spectrum = variable_first.compute_psd(method='welch', fmin=6, fmax=13, tmin=None, tmax=None, proj=False, n_jobs=1, verbose=None)#считаем PSD\n",
    "    psds, freqs = spectrum.get_data(return_freqs=True)#Получите все эпохи в виде 3D-массива\n",
    "\n",
    "    # Find corresponding indices using mne.pick_types() \n",
    "    # mne.pick_types определяет индексы каналов ЭЭГ для обращения\n",
    "    picks_roi_vis = mne.pick_types(variable_first.info, eeg=True, stim=False, exclude='bads', selection=[\"C4\"])\n",
    "    psds_mean=np.mean(psds, axis=0)#cчитаем сред знач Эпох\n",
    "    psds_target = psds_mean[picks_roi_vis]#СОЗДАЕМ СПИСОК ИНДЕКСОВ \n",
    "    psd_variable_first = 10 * np.log10(psds_target.mean())#считаем PSD для подсчета \n",
    "    ID_namber = [ID_f_b_epoch[i]]\n",
    "    data_variable_first.append(psd_variable_first)\n",
    "    data_id.append(ID_namber)\n",
    "    print(ID_f_b_epoch[i], f'{psd_variable_first}')\n",
    "    \n",
    "    psds_target_list.append(psds_target[0])#создаем список (списков?) нужных нам отведений \n",
    "    #ax.plot(freqs, psds_target[0], color='white', alpha=0.1, label=f\"PSD {ID[i]}_all_epochs_new_fractal.fif: {psd_variable_first:.2f}\")\n",
    "av_psds_target_list =  np.mean(np.array(psds_target_list), axis=0)#считается усред PSD                             \n",
    "ax.plot(freqs,  av_psds_target_list, color='b')\n",
    "avr_PSD_variable_first = 10 * np.log10(av_psds_target_list.mean())#Считается усред PSD для принта \n",
    "df = pd.DataFrame({\"ID\": data_id, \"PSD\": data_variable_first})\n",
    "print(f'avr_PSD_variable_first = {avr_PSD_variable_first}')\n",
    "print(data_variable_first)\n",
    "print(data_id)\n",
    "print(df)\n",
    "df.to_excel('D:/all_eeg/mu_eeg/obrabot/общие графики/эпохи PSD для фракталов (С4(6-13Гц)).xlsx', index=False)\n",
    "\n",
    "#второе условие Название:   \n",
    "psds_target_list = []\n",
    "data_variable_second = []\n",
    "data_id_2 = []\n",
    "\n",
    "for i in range(len(ID_f_s_epoch)):\n",
    "    print(ID_f_s_epoch[i])\n",
    "    name = ID_f_s_epoch[i]\n",
    "    variable_second = mne.read_epochs(name, proj=True, preload=True, verbose=None)\n",
    "    spectrum = variable_second.compute_psd(method='welch', fmin=6, fmax=13, tmin=None, tmax=None, proj=False, n_jobs=1, verbose=None)\n",
    "    psds, freqs = spectrum.get_data(return_freqs=True)\n",
    "\n",
    "    # Find corresponding indices using mne.pick_types() \n",
    "    picks_roi_vis = mne.pick_types(variable_second.info, eeg=True, stim=False, exclude='bads', selection=[\"C4\"])\n",
    "    psds_mean=np.mean(psds, axis=0)   \n",
    "    psds_target = psds_mean[picks_roi_vis]\n",
    "    psd_variable_second = 10 * np.log10(psds_target.mean()) \n",
    "    ID_namber_2 = [ID_f_s_epoch[i]]\n",
    "    data_variable_second.append(psd_variable_second)\n",
    "    data_id_2.append(ID_namber_2)\n",
    "    print(ID_f_s_epoch[i], f'{psd_variable_second}')\n",
    "    \n",
    "    \n",
    "    psds_target_list.append(psds_target[0])\n",
    "    #ax.plot(freqs, psds_target[0], color='white', alpha=0.1, label=f\"PSD {ID[i]}_all_epochs_new_fractal_audio.fif: {psd_variable_second:.2f}\")\n",
    "av_psds_target_list =  np.mean(np.array(psds_target_list), axis=0)                              \n",
    "ax.plot(freqs,  av_psds_target_list, '--b')\n",
    "avr_PSD_variable_second = 10 * np.log10(av_psds_target_list.mean()) \n",
    "df = pd.DataFrame({\"ID\": data_id_2, \"PSD\": data_variable_second})\n",
    "print(f'avr_PSD_variable_second = {avr_PSD_variable_second}')\n",
    "print(data_variable_second)\n",
    "print(data_id_2)\n",
    "print(df)\n",
    "df.to_excel('D:/all_eeg/mu_eeg/obrabot/общие графики/эпохи PSD для фракталов с аудио (С4(6-13Гц)).xlsx', index=False)\n",
    "\n",
    "\n",
    "#третье условие Название:   \n",
    "\n",
    "os.chdir('D:/all_eeg/mu_eeg/chernovik_2/mu1_and_mu2_3-4_years_preprocecc/MU_hg_epoch (1)/MU_hg_epoch (1)/')\n",
    "psds_target_list = []\n",
    "data_variable_second = []\n",
    "data_id_3 = []\n",
    "\n",
    "for i in range(len(ID_PHC_epoch)):\n",
    "    print(ID_PHC_epoch[i])\n",
    "    name = ID_PHC_epoch[i]\n",
    "    variable_second = mne.read_epochs(name, proj=True, preload=True, verbose=None)\n",
    "    spectrum = variable_second.compute_psd(method='welch', fmin=6, fmax=13, tmin=None, tmax=None, proj=False, n_jobs=1, verbose=None)\n",
    "    psds, freqs = spectrum.get_data(return_freqs=True)\n",
    "\n",
    "    # Find corresponding indices using mne.pick_types() \n",
    "    picks_roi_vis = mne.pick_types(variable_second.info, eeg=True, stim=False, exclude='bads', selection=[\"C4\"])\n",
    "    psds_mean=np.mean(psds, axis=0)   \n",
    "    psds_target = psds_mean[picks_roi_vis]\n",
    "    psd_variable_second = 10 * np.log10(psds_target.mean()) \n",
    "    ID_namber_3 = [ID_PHC_epoch[i]]\n",
    "    data_variable_second.append(psd_variable_second)\n",
    "    data_id_3.append(ID_namber_3)\n",
    "    print(ID_PHC_epoch[i], f'{psd_variable_second}')\n",
    "    \n",
    "    \n",
    "    psds_target_list.append(psds_target[0])\n",
    "    #ax.plot(freqs, psds_target[0], color='white', alpha=0.1, label=f\"PSD {ID[i]}_all_epochs_new_fractal_audio.fif: {psd_variable_second:.2f}\")\n",
    "av_psds_target_list =  np.mean(np.array(psds_target_list), axis=0)                              \n",
    "ax.plot(freqs,  av_psds_target_list, 'g')\n",
    "avr_PSD_variable_second = 10 * np.log10(av_psds_target_list.mean()) \n",
    "df = pd.DataFrame({\"ID\": data_id_3, \"PSD\": data_variable_second})\n",
    "print(f'avr_PSD_variable_second = {avr_PSD_variable_second}')\n",
    "print(data_variable_second)\n",
    "print(data_id_3)\n",
    "print(df)\n",
    "df.to_excel('D:/all_eeg/mu_eeg/obrabot/общие графики/эпохи PSD пассивного сжатия руки(С4(6-13Гц)).xlsx', index=False)\n",
    "\n",
    "#четвертое условие Название:   - отредактировать!\n",
    "\n",
    "psds_target_list = []\n",
    "data_variable_second = []\n",
    "data_id_4 = []\n",
    "\n",
    "for i in range(len(ID_CE_epoch)):\n",
    "    print(ID_CE_epoch[i])\n",
    "    name = ID_CE_epoch[i]\n",
    "    variable_second = mne.read_epochs(name, proj=True, preload=True, verbose=None)\n",
    "    spectrum = variable_second.compute_psd(method='welch', fmin=6, fmax=13, tmin=None, tmax=None, proj=False, n_jobs=1, verbose=None)\n",
    "    psds, freqs = spectrum.get_data(return_freqs=True)\n",
    "\n",
    "    # Find corresponding indices using mne.pick_types() \n",
    "    picks_roi_vis = mne.pick_types(variable_second.info, eeg=True, stim=False, exclude='bads', selection=[\"C4\"])\n",
    "    psds_mean=np.mean(psds, axis=0)   \n",
    "    psds_target = psds_mean[picks_roi_vis]\n",
    "    psd_variable_second = 10 * np.log10(psds_target.mean()) \n",
    "    ID_namber_4 = [ID_CE_epoch[i]]\n",
    "    data_variable_second.append(psd_variable_second)\n",
    "    data_id_4.append(ID_namber_4)\n",
    "    print(ID_CE_epoch[i], f'{psd_variable_second}')\n",
    "    \n",
    "    \n",
    "    psds_target_list.append(psds_target[0])\n",
    "    #ax.plot(freqs, psds_target[0], color='white', alpha=0.1, label=f\"PSD {ID[i]}_all_epochs_new_fractal_audio.fif: {psd_variable_second:.2f}\")\n",
    "av_psds_target_list =  np.mean(np.array(psds_target_list), axis=0)                              \n",
    "ax.plot(freqs,  av_psds_target_list, 'k')\n",
    "avr_PSD_variable_second = 10 * np.log10(av_psds_target_list.mean()) \n",
    "df = pd.DataFrame({\"ID\": data_id_4, \"PSD\": data_variable_second})\n",
    "print(f'avr_PSD_variable_second = {avr_PSD_variable_second}')\n",
    "print(data_variable_second)\n",
    "print(data_id_4)\n",
    "print(df)\n",
    "df.to_excel('D:/all_eeg/mu_eeg/obrabot/общие графики/эпохи PSD закрытые глаза(С4(6-13Гц)).xlsx', index=False)\n",
    "\n",
    "# выводим легенду и оси\n",
    "ax.legend()\n",
    "ax.set_xlabel('Freguency (Hz)')\n",
    "ax.set_ylabel('PSD (fT/cm)^2/Hz (dB)')\n",
    "ax.set_title(f'PSD для 4 условий,С4(6-13Гц),{len(ID_f_b_epoch)} человек. avr_PSD_var_first = {avr_PSD_variable_first}, avr_PSD_var_second  = {avr_PSD_variable_second}')\n",
    "ax.grid(True)\n",
    "\n",
    "plt.show()\n"
   ]
  },
  {
   "cell_type": "code",
   "execution_count": null,
   "id": "13198c22",
   "metadata": {},
   "outputs": [],
   "source": [
    "#Для частоты 13-30 с3"
   ]
  },
  {
   "cell_type": "code",
   "execution_count": 56,
   "id": "1a469d4f",
   "metadata": {},
   "outputs": [
    {
     "name": "stdout",
     "output_type": "stream",
     "text": [
      "NP042303_NL_2_fractal_before_epoch.fif\n",
      "Reading D:\\all_eeg\\mu_eeg\\chernovik_2\\NL_2_3-4_years_preprocecc\\NL2_hg_epoch\\NL2_hg_epoch\\NP042303_NL_2_fractal_before_epoch.fif ...\n",
      "    Found the data of interest:\n",
      "        t =       0.00 ...    1998.00 ms\n",
      "        0 CTF compensation matrices available\n",
      "Not setting metadata\n",
      "22 matching events found\n",
      "No baseline correction applied\n",
      "0 projection items activated\n",
      "Effective window size : 2.000 (s)\n",
      "NP042303_NL_2_fractal_before_epoch.fif -123.58362768116363\n",
      "NP042304_NL_2_fractal_before_epoch.fif\n",
      "Reading D:\\all_eeg\\mu_eeg\\chernovik_2\\NL_2_3-4_years_preprocecc\\NL2_hg_epoch\\NL2_hg_epoch\\NP042304_NL_2_fractal_before_epoch.fif ...\n",
      "    Found the data of interest:\n",
      "        t =       0.00 ...    1998.00 ms\n",
      "        0 CTF compensation matrices available\n",
      "Not setting metadata\n",
      "15 matching events found\n",
      "No baseline correction applied\n",
      "0 projection items activated\n",
      "Effective window size : 2.000 (s)\n",
      "NP042304_NL_2_fractal_before_epoch.fif -122.61167691841328\n",
      "NP042306_NL_2_fractal_before_epoch.fif\n",
      "Reading D:\\all_eeg\\mu_eeg\\chernovik_2\\NL_2_3-4_years_preprocecc\\NL2_hg_epoch\\NL2_hg_epoch\\NP042306_NL_2_fractal_before_epoch.fif ...\n",
      "    Found the data of interest:\n",
      "        t =       0.00 ...    1998.00 ms\n",
      "        0 CTF compensation matrices available\n",
      "Not setting metadata\n",
      "22 matching events found\n",
      "No baseline correction applied\n",
      "0 projection items activated\n",
      "Effective window size : 2.000 (s)\n",
      "NP042306_NL_2_fractal_before_epoch.fif -123.61470520647144\n",
      "NP042307_NL_2_fractal_before_epoch.fif\n",
      "Reading D:\\all_eeg\\mu_eeg\\chernovik_2\\NL_2_3-4_years_preprocecc\\NL2_hg_epoch\\NL2_hg_epoch\\NP042307_NL_2_fractal_before_epoch.fif ...\n",
      "    Found the data of interest:\n",
      "        t =       0.00 ...    1998.00 ms\n",
      "        0 CTF compensation matrices available\n",
      "Not setting metadata\n"
     ]
    },
    {
     "name": "stderr",
     "output_type": "stream",
     "text": [
      "C:\\Users\\chuba\\AppData\\Local\\Temp\\ipykernel_4080\\842852958.py:14: RuntimeWarning: This filename (NP042303_NL_2_fractal_before_epoch.fif) does not conform to MNE naming conventions. All epochs files should end with -epo.fif, -epo.fif.gz, _epo.fif or _epo.fif.gz\n",
      "  variable_first = mne.read_epochs(name, proj=True, preload=True, verbose=None)#читаем запись\n",
      "C:\\Users\\chuba\\AppData\\Local\\Temp\\ipykernel_4080\\842852958.py:14: RuntimeWarning: This filename (NP042304_NL_2_fractal_before_epoch.fif) does not conform to MNE naming conventions. All epochs files should end with -epo.fif, -epo.fif.gz, _epo.fif or _epo.fif.gz\n",
      "  variable_first = mne.read_epochs(name, proj=True, preload=True, verbose=None)#читаем запись\n",
      "C:\\Users\\chuba\\AppData\\Local\\Temp\\ipykernel_4080\\842852958.py:14: RuntimeWarning: This filename (NP042306_NL_2_fractal_before_epoch.fif) does not conform to MNE naming conventions. All epochs files should end with -epo.fif, -epo.fif.gz, _epo.fif or _epo.fif.gz\n",
      "  variable_first = mne.read_epochs(name, proj=True, preload=True, verbose=None)#читаем запись\n",
      "C:\\Users\\chuba\\AppData\\Local\\Temp\\ipykernel_4080\\842852958.py:14: RuntimeWarning: This filename (NP042307_NL_2_fractal_before_epoch.fif) does not conform to MNE naming conventions. All epochs files should end with -epo.fif, -epo.fif.gz, _epo.fif or _epo.fif.gz\n",
      "  variable_first = mne.read_epochs(name, proj=True, preload=True, verbose=None)#читаем запись\n"
     ]
    },
    {
     "name": "stdout",
     "output_type": "stream",
     "text": [
      "19 matching events found\n",
      "No baseline correction applied\n",
      "0 projection items activated\n",
      "Effective window size : 2.000 (s)\n",
      "NP042307_NL_2_fractal_before_epoch.fif -121.69838237741665\n",
      "NP042309_NL_2_fractal_before_epoch.fif\n",
      "Reading D:\\all_eeg\\mu_eeg\\chernovik_2\\NL_2_3-4_years_preprocecc\\NL2_hg_epoch\\NL2_hg_epoch\\NP042309_NL_2_fractal_before_epoch.fif ...\n",
      "    Found the data of interest:\n",
      "        t =       0.00 ...    1998.00 ms\n",
      "        0 CTF compensation matrices available\n",
      "Not setting metadata\n",
      "13 matching events found\n",
      "No baseline correction applied\n",
      "0 projection items activated\n",
      "Effective window size : 2.000 (s)\n",
      "NP042309_NL_2_fractal_before_epoch.fif -124.88749789028458\n",
      "NP042317_NL_2_fractal_before_epoch.fif\n",
      "Reading D:\\all_eeg\\mu_eeg\\chernovik_2\\NL_2_3-4_years_preprocecc\\NL2_hg_epoch\\NL2_hg_epoch\\NP042317_NL_2_fractal_before_epoch.fif ...\n",
      "    Found the data of interest:\n",
      "        t =       0.00 ...    1998.00 ms\n",
      "        0 CTF compensation matrices available\n",
      "Not setting metadata\n",
      "22 matching events found\n",
      "No baseline correction applied\n",
      "0 projection items activated\n",
      "Effective window size : 2.000 (s)\n",
      "NP042317_NL_2_fractal_before_epoch.fif -124.22830671245623\n",
      "NP042331_NL_2_fractal_before_epoch.fif\n",
      "Reading D:\\all_eeg\\mu_eeg\\chernovik_2\\NL_2_3-4_years_preprocecc\\NL2_hg_epoch\\NL2_hg_epoch\\NP042331_NL_2_fractal_before_epoch.fif ...\n",
      "    Found the data of interest:\n",
      "        t =       0.00 ...    1998.00 ms\n",
      "        0 CTF compensation matrices available\n",
      "Not setting metadata\n",
      "22 matching events found\n",
      "No baseline correction applied\n",
      "0 projection items activated\n",
      "Effective window size : 2.000 (s)\n",
      "NP042331_NL_2_fractal_before_epoch.fif -121.17817144821858\n",
      "NP052310_NL_2_fractal_before_epoch.fif\n",
      "Reading D:\\all_eeg\\mu_eeg\\chernovik_2\\NL_2_3-4_years_preprocecc\\NL2_hg_epoch\\NL2_hg_epoch\\NP052310_NL_2_fractal_before_epoch.fif ...\n",
      "    Found the data of interest:\n",
      "        t =       0.00 ...    1998.00 ms\n",
      "        0 CTF compensation matrices available\n",
      "Not setting metadata\n",
      "15 matching events found\n",
      "No baseline correction applied\n",
      "0 projection items activated\n",
      "Effective window size : 2.000 (s)\n",
      "NP052310_NL_2_fractal_before_epoch.fif -120.27022607718834\n",
      "NP052315_NL_2_fractal_before_epoch.fif\n"
     ]
    },
    {
     "name": "stderr",
     "output_type": "stream",
     "text": [
      "C:\\Users\\chuba\\AppData\\Local\\Temp\\ipykernel_4080\\842852958.py:14: RuntimeWarning: This filename (NP042309_NL_2_fractal_before_epoch.fif) does not conform to MNE naming conventions. All epochs files should end with -epo.fif, -epo.fif.gz, _epo.fif or _epo.fif.gz\n",
      "  variable_first = mne.read_epochs(name, proj=True, preload=True, verbose=None)#читаем запись\n",
      "C:\\Users\\chuba\\AppData\\Local\\Temp\\ipykernel_4080\\842852958.py:14: RuntimeWarning: This filename (NP042317_NL_2_fractal_before_epoch.fif) does not conform to MNE naming conventions. All epochs files should end with -epo.fif, -epo.fif.gz, _epo.fif or _epo.fif.gz\n",
      "  variable_first = mne.read_epochs(name, proj=True, preload=True, verbose=None)#читаем запись\n",
      "C:\\Users\\chuba\\AppData\\Local\\Temp\\ipykernel_4080\\842852958.py:14: RuntimeWarning: This filename (NP042331_NL_2_fractal_before_epoch.fif) does not conform to MNE naming conventions. All epochs files should end with -epo.fif, -epo.fif.gz, _epo.fif or _epo.fif.gz\n",
      "  variable_first = mne.read_epochs(name, proj=True, preload=True, verbose=None)#читаем запись\n",
      "C:\\Users\\chuba\\AppData\\Local\\Temp\\ipykernel_4080\\842852958.py:14: RuntimeWarning: This filename (NP052310_NL_2_fractal_before_epoch.fif) does not conform to MNE naming conventions. All epochs files should end with -epo.fif, -epo.fif.gz, _epo.fif or _epo.fif.gz\n",
      "  variable_first = mne.read_epochs(name, proj=True, preload=True, verbose=None)#читаем запись\n",
      "C:\\Users\\chuba\\AppData\\Local\\Temp\\ipykernel_4080\\842852958.py:14: RuntimeWarning: This filename (NP052315_NL_2_fractal_before_epoch.fif) does not conform to MNE naming conventions. All epochs files should end with -epo.fif, -epo.fif.gz, _epo.fif or _epo.fif.gz\n",
      "  variable_first = mne.read_epochs(name, proj=True, preload=True, verbose=None)#читаем запись\n"
     ]
    },
    {
     "name": "stdout",
     "output_type": "stream",
     "text": [
      "Reading D:\\all_eeg\\mu_eeg\\chernovik_2\\NL_2_3-4_years_preprocecc\\NL2_hg_epoch\\NL2_hg_epoch\\NP052315_NL_2_fractal_before_epoch.fif ...\n",
      "    Found the data of interest:\n",
      "        t =       0.00 ...    1998.00 ms\n",
      "        0 CTF compensation matrices available\n",
      "Not setting metadata\n",
      "15 matching events found\n",
      "No baseline correction applied\n",
      "0 projection items activated\n",
      "Effective window size : 2.000 (s)\n",
      "NP052315_NL_2_fractal_before_epoch.fif -122.41621170555972\n",
      "NP062306_NL_2_fractal_before_epoch.fif\n",
      "Reading D:\\all_eeg\\mu_eeg\\chernovik_2\\NL_2_3-4_years_preprocecc\\NL2_hg_epoch\\NL2_hg_epoch\\NP062306_NL_2_fractal_before_epoch.fif ...\n",
      "    Found the data of interest:\n",
      "        t =       0.00 ...    1998.00 ms\n",
      "        0 CTF compensation matrices available\n",
      "Not setting metadata\n",
      "15 matching events found\n",
      "No baseline correction applied\n",
      "0 projection items activated\n",
      "Effective window size : 2.000 (s)\n",
      "NP062306_NL_2_fractal_before_epoch.fif -122.55095625033027\n",
      "NP112314_NL_2_fractal_before_epoch.fif\n",
      "Reading D:\\all_eeg\\mu_eeg\\chernovik_2\\NL_2_3-4_years_preprocecc\\NL2_hg_epoch\\NL2_hg_epoch\\NP112314_NL_2_fractal_before_epoch.fif ...\n",
      "    Found the data of interest:\n",
      "        t =       0.00 ...    1998.00 ms\n",
      "        0 CTF compensation matrices available\n",
      "Not setting metadata\n",
      "21 matching events found\n",
      "No baseline correction applied\n",
      "0 projection items activated\n",
      "Effective window size : 2.000 (s)\n",
      "NP112314_NL_2_fractal_before_epoch.fif -123.27936462376144\n",
      "NP112317_NL_2_fractal_before_epoch.fif\n",
      "Reading D:\\all_eeg\\mu_eeg\\chernovik_2\\NL_2_3-4_years_preprocecc\\NL2_hg_epoch\\NL2_hg_epoch\\NP112317_NL_2_fractal_before_epoch.fif ...\n",
      "    Found the data of interest:\n",
      "        t =       0.00 ...    1998.00 ms\n",
      "        0 CTF compensation matrices available\n",
      "Not setting metadata\n",
      "22 matching events found\n",
      "No baseline correction applied\n",
      "0 projection items activated\n",
      "Effective window size : 2.000 (s)\n",
      "NP112317_NL_2_fractal_before_epoch.fif -122.26015876067918\n",
      "NP112318_NL_2_fractal_before_epoch.fif\n",
      "Reading D:\\all_eeg\\mu_eeg\\chernovik_2\\NL_2_3-4_years_preprocecc\\NL2_hg_epoch\\NL2_hg_epoch\\NP112318_NL_2_fractal_before_epoch.fif ...\n",
      "    Found the data of interest:\n",
      "        t =       0.00 ...    1998.00 ms\n",
      "        0 CTF compensation matrices available\n",
      "Not setting metadata\n",
      "22 matching events found\n",
      "No baseline correction applied\n",
      "0 projection items activated\n",
      "Effective window size : 2.000 (s)\n",
      "NP112318_NL_2_fractal_before_epoch.fif -120.88859119395326\n",
      "NP112321_NL_2_fractal_before_epoch.fif\n",
      "Reading D:\\all_eeg\\mu_eeg\\chernovik_2\\NL_2_3-4_years_preprocecc\\NL2_hg_epoch\\NL2_hg_epoch\\NP112321_NL_2_fractal_before_epoch.fif ...\n",
      "    Found the data of interest:\n"
     ]
    },
    {
     "name": "stderr",
     "output_type": "stream",
     "text": [
      "C:\\Users\\chuba\\AppData\\Local\\Temp\\ipykernel_4080\\842852958.py:14: RuntimeWarning: This filename (NP062306_NL_2_fractal_before_epoch.fif) does not conform to MNE naming conventions. All epochs files should end with -epo.fif, -epo.fif.gz, _epo.fif or _epo.fif.gz\n",
      "  variable_first = mne.read_epochs(name, proj=True, preload=True, verbose=None)#читаем запись\n",
      "C:\\Users\\chuba\\AppData\\Local\\Temp\\ipykernel_4080\\842852958.py:14: RuntimeWarning: This filename (NP112314_NL_2_fractal_before_epoch.fif) does not conform to MNE naming conventions. All epochs files should end with -epo.fif, -epo.fif.gz, _epo.fif or _epo.fif.gz\n",
      "  variable_first = mne.read_epochs(name, proj=True, preload=True, verbose=None)#читаем запись\n",
      "C:\\Users\\chuba\\AppData\\Local\\Temp\\ipykernel_4080\\842852958.py:14: RuntimeWarning: This filename (NP112317_NL_2_fractal_before_epoch.fif) does not conform to MNE naming conventions. All epochs files should end with -epo.fif, -epo.fif.gz, _epo.fif or _epo.fif.gz\n",
      "  variable_first = mne.read_epochs(name, proj=True, preload=True, verbose=None)#читаем запись\n",
      "C:\\Users\\chuba\\AppData\\Local\\Temp\\ipykernel_4080\\842852958.py:14: RuntimeWarning: This filename (NP112318_NL_2_fractal_before_epoch.fif) does not conform to MNE naming conventions. All epochs files should end with -epo.fif, -epo.fif.gz, _epo.fif or _epo.fif.gz\n",
      "  variable_first = mne.read_epochs(name, proj=True, preload=True, verbose=None)#читаем запись\n",
      "C:\\Users\\chuba\\AppData\\Local\\Temp\\ipykernel_4080\\842852958.py:14: RuntimeWarning: This filename (NP112321_NL_2_fractal_before_epoch.fif) does not conform to MNE naming conventions. All epochs files should end with -epo.fif, -epo.fif.gz, _epo.fif or _epo.fif.gz\n",
      "  variable_first = mne.read_epochs(name, proj=True, preload=True, verbose=None)#читаем запись\n"
     ]
    },
    {
     "name": "stdout",
     "output_type": "stream",
     "text": [
      "        t =       0.00 ...    1998.00 ms\n",
      "        0 CTF compensation matrices available\n",
      "Not setting metadata\n",
      "14 matching events found\n",
      "No baseline correction applied\n",
      "0 projection items activated\n",
      "Effective window size : 2.000 (s)\n",
      "NP112321_NL_2_fractal_before_epoch.fif -124.75127248885606\n",
      "avr_PSD_variable_first = -122.5153108785433\n",
      "[-123.58362768116363, -122.61167691841328, -123.61470520647144, -121.69838237741665, -124.88749789028458, -124.22830671245623, -121.17817144821858, -120.27022607718834, -122.41621170555972, -122.55095625033027, -123.27936462376144, -122.26015876067918, -120.88859119395326, -124.75127248885606]\n",
      "[['NP042303_NL_2_fractal_before_epoch.fif'], ['NP042304_NL_2_fractal_before_epoch.fif'], ['NP042306_NL_2_fractal_before_epoch.fif'], ['NP042307_NL_2_fractal_before_epoch.fif'], ['NP042309_NL_2_fractal_before_epoch.fif'], ['NP042317_NL_2_fractal_before_epoch.fif'], ['NP042331_NL_2_fractal_before_epoch.fif'], ['NP052310_NL_2_fractal_before_epoch.fif'], ['NP052315_NL_2_fractal_before_epoch.fif'], ['NP062306_NL_2_fractal_before_epoch.fif'], ['NP112314_NL_2_fractal_before_epoch.fif'], ['NP112317_NL_2_fractal_before_epoch.fif'], ['NP112318_NL_2_fractal_before_epoch.fif'], ['NP112321_NL_2_fractal_before_epoch.fif']]\n",
      "                                          ID         PSD\n",
      "0   [NP042303_NL_2_fractal_before_epoch.fif] -123.583628\n",
      "1   [NP042304_NL_2_fractal_before_epoch.fif] -122.611677\n",
      "2   [NP042306_NL_2_fractal_before_epoch.fif] -123.614705\n",
      "3   [NP042307_NL_2_fractal_before_epoch.fif] -121.698382\n",
      "4   [NP042309_NL_2_fractal_before_epoch.fif] -124.887498\n",
      "5   [NP042317_NL_2_fractal_before_epoch.fif] -124.228307\n",
      "6   [NP042331_NL_2_fractal_before_epoch.fif] -121.178171\n",
      "7   [NP052310_NL_2_fractal_before_epoch.fif] -120.270226\n",
      "8   [NP052315_NL_2_fractal_before_epoch.fif] -122.416212\n",
      "9   [NP062306_NL_2_fractal_before_epoch.fif] -122.550956\n",
      "10  [NP112314_NL_2_fractal_before_epoch.fif] -123.279365\n",
      "11  [NP112317_NL_2_fractal_before_epoch.fif] -122.260159\n",
      "12  [NP112318_NL_2_fractal_before_epoch.fif] -120.888591\n",
      "13  [NP112321_NL_2_fractal_before_epoch.fif] -124.751272\n",
      "NP042303_NL_2_fractal_story_epoch.fif\n",
      "Reading D:\\all_eeg\\mu_eeg\\chernovik_2\\NL_2_3-4_years_preprocecc\\NL2_hg_epoch\\NL2_hg_epoch\\NP042303_NL_2_fractal_story_epoch.fif ...\n",
      "    Found the data of interest:\n",
      "        t =       0.00 ...    1998.00 ms\n",
      "        0 CTF compensation matrices available\n",
      "Not setting metadata\n",
      "29 matching events found\n",
      "No baseline correction applied\n",
      "0 projection items activated\n",
      "Effective window size : 2.000 (s)\n",
      "NP042303_NL_2_fractal_story_epoch.fif -123.64931540522944\n",
      "NP042304_NL_2_fractal_story_epoch.fif\n",
      "Reading D:\\all_eeg\\mu_eeg\\chernovik_2\\NL_2_3-4_years_preprocecc\\NL2_hg_epoch\\NL2_hg_epoch\\NP042304_NL_2_fractal_story_epoch.fif ...\n",
      "    Found the data of interest:\n",
      "        t =       0.00 ...    1998.00 ms\n",
      "        0 CTF compensation matrices available\n",
      "Not setting metadata\n",
      "14 matching events found\n",
      "No baseline correction applied\n",
      "0 projection items activated\n",
      "Effective window size : 2.000 (s)\n",
      "NP042304_NL_2_fractal_story_epoch.fif -123.14117274485827\n",
      "NP042306_NL_2_fractal_story_epoch.fif\n",
      "Reading D:\\all_eeg\\mu_eeg\\chernovik_2\\NL_2_3-4_years_preprocecc\\NL2_hg_epoch\\NL2_hg_epoch\\NP042306_NL_2_fractal_story_epoch.fif ...\n",
      "    Found the data of interest:\n",
      "        t =       0.00 ...    1998.00 ms\n",
      "        0 CTF compensation matrices available\n",
      "Not setting metadata\n",
      "29 matching events found\n",
      "No baseline correction applied\n",
      "0 projection items activated\n",
      "Effective window size : 2.000 (s)\n",
      "NP042306_NL_2_fractal_story_epoch.fif -123.63249338821149\n",
      "NP042307_NL_2_fractal_story_epoch.fif\n",
      "Reading D:\\all_eeg\\mu_eeg\\chernovik_2\\NL_2_3-4_years_preprocecc\\NL2_hg_epoch\\NL2_hg_epoch\\NP042307_NL_2_fractal_story_epoch.fif ...\n",
      "    Found the data of interest:\n",
      "        t =       0.00 ...    1998.00 ms\n",
      "        0 CTF compensation matrices available\n",
      "Not setting metadata\n",
      "26 matching events found\n",
      "No baseline correction applied\n",
      "0 projection items activated\n",
      "Effective window size : 2.000 (s)\n"
     ]
    },
    {
     "name": "stderr",
     "output_type": "stream",
     "text": [
      "C:\\Users\\chuba\\AppData\\Local\\Temp\\ipykernel_4080\\842852958.py:49: RuntimeWarning: This filename (NP042303_NL_2_fractal_story_epoch.fif) does not conform to MNE naming conventions. All epochs files should end with -epo.fif, -epo.fif.gz, _epo.fif or _epo.fif.gz\n",
      "  variable_second = mne.read_epochs(name, proj=True, preload=True, verbose=None)\n",
      "C:\\Users\\chuba\\AppData\\Local\\Temp\\ipykernel_4080\\842852958.py:49: RuntimeWarning: This filename (NP042304_NL_2_fractal_story_epoch.fif) does not conform to MNE naming conventions. All epochs files should end with -epo.fif, -epo.fif.gz, _epo.fif or _epo.fif.gz\n",
      "  variable_second = mne.read_epochs(name, proj=True, preload=True, verbose=None)\n",
      "C:\\Users\\chuba\\AppData\\Local\\Temp\\ipykernel_4080\\842852958.py:49: RuntimeWarning: This filename (NP042306_NL_2_fractal_story_epoch.fif) does not conform to MNE naming conventions. All epochs files should end with -epo.fif, -epo.fif.gz, _epo.fif or _epo.fif.gz\n",
      "  variable_second = mne.read_epochs(name, proj=True, preload=True, verbose=None)\n",
      "C:\\Users\\chuba\\AppData\\Local\\Temp\\ipykernel_4080\\842852958.py:49: RuntimeWarning: This filename (NP042307_NL_2_fractal_story_epoch.fif) does not conform to MNE naming conventions. All epochs files should end with -epo.fif, -epo.fif.gz, _epo.fif or _epo.fif.gz\n",
      "  variable_second = mne.read_epochs(name, proj=True, preload=True, verbose=None)\n"
     ]
    },
    {
     "name": "stdout",
     "output_type": "stream",
     "text": [
      "NP042307_NL_2_fractal_story_epoch.fif -121.61969788058491\n",
      "NP042309_NL_2_fractal_story_epoch.fif\n",
      "Reading D:\\all_eeg\\mu_eeg\\chernovik_2\\NL_2_3-4_years_preprocecc\\NL2_hg_epoch\\NL2_hg_epoch\\NP042309_NL_2_fractal_story_epoch.fif ...\n",
      "    Found the data of interest:\n",
      "        t =       0.00 ...    1998.00 ms\n",
      "        0 CTF compensation matrices available\n",
      "Not setting metadata\n",
      "19 matching events found\n",
      "No baseline correction applied\n",
      "0 projection items activated\n",
      "Effective window size : 2.000 (s)\n",
      "NP042309_NL_2_fractal_story_epoch.fif -125.02206943153807\n",
      "NP042317_NL_2_fractal_story_epoch.fif\n",
      "Reading D:\\all_eeg\\mu_eeg\\chernovik_2\\NL_2_3-4_years_preprocecc\\NL2_hg_epoch\\NL2_hg_epoch\\NP042317_NL_2_fractal_story_epoch.fif ...\n",
      "    Found the data of interest:\n",
      "        t =       0.00 ...    1998.00 ms\n",
      "        0 CTF compensation matrices available\n",
      "Not setting metadata\n",
      "29 matching events found\n",
      "No baseline correction applied\n",
      "0 projection items activated\n",
      "Effective window size : 2.000 (s)\n",
      "NP042317_NL_2_fractal_story_epoch.fif -124.34301386117991\n",
      "NP042331_NL_2_fractal_story_epoch.fif\n",
      "Reading D:\\all_eeg\\mu_eeg\\chernovik_2\\NL_2_3-4_years_preprocecc\\NL2_hg_epoch\\NL2_hg_epoch\\NP042331_NL_2_fractal_story_epoch.fif ...\n",
      "    Found the data of interest:\n",
      "        t =       0.00 ...    1998.00 ms\n",
      "        0 CTF compensation matrices available\n",
      "Not setting metadata\n",
      "29 matching events found\n",
      "No baseline correction applied\n",
      "0 projection items activated\n",
      "Effective window size : 2.000 (s)\n",
      "NP042331_NL_2_fractal_story_epoch.fif -121.04156241523329\n",
      "NP052310_NL_2_fractal_story_epoch.fif\n"
     ]
    },
    {
     "name": "stderr",
     "output_type": "stream",
     "text": [
      "C:\\Users\\chuba\\AppData\\Local\\Temp\\ipykernel_4080\\842852958.py:49: RuntimeWarning: This filename (NP042309_NL_2_fractal_story_epoch.fif) does not conform to MNE naming conventions. All epochs files should end with -epo.fif, -epo.fif.gz, _epo.fif or _epo.fif.gz\n",
      "  variable_second = mne.read_epochs(name, proj=True, preload=True, verbose=None)\n",
      "C:\\Users\\chuba\\AppData\\Local\\Temp\\ipykernel_4080\\842852958.py:49: RuntimeWarning: This filename (NP042317_NL_2_fractal_story_epoch.fif) does not conform to MNE naming conventions. All epochs files should end with -epo.fif, -epo.fif.gz, _epo.fif or _epo.fif.gz\n",
      "  variable_second = mne.read_epochs(name, proj=True, preload=True, verbose=None)\n",
      "C:\\Users\\chuba\\AppData\\Local\\Temp\\ipykernel_4080\\842852958.py:49: RuntimeWarning: This filename (NP042331_NL_2_fractal_story_epoch.fif) does not conform to MNE naming conventions. All epochs files should end with -epo.fif, -epo.fif.gz, _epo.fif or _epo.fif.gz\n",
      "  variable_second = mne.read_epochs(name, proj=True, preload=True, verbose=None)\n",
      "C:\\Users\\chuba\\AppData\\Local\\Temp\\ipykernel_4080\\842852958.py:49: RuntimeWarning: This filename (NP052310_NL_2_fractal_story_epoch.fif) does not conform to MNE naming conventions. All epochs files should end with -epo.fif, -epo.fif.gz, _epo.fif or _epo.fif.gz\n",
      "  variable_second = mne.read_epochs(name, proj=True, preload=True, verbose=None)\n"
     ]
    },
    {
     "name": "stdout",
     "output_type": "stream",
     "text": [
      "Reading D:\\all_eeg\\mu_eeg\\chernovik_2\\NL_2_3-4_years_preprocecc\\NL2_hg_epoch\\NL2_hg_epoch\\NP052310_NL_2_fractal_story_epoch.fif ...\n",
      "    Found the data of interest:\n",
      "        t =       0.00 ...    1998.00 ms\n",
      "        0 CTF compensation matrices available\n",
      "Not setting metadata\n",
      "14 matching events found\n",
      "No baseline correction applied\n",
      "0 projection items activated\n",
      "Effective window size : 2.000 (s)\n",
      "NP052310_NL_2_fractal_story_epoch.fif -119.81919116403984\n",
      "NP052315_NL_2_fractal_story_epoch.fif\n",
      "Reading D:\\all_eeg\\mu_eeg\\chernovik_2\\NL_2_3-4_years_preprocecc\\NL2_hg_epoch\\NL2_hg_epoch\\NP052315_NL_2_fractal_story_epoch.fif ...\n",
      "    Found the data of interest:\n",
      "        t =       0.00 ...    1998.00 ms\n",
      "        0 CTF compensation matrices available\n",
      "Not setting metadata\n",
      "14 matching events found\n",
      "No baseline correction applied\n",
      "0 projection items activated\n",
      "Effective window size : 2.000 (s)\n",
      "NP052315_NL_2_fractal_story_epoch.fif -123.25114354205694\n",
      "NP062306_NL_2_fractal_story_epoch.fif\n",
      "Reading D:\\all_eeg\\mu_eeg\\chernovik_2\\NL_2_3-4_years_preprocecc\\NL2_hg_epoch\\NL2_hg_epoch\\NP062306_NL_2_fractal_story_epoch.fif ...\n",
      "    Found the data of interest:\n",
      "        t =       0.00 ...    1998.00 ms\n",
      "        0 CTF compensation matrices available\n",
      "Not setting metadata\n",
      "14 matching events found\n",
      "No baseline correction applied\n",
      "0 projection items activated\n",
      "Effective window size : 2.000 (s)\n",
      "NP062306_NL_2_fractal_story_epoch.fif -123.57028784172243\n",
      "NP112314_NL_2_fractal_story_epoch.fif\n",
      "Reading D:\\all_eeg\\mu_eeg\\chernovik_2\\NL_2_3-4_years_preprocecc\\NL2_hg_epoch\\NL2_hg_epoch\\NP112314_NL_2_fractal_story_epoch.fif ...\n",
      "    Found the data of interest:\n",
      "        t =       0.00 ...    1998.00 ms\n",
      "        0 CTF compensation matrices available\n",
      "Not setting metadata\n",
      "29 matching events found\n",
      "No baseline correction applied\n",
      "0 projection items activated\n",
      "Effective window size : 2.000 (s)\n",
      "NP112314_NL_2_fractal_story_epoch.fif -123.30234556483666\n",
      "NP112317_NL_2_fractal_story_epoch.fif\n",
      "Reading D:\\all_eeg\\mu_eeg\\chernovik_2\\NL_2_3-4_years_preprocecc\\NL2_hg_epoch\\NL2_hg_epoch\\NP112317_NL_2_fractal_story_epoch.fif ...\n",
      "    Found the data of interest:\n",
      "        t =       0.00 ...    1998.00 ms\n",
      "        0 CTF compensation matrices available\n",
      "Not setting metadata\n",
      "29 matching events found\n",
      "No baseline correction applied\n",
      "0 projection items activated\n",
      "Effective window size : 2.000 (s)\n",
      "NP112317_NL_2_fractal_story_epoch.fif -122.20785652053371\n",
      "NP112318_NL_2_fractal_story_epoch.fif\n",
      "Reading D:\\all_eeg\\mu_eeg\\chernovik_2\\NL_2_3-4_years_preprocecc\\NL2_hg_epoch\\NL2_hg_epoch\\NP112318_NL_2_fractal_story_epoch.fif ...\n",
      "    Found the data of interest:\n",
      "        t =       0.00 ...    1998.00 ms\n",
      "        0 CTF compensation matrices available\n"
     ]
    },
    {
     "name": "stderr",
     "output_type": "stream",
     "text": [
      "C:\\Users\\chuba\\AppData\\Local\\Temp\\ipykernel_4080\\842852958.py:49: RuntimeWarning: This filename (NP052315_NL_2_fractal_story_epoch.fif) does not conform to MNE naming conventions. All epochs files should end with -epo.fif, -epo.fif.gz, _epo.fif or _epo.fif.gz\n",
      "  variable_second = mne.read_epochs(name, proj=True, preload=True, verbose=None)\n",
      "C:\\Users\\chuba\\AppData\\Local\\Temp\\ipykernel_4080\\842852958.py:49: RuntimeWarning: This filename (NP062306_NL_2_fractal_story_epoch.fif) does not conform to MNE naming conventions. All epochs files should end with -epo.fif, -epo.fif.gz, _epo.fif or _epo.fif.gz\n",
      "  variable_second = mne.read_epochs(name, proj=True, preload=True, verbose=None)\n",
      "C:\\Users\\chuba\\AppData\\Local\\Temp\\ipykernel_4080\\842852958.py:49: RuntimeWarning: This filename (NP112314_NL_2_fractal_story_epoch.fif) does not conform to MNE naming conventions. All epochs files should end with -epo.fif, -epo.fif.gz, _epo.fif or _epo.fif.gz\n",
      "  variable_second = mne.read_epochs(name, proj=True, preload=True, verbose=None)\n",
      "C:\\Users\\chuba\\AppData\\Local\\Temp\\ipykernel_4080\\842852958.py:49: RuntimeWarning: This filename (NP112317_NL_2_fractal_story_epoch.fif) does not conform to MNE naming conventions. All epochs files should end with -epo.fif, -epo.fif.gz, _epo.fif or _epo.fif.gz\n",
      "  variable_second = mne.read_epochs(name, proj=True, preload=True, verbose=None)\n",
      "C:\\Users\\chuba\\AppData\\Local\\Temp\\ipykernel_4080\\842852958.py:49: RuntimeWarning: This filename (NP112318_NL_2_fractal_story_epoch.fif) does not conform to MNE naming conventions. All epochs files should end with -epo.fif, -epo.fif.gz, _epo.fif or _epo.fif.gz\n",
      "  variable_second = mne.read_epochs(name, proj=True, preload=True, verbose=None)\n"
     ]
    },
    {
     "name": "stdout",
     "output_type": "stream",
     "text": [
      "Not setting metadata\n",
      "29 matching events found\n",
      "No baseline correction applied\n",
      "0 projection items activated\n",
      "Effective window size : 2.000 (s)\n",
      "NP112318_NL_2_fractal_story_epoch.fif -120.8181986546104\n",
      "NP112321_NL_2_fractal_story_epoch.fif\n",
      "Reading D:\\all_eeg\\mu_eeg\\chernovik_2\\NL_2_3-4_years_preprocecc\\NL2_hg_epoch\\NL2_hg_epoch\\NP112321_NL_2_fractal_story_epoch.fif ...\n",
      "    Found the data of interest:\n",
      "        t =       0.00 ...    1998.00 ms\n",
      "        0 CTF compensation matrices available\n",
      "Not setting metadata\n",
      "14 matching events found\n",
      "No baseline correction applied\n",
      "0 projection items activated\n",
      "Effective window size : 2.000 (s)\n",
      "NP112321_NL_2_fractal_story_epoch.fif -125.25907589007437\n",
      "avr_PSD_variable_second = -122.62002889028167\n",
      "[-123.64931540522944, -123.14117274485827, -123.63249338821149, -121.61969788058491, -125.02206943153807, -124.34301386117991, -121.04156241523329, -119.81919116403984, -123.25114354205694, -123.57028784172243, -123.30234556483666, -122.20785652053371, -120.8181986546104, -125.25907589007437]\n",
      "[['NP042303_NL_2_fractal_story_epoch.fif'], ['NP042304_NL_2_fractal_story_epoch.fif'], ['NP042306_NL_2_fractal_story_epoch.fif'], ['NP042307_NL_2_fractal_story_epoch.fif'], ['NP042309_NL_2_fractal_story_epoch.fif'], ['NP042317_NL_2_fractal_story_epoch.fif'], ['NP042331_NL_2_fractal_story_epoch.fif'], ['NP052310_NL_2_fractal_story_epoch.fif'], ['NP052315_NL_2_fractal_story_epoch.fif'], ['NP062306_NL_2_fractal_story_epoch.fif'], ['NP112314_NL_2_fractal_story_epoch.fif'], ['NP112317_NL_2_fractal_story_epoch.fif'], ['NP112318_NL_2_fractal_story_epoch.fif'], ['NP112321_NL_2_fractal_story_epoch.fif']]\n",
      "                                         ID         PSD\n",
      "0   [NP042303_NL_2_fractal_story_epoch.fif] -123.649315\n",
      "1   [NP042304_NL_2_fractal_story_epoch.fif] -123.141173\n",
      "2   [NP042306_NL_2_fractal_story_epoch.fif] -123.632493\n",
      "3   [NP042307_NL_2_fractal_story_epoch.fif] -121.619698\n",
      "4   [NP042309_NL_2_fractal_story_epoch.fif] -125.022069\n",
      "5   [NP042317_NL_2_fractal_story_epoch.fif] -124.343014\n",
      "6   [NP042331_NL_2_fractal_story_epoch.fif] -121.041562\n",
      "7   [NP052310_NL_2_fractal_story_epoch.fif] -119.819191\n",
      "8   [NP052315_NL_2_fractal_story_epoch.fif] -123.251144\n",
      "9   [NP062306_NL_2_fractal_story_epoch.fif] -123.570288\n",
      "10  [NP112314_NL_2_fractal_story_epoch.fif] -123.302346\n",
      "11  [NP112317_NL_2_fractal_story_epoch.fif] -122.207857\n",
      "12  [NP112318_NL_2_fractal_story_epoch.fif] -120.818199\n",
      "13  [NP112321_NL_2_fractal_story_epoch.fif] -125.259076\n",
      "NP042303_PCH_epoch.fif\n",
      "Reading D:\\all_eeg\\mu_eeg\\chernovik_2\\mu1_and_mu2_3-4_years_preprocecc\\MU_hg_epoch (1)\\MU_hg_epoch (1)\\NP042303_PCH_epoch.fif ...\n",
      "    Found the data of interest:\n",
      "        t =       0.00 ...    1998.00 ms\n",
      "        0 CTF compensation matrices available\n",
      "Not setting metadata\n",
      "44 matching events found\n",
      "No baseline correction applied\n",
      "0 projection items activated\n",
      "Effective window size : 2.000 (s)\n"
     ]
    },
    {
     "name": "stderr",
     "output_type": "stream",
     "text": [
      "C:\\Users\\chuba\\AppData\\Local\\Temp\\ipykernel_4080\\842852958.py:49: RuntimeWarning: This filename (NP112321_NL_2_fractal_story_epoch.fif) does not conform to MNE naming conventions. All epochs files should end with -epo.fif, -epo.fif.gz, _epo.fif or _epo.fif.gz\n",
      "  variable_second = mne.read_epochs(name, proj=True, preload=True, verbose=None)\n",
      "C:\\Users\\chuba\\AppData\\Local\\Temp\\ipykernel_4080\\842852958.py:87: RuntimeWarning: This filename (NP042303_PCH_epoch.fif) does not conform to MNE naming conventions. All epochs files should end with -epo.fif, -epo.fif.gz, _epo.fif or _epo.fif.gz\n",
      "  variable_second = mne.read_epochs(name, proj=True, preload=True, verbose=None)\n"
     ]
    },
    {
     "name": "stdout",
     "output_type": "stream",
     "text": [
      "NP042303_PCH_epoch.fif -124.45207158398901\n",
      "NP042304_PCH_epoch.fif\n",
      "Reading D:\\all_eeg\\mu_eeg\\chernovik_2\\mu1_and_mu2_3-4_years_preprocecc\\MU_hg_epoch (1)\\MU_hg_epoch (1)\\NP042304_PCH_epoch.fif ...\n",
      "    Found the data of interest:\n",
      "        t =       0.00 ...    1998.00 ms\n",
      "        0 CTF compensation matrices available\n",
      "Not setting metadata\n",
      "53 matching events found\n",
      "No baseline correction applied\n",
      "0 projection items activated\n",
      "Effective window size : 2.000 (s)\n"
     ]
    },
    {
     "name": "stderr",
     "output_type": "stream",
     "text": [
      "C:\\Users\\chuba\\AppData\\Local\\Temp\\ipykernel_4080\\842852958.py:87: RuntimeWarning: This filename (NP042304_PCH_epoch.fif) does not conform to MNE naming conventions. All epochs files should end with -epo.fif, -epo.fif.gz, _epo.fif or _epo.fif.gz\n",
      "  variable_second = mne.read_epochs(name, proj=True, preload=True, verbose=None)\n"
     ]
    },
    {
     "name": "stdout",
     "output_type": "stream",
     "text": [
      "NP042304_PCH_epoch.fif -124.26854780924953\n",
      "NP042306_PCH_epoch.fif\n",
      "Reading D:\\all_eeg\\mu_eeg\\chernovik_2\\mu1_and_mu2_3-4_years_preprocecc\\MU_hg_epoch (1)\\MU_hg_epoch (1)\\NP042306_PCH_epoch.fif ...\n",
      "    Found the data of interest:\n",
      "        t =       0.00 ...    1998.00 ms\n",
      "        0 CTF compensation matrices available\n",
      "Not setting metadata\n",
      "64 matching events found\n",
      "No baseline correction applied\n",
      "0 projection items activated\n",
      "Effective window size : 2.000 (s)\n"
     ]
    },
    {
     "name": "stderr",
     "output_type": "stream",
     "text": [
      "C:\\Users\\chuba\\AppData\\Local\\Temp\\ipykernel_4080\\842852958.py:87: RuntimeWarning: This filename (NP042306_PCH_epoch.fif) does not conform to MNE naming conventions. All epochs files should end with -epo.fif, -epo.fif.gz, _epo.fif or _epo.fif.gz\n",
      "  variable_second = mne.read_epochs(name, proj=True, preload=True, verbose=None)\n"
     ]
    },
    {
     "name": "stdout",
     "output_type": "stream",
     "text": [
      "NP042306_PCH_epoch.fif -124.62688980833104\n",
      "NP042307_mu1_PCH_epoch.fif\n",
      "Reading D:\\all_eeg\\mu_eeg\\chernovik_2\\mu1_and_mu2_3-4_years_preprocecc\\MU_hg_epoch (1)\\MU_hg_epoch (1)\\NP042307_mu1_PCH_epoch.fif ...\n",
      "    Found the data of interest:\n",
      "        t =       0.00 ...    1998.00 ms\n",
      "        0 CTF compensation matrices available\n",
      "Not setting metadata\n",
      "21 matching events found\n",
      "No baseline correction applied\n",
      "0 projection items activated\n",
      "Effective window size : 2.000 (s)\n",
      "NP042307_mu1_PCH_epoch.fif -123.33550748829538\n",
      "NP042309_PCH_epoch.fif\n",
      "Reading D:\\all_eeg\\mu_eeg\\chernovik_2\\mu1_and_mu2_3-4_years_preprocecc\\MU_hg_epoch (1)\\MU_hg_epoch (1)\\NP042309_PCH_epoch.fif ...\n",
      "    Found the data of interest:\n",
      "        t =       0.00 ...    1998.00 ms\n",
      "        0 CTF compensation matrices available\n",
      "Not setting metadata\n",
      "84 matching events found\n",
      "No baseline correction applied\n",
      "0 projection items activated\n",
      "Effective window size : 2.000 (s)\n"
     ]
    },
    {
     "name": "stderr",
     "output_type": "stream",
     "text": [
      "C:\\Users\\chuba\\AppData\\Local\\Temp\\ipykernel_4080\\842852958.py:87: RuntimeWarning: This filename (NP042307_mu1_PCH_epoch.fif) does not conform to MNE naming conventions. All epochs files should end with -epo.fif, -epo.fif.gz, _epo.fif or _epo.fif.gz\n",
      "  variable_second = mne.read_epochs(name, proj=True, preload=True, verbose=None)\n",
      "C:\\Users\\chuba\\AppData\\Local\\Temp\\ipykernel_4080\\842852958.py:87: RuntimeWarning: This filename (NP042309_PCH_epoch.fif) does not conform to MNE naming conventions. All epochs files should end with -epo.fif, -epo.fif.gz, _epo.fif or _epo.fif.gz\n",
      "  variable_second = mne.read_epochs(name, proj=True, preload=True, verbose=None)\n"
     ]
    },
    {
     "name": "stdout",
     "output_type": "stream",
     "text": [
      "NP042309_PCH_epoch.fif -123.77286479518736\n",
      "NP042317_PCH_epoch.fif\n",
      "Reading D:\\all_eeg\\mu_eeg\\chernovik_2\\mu1_and_mu2_3-4_years_preprocecc\\MU_hg_epoch (1)\\MU_hg_epoch (1)\\NP042317_PCH_epoch.fif ...\n",
      "    Found the data of interest:\n",
      "        t =       0.00 ...    1998.00 ms\n",
      "        0 CTF compensation matrices available\n",
      "Not setting metadata\n",
      "79 matching events found\n",
      "No baseline correction applied\n",
      "0 projection items activated\n",
      "Effective window size : 2.000 (s)\n"
     ]
    },
    {
     "name": "stderr",
     "output_type": "stream",
     "text": [
      "C:\\Users\\chuba\\AppData\\Local\\Temp\\ipykernel_4080\\842852958.py:87: RuntimeWarning: This filename (NP042317_PCH_epoch.fif) does not conform to MNE naming conventions. All epochs files should end with -epo.fif, -epo.fif.gz, _epo.fif or _epo.fif.gz\n",
      "  variable_second = mne.read_epochs(name, proj=True, preload=True, verbose=None)\n"
     ]
    },
    {
     "name": "stdout",
     "output_type": "stream",
     "text": [
      "NP042317_PCH_epoch.fif -124.51588164580491\n",
      "NP042331_PCH_epoch.fif\n",
      "Reading D:\\all_eeg\\mu_eeg\\chernovik_2\\mu1_and_mu2_3-4_years_preprocecc\\MU_hg_epoch (1)\\MU_hg_epoch (1)\\NP042331_PCH_epoch.fif ...\n",
      "    Found the data of interest:\n",
      "        t =       0.00 ...    1998.00 ms\n",
      "        0 CTF compensation matrices available\n",
      "Not setting metadata\n",
      "65 matching events found\n",
      "No baseline correction applied\n",
      "0 projection items activated\n",
      "Effective window size : 2.000 (s)\n"
     ]
    },
    {
     "name": "stderr",
     "output_type": "stream",
     "text": [
      "C:\\Users\\chuba\\AppData\\Local\\Temp\\ipykernel_4080\\842852958.py:87: RuntimeWarning: This filename (NP042331_PCH_epoch.fif) does not conform to MNE naming conventions. All epochs files should end with -epo.fif, -epo.fif.gz, _epo.fif or _epo.fif.gz\n",
      "  variable_second = mne.read_epochs(name, proj=True, preload=True, verbose=None)\n"
     ]
    },
    {
     "name": "stdout",
     "output_type": "stream",
     "text": [
      "NP042331_PCH_epoch.fif -124.09382871737063\n",
      "NP052310_PCH_epoch.fif\n",
      "Reading D:\\all_eeg\\mu_eeg\\chernovik_2\\mu1_and_mu2_3-4_years_preprocecc\\MU_hg_epoch (1)\\MU_hg_epoch (1)\\NP052310_PCH_epoch.fif ...\n",
      "    Found the data of interest:\n",
      "        t =       0.00 ...    1998.00 ms\n",
      "        0 CTF compensation matrices available\n",
      "Not setting metadata\n",
      "48 matching events found\n",
      "No baseline correction applied\n",
      "0 projection items activated\n",
      "Effective window size : 2.000 (s)\n"
     ]
    },
    {
     "name": "stderr",
     "output_type": "stream",
     "text": [
      "C:\\Users\\chuba\\AppData\\Local\\Temp\\ipykernel_4080\\842852958.py:87: RuntimeWarning: This filename (NP052310_PCH_epoch.fif) does not conform to MNE naming conventions. All epochs files should end with -epo.fif, -epo.fif.gz, _epo.fif or _epo.fif.gz\n",
      "  variable_second = mne.read_epochs(name, proj=True, preload=True, verbose=None)\n"
     ]
    },
    {
     "name": "stdout",
     "output_type": "stream",
     "text": [
      "NP052310_PCH_epoch.fif -119.6083066897931\n",
      "NP052315_PCH_epoch.fif\n",
      "Reading D:\\all_eeg\\mu_eeg\\chernovik_2\\mu1_and_mu2_3-4_years_preprocecc\\MU_hg_epoch (1)\\MU_hg_epoch (1)\\NP052315_PCH_epoch.fif ...\n",
      "    Found the data of interest:\n",
      "        t =       0.00 ...    1998.00 ms\n",
      "        0 CTF compensation matrices available\n",
      "Not setting metadata\n",
      "40 matching events found\n",
      "No baseline correction applied\n",
      "0 projection items activated\n",
      "Effective window size : 2.000 (s)\n",
      "NP052315_PCH_epoch.fif -123.99610928243763\n",
      "NP062306_PCH_epoch.fif\n",
      "Reading D:\\all_eeg\\mu_eeg\\chernovik_2\\mu1_and_mu2_3-4_years_preprocecc\\MU_hg_epoch (1)\\MU_hg_epoch (1)\\NP062306_PCH_epoch.fif ...\n",
      "    Found the data of interest:\n",
      "        t =       0.00 ...    1998.00 ms\n",
      "        0 CTF compensation matrices available\n",
      "Not setting metadata\n",
      "39 matching events found\n",
      "No baseline correction applied\n",
      "0 projection items activated\n",
      "Effective window size : 2.000 (s)\n",
      "NP062306_PCH_epoch.fif -124.24180734876835\n",
      "NP112314_PCH_epoch.fif\n",
      "Reading D:\\all_eeg\\mu_eeg\\chernovik_2\\mu1_and_mu2_3-4_years_preprocecc\\MU_hg_epoch (1)\\MU_hg_epoch (1)\\NP112314_PCH_epoch.fif ...\n",
      "    Found the data of interest:\n",
      "        t =       0.00 ...    1998.00 ms\n",
      "        0 CTF compensation matrices available\n",
      "Not setting metadata\n",
      "13 matching events found\n",
      "No baseline correction applied\n",
      "0 projection items activated\n",
      "Effective window size : 2.000 (s)\n",
      "NP112314_PCH_epoch.fif -124.61365807976499\n",
      "NP112317_PCH_epoch.fif\n",
      "Reading D:\\all_eeg\\mu_eeg\\chernovik_2\\mu1_and_mu2_3-4_years_preprocecc\\MU_hg_epoch (1)\\MU_hg_epoch (1)\\NP112317_PCH_epoch.fif ...\n",
      "    Found the data of interest:\n",
      "        t =       0.00 ...    1998.00 ms\n",
      "        0 CTF compensation matrices available\n",
      "Not setting metadata\n"
     ]
    },
    {
     "name": "stderr",
     "output_type": "stream",
     "text": [
      "C:\\Users\\chuba\\AppData\\Local\\Temp\\ipykernel_4080\\842852958.py:87: RuntimeWarning: This filename (NP052315_PCH_epoch.fif) does not conform to MNE naming conventions. All epochs files should end with -epo.fif, -epo.fif.gz, _epo.fif or _epo.fif.gz\n",
      "  variable_second = mne.read_epochs(name, proj=True, preload=True, verbose=None)\n",
      "C:\\Users\\chuba\\AppData\\Local\\Temp\\ipykernel_4080\\842852958.py:87: RuntimeWarning: This filename (NP062306_PCH_epoch.fif) does not conform to MNE naming conventions. All epochs files should end with -epo.fif, -epo.fif.gz, _epo.fif or _epo.fif.gz\n",
      "  variable_second = mne.read_epochs(name, proj=True, preload=True, verbose=None)\n",
      "C:\\Users\\chuba\\AppData\\Local\\Temp\\ipykernel_4080\\842852958.py:87: RuntimeWarning: This filename (NP112314_PCH_epoch.fif) does not conform to MNE naming conventions. All epochs files should end with -epo.fif, -epo.fif.gz, _epo.fif or _epo.fif.gz\n",
      "  variable_second = mne.read_epochs(name, proj=True, preload=True, verbose=None)\n",
      "C:\\Users\\chuba\\AppData\\Local\\Temp\\ipykernel_4080\\842852958.py:87: RuntimeWarning: This filename (NP112317_PCH_epoch.fif) does not conform to MNE naming conventions. All epochs files should end with -epo.fif, -epo.fif.gz, _epo.fif or _epo.fif.gz\n",
      "  variable_second = mne.read_epochs(name, proj=True, preload=True, verbose=None)\n"
     ]
    },
    {
     "name": "stdout",
     "output_type": "stream",
     "text": [
      "21 matching events found\n",
      "No baseline correction applied\n",
      "0 projection items activated\n",
      "Effective window size : 2.000 (s)\n",
      "NP112317_PCH_epoch.fif -122.05496159449336\n",
      "NP112318_PCH_epoch.fif\n",
      "Reading D:\\all_eeg\\mu_eeg\\chernovik_2\\mu1_and_mu2_3-4_years_preprocecc\\MU_hg_epoch (1)\\MU_hg_epoch (1)\\NP112318_PCH_epoch.fif ...\n",
      "    Found the data of interest:\n",
      "        t =       0.00 ...    1998.00 ms\n",
      "        0 CTF compensation matrices available\n",
      "Not setting metadata\n",
      "46 matching events found\n",
      "No baseline correction applied\n",
      "0 projection items activated\n",
      "Effective window size : 2.000 (s)\n"
     ]
    },
    {
     "name": "stderr",
     "output_type": "stream",
     "text": [
      "C:\\Users\\chuba\\AppData\\Local\\Temp\\ipykernel_4080\\842852958.py:87: RuntimeWarning: This filename (NP112318_PCH_epoch.fif) does not conform to MNE naming conventions. All epochs files should end with -epo.fif, -epo.fif.gz, _epo.fif or _epo.fif.gz\n",
      "  variable_second = mne.read_epochs(name, proj=True, preload=True, verbose=None)\n"
     ]
    },
    {
     "name": "stdout",
     "output_type": "stream",
     "text": [
      "NP112318_PCH_epoch.fif -121.07071939906383\n",
      "NP112321_mu1_PCH_epoch.fif\n",
      "Reading D:\\all_eeg\\mu_eeg\\chernovik_2\\mu1_and_mu2_3-4_years_preprocecc\\MU_hg_epoch (1)\\MU_hg_epoch (1)\\NP112321_mu1_PCH_epoch.fif ...\n",
      "    Found the data of interest:\n",
      "        t =       0.00 ...    1998.00 ms\n",
      "        0 CTF compensation matrices available\n",
      "Not setting metadata\n",
      "42 matching events found\n",
      "No baseline correction applied\n",
      "0 projection items activated\n",
      "Effective window size : 2.000 (s)\n"
     ]
    },
    {
     "name": "stderr",
     "output_type": "stream",
     "text": [
      "C:\\Users\\chuba\\AppData\\Local\\Temp\\ipykernel_4080\\842852958.py:87: RuntimeWarning: This filename (NP112321_mu1_PCH_epoch.fif) does not conform to MNE naming conventions. All epochs files should end with -epo.fif, -epo.fif.gz, _epo.fif or _epo.fif.gz\n",
      "  variable_second = mne.read_epochs(name, proj=True, preload=True, verbose=None)\n"
     ]
    },
    {
     "name": "stdout",
     "output_type": "stream",
     "text": [
      "NP112321_mu1_PCH_epoch.fif -123.97068314075021\n",
      "avr_PSD_variable_second = -123.18469634313915\n",
      "[-124.45207158398901, -124.26854780924953, -124.62688980833104, -123.33550748829538, -123.77286479518736, -124.51588164580491, -124.09382871737063, -119.6083066897931, -123.99610928243763, -124.24180734876835, -124.61365807976499, -122.05496159449336, -121.07071939906383, -123.97068314075021]\n",
      "[['NP042303_PCH_epoch.fif'], ['NP042304_PCH_epoch.fif'], ['NP042306_PCH_epoch.fif'], ['NP042307_mu1_PCH_epoch.fif'], ['NP042309_PCH_epoch.fif'], ['NP042317_PCH_epoch.fif'], ['NP042331_PCH_epoch.fif'], ['NP052310_PCH_epoch.fif'], ['NP052315_PCH_epoch.fif'], ['NP062306_PCH_epoch.fif'], ['NP112314_PCH_epoch.fif'], ['NP112317_PCH_epoch.fif'], ['NP112318_PCH_epoch.fif'], ['NP112321_mu1_PCH_epoch.fif']]\n",
      "                              ID         PSD\n",
      "0       [NP042303_PCH_epoch.fif] -124.452072\n",
      "1       [NP042304_PCH_epoch.fif] -124.268548\n",
      "2       [NP042306_PCH_epoch.fif] -124.626890\n",
      "3   [NP042307_mu1_PCH_epoch.fif] -123.335507\n",
      "4       [NP042309_PCH_epoch.fif] -123.772865\n",
      "5       [NP042317_PCH_epoch.fif] -124.515882\n",
      "6       [NP042331_PCH_epoch.fif] -124.093829\n",
      "7       [NP052310_PCH_epoch.fif] -119.608307\n",
      "8       [NP052315_PCH_epoch.fif] -123.996109\n",
      "9       [NP062306_PCH_epoch.fif] -124.241807\n",
      "10      [NP112314_PCH_epoch.fif] -124.613658\n",
      "11      [NP112317_PCH_epoch.fif] -122.054962\n",
      "12      [NP112318_PCH_epoch.fif] -121.070719\n",
      "13  [NP112321_mu1_PCH_epoch.fif] -123.970683\n",
      "NP042303_CE_epoch.fif\n",
      "Reading D:\\all_eeg\\mu_eeg\\chernovik_2\\mu1_and_mu2_3-4_years_preprocecc\\MU_hg_epoch (1)\\MU_hg_epoch (1)\\NP042303_CE_epoch.fif ...\n",
      "    Found the data of interest:\n",
      "        t =       0.00 ...    1998.00 ms\n",
      "        0 CTF compensation matrices available\n",
      "Not setting metadata\n",
      "78 matching events found\n",
      "No baseline correction applied\n",
      "0 projection items activated\n",
      "Effective window size : 2.000 (s)\n"
     ]
    },
    {
     "name": "stderr",
     "output_type": "stream",
     "text": [
      "C:\\Users\\chuba\\AppData\\Local\\Temp\\ipykernel_4080\\842852958.py:123: RuntimeWarning: This filename (NP042303_CE_epoch.fif) does not conform to MNE naming conventions. All epochs files should end with -epo.fif, -epo.fif.gz, _epo.fif or _epo.fif.gz\n",
      "  variable_second = mne.read_epochs(name, proj=True, preload=True, verbose=None)\n"
     ]
    },
    {
     "name": "stdout",
     "output_type": "stream",
     "text": [
      "NP042303_CE_epoch.fif -124.22700860879759\n",
      "NP042304_CE_epoch.fif\n",
      "Reading D:\\all_eeg\\mu_eeg\\chernovik_2\\mu1_and_mu2_3-4_years_preprocecc\\MU_hg_epoch (1)\\MU_hg_epoch (1)\\NP042304_CE_epoch.fif ...\n",
      "    Found the data of interest:\n",
      "        t =       0.00 ...    1998.00 ms\n",
      "        0 CTF compensation matrices available\n",
      "Not setting metadata\n",
      "79 matching events found\n",
      "No baseline correction applied\n",
      "0 projection items activated\n",
      "Effective window size : 2.000 (s)\n"
     ]
    },
    {
     "name": "stderr",
     "output_type": "stream",
     "text": [
      "C:\\Users\\chuba\\AppData\\Local\\Temp\\ipykernel_4080\\842852958.py:123: RuntimeWarning: This filename (NP042304_CE_epoch.fif) does not conform to MNE naming conventions. All epochs files should end with -epo.fif, -epo.fif.gz, _epo.fif or _epo.fif.gz\n",
      "  variable_second = mne.read_epochs(name, proj=True, preload=True, verbose=None)\n"
     ]
    },
    {
     "name": "stdout",
     "output_type": "stream",
     "text": [
      "NP042304_CE_epoch.fif -123.99368460259011\n",
      "NP042306_CE_epoch.fif\n",
      "Reading D:\\all_eeg\\mu_eeg\\chernovik_2\\mu1_and_mu2_3-4_years_preprocecc\\MU_hg_epoch (1)\\MU_hg_epoch (1)\\NP042306_CE_epoch.fif ...\n",
      "    Found the data of interest:\n",
      "        t =       0.00 ...    1998.00 ms\n",
      "        0 CTF compensation matrices available\n",
      "Not setting metadata\n",
      "72 matching events found\n",
      "No baseline correction applied\n",
      "0 projection items activated\n",
      "Effective window size : 2.000 (s)\n"
     ]
    },
    {
     "name": "stderr",
     "output_type": "stream",
     "text": [
      "C:\\Users\\chuba\\AppData\\Local\\Temp\\ipykernel_4080\\842852958.py:123: RuntimeWarning: This filename (NP042306_CE_epoch.fif) does not conform to MNE naming conventions. All epochs files should end with -epo.fif, -epo.fif.gz, _epo.fif or _epo.fif.gz\n",
      "  variable_second = mne.read_epochs(name, proj=True, preload=True, verbose=None)\n"
     ]
    },
    {
     "name": "stdout",
     "output_type": "stream",
     "text": [
      "NP042306_CE_epoch.fif -124.14265253626706\n",
      "NP042307_mu1_CE_epoch.fif\n",
      "Reading D:\\all_eeg\\mu_eeg\\chernovik_2\\mu1_and_mu2_3-4_years_preprocecc\\MU_hg_epoch (1)\\MU_hg_epoch (1)\\NP042307_mu1_CE_epoch.fif ...\n",
      "    Found the data of interest:\n",
      "        t =       0.00 ...    1998.00 ms\n",
      "        0 CTF compensation matrices available\n",
      "Not setting metadata\n",
      "3 matching events found\n",
      "No baseline correction applied\n",
      "0 projection items activated\n",
      "Effective window size : 2.000 (s)\n",
      "NP042307_mu1_CE_epoch.fif -123.68956149445019\n",
      "NP042309_CE_epoch.fif\n",
      "Reading D:\\all_eeg\\mu_eeg\\chernovik_2\\mu1_and_mu2_3-4_years_preprocecc\\MU_hg_epoch (1)\\MU_hg_epoch (1)\\NP042309_CE_epoch.fif ...\n",
      "    Found the data of interest:\n",
      "        t =       0.00 ...    1998.00 ms\n",
      "        0 CTF compensation matrices available\n",
      "Not setting metadata\n",
      "83 matching events found\n",
      "No baseline correction applied\n",
      "0 projection items activated\n",
      "Effective window size : 2.000 (s)\n"
     ]
    },
    {
     "name": "stderr",
     "output_type": "stream",
     "text": [
      "C:\\Users\\chuba\\AppData\\Local\\Temp\\ipykernel_4080\\842852958.py:123: RuntimeWarning: This filename (NP042307_mu1_CE_epoch.fif) does not conform to MNE naming conventions. All epochs files should end with -epo.fif, -epo.fif.gz, _epo.fif or _epo.fif.gz\n",
      "  variable_second = mne.read_epochs(name, proj=True, preload=True, verbose=None)\n",
      "C:\\Users\\chuba\\AppData\\Local\\Temp\\ipykernel_4080\\842852958.py:123: RuntimeWarning: This filename (NP042309_CE_epoch.fif) does not conform to MNE naming conventions. All epochs files should end with -epo.fif, -epo.fif.gz, _epo.fif or _epo.fif.gz\n",
      "  variable_second = mne.read_epochs(name, proj=True, preload=True, verbose=None)\n"
     ]
    },
    {
     "name": "stdout",
     "output_type": "stream",
     "text": [
      "NP042309_CE_epoch.fif -123.98467460036086\n",
      "NP042317_CE_epoch.fif\n",
      "Reading D:\\all_eeg\\mu_eeg\\chernovik_2\\mu1_and_mu2_3-4_years_preprocecc\\MU_hg_epoch (1)\\MU_hg_epoch (1)\\NP042317_CE_epoch.fif ...\n",
      "    Found the data of interest:\n",
      "        t =       0.00 ...    1998.00 ms\n",
      "        0 CTF compensation matrices available\n",
      "Not setting metadata\n",
      "84 matching events found\n",
      "No baseline correction applied\n",
      "0 projection items activated\n",
      "Effective window size : 2.000 (s)\n"
     ]
    },
    {
     "name": "stderr",
     "output_type": "stream",
     "text": [
      "C:\\Users\\chuba\\AppData\\Local\\Temp\\ipykernel_4080\\842852958.py:123: RuntimeWarning: This filename (NP042317_CE_epoch.fif) does not conform to MNE naming conventions. All epochs files should end with -epo.fif, -epo.fif.gz, _epo.fif or _epo.fif.gz\n",
      "  variable_second = mne.read_epochs(name, proj=True, preload=True, verbose=None)\n"
     ]
    },
    {
     "name": "stdout",
     "output_type": "stream",
     "text": [
      "NP042317_CE_epoch.fif -124.01470078812928\n",
      "NP042331_CE_epoch.fif\n",
      "Reading D:\\all_eeg\\mu_eeg\\chernovik_2\\mu1_and_mu2_3-4_years_preprocecc\\MU_hg_epoch (1)\\MU_hg_epoch (1)\\NP042331_CE_epoch.fif ...\n",
      "    Found the data of interest:\n",
      "        t =       0.00 ...    1998.00 ms\n",
      "        0 CTF compensation matrices available\n",
      "Not setting metadata\n",
      "87 matching events found\n",
      "No baseline correction applied\n",
      "0 projection items activated\n",
      "Effective window size : 2.000 (s)\n"
     ]
    },
    {
     "name": "stderr",
     "output_type": "stream",
     "text": [
      "C:\\Users\\chuba\\AppData\\Local\\Temp\\ipykernel_4080\\842852958.py:123: RuntimeWarning: This filename (NP042331_CE_epoch.fif) does not conform to MNE naming conventions. All epochs files should end with -epo.fif, -epo.fif.gz, _epo.fif or _epo.fif.gz\n",
      "  variable_second = mne.read_epochs(name, proj=True, preload=True, verbose=None)\n"
     ]
    },
    {
     "name": "stdout",
     "output_type": "stream",
     "text": [
      "NP042331_CE_epoch.fif -124.30329838538287\n",
      "NP052310_CE_epoch.fif\n",
      "Reading D:\\all_eeg\\mu_eeg\\chernovik_2\\mu1_and_mu2_3-4_years_preprocecc\\MU_hg_epoch (1)\\MU_hg_epoch (1)\\NP052310_CE_epoch.fif ...\n",
      "    Found the data of interest:\n",
      "        t =       0.00 ...    1998.00 ms\n",
      "        0 CTF compensation matrices available\n",
      "Not setting metadata\n",
      "78 matching events found\n",
      "No baseline correction applied\n",
      "0 projection items activated\n",
      "Effective window size : 2.000 (s)\n"
     ]
    },
    {
     "name": "stderr",
     "output_type": "stream",
     "text": [
      "C:\\Users\\chuba\\AppData\\Local\\Temp\\ipykernel_4080\\842852958.py:123: RuntimeWarning: This filename (NP052310_CE_epoch.fif) does not conform to MNE naming conventions. All epochs files should end with -epo.fif, -epo.fif.gz, _epo.fif or _epo.fif.gz\n",
      "  variable_second = mne.read_epochs(name, proj=True, preload=True, verbose=None)\n"
     ]
    },
    {
     "name": "stdout",
     "output_type": "stream",
     "text": [
      "NP052310_CE_epoch.fif -121.11045092394674\n",
      "NP052315_CE_epoch.fif\n",
      "Reading D:\\all_eeg\\mu_eeg\\chernovik_2\\mu1_and_mu2_3-4_years_preprocecc\\MU_hg_epoch (1)\\MU_hg_epoch (1)\\NP052315_CE_epoch.fif ...\n",
      "    Found the data of interest:\n",
      "        t =       0.00 ...    1998.00 ms\n",
      "        0 CTF compensation matrices available\n",
      "Not setting metadata\n",
      "79 matching events found\n",
      "No baseline correction applied\n",
      "0 projection items activated\n",
      "Effective window size : 2.000 (s)\n"
     ]
    },
    {
     "name": "stderr",
     "output_type": "stream",
     "text": [
      "C:\\Users\\chuba\\AppData\\Local\\Temp\\ipykernel_4080\\842852958.py:123: RuntimeWarning: This filename (NP052315_CE_epoch.fif) does not conform to MNE naming conventions. All epochs files should end with -epo.fif, -epo.fif.gz, _epo.fif or _epo.fif.gz\n",
      "  variable_second = mne.read_epochs(name, proj=True, preload=True, verbose=None)\n"
     ]
    },
    {
     "name": "stdout",
     "output_type": "stream",
     "text": [
      "NP052315_CE_epoch.fif -121.05920606554517\n",
      "NP062306_CE_epoch.fif\n",
      "Reading D:\\all_eeg\\mu_eeg\\chernovik_2\\mu1_and_mu2_3-4_years_preprocecc\\MU_hg_epoch (1)\\MU_hg_epoch (1)\\NP062306_CE_epoch.fif ...\n",
      "    Found the data of interest:\n",
      "        t =       0.00 ...    1998.00 ms\n",
      "        0 CTF compensation matrices available\n",
      "Not setting metadata\n",
      "81 matching events found\n",
      "No baseline correction applied\n",
      "0 projection items activated\n",
      "Effective window size : 2.000 (s)\n"
     ]
    },
    {
     "name": "stderr",
     "output_type": "stream",
     "text": [
      "C:\\Users\\chuba\\AppData\\Local\\Temp\\ipykernel_4080\\842852958.py:123: RuntimeWarning: This filename (NP062306_CE_epoch.fif) does not conform to MNE naming conventions. All epochs files should end with -epo.fif, -epo.fif.gz, _epo.fif or _epo.fif.gz\n",
      "  variable_second = mne.read_epochs(name, proj=True, preload=True, verbose=None)\n"
     ]
    },
    {
     "name": "stdout",
     "output_type": "stream",
     "text": [
      "NP062306_CE_epoch.fif -124.0510039590931\n",
      "NP112314_CE_epoch.fif\n",
      "Reading D:\\all_eeg\\mu_eeg\\chernovik_2\\mu1_and_mu2_3-4_years_preprocecc\\MU_hg_epoch (1)\\MU_hg_epoch (1)\\NP112314_CE_epoch.fif ...\n",
      "    Found the data of interest:\n",
      "        t =       0.00 ...    1998.00 ms\n",
      "        0 CTF compensation matrices available\n",
      "Not setting metadata\n",
      "37 matching events found\n",
      "No baseline correction applied\n",
      "0 projection items activated\n",
      "Effective window size : 2.000 (s)\n",
      "NP112314_CE_epoch.fif -123.65648356263306\n",
      "NP112317_CE_epoch.fif\n",
      "Reading D:\\all_eeg\\mu_eeg\\chernovik_2\\mu1_and_mu2_3-4_years_preprocecc\\MU_hg_epoch (1)\\MU_hg_epoch (1)\\NP112317_CE_epoch.fif ...\n",
      "    Found the data of interest:\n",
      "        t =       0.00 ...    1998.00 ms\n",
      "        0 CTF compensation matrices available\n",
      "Not setting metadata\n",
      "44 matching events found\n",
      "No baseline correction applied\n",
      "0 projection items activated\n",
      "Effective window size : 2.000 (s)\n"
     ]
    },
    {
     "name": "stderr",
     "output_type": "stream",
     "text": [
      "C:\\Users\\chuba\\AppData\\Local\\Temp\\ipykernel_4080\\842852958.py:123: RuntimeWarning: This filename (NP112314_CE_epoch.fif) does not conform to MNE naming conventions. All epochs files should end with -epo.fif, -epo.fif.gz, _epo.fif or _epo.fif.gz\n",
      "  variable_second = mne.read_epochs(name, proj=True, preload=True, verbose=None)\n",
      "C:\\Users\\chuba\\AppData\\Local\\Temp\\ipykernel_4080\\842852958.py:123: RuntimeWarning: This filename (NP112317_CE_epoch.fif) does not conform to MNE naming conventions. All epochs files should end with -epo.fif, -epo.fif.gz, _epo.fif or _epo.fif.gz\n",
      "  variable_second = mne.read_epochs(name, proj=True, preload=True, verbose=None)\n"
     ]
    },
    {
     "name": "stdout",
     "output_type": "stream",
     "text": [
      "NP112317_CE_epoch.fif -122.14340572422016\n",
      "NP112318_CE_epoch.fif\n",
      "Reading D:\\all_eeg\\mu_eeg\\chernovik_2\\mu1_and_mu2_3-4_years_preprocecc\\MU_hg_epoch (1)\\MU_hg_epoch (1)\\NP112318_CE_epoch.fif ...\n",
      "    Found the data of interest:\n",
      "        t =       0.00 ...    1998.00 ms\n",
      "        0 CTF compensation matrices available\n",
      "Not setting metadata\n",
      "88 matching events found\n",
      "No baseline correction applied\n",
      "0 projection items activated\n",
      "Effective window size : 2.000 (s)\n"
     ]
    },
    {
     "name": "stderr",
     "output_type": "stream",
     "text": [
      "C:\\Users\\chuba\\AppData\\Local\\Temp\\ipykernel_4080\\842852958.py:123: RuntimeWarning: This filename (NP112318_CE_epoch.fif) does not conform to MNE naming conventions. All epochs files should end with -epo.fif, -epo.fif.gz, _epo.fif or _epo.fif.gz\n",
      "  variable_second = mne.read_epochs(name, proj=True, preload=True, verbose=None)\n"
     ]
    },
    {
     "name": "stdout",
     "output_type": "stream",
     "text": [
      "NP112318_CE_epoch.fif -121.39412053699266\n",
      "NP112321_mu1_CE_epoch.fif\n",
      "Reading D:\\all_eeg\\mu_eeg\\chernovik_2\\mu1_and_mu2_3-4_years_preprocecc\\MU_hg_epoch (1)\\MU_hg_epoch (1)\\NP112321_mu1_CE_epoch.fif ...\n",
      "    Found the data of interest:\n",
      "        t =       0.00 ...    1998.00 ms\n",
      "        0 CTF compensation matrices available\n",
      "Not setting metadata\n",
      "83 matching events found\n",
      "No baseline correction applied\n",
      "0 projection items activated\n",
      "Effective window size : 2.000 (s)\n"
     ]
    },
    {
     "name": "stderr",
     "output_type": "stream",
     "text": [
      "C:\\Users\\chuba\\AppData\\Local\\Temp\\ipykernel_4080\\842852958.py:123: RuntimeWarning: This filename (NP112321_mu1_CE_epoch.fif) does not conform to MNE naming conventions. All epochs files should end with -epo.fif, -epo.fif.gz, _epo.fif or _epo.fif.gz\n",
      "  variable_second = mne.read_epochs(name, proj=True, preload=True, verbose=None)\n",
      "No artists with labels found to put in legend.  Note that artists whose label start with an underscore are ignored when legend() is called with no argument.\n"
     ]
    },
    {
     "name": "stdout",
     "output_type": "stream",
     "text": [
      "NP112321_mu1_CE_epoch.fif -125.14511881552761\n",
      "avr_PSD_variable_second = -123.14840549801544\n",
      "[-124.22700860879759, -123.99368460259011, -124.14265253626706, -123.68956149445019, -123.98467460036086, -124.01470078812928, -124.30329838538287, -121.11045092394674, -121.05920606554517, -124.0510039590931, -123.65648356263306, -122.14340572422016, -121.39412053699266, -125.14511881552761]\n",
      "[['NP042303_CE_epoch.fif'], ['NP042304_CE_epoch.fif'], ['NP042306_CE_epoch.fif'], ['NP042307_mu1_CE_epoch.fif'], ['NP042309_CE_epoch.fif'], ['NP042317_CE_epoch.fif'], ['NP042331_CE_epoch.fif'], ['NP052310_CE_epoch.fif'], ['NP052315_CE_epoch.fif'], ['NP062306_CE_epoch.fif'], ['NP112314_CE_epoch.fif'], ['NP112317_CE_epoch.fif'], ['NP112318_CE_epoch.fif'], ['NP112321_mu1_CE_epoch.fif']]\n",
      "                             ID         PSD\n",
      "0       [NP042303_CE_epoch.fif] -124.227009\n",
      "1       [NP042304_CE_epoch.fif] -123.993685\n",
      "2       [NP042306_CE_epoch.fif] -124.142653\n",
      "3   [NP042307_mu1_CE_epoch.fif] -123.689561\n",
      "4       [NP042309_CE_epoch.fif] -123.984675\n",
      "5       [NP042317_CE_epoch.fif] -124.014701\n",
      "6       [NP042331_CE_epoch.fif] -124.303298\n",
      "7       [NP052310_CE_epoch.fif] -121.110451\n",
      "8       [NP052315_CE_epoch.fif] -121.059206\n",
      "9       [NP062306_CE_epoch.fif] -124.051004\n",
      "10      [NP112314_CE_epoch.fif] -123.656484\n",
      "11      [NP112317_CE_epoch.fif] -122.143406\n",
      "12      [NP112318_CE_epoch.fif] -121.394121\n",
      "13  [NP112321_mu1_CE_epoch.fif] -125.145119\n"
     ]
    }
   ],
   "source": [
    "#4 условия для канала с3 частота 13-30\n",
    "#необходимо изменить только название фафла для обработки и название файлов которые собираешься изменять \n",
    "fig, ax = plt.subplots()\n",
    "\n",
    "#перове условие Название: \n",
    "os.chdir('D:/all_eeg/mu_eeg/chernovik_2/NL_2_3-4_years_preprocecc/NL2_hg_epoch/NL2_hg_epoch/')\n",
    "psds_target_list = []\n",
    "data_variable_first = [] \n",
    "data_id = []\n",
    "\n",
    "for i in range(len(ID_f_b_epoch)):\n",
    "    print(ID_f_b_epoch[i])\n",
    "    name = ID_f_b_epoch[i]\n",
    "    variable_first = mne.read_epochs(name, proj=True, preload=True, verbose=None)#читаем запись \n",
    "    spectrum = variable_first.compute_psd(method='welch', fmin=13, fmax=30, tmin=None, tmax=None, proj=False, n_jobs=1, verbose=None)#считаем PSD\n",
    "    psds, freqs = spectrum.get_data(return_freqs=True)#Получите все эпохи в виде 3D-массива\n",
    "\n",
    "    # Find corresponding indices using mne.pick_types() \n",
    "    # mne.pick_types определяет индексы каналов ЭЭГ для обращения\n",
    "    picks_roi_vis = mne.pick_types(variable_first.info, eeg=True, stim=False, exclude='bads', selection=[\"C3\"])\n",
    "    psds_mean=np.mean(psds, axis=0)#cчитаем сред знач Эпох\n",
    "    psds_target = psds_mean[picks_roi_vis]#СОЗДАЕМ СПИСОК ИНДЕКСОВ \n",
    "    psd_variable_first = 10 * np.log10(psds_target.mean())#считаем PSD для подсчета \n",
    "    ID_namber = [ID_f_b_epoch[i]]\n",
    "    data_variable_first.append(psd_variable_first)\n",
    "    data_id.append(ID_namber)\n",
    "    print(ID_f_b_epoch[i], f'{psd_variable_first}')\n",
    "    \n",
    "    psds_target_list.append(psds_target[0])#создаем список (списков?) нужных нам отведений \n",
    "    #ax.plot(freqs, psds_target[0], color='white', alpha=0.1, label=f\"PSD {ID[i]}_all_epochs_new_fractal.fif: {psd_variable_first:.2f}\")\n",
    "av_psds_target_list =  np.mean(np.array(psds_target_list), axis=0)#считается усред PSD                             \n",
    "ax.plot(freqs,  av_psds_target_list, color='b')\n",
    "avr_PSD_variable_first = 10 * np.log10(av_psds_target_list.mean())#Считается усред PSD для принта \n",
    "df = pd.DataFrame({\"ID\": data_id, \"PSD\": data_variable_first})\n",
    "print(f'avr_PSD_variable_first = {avr_PSD_variable_first}')\n",
    "print(data_variable_first)\n",
    "print(data_id)\n",
    "print(df)\n",
    "df.to_excel('D:/all_eeg/mu_eeg/obrabot/общие графики/эпохи PSD для фракталов (С3(13-30Гц)).xlsx', index=False)\n",
    "\n",
    "#второе условие Название:   \n",
    "psds_target_list = []\n",
    "data_variable_second = []\n",
    "data_id_2 = []\n",
    "\n",
    "for i in range(len(ID_f_s_epoch)):\n",
    "    print(ID_f_s_epoch[i])\n",
    "    name = ID_f_s_epoch[i]\n",
    "    variable_second = mne.read_epochs(name, proj=True, preload=True, verbose=None)\n",
    "    spectrum = variable_second.compute_psd(method='welch', fmin=13, fmax=30, tmin=None, tmax=None, proj=False, n_jobs=1, verbose=None)\n",
    "    psds, freqs = spectrum.get_data(return_freqs=True)\n",
    "\n",
    "    # Find corresponding indices using mne.pick_types() \n",
    "    picks_roi_vis = mne.pick_types(variable_second.info, eeg=True, stim=False, exclude='bads', selection=[\"C3\"])\n",
    "    psds_mean=np.mean(psds, axis=0)   \n",
    "    psds_target = psds_mean[picks_roi_vis]\n",
    "    psd_variable_second = 10 * np.log10(psds_target.mean()) \n",
    "    ID_namber_2 = [ID_f_s_epoch[i]]\n",
    "    data_variable_second.append(psd_variable_second)\n",
    "    data_id_2.append(ID_namber_2)\n",
    "    print(ID_f_s_epoch[i], f'{psd_variable_second}')\n",
    "    \n",
    "    \n",
    "    psds_target_list.append(psds_target[0])\n",
    "    #ax.plot(freqs, psds_target[0], color='white', alpha=0.1, label=f\"PSD {ID[i]}_all_epochs_new_fractal_audio.fif: {psd_variable_second:.2f}\")\n",
    "av_psds_target_list =  np.mean(np.array(psds_target_list), axis=0)                              \n",
    "ax.plot(freqs,  av_psds_target_list, '--b')\n",
    "avr_PSD_variable_second = 10 * np.log10(av_psds_target_list.mean()) \n",
    "df = pd.DataFrame({\"ID\": data_id_2, \"PSD\": data_variable_second})\n",
    "print(f'avr_PSD_variable_second = {avr_PSD_variable_second}')\n",
    "print(data_variable_second)\n",
    "print(data_id_2)\n",
    "print(df)\n",
    "df.to_excel('D:/all_eeg/mu_eeg/obrabot/общие графики/эпохи PSD для фракталов с аудио (С3(13-30Гц)).xlsx', index=False)\n",
    "\n",
    "\n",
    "#третье условие Название:   \n",
    "\n",
    "os.chdir('D:/all_eeg/mu_eeg/chernovik_2/mu1_and_mu2_3-4_years_preprocecc/MU_hg_epoch (1)/MU_hg_epoch (1)/')\n",
    "psds_target_list = []\n",
    "data_variable_second = []\n",
    "data_id_3 = []\n",
    "\n",
    "for i in range(len(ID_PHC_epoch)):\n",
    "    print(ID_PHC_epoch[i])\n",
    "    name = ID_PHC_epoch[i]\n",
    "    variable_second = mne.read_epochs(name, proj=True, preload=True, verbose=None)\n",
    "    spectrum = variable_second.compute_psd(method='welch', fmin=13, fmax=30, tmin=None, tmax=None, proj=False, n_jobs=1, verbose=None)\n",
    "    psds, freqs = spectrum.get_data(return_freqs=True)\n",
    "\n",
    "    # Find corresponding indices using mne.pick_types() \n",
    "    picks_roi_vis = mne.pick_types(variable_second.info, eeg=True, stim=False, exclude='bads', selection=[\"C3\"])\n",
    "    psds_mean=np.mean(psds, axis=0)   \n",
    "    psds_target = psds_mean[picks_roi_vis]\n",
    "    psd_variable_second = 10 * np.log10(psds_target.mean()) \n",
    "    ID_namber_3 = [ID_PHC_epoch[i]]\n",
    "    data_variable_second.append(psd_variable_second)\n",
    "    data_id_3.append(ID_namber_3)\n",
    "    print(ID_PHC_epoch[i], f'{psd_variable_second}')\n",
    "    \n",
    "    \n",
    "    psds_target_list.append(psds_target[0])\n",
    "    #ax.plot(freqs, psds_target[0], color='white', alpha=0.1, label=f\"PSD {ID[i]}_all_epochs_new_fractal_audio.fif: {psd_variable_second:.2f}\")\n",
    "av_psds_target_list =  np.mean(np.array(psds_target_list), axis=0)                              \n",
    "ax.plot(freqs,  av_psds_target_list, 'g')\n",
    "avr_PSD_variable_second = 10 * np.log10(av_psds_target_list.mean()) \n",
    "df = pd.DataFrame({\"ID\": data_id_3, \"PSD\": data_variable_second})\n",
    "print(f'avr_PSD_variable_second = {avr_PSD_variable_second}')\n",
    "print(data_variable_second)\n",
    "print(data_id_3)\n",
    "print(df)\n",
    "df.to_excel('D:/all_eeg/mu_eeg/obrabot/общие графики/эпохи PSD пассивного сжатия руки(С3(13-30Гц)).xlsx', index=False)\n",
    "\n",
    "#четвертое условие Название:   - отредактировать!\n",
    "\n",
    "psds_target_list = []\n",
    "data_variable_second = []\n",
    "data_id_4 = []\n",
    "\n",
    "for i in range(len(ID_CE_epoch)):\n",
    "    print(ID_CE_epoch[i])\n",
    "    name = ID_CE_epoch[i]\n",
    "    variable_second = mne.read_epochs(name, proj=True, preload=True, verbose=None)\n",
    "    spectrum = variable_second.compute_psd(method='welch', fmin=13, fmax=30, tmin=None, tmax=None, proj=False, n_jobs=1, verbose=None)\n",
    "    psds, freqs = spectrum.get_data(return_freqs=True)\n",
    "\n",
    "    # Find corresponding indices using mne.pick_types() \n",
    "    picks_roi_vis = mne.pick_types(variable_second.info, eeg=True, stim=False, exclude='bads', selection=[\"C3\"])\n",
    "    psds_mean=np.mean(psds, axis=0)   \n",
    "    psds_target = psds_mean[picks_roi_vis]\n",
    "    psd_variable_second = 10 * np.log10(psds_target.mean()) \n",
    "    ID_namber_4 = [ID_CE_epoch[i]]\n",
    "    data_variable_second.append(psd_variable_second)\n",
    "    data_id_4.append(ID_namber_4)\n",
    "    print(ID_CE_epoch[i], f'{psd_variable_second}')\n",
    "    \n",
    "    \n",
    "    psds_target_list.append(psds_target[0])\n",
    "    #ax.plot(freqs, psds_target[0], color='white', alpha=0.1, label=f\"PSD {ID[i]}_all_epochs_new_fractal_audio.fif: {psd_variable_second:.2f}\")\n",
    "av_psds_target_list =  np.mean(np.array(psds_target_list), axis=0)                              \n",
    "ax.plot(freqs,  av_psds_target_list, 'k')\n",
    "avr_PSD_variable_second = 10 * np.log10(av_psds_target_list.mean()) \n",
    "df = pd.DataFrame({\"ID\": data_id_4, \"PSD\": data_variable_second})\n",
    "print(f'avr_PSD_variable_second = {avr_PSD_variable_second}')\n",
    "print(data_variable_second)\n",
    "print(data_id_4)\n",
    "print(df)\n",
    "df.to_excel('D:/all_eeg/mu_eeg/obrabot/общие графики/эпохи PSD закрытые глаза(С3(13-30Гц)).xlsx', index=False)\n",
    "\n",
    "# выводим легенду и оси\n",
    "ax.legend()\n",
    "ax.set_xlabel('Freguency (Hz)')\n",
    "ax.set_ylabel('PSD (fT/cm)^2/Hz (dB)')\n",
    "ax.set_title(f'PSD для 4 условий, 13-30Гц, С3 {len(ID_f_b_epoch)} человек. avr_PSD_var_first = {avr_PSD_variable_first}, avr_PSD_var_second  = {avr_PSD_variable_second}')\n",
    "ax.grid(True)\n",
    "\n",
    "plt.show()\n"
   ]
  },
  {
   "cell_type": "code",
   "execution_count": 57,
   "id": "6440b9dc",
   "metadata": {},
   "outputs": [],
   "source": [
    "# с4 13-30 "
   ]
  },
  {
   "cell_type": "code",
   "execution_count": 58,
   "id": "048ada08",
   "metadata": {},
   "outputs": [
    {
     "name": "stdout",
     "output_type": "stream",
     "text": [
      "NP042303_NL_2_fractal_before_epoch.fif\n",
      "Reading D:\\all_eeg\\mu_eeg\\chernovik_2\\NL_2_3-4_years_preprocecc\\NL2_hg_epoch\\NL2_hg_epoch\\NP042303_NL_2_fractal_before_epoch.fif ...\n",
      "    Found the data of interest:\n",
      "        t =       0.00 ...    1998.00 ms\n",
      "        0 CTF compensation matrices available\n",
      "Not setting metadata\n",
      "22 matching events found\n",
      "No baseline correction applied\n",
      "0 projection items activated\n",
      "Effective window size : 2.000 (s)\n",
      "NP042303_NL_2_fractal_before_epoch.fif -124.7741487961804\n",
      "NP042304_NL_2_fractal_before_epoch.fif\n",
      "Reading D:\\all_eeg\\mu_eeg\\chernovik_2\\NL_2_3-4_years_preprocecc\\NL2_hg_epoch\\NL2_hg_epoch\\NP042304_NL_2_fractal_before_epoch.fif ...\n",
      "    Found the data of interest:\n",
      "        t =       0.00 ...    1998.00 ms\n",
      "        0 CTF compensation matrices available\n",
      "Not setting metadata\n",
      "15 matching events found\n",
      "No baseline correction applied\n",
      "0 projection items activated\n",
      "Effective window size : 2.000 (s)\n",
      "NP042304_NL_2_fractal_before_epoch.fif -120.73928878045214\n",
      "NP042306_NL_2_fractal_before_epoch.fif\n"
     ]
    },
    {
     "name": "stderr",
     "output_type": "stream",
     "text": [
      "C:\\Users\\chuba\\AppData\\Local\\Temp\\ipykernel_4080\\2541085265.py:14: RuntimeWarning: This filename (NP042303_NL_2_fractal_before_epoch.fif) does not conform to MNE naming conventions. All epochs files should end with -epo.fif, -epo.fif.gz, _epo.fif or _epo.fif.gz\n",
      "  variable_first = mne.read_epochs(name, proj=True, preload=True, verbose=None)#читаем запись\n",
      "C:\\Users\\chuba\\AppData\\Local\\Temp\\ipykernel_4080\\2541085265.py:14: RuntimeWarning: This filename (NP042304_NL_2_fractal_before_epoch.fif) does not conform to MNE naming conventions. All epochs files should end with -epo.fif, -epo.fif.gz, _epo.fif or _epo.fif.gz\n",
      "  variable_first = mne.read_epochs(name, proj=True, preload=True, verbose=None)#читаем запись\n",
      "C:\\Users\\chuba\\AppData\\Local\\Temp\\ipykernel_4080\\2541085265.py:14: RuntimeWarning: This filename (NP042306_NL_2_fractal_before_epoch.fif) does not conform to MNE naming conventions. All epochs files should end with -epo.fif, -epo.fif.gz, _epo.fif or _epo.fif.gz\n",
      "  variable_first = mne.read_epochs(name, proj=True, preload=True, verbose=None)#читаем запись\n"
     ]
    },
    {
     "name": "stdout",
     "output_type": "stream",
     "text": [
      "Reading D:\\all_eeg\\mu_eeg\\chernovik_2\\NL_2_3-4_years_preprocecc\\NL2_hg_epoch\\NL2_hg_epoch\\NP042306_NL_2_fractal_before_epoch.fif ...\n",
      "    Found the data of interest:\n",
      "        t =       0.00 ...    1998.00 ms\n",
      "        0 CTF compensation matrices available\n",
      "Not setting metadata\n",
      "22 matching events found\n",
      "No baseline correction applied\n",
      "0 projection items activated\n",
      "Effective window size : 2.000 (s)\n",
      "NP042306_NL_2_fractal_before_epoch.fif -123.11426489745246\n",
      "NP042307_NL_2_fractal_before_epoch.fif\n",
      "Reading D:\\all_eeg\\mu_eeg\\chernovik_2\\NL_2_3-4_years_preprocecc\\NL2_hg_epoch\\NL2_hg_epoch\\NP042307_NL_2_fractal_before_epoch.fif ...\n",
      "    Found the data of interest:\n",
      "        t =       0.00 ...    1998.00 ms\n",
      "        0 CTF compensation matrices available\n",
      "Not setting metadata\n",
      "19 matching events found\n",
      "No baseline correction applied\n",
      "0 projection items activated\n",
      "Effective window size : 2.000 (s)\n",
      "NP042307_NL_2_fractal_before_epoch.fif -121.19002083947295\n",
      "NP042309_NL_2_fractal_before_epoch.fif\n",
      "Reading D:\\all_eeg\\mu_eeg\\chernovik_2\\NL_2_3-4_years_preprocecc\\NL2_hg_epoch\\NL2_hg_epoch\\NP042309_NL_2_fractal_before_epoch.fif ...\n",
      "    Found the data of interest:\n",
      "        t =       0.00 ...    1998.00 ms\n",
      "        0 CTF compensation matrices available\n",
      "Not setting metadata\n",
      "13 matching events found\n",
      "No baseline correction applied\n",
      "0 projection items activated\n",
      "Effective window size : 2.000 (s)\n",
      "NP042309_NL_2_fractal_before_epoch.fif"
     ]
    },
    {
     "name": "stderr",
     "output_type": "stream",
     "text": [
      "C:\\Users\\chuba\\AppData\\Local\\Temp\\ipykernel_4080\\2541085265.py:14: RuntimeWarning: This filename (NP042307_NL_2_fractal_before_epoch.fif) does not conform to MNE naming conventions. All epochs files should end with -epo.fif, -epo.fif.gz, _epo.fif or _epo.fif.gz\n",
      "  variable_first = mne.read_epochs(name, proj=True, preload=True, verbose=None)#читаем запись\n",
      "C:\\Users\\chuba\\AppData\\Local\\Temp\\ipykernel_4080\\2541085265.py:14: RuntimeWarning: This filename (NP042309_NL_2_fractal_before_epoch.fif) does not conform to MNE naming conventions. All epochs files should end with -epo.fif, -epo.fif.gz, _epo.fif or _epo.fif.gz\n",
      "  variable_first = mne.read_epochs(name, proj=True, preload=True, verbose=None)#читаем запись\n"
     ]
    },
    {
     "name": "stdout",
     "output_type": "stream",
     "text": [
      " -120.18617918117647\n",
      "NP042317_NL_2_fractal_before_epoch.fif\n",
      "Reading D:\\all_eeg\\mu_eeg\\chernovik_2\\NL_2_3-4_years_preprocecc\\NL2_hg_epoch\\NL2_hg_epoch\\NP042317_NL_2_fractal_before_epoch.fif ...\n",
      "    Found the data of interest:\n",
      "        t =       0.00 ...    1998.00 ms\n",
      "        0 CTF compensation matrices available\n",
      "Not setting metadata\n",
      "22 matching events found\n",
      "No baseline correction applied\n",
      "0 projection items activated\n",
      "Effective window size : 2.000 (s)\n",
      "NP042317_NL_2_fractal_before_epoch.fif -123.7822213846181\n",
      "NP042331_NL_2_fractal_before_epoch.fif\n",
      "Reading D:\\all_eeg\\mu_eeg\\chernovik_2\\NL_2_3-4_years_preprocecc\\NL2_hg_epoch\\NL2_hg_epoch\\NP042331_NL_2_fractal_before_epoch.fif ...\n",
      "    Found the data of interest:\n",
      "        t =       0.00 ...    1998.00 ms\n",
      "        0 CTF compensation matrices available\n",
      "Not setting metadata\n",
      "22 matching events found\n",
      "No baseline correction applied\n",
      "0 projection items activated\n",
      "Effective window size : 2.000 (s)\n",
      "NP042331_NL_2_fractal_before_epoch.fif -123.28620891514647\n",
      "NP052310_NL_2_fractal_before_epoch.fif\n",
      "Reading D:\\all_eeg\\mu_eeg\\chernovik_2\\NL_2_3-4_years_preprocecc\\NL2_hg_epoch\\NL2_hg_epoch\\NP052310_NL_2_fractal_before_epoch.fif ...\n",
      "    Found the data of interest:\n",
      "        t =       0.00 ...    1998.00 ms\n",
      "        0 CTF compensation matrices available\n",
      "Not setting metadata\n",
      "15 matching events found\n",
      "No baseline correction applied\n",
      "0 projection items activated\n",
      "Effective window size : 2.000 (s)\n"
     ]
    },
    {
     "name": "stderr",
     "output_type": "stream",
     "text": [
      "C:\\Users\\chuba\\AppData\\Local\\Temp\\ipykernel_4080\\2541085265.py:14: RuntimeWarning: This filename (NP042317_NL_2_fractal_before_epoch.fif) does not conform to MNE naming conventions. All epochs files should end with -epo.fif, -epo.fif.gz, _epo.fif or _epo.fif.gz\n",
      "  variable_first = mne.read_epochs(name, proj=True, preload=True, verbose=None)#читаем запись\n",
      "C:\\Users\\chuba\\AppData\\Local\\Temp\\ipykernel_4080\\2541085265.py:14: RuntimeWarning: This filename (NP042331_NL_2_fractal_before_epoch.fif) does not conform to MNE naming conventions. All epochs files should end with -epo.fif, -epo.fif.gz, _epo.fif or _epo.fif.gz\n",
      "  variable_first = mne.read_epochs(name, proj=True, preload=True, verbose=None)#читаем запись\n",
      "C:\\Users\\chuba\\AppData\\Local\\Temp\\ipykernel_4080\\2541085265.py:14: RuntimeWarning: This filename (NP052310_NL_2_fractal_before_epoch.fif) does not conform to MNE naming conventions. All epochs files should end with -epo.fif, -epo.fif.gz, _epo.fif or _epo.fif.gz\n",
      "  variable_first = mne.read_epochs(name, proj=True, preload=True, verbose=None)#читаем запись\n",
      "C:\\Users\\chuba\\AppData\\Local\\Temp\\ipykernel_4080\\2541085265.py:14: RuntimeWarning: This filename (NP052315_NL_2_fractal_before_epoch.fif) does not conform to MNE naming conventions. All epochs files should end with -epo.fif, -epo.fif.gz, _epo.fif or _epo.fif.gz\n",
      "  variable_first = mne.read_epochs(name, proj=True, preload=True, verbose=None)#читаем запись\n"
     ]
    },
    {
     "name": "stdout",
     "output_type": "stream",
     "text": [
      "NP052310_NL_2_fractal_before_epoch.fif -121.2785595924228\n",
      "NP052315_NL_2_fractal_before_epoch.fif\n",
      "Reading D:\\all_eeg\\mu_eeg\\chernovik_2\\NL_2_3-4_years_preprocecc\\NL2_hg_epoch\\NL2_hg_epoch\\NP052315_NL_2_fractal_before_epoch.fif ...\n",
      "    Found the data of interest:\n",
      "        t =       0.00 ...    1998.00 ms\n",
      "        0 CTF compensation matrices available\n",
      "Not setting metadata\n",
      "15 matching events found\n",
      "No baseline correction applied\n",
      "0 projection items activated\n",
      "Effective window size : 2.000 (s)\n",
      "NP052315_NL_2_fractal_before_epoch.fif -123.2301563145915\n",
      "NP062306_NL_2_fractal_before_epoch.fif\n",
      "Reading D:\\all_eeg\\mu_eeg\\chernovik_2\\NL_2_3-4_years_preprocecc\\NL2_hg_epoch\\NL2_hg_epoch\\NP062306_NL_2_fractal_before_epoch.fif ...\n",
      "    Found the data of interest:\n",
      "        t =       0.00 ...    1998.00 ms\n",
      "        0 CTF compensation matrices available\n",
      "Not setting metadata\n",
      "15 matching events found\n",
      "No baseline correction applied\n",
      "0 projection items activated\n",
      "Effective window size : 2.000 (s)\n",
      "NP062306_NL_2_fractal_before_epoch.fif -122.81570048333708\n",
      "NP112314_NL_2_fractal_before_epoch.fif\n",
      "Reading D:\\all_eeg\\mu_eeg\\chernovik_2\\NL_2_3-4_years_preprocecc\\NL2_hg_epoch\\NL2_hg_epoch\\NP112314_NL_2_fractal_before_epoch.fif ...\n",
      "    Found the data of interest:\n",
      "        t =       0.00 ...    1998.00 ms\n",
      "        0 CTF compensation matrices available\n",
      "Not setting metadata\n",
      "21 matching events found\n",
      "No baseline correction applied\n",
      "0 projection items activated\n",
      "Effective window size : 2.000 (s)\n",
      "NP112314_NL_2_fractal_before_epoch.fif -121.14720862984126\n",
      "NP112317_NL_2_fractal_before_epoch.fif\n"
     ]
    },
    {
     "name": "stderr",
     "output_type": "stream",
     "text": [
      "C:\\Users\\chuba\\AppData\\Local\\Temp\\ipykernel_4080\\2541085265.py:14: RuntimeWarning: This filename (NP062306_NL_2_fractal_before_epoch.fif) does not conform to MNE naming conventions. All epochs files should end with -epo.fif, -epo.fif.gz, _epo.fif or _epo.fif.gz\n",
      "  variable_first = mne.read_epochs(name, proj=True, preload=True, verbose=None)#читаем запись\n",
      "C:\\Users\\chuba\\AppData\\Local\\Temp\\ipykernel_4080\\2541085265.py:14: RuntimeWarning: This filename (NP112314_NL_2_fractal_before_epoch.fif) does not conform to MNE naming conventions. All epochs files should end with -epo.fif, -epo.fif.gz, _epo.fif or _epo.fif.gz\n",
      "  variable_first = mne.read_epochs(name, proj=True, preload=True, verbose=None)#читаем запись\n",
      "C:\\Users\\chuba\\AppData\\Local\\Temp\\ipykernel_4080\\2541085265.py:14: RuntimeWarning: This filename (NP112317_NL_2_fractal_before_epoch.fif) does not conform to MNE naming conventions. All epochs files should end with -epo.fif, -epo.fif.gz, _epo.fif or _epo.fif.gz\n",
      "  variable_first = mne.read_epochs(name, proj=True, preload=True, verbose=None)#читаем запись\n"
     ]
    },
    {
     "name": "stdout",
     "output_type": "stream",
     "text": [
      "Reading D:\\all_eeg\\mu_eeg\\chernovik_2\\NL_2_3-4_years_preprocecc\\NL2_hg_epoch\\NL2_hg_epoch\\NP112317_NL_2_fractal_before_epoch.fif ...\n",
      "    Found the data of interest:\n",
      "        t =       0.00 ...    1998.00 ms\n",
      "        0 CTF compensation matrices available\n",
      "Not setting metadata\n",
      "22 matching events found\n",
      "No baseline correction applied\n",
      "0 projection items activated\n",
      "Effective window size : 2.000 (s)\n",
      "NP112317_NL_2_fractal_before_epoch.fif -122.86184774789767\n",
      "NP112318_NL_2_fractal_before_epoch.fif\n",
      "Reading D:\\all_eeg\\mu_eeg\\chernovik_2\\NL_2_3-4_years_preprocecc\\NL2_hg_epoch\\NL2_hg_epoch\\NP112318_NL_2_fractal_before_epoch.fif ...\n",
      "    Found the data of interest:\n",
      "        t =       0.00 ...    1998.00 ms\n",
      "        0 CTF compensation matrices available\n",
      "Not setting metadata\n",
      "22 matching events found\n",
      "No baseline correction applied\n",
      "0 projection items activated\n",
      "Effective window size : 2.000 (s)\n",
      "NP112318_NL_2_fractal_before_epoch.fif -121.96105415417668\n",
      "NP112321_NL_2_fractal_before_epoch.fif\n",
      "Reading D:\\all_eeg\\mu_eeg\\chernovik_2\\NL_2_3-4_years_preprocecc\\NL2_hg_epoch\\NL2_hg_epoch\\NP112321_NL_2_fractal_before_epoch.fif ...\n",
      "    Found the data of interest:\n",
      "        t =       0.00 ...    1998.00 ms\n",
      "        0 CTF compensation matrices available\n",
      "Not setting metadata\n",
      "14 matching events found\n",
      "No baseline correction applied\n",
      "0 projection items activated\n",
      "Effective window size : 2.000 (s)\n",
      "NP112321_NL_2_fractal_before_epoch.fif -123.78195073583518\n"
     ]
    },
    {
     "name": "stderr",
     "output_type": "stream",
     "text": [
      "C:\\Users\\chuba\\AppData\\Local\\Temp\\ipykernel_4080\\2541085265.py:14: RuntimeWarning: This filename (NP112318_NL_2_fractal_before_epoch.fif) does not conform to MNE naming conventions. All epochs files should end with -epo.fif, -epo.fif.gz, _epo.fif or _epo.fif.gz\n",
      "  variable_first = mne.read_epochs(name, proj=True, preload=True, verbose=None)#читаем запись\n",
      "C:\\Users\\chuba\\AppData\\Local\\Temp\\ipykernel_4080\\2541085265.py:14: RuntimeWarning: This filename (NP112321_NL_2_fractal_before_epoch.fif) does not conform to MNE naming conventions. All epochs files should end with -epo.fif, -epo.fif.gz, _epo.fif or _epo.fif.gz\n",
      "  variable_first = mne.read_epochs(name, proj=True, preload=True, verbose=None)#читаем запись\n"
     ]
    },
    {
     "name": "stdout",
     "output_type": "stream",
     "text": [
      "avr_PSD_variable_first = -122.24201657613564\n",
      "[-124.7741487961804, -120.73928878045214, -123.11426489745246, -121.19002083947295, -120.18617918117647, -123.7822213846181, -123.28620891514647, -121.2785595924228, -123.2301563145915, -122.81570048333708, -121.14720862984126, -122.86184774789767, -121.96105415417668, -123.78195073583518]\n",
      "[['NP042303_NL_2_fractal_before_epoch.fif'], ['NP042304_NL_2_fractal_before_epoch.fif'], ['NP042306_NL_2_fractal_before_epoch.fif'], ['NP042307_NL_2_fractal_before_epoch.fif'], ['NP042309_NL_2_fractal_before_epoch.fif'], ['NP042317_NL_2_fractal_before_epoch.fif'], ['NP042331_NL_2_fractal_before_epoch.fif'], ['NP052310_NL_2_fractal_before_epoch.fif'], ['NP052315_NL_2_fractal_before_epoch.fif'], ['NP062306_NL_2_fractal_before_epoch.fif'], ['NP112314_NL_2_fractal_before_epoch.fif'], ['NP112317_NL_2_fractal_before_epoch.fif'], ['NP112318_NL_2_fractal_before_epoch.fif'], ['NP112321_NL_2_fractal_before_epoch.fif']]\n",
      "                                          ID         PSD\n",
      "0   [NP042303_NL_2_fractal_before_epoch.fif] -124.774149\n",
      "1   [NP042304_NL_2_fractal_before_epoch.fif] -120.739289\n",
      "2   [NP042306_NL_2_fractal_before_epoch.fif] -123.114265\n",
      "3   [NP042307_NL_2_fractal_before_epoch.fif] -121.190021\n",
      "4   [NP042309_NL_2_fractal_before_epoch.fif] -120.186179\n",
      "5   [NP042317_NL_2_fractal_before_epoch.fif] -123.782221\n",
      "6   [NP042331_NL_2_fractal_before_epoch.fif] -123.286209\n",
      "7   [NP052310_NL_2_fractal_before_epoch.fif] -121.278560\n",
      "8   [NP052315_NL_2_fractal_before_epoch.fif] -123.230156\n",
      "9   [NP062306_NL_2_fractal_before_epoch.fif] -122.815700\n",
      "10  [NP112314_NL_2_fractal_before_epoch.fif] -121.147209\n",
      "11  [NP112317_NL_2_fractal_before_epoch.fif] -122.861848\n",
      "12  [NP112318_NL_2_fractal_before_epoch.fif] -121.961054\n",
      "13  [NP112321_NL_2_fractal_before_epoch.fif] -123.781951\n",
      "NP042303_NL_2_fractal_story_epoch.fif\n",
      "Reading D:\\all_eeg\\mu_eeg\\chernovik_2\\NL_2_3-4_years_preprocecc\\NL2_hg_epoch\\NL2_hg_epoch\\NP042303_NL_2_fractal_story_epoch.fif ...\n",
      "    Found the data of interest:\n",
      "        t =       0.00 ...    1998.00 ms\n",
      "        0 CTF compensation matrices available\n",
      "Not setting metadata\n",
      "29 matching events found\n",
      "No baseline correction applied\n",
      "0 projection items activated\n",
      "Effective window size : 2.000 (s)\n",
      "NP042303_NL_2_fractal_story_epoch.fif -124.5774916809019\n",
      "NP042304_NL_2_fractal_story_epoch.fif\n",
      "Reading D:\\all_eeg\\mu_eeg\\chernovik_2\\NL_2_3-4_years_preprocecc\\NL2_hg_epoch\\NL2_hg_epoch\\NP042304_NL_2_fractal_story_epoch.fif ...\n",
      "    Found the data of interest:\n",
      "        t =       0.00 ...    1998.00 ms\n",
      "        0 CTF compensation matrices available\n",
      "Not setting metadata\n",
      "14 matching events found\n",
      "No baseline correction applied\n",
      "0 projection items activated\n",
      "Effective window size : 2.000 (s)\n"
     ]
    },
    {
     "name": "stderr",
     "output_type": "stream",
     "text": [
      "C:\\Users\\chuba\\AppData\\Local\\Temp\\ipykernel_4080\\2541085265.py:49: RuntimeWarning: This filename (NP042303_NL_2_fractal_story_epoch.fif) does not conform to MNE naming conventions. All epochs files should end with -epo.fif, -epo.fif.gz, _epo.fif or _epo.fif.gz\n",
      "  variable_second = mne.read_epochs(name, proj=True, preload=True, verbose=None)\n",
      "C:\\Users\\chuba\\AppData\\Local\\Temp\\ipykernel_4080\\2541085265.py:49: RuntimeWarning: This filename (NP042304_NL_2_fractal_story_epoch.fif) does not conform to MNE naming conventions. All epochs files should end with -epo.fif, -epo.fif.gz, _epo.fif or _epo.fif.gz\n",
      "  variable_second = mne.read_epochs(name, proj=True, preload=True, verbose=None)\n"
     ]
    },
    {
     "name": "stdout",
     "output_type": "stream",
     "text": [
      "NP042304_NL_2_fractal_story_epoch.fif -121.25295150223087\n",
      "NP042306_NL_2_fractal_story_epoch.fif\n",
      "Reading D:\\all_eeg\\mu_eeg\\chernovik_2\\NL_2_3-4_years_preprocecc\\NL2_hg_epoch\\NL2_hg_epoch\\NP042306_NL_2_fractal_story_epoch.fif ...\n",
      "    Found the data of interest:\n",
      "        t =       0.00 ...    1998.00 ms\n",
      "        0 CTF compensation matrices available\n",
      "Not setting metadata\n",
      "29 matching events found\n",
      "No baseline correction applied\n",
      "0 projection items activated\n",
      "Effective window size : 2.000 (s)\n",
      "NP042306_NL_2_fractal_story_epoch.fif -123.08264647688546\n",
      "NP042307_NL_2_fractal_story_epoch.fif\n",
      "Reading D:\\all_eeg\\mu_eeg\\chernovik_2\\NL_2_3-4_years_preprocecc\\NL2_hg_epoch\\NL2_hg_epoch\\NP042307_NL_2_fractal_story_epoch.fif ...\n",
      "    Found the data of interest:\n",
      "        t =       0.00 ...    1998.00 ms\n",
      "        0 CTF compensation matrices available\n",
      "Not setting metadata\n",
      "26 matching events found\n",
      "No baseline correction applied\n",
      "0 projection items activated\n",
      "Effective window size : 2.000 (s)\n"
     ]
    },
    {
     "name": "stderr",
     "output_type": "stream",
     "text": [
      "C:\\Users\\chuba\\AppData\\Local\\Temp\\ipykernel_4080\\2541085265.py:49: RuntimeWarning: This filename (NP042306_NL_2_fractal_story_epoch.fif) does not conform to MNE naming conventions. All epochs files should end with -epo.fif, -epo.fif.gz, _epo.fif or _epo.fif.gz\n",
      "  variable_second = mne.read_epochs(name, proj=True, preload=True, verbose=None)\n",
      "C:\\Users\\chuba\\AppData\\Local\\Temp\\ipykernel_4080\\2541085265.py:49: RuntimeWarning: This filename (NP042307_NL_2_fractal_story_epoch.fif) does not conform to MNE naming conventions. All epochs files should end with -epo.fif, -epo.fif.gz, _epo.fif or _epo.fif.gz\n",
      "  variable_second = mne.read_epochs(name, proj=True, preload=True, verbose=None)\n"
     ]
    },
    {
     "name": "stdout",
     "output_type": "stream",
     "text": [
      "NP042307_NL_2_fractal_story_epoch.fif -121.03542319938327\n",
      "NP042309_NL_2_fractal_story_epoch.fif\n",
      "Reading D:\\all_eeg\\mu_eeg\\chernovik_2\\NL_2_3-4_years_preprocecc\\NL2_hg_epoch\\NL2_hg_epoch\\NP042309_NL_2_fractal_story_epoch.fif ...\n",
      "    Found the data of interest:\n",
      "        t =       0.00 ...    1998.00 ms\n",
      "        0 CTF compensation matrices available\n",
      "Not setting metadata\n",
      "19 matching events found\n",
      "No baseline correction applied\n",
      "0 projection items activated\n",
      "Effective window size : 2.000 (s)\n",
      "NP042309_NL_2_fractal_story_epoch.fif -121.00208504670121\n",
      "NP042317_NL_2_fractal_story_epoch.fif\n",
      "Reading D:\\all_eeg\\mu_eeg\\chernovik_2\\NL_2_3-4_years_preprocecc\\NL2_hg_epoch\\NL2_hg_epoch\\NP042317_NL_2_fractal_story_epoch.fif ...\n",
      "    Found the data of interest:\n",
      "        t =       0.00 ...    1998.00 ms\n",
      "        0 CTF compensation matrices available\n",
      "Not setting metadata\n",
      "29 matching events found\n",
      "No baseline correction applied\n",
      "0 projection items activated\n",
      "Effective window size : 2.000 (s)\n"
     ]
    },
    {
     "name": "stderr",
     "output_type": "stream",
     "text": [
      "C:\\Users\\chuba\\AppData\\Local\\Temp\\ipykernel_4080\\2541085265.py:49: RuntimeWarning: This filename (NP042309_NL_2_fractal_story_epoch.fif) does not conform to MNE naming conventions. All epochs files should end with -epo.fif, -epo.fif.gz, _epo.fif or _epo.fif.gz\n",
      "  variable_second = mne.read_epochs(name, proj=True, preload=True, verbose=None)\n",
      "C:\\Users\\chuba\\AppData\\Local\\Temp\\ipykernel_4080\\2541085265.py:49: RuntimeWarning: This filename (NP042317_NL_2_fractal_story_epoch.fif) does not conform to MNE naming conventions. All epochs files should end with -epo.fif, -epo.fif.gz, _epo.fif or _epo.fif.gz\n",
      "  variable_second = mne.read_epochs(name, proj=True, preload=True, verbose=None)\n"
     ]
    },
    {
     "name": "stdout",
     "output_type": "stream",
     "text": [
      "NP042317_NL_2_fractal_story_epoch.fif -124.09898981390894\n",
      "NP042331_NL_2_fractal_story_epoch.fif\n",
      "Reading D:\\all_eeg\\mu_eeg\\chernovik_2\\NL_2_3-4_years_preprocecc\\NL2_hg_epoch\\NL2_hg_epoch\\NP042331_NL_2_fractal_story_epoch.fif ...\n",
      "    Found the data of interest:\n",
      "        t =       0.00 ...    1998.00 ms\n",
      "        0 CTF compensation matrices available\n",
      "Not setting metadata\n",
      "29 matching events found\n",
      "No baseline correction applied\n",
      "0 projection items activated\n",
      "Effective window size : 2.000 (s)\n",
      "NP042331_NL_2_fractal_story_epoch.fif -123.19339039826025\n",
      "NP052310_NL_2_fractal_story_epoch.fif\n",
      "Reading D:\\all_eeg\\mu_eeg\\chernovik_2\\NL_2_3-4_years_preprocecc\\NL2_hg_epoch\\NL2_hg_epoch\\NP052310_NL_2_fractal_story_epoch.fif ...\n",
      "    Found the data of interest:\n",
      "        t =       0.00 ...    1998.00 ms\n",
      "        0 CTF compensation matrices available\n",
      "Not setting metadata\n",
      "14 matching events found\n",
      "No baseline correction applied\n",
      "0 projection items activated\n",
      "Effective window size : 2.000 (s)\n",
      "NP052310_NL_2_fractal_story_epoch.fif -120.7687801860166\n",
      "NP052315_NL_2_fractal_story_epoch.fif\n"
     ]
    },
    {
     "name": "stderr",
     "output_type": "stream",
     "text": [
      "C:\\Users\\chuba\\AppData\\Local\\Temp\\ipykernel_4080\\2541085265.py:49: RuntimeWarning: This filename (NP042331_NL_2_fractal_story_epoch.fif) does not conform to MNE naming conventions. All epochs files should end with -epo.fif, -epo.fif.gz, _epo.fif or _epo.fif.gz\n",
      "  variable_second = mne.read_epochs(name, proj=True, preload=True, verbose=None)\n",
      "C:\\Users\\chuba\\AppData\\Local\\Temp\\ipykernel_4080\\2541085265.py:49: RuntimeWarning: This filename (NP052310_NL_2_fractal_story_epoch.fif) does not conform to MNE naming conventions. All epochs files should end with -epo.fif, -epo.fif.gz, _epo.fif or _epo.fif.gz\n",
      "  variable_second = mne.read_epochs(name, proj=True, preload=True, verbose=None)\n",
      "C:\\Users\\chuba\\AppData\\Local\\Temp\\ipykernel_4080\\2541085265.py:49: RuntimeWarning: This filename (NP052315_NL_2_fractal_story_epoch.fif) does not conform to MNE naming conventions. All epochs files should end with -epo.fif, -epo.fif.gz, _epo.fif or _epo.fif.gz\n",
      "  variable_second = mne.read_epochs(name, proj=True, preload=True, verbose=None)\n"
     ]
    },
    {
     "name": "stdout",
     "output_type": "stream",
     "text": [
      "Reading D:\\all_eeg\\mu_eeg\\chernovik_2\\NL_2_3-4_years_preprocecc\\NL2_hg_epoch\\NL2_hg_epoch\\NP052315_NL_2_fractal_story_epoch.fif ...\n",
      "    Found the data of interest:\n",
      "        t =       0.00 ...    1998.00 ms\n",
      "        0 CTF compensation matrices available\n",
      "Not setting metadata\n",
      "14 matching events found\n",
      "No baseline correction applied\n",
      "0 projection items activated\n",
      "Effective window size : 2.000 (s)\n",
      "NP052315_NL_2_fractal_story_epoch.fif -123.67470242095621\n",
      "NP062306_NL_2_fractal_story_epoch.fif\n",
      "Reading D:\\all_eeg\\mu_eeg\\chernovik_2\\NL_2_3-4_years_preprocecc\\NL2_hg_epoch\\NL2_hg_epoch\\NP062306_NL_2_fractal_story_epoch.fif ...\n",
      "    Found the data of interest:\n",
      "        t =       0.00 ...    1998.00 ms\n",
      "        0 CTF compensation matrices available\n",
      "Not setting metadata\n",
      "14 matching events found\n",
      "No baseline correction applied\n",
      "0 projection items activated\n",
      "Effective window size : 2.000 (s)\n",
      "NP062306_NL_2_fractal_story_epoch.fif -123.5229068626689\n",
      "NP112314_NL_2_fractal_story_epoch.fif\n",
      "Reading D:\\all_eeg\\mu_eeg\\chernovik_2\\NL_2_3-4_years_preprocecc\\NL2_hg_epoch\\NL2_hg_epoch\\NP112314_NL_2_fractal_story_epoch.fif ...\n",
      "    Found the data of interest:\n",
      "        t =       0.00 ...    1998.00 ms\n",
      "        0 CTF compensation matrices available\n",
      "Not setting metadata\n",
      "29 matching events found\n",
      "No baseline correction applied\n",
      "0 projection items activated\n",
      "Effective window size : 2.000 (s)\n"
     ]
    },
    {
     "name": "stderr",
     "output_type": "stream",
     "text": [
      "C:\\Users\\chuba\\AppData\\Local\\Temp\\ipykernel_4080\\2541085265.py:49: RuntimeWarning: This filename (NP062306_NL_2_fractal_story_epoch.fif) does not conform to MNE naming conventions. All epochs files should end with -epo.fif, -epo.fif.gz, _epo.fif or _epo.fif.gz\n",
      "  variable_second = mne.read_epochs(name, proj=True, preload=True, verbose=None)\n",
      "C:\\Users\\chuba\\AppData\\Local\\Temp\\ipykernel_4080\\2541085265.py:49: RuntimeWarning: This filename (NP112314_NL_2_fractal_story_epoch.fif) does not conform to MNE naming conventions. All epochs files should end with -epo.fif, -epo.fif.gz, _epo.fif or _epo.fif.gz\n",
      "  variable_second = mne.read_epochs(name, proj=True, preload=True, verbose=None)\n"
     ]
    },
    {
     "name": "stdout",
     "output_type": "stream",
     "text": [
      "NP112314_NL_2_fractal_story_epoch.fif -121.41285299939419\n",
      "NP112317_NL_2_fractal_story_epoch.fif\n",
      "Reading D:\\all_eeg\\mu_eeg\\chernovik_2\\NL_2_3-4_years_preprocecc\\NL2_hg_epoch\\NL2_hg_epoch\\NP112317_NL_2_fractal_story_epoch.fif ...\n",
      "    Found the data of interest:\n",
      "        t =       0.00 ...    1998.00 ms\n",
      "        0 CTF compensation matrices available\n",
      "Not setting metadata\n",
      "29 matching events found\n",
      "No baseline correction applied\n",
      "0 projection items activated\n",
      "Effective window size : 2.000 (s)\n",
      "NP112317_NL_2_fractal_story_epoch.fif -122.76657346780937\n",
      "NP112318_NL_2_fractal_story_epoch.fif\n",
      "Reading D:\\all_eeg\\mu_eeg\\chernovik_2\\NL_2_3-4_years_preprocecc\\NL2_hg_epoch\\NL2_hg_epoch\\NP112318_NL_2_fractal_story_epoch.fif ...\n",
      "    Found the data of interest:\n",
      "        t =       0.00 ...    1998.00 ms\n",
      "        0 CTF compensation matrices available\n",
      "Not setting metadata\n",
      "29 matching events found\n",
      "No baseline correction applied\n",
      "0 projection items activated\n",
      "Effective window size : 2.000 (s)\n"
     ]
    },
    {
     "name": "stderr",
     "output_type": "stream",
     "text": [
      "C:\\Users\\chuba\\AppData\\Local\\Temp\\ipykernel_4080\\2541085265.py:49: RuntimeWarning: This filename (NP112317_NL_2_fractal_story_epoch.fif) does not conform to MNE naming conventions. All epochs files should end with -epo.fif, -epo.fif.gz, _epo.fif or _epo.fif.gz\n",
      "  variable_second = mne.read_epochs(name, proj=True, preload=True, verbose=None)\n",
      "C:\\Users\\chuba\\AppData\\Local\\Temp\\ipykernel_4080\\2541085265.py:49: RuntimeWarning: This filename (NP112318_NL_2_fractal_story_epoch.fif) does not conform to MNE naming conventions. All epochs files should end with -epo.fif, -epo.fif.gz, _epo.fif or _epo.fif.gz\n",
      "  variable_second = mne.read_epochs(name, proj=True, preload=True, verbose=None)\n"
     ]
    },
    {
     "name": "stdout",
     "output_type": "stream",
     "text": [
      "NP112318_NL_2_fractal_story_epoch.fif -121.86483844384115\n",
      "NP112321_NL_2_fractal_story_epoch.fif\n",
      "Reading D:\\all_eeg\\mu_eeg\\chernovik_2\\NL_2_3-4_years_preprocecc\\NL2_hg_epoch\\NL2_hg_epoch\\NP112321_NL_2_fractal_story_epoch.fif ...\n",
      "    Found the data of interest:\n",
      "        t =       0.00 ...    1998.00 ms\n",
      "        0 CTF compensation matrices available\n",
      "Not setting metadata\n",
      "14 matching events found\n",
      "No baseline correction applied\n",
      "0 projection items activated\n",
      "Effective window size : 2.000 (s)\n",
      "NP112321_NL_2_fractal_story_epoch.fif -123.85844516144377\n",
      "avr_PSD_variable_second = -122.39550178477735\n",
      "[-124.5774916809019, -121.25295150223087, -123.08264647688546, -121.03542319938327, -121.00208504670121, -124.09898981390894, -123.19339039826025, -120.7687801860166, -123.67470242095621, -123.5229068626689, -121.41285299939419, -122.76657346780937, -121.86483844384115, -123.85844516144377]\n",
      "[['NP042303_NL_2_fractal_story_epoch.fif'], ['NP042304_NL_2_fractal_story_epoch.fif'], ['NP042306_NL_2_fractal_story_epoch.fif'], ['NP042307_NL_2_fractal_story_epoch.fif'], ['NP042309_NL_2_fractal_story_epoch.fif'], ['NP042317_NL_2_fractal_story_epoch.fif'], ['NP042331_NL_2_fractal_story_epoch.fif'], ['NP052310_NL_2_fractal_story_epoch.fif'], ['NP052315_NL_2_fractal_story_epoch.fif'], ['NP062306_NL_2_fractal_story_epoch.fif'], ['NP112314_NL_2_fractal_story_epoch.fif'], ['NP112317_NL_2_fractal_story_epoch.fif'], ['NP112318_NL_2_fractal_story_epoch.fif'], ['NP112321_NL_2_fractal_story_epoch.fif']]\n",
      "                                         ID         PSD\n",
      "0   [NP042303_NL_2_fractal_story_epoch.fif] -124.577492\n",
      "1   [NP042304_NL_2_fractal_story_epoch.fif] -121.252952\n",
      "2   [NP042306_NL_2_fractal_story_epoch.fif] -123.082646\n",
      "3   [NP042307_NL_2_fractal_story_epoch.fif] -121.035423\n",
      "4   [NP042309_NL_2_fractal_story_epoch.fif] -121.002085\n",
      "5   [NP042317_NL_2_fractal_story_epoch.fif] -124.098990\n",
      "6   [NP042331_NL_2_fractal_story_epoch.fif] -123.193390\n",
      "7   [NP052310_NL_2_fractal_story_epoch.fif] -120.768780\n",
      "8   [NP052315_NL_2_fractal_story_epoch.fif] -123.674702\n",
      "9   [NP062306_NL_2_fractal_story_epoch.fif] -123.522907\n",
      "10  [NP112314_NL_2_fractal_story_epoch.fif] -121.412853\n",
      "11  [NP112317_NL_2_fractal_story_epoch.fif] -122.766573\n",
      "12  [NP112318_NL_2_fractal_story_epoch.fif] -121.864838\n",
      "13  [NP112321_NL_2_fractal_story_epoch.fif] -123.858445\n",
      "NP042303_PCH_epoch.fif\n",
      "Reading D:\\all_eeg\\mu_eeg\\chernovik_2\\mu1_and_mu2_3-4_years_preprocecc\\MU_hg_epoch (1)\\MU_hg_epoch (1)\\NP042303_PCH_epoch.fif ...\n",
      "    Found the data of interest:\n",
      "        t =       0.00 ...    1998.00 ms\n",
      "        0 CTF compensation matrices available\n",
      "Not setting metadata\n",
      "44 matching events found\n",
      "No baseline correction applied\n",
      "0 projection items activated\n",
      "Effective window size : 2.000 (s)\n"
     ]
    },
    {
     "name": "stderr",
     "output_type": "stream",
     "text": [
      "C:\\Users\\chuba\\AppData\\Local\\Temp\\ipykernel_4080\\2541085265.py:49: RuntimeWarning: This filename (NP112321_NL_2_fractal_story_epoch.fif) does not conform to MNE naming conventions. All epochs files should end with -epo.fif, -epo.fif.gz, _epo.fif or _epo.fif.gz\n",
      "  variable_second = mne.read_epochs(name, proj=True, preload=True, verbose=None)\n",
      "C:\\Users\\chuba\\AppData\\Local\\Temp\\ipykernel_4080\\2541085265.py:87: RuntimeWarning: This filename (NP042303_PCH_epoch.fif) does not conform to MNE naming conventions. All epochs files should end with -epo.fif, -epo.fif.gz, _epo.fif or _epo.fif.gz\n",
      "  variable_second = mne.read_epochs(name, proj=True, preload=True, verbose=None)\n"
     ]
    },
    {
     "name": "stdout",
     "output_type": "stream",
     "text": [
      "NP042303_PCH_epoch.fif -124.5333891509221\n",
      "NP042304_PCH_epoch.fif\n",
      "Reading D:\\all_eeg\\mu_eeg\\chernovik_2\\mu1_and_mu2_3-4_years_preprocecc\\MU_hg_epoch (1)\\MU_hg_epoch (1)\\NP042304_PCH_epoch.fif ...\n",
      "    Found the data of interest:\n",
      "        t =       0.00 ...    1998.00 ms\n",
      "        0 CTF compensation matrices available\n",
      "Not setting metadata\n",
      "53 matching events found\n",
      "No baseline correction applied\n",
      "0 projection items activated\n",
      "Effective window size : 2.000 (s)\n"
     ]
    },
    {
     "name": "stderr",
     "output_type": "stream",
     "text": [
      "C:\\Users\\chuba\\AppData\\Local\\Temp\\ipykernel_4080\\2541085265.py:87: RuntimeWarning: This filename (NP042304_PCH_epoch.fif) does not conform to MNE naming conventions. All epochs files should end with -epo.fif, -epo.fif.gz, _epo.fif or _epo.fif.gz\n",
      "  variable_second = mne.read_epochs(name, proj=True, preload=True, verbose=None)\n"
     ]
    },
    {
     "name": "stdout",
     "output_type": "stream",
     "text": [
      "NP042304_PCH_epoch.fif -124.26023519636908\n",
      "NP042306_PCH_epoch.fif\n",
      "Reading D:\\all_eeg\\mu_eeg\\chernovik_2\\mu1_and_mu2_3-4_years_preprocecc\\MU_hg_epoch (1)\\MU_hg_epoch (1)\\NP042306_PCH_epoch.fif ...\n",
      "    Found the data of interest:\n",
      "        t =       0.00 ...    1998.00 ms\n",
      "        0 CTF compensation matrices available\n",
      "Not setting metadata\n",
      "64 matching events found\n",
      "No baseline correction applied\n",
      "0 projection items activated\n",
      "Effective window size : 2.000 (s)\n"
     ]
    },
    {
     "name": "stderr",
     "output_type": "stream",
     "text": [
      "C:\\Users\\chuba\\AppData\\Local\\Temp\\ipykernel_4080\\2541085265.py:87: RuntimeWarning: This filename (NP042306_PCH_epoch.fif) does not conform to MNE naming conventions. All epochs files should end with -epo.fif, -epo.fif.gz, _epo.fif or _epo.fif.gz\n",
      "  variable_second = mne.read_epochs(name, proj=True, preload=True, verbose=None)\n"
     ]
    },
    {
     "name": "stdout",
     "output_type": "stream",
     "text": [
      "NP042306_PCH_epoch.fif -123.75513153707598\n",
      "NP042307_mu1_PCH_epoch.fif\n",
      "Reading D:\\all_eeg\\mu_eeg\\chernovik_2\\mu1_and_mu2_3-4_years_preprocecc\\MU_hg_epoch (1)\\MU_hg_epoch (1)\\NP042307_mu1_PCH_epoch.fif ...\n",
      "    Found the data of interest:\n",
      "        t =       0.00 ...    1998.00 ms\n",
      "        0 CTF compensation matrices available\n",
      "Not setting metadata\n",
      "21 matching events found\n",
      "No baseline correction applied\n",
      "0 projection items activated\n",
      "Effective window size : 2.000 (s)\n",
      "NP042307_mu1_PCH_epoch.fif -123.8063062659624\n",
      "NP042309_PCH_epoch.fif\n",
      "Reading D:\\all_eeg\\mu_eeg\\chernovik_2\\mu1_and_mu2_3-4_years_preprocecc\\MU_hg_epoch (1)\\MU_hg_epoch (1)\\NP042309_PCH_epoch.fif ...\n",
      "    Found the data of interest:\n",
      "        t =       0.00 ...    1998.00 ms\n",
      "        0 CTF compensation matrices available\n",
      "Not setting metadata\n",
      "84 matching events found\n",
      "No baseline correction applied\n",
      "0 projection items activated\n"
     ]
    },
    {
     "name": "stderr",
     "output_type": "stream",
     "text": [
      "C:\\Users\\chuba\\AppData\\Local\\Temp\\ipykernel_4080\\2541085265.py:87: RuntimeWarning: This filename (NP042307_mu1_PCH_epoch.fif) does not conform to MNE naming conventions. All epochs files should end with -epo.fif, -epo.fif.gz, _epo.fif or _epo.fif.gz\n",
      "  variable_second = mne.read_epochs(name, proj=True, preload=True, verbose=None)\n",
      "C:\\Users\\chuba\\AppData\\Local\\Temp\\ipykernel_4080\\2541085265.py:87: RuntimeWarning: This filename (NP042309_PCH_epoch.fif) does not conform to MNE naming conventions. All epochs files should end with -epo.fif, -epo.fif.gz, _epo.fif or _epo.fif.gz\n",
      "  variable_second = mne.read_epochs(name, proj=True, preload=True, verbose=None)\n"
     ]
    },
    {
     "name": "stdout",
     "output_type": "stream",
     "text": [
      "Effective window size : 2.000 (s)\n",
      "NP042309_PCH_epoch.fif -122.02917246023318\n",
      "NP042317_PCH_epoch.fif\n",
      "Reading D:\\all_eeg\\mu_eeg\\chernovik_2\\mu1_and_mu2_3-4_years_preprocecc\\MU_hg_epoch (1)\\MU_hg_epoch (1)\\NP042317_PCH_epoch.fif ...\n",
      "    Found the data of interest:\n",
      "        t =       0.00 ...    1998.00 ms\n",
      "        0 CTF compensation matrices available\n",
      "Not setting metadata\n",
      "79 matching events found\n",
      "No baseline correction applied\n",
      "0 projection items activated\n",
      "Effective window size : 2.000 (s)\n"
     ]
    },
    {
     "name": "stderr",
     "output_type": "stream",
     "text": [
      "C:\\Users\\chuba\\AppData\\Local\\Temp\\ipykernel_4080\\2541085265.py:87: RuntimeWarning: This filename (NP042317_PCH_epoch.fif) does not conform to MNE naming conventions. All epochs files should end with -epo.fif, -epo.fif.gz, _epo.fif or _epo.fif.gz\n",
      "  variable_second = mne.read_epochs(name, proj=True, preload=True, verbose=None)\n"
     ]
    },
    {
     "name": "stdout",
     "output_type": "stream",
     "text": [
      "NP042317_PCH_epoch.fif -124.17160635822326\n",
      "NP042331_PCH_epoch.fif\n",
      "Reading D:\\all_eeg\\mu_eeg\\chernovik_2\\mu1_and_mu2_3-4_years_preprocecc\\MU_hg_epoch (1)\\MU_hg_epoch (1)\\NP042331_PCH_epoch.fif ...\n",
      "    Found the data of interest:\n",
      "        t =       0.00 ...    1998.00 ms\n",
      "        0 CTF compensation matrices available\n",
      "Not setting metadata\n",
      "65 matching events found\n",
      "No baseline correction applied\n",
      "0 projection items activated\n",
      "Effective window size : 2.000 (s)\n"
     ]
    },
    {
     "name": "stderr",
     "output_type": "stream",
     "text": [
      "C:\\Users\\chuba\\AppData\\Local\\Temp\\ipykernel_4080\\2541085265.py:87: RuntimeWarning: This filename (NP042331_PCH_epoch.fif) does not conform to MNE naming conventions. All epochs files should end with -epo.fif, -epo.fif.gz, _epo.fif or _epo.fif.gz\n",
      "  variable_second = mne.read_epochs(name, proj=True, preload=True, verbose=None)\n"
     ]
    },
    {
     "name": "stdout",
     "output_type": "stream",
     "text": [
      "NP042331_PCH_epoch.fif -124.17118861164016\n",
      "NP052310_PCH_epoch.fif\n",
      "Reading D:\\all_eeg\\mu_eeg\\chernovik_2\\mu1_and_mu2_3-4_years_preprocecc\\MU_hg_epoch (1)\\MU_hg_epoch (1)\\NP052310_PCH_epoch.fif ...\n",
      "    Found the data of interest:\n",
      "        t =       0.00 ...    1998.00 ms\n",
      "        0 CTF compensation matrices available\n",
      "Not setting metadata\n",
      "48 matching events found\n",
      "No baseline correction applied\n",
      "0 projection items activated\n",
      "Effective window size : 2.000 (s)\n"
     ]
    },
    {
     "name": "stderr",
     "output_type": "stream",
     "text": [
      "C:\\Users\\chuba\\AppData\\Local\\Temp\\ipykernel_4080\\2541085265.py:87: RuntimeWarning: This filename (NP052310_PCH_epoch.fif) does not conform to MNE naming conventions. All epochs files should end with -epo.fif, -epo.fif.gz, _epo.fif or _epo.fif.gz\n",
      "  variable_second = mne.read_epochs(name, proj=True, preload=True, verbose=None)\n"
     ]
    },
    {
     "name": "stdout",
     "output_type": "stream",
     "text": [
      "NP052310_PCH_epoch.fif -121.17700263396472\n",
      "NP052315_PCH_epoch.fif\n",
      "Reading D:\\all_eeg\\mu_eeg\\chernovik_2\\mu1_and_mu2_3-4_years_preprocecc\\MU_hg_epoch (1)\\MU_hg_epoch (1)\\NP052315_PCH_epoch.fif ...\n",
      "    Found the data of interest:\n",
      "        t =       0.00 ...    1998.00 ms\n",
      "        0 CTF compensation matrices available\n",
      "Not setting metadata\n",
      "40 matching events found\n",
      "No baseline correction applied\n",
      "0 projection items activated\n",
      "Effective window size : 2.000 (s)\n",
      "NP052315_PCH_epoch.fif -123.75329275080045\n",
      "NP062306_PCH_epoch.fif\n",
      "Reading D:\\all_eeg\\mu_eeg\\chernovik_2\\mu1_and_mu2_3-4_years_preprocecc\\MU_hg_epoch (1)\\MU_hg_epoch (1)\\NP062306_PCH_epoch.fif ...\n",
      "    Found the data of interest:\n",
      "        t =       0.00 ...    1998.00 ms\n",
      "        0 CTF compensation matrices available\n",
      "Not setting metadata\n"
     ]
    },
    {
     "name": "stderr",
     "output_type": "stream",
     "text": [
      "C:\\Users\\chuba\\AppData\\Local\\Temp\\ipykernel_4080\\2541085265.py:87: RuntimeWarning: This filename (NP052315_PCH_epoch.fif) does not conform to MNE naming conventions. All epochs files should end with -epo.fif, -epo.fif.gz, _epo.fif or _epo.fif.gz\n",
      "  variable_second = mne.read_epochs(name, proj=True, preload=True, verbose=None)\n",
      "C:\\Users\\chuba\\AppData\\Local\\Temp\\ipykernel_4080\\2541085265.py:87: RuntimeWarning: This filename (NP062306_PCH_epoch.fif) does not conform to MNE naming conventions. All epochs files should end with -epo.fif, -epo.fif.gz, _epo.fif or _epo.fif.gz\n",
      "  variable_second = mne.read_epochs(name, proj=True, preload=True, verbose=None)\n"
     ]
    },
    {
     "name": "stdout",
     "output_type": "stream",
     "text": [
      "39 matching events found\n",
      "No baseline correction applied\n",
      "0 projection items activated\n",
      "Effective window size : 2.000 (s)\n",
      "NP062306_PCH_epoch.fif -123.4042407744893\n",
      "NP112314_PCH_epoch.fif\n",
      "Reading D:\\all_eeg\\mu_eeg\\chernovik_2\\mu1_and_mu2_3-4_years_preprocecc\\MU_hg_epoch (1)\\MU_hg_epoch (1)\\NP112314_PCH_epoch.fif ...\n",
      "    Found the data of interest:\n",
      "        t =       0.00 ...    1998.00 ms\n",
      "        0 CTF compensation matrices available\n",
      "Not setting metadata\n",
      "13 matching events found\n",
      "No baseline correction applied\n",
      "0 projection items activated\n",
      "Effective window size : 2.000 (s)\n",
      "NP112314_PCH_epoch.fif -123.44904714551686\n",
      "NP112317_PCH_epoch.fif\n",
      "Reading D:\\all_eeg\\mu_eeg\\chernovik_2\\mu1_and_mu2_3-4_years_preprocecc\\MU_hg_epoch (1)\\MU_hg_epoch (1)\\NP112317_PCH_epoch.fif ...\n",
      "    Found the data of interest:\n",
      "        t =       0.00 ...    1998.00 ms\n",
      "        0 CTF compensation matrices available\n",
      "Not setting metadata\n",
      "21 matching events found\n",
      "No baseline correction applied\n",
      "0 projection items activated\n",
      "Effective window size : 2.000 (s)\n"
     ]
    },
    {
     "name": "stderr",
     "output_type": "stream",
     "text": [
      "C:\\Users\\chuba\\AppData\\Local\\Temp\\ipykernel_4080\\2541085265.py:87: RuntimeWarning: This filename (NP112314_PCH_epoch.fif) does not conform to MNE naming conventions. All epochs files should end with -epo.fif, -epo.fif.gz, _epo.fif or _epo.fif.gz\n",
      "  variable_second = mne.read_epochs(name, proj=True, preload=True, verbose=None)\n",
      "C:\\Users\\chuba\\AppData\\Local\\Temp\\ipykernel_4080\\2541085265.py:87: RuntimeWarning: This filename (NP112317_PCH_epoch.fif) does not conform to MNE naming conventions. All epochs files should end with -epo.fif, -epo.fif.gz, _epo.fif or _epo.fif.gz\n",
      "  variable_second = mne.read_epochs(name, proj=True, preload=True, verbose=None)\n",
      "C:\\Users\\chuba\\AppData\\Local\\Temp\\ipykernel_4080\\2541085265.py:87: RuntimeWarning: This filename (NP112318_PCH_epoch.fif) does not conform to MNE naming conventions. All epochs files should end with -epo.fif, -epo.fif.gz, _epo.fif or _epo.fif.gz\n",
      "  variable_second = mne.read_epochs(name, proj=True, preload=True, verbose=None)\n"
     ]
    },
    {
     "name": "stdout",
     "output_type": "stream",
     "text": [
      "NP112317_PCH_epoch.fif -122.58795910902613\n",
      "NP112318_PCH_epoch.fif\n",
      "Reading D:\\all_eeg\\mu_eeg\\chernovik_2\\mu1_and_mu2_3-4_years_preprocecc\\MU_hg_epoch (1)\\MU_hg_epoch (1)\\NP112318_PCH_epoch.fif ...\n",
      "    Found the data of interest:\n",
      "        t =       0.00 ...    1998.00 ms\n",
      "        0 CTF compensation matrices available\n",
      "Not setting metadata\n",
      "46 matching events found\n",
      "No baseline correction applied\n",
      "0 projection items activated\n",
      "Effective window size : 2.000 (s)\n",
      "NP112318_PCH_epoch.fif -121.88361004482778\n",
      "NP112321_mu1_PCH_epoch.fif\n",
      "Reading D:\\all_eeg\\mu_eeg\\chernovik_2\\mu1_and_mu2_3-4_years_preprocecc\\MU_hg_epoch (1)\\MU_hg_epoch (1)\\NP112321_mu1_PCH_epoch.fif ...\n",
      "    Found the data of interest:\n",
      "        t =       0.00 ...    1998.00 ms\n",
      "        0 CTF compensation matrices available\n",
      "Not setting metadata\n",
      "42 matching events found\n",
      "No baseline correction applied\n",
      "0 projection items activated\n",
      "Effective window size : 2.000 (s)\n"
     ]
    },
    {
     "name": "stderr",
     "output_type": "stream",
     "text": [
      "C:\\Users\\chuba\\AppData\\Local\\Temp\\ipykernel_4080\\2541085265.py:87: RuntimeWarning: This filename (NP112321_mu1_PCH_epoch.fif) does not conform to MNE naming conventions. All epochs files should end with -epo.fif, -epo.fif.gz, _epo.fif or _epo.fif.gz\n",
      "  variable_second = mne.read_epochs(name, proj=True, preload=True, verbose=None)\n"
     ]
    },
    {
     "name": "stdout",
     "output_type": "stream",
     "text": [
      "NP112321_mu1_PCH_epoch.fif -124.961097796413\n",
      "avr_PSD_variable_second = -123.28730428961026\n",
      "[-124.5333891509221, -124.26023519636908, -123.75513153707598, -123.8063062659624, -122.02917246023318, -124.17160635822326, -124.17118861164016, -121.17700263396472, -123.75329275080045, -123.4042407744893, -123.44904714551686, -122.58795910902613, -121.88361004482778, -124.961097796413]\n",
      "[['NP042303_PCH_epoch.fif'], ['NP042304_PCH_epoch.fif'], ['NP042306_PCH_epoch.fif'], ['NP042307_mu1_PCH_epoch.fif'], ['NP042309_PCH_epoch.fif'], ['NP042317_PCH_epoch.fif'], ['NP042331_PCH_epoch.fif'], ['NP052310_PCH_epoch.fif'], ['NP052315_PCH_epoch.fif'], ['NP062306_PCH_epoch.fif'], ['NP112314_PCH_epoch.fif'], ['NP112317_PCH_epoch.fif'], ['NP112318_PCH_epoch.fif'], ['NP112321_mu1_PCH_epoch.fif']]\n",
      "                              ID         PSD\n",
      "0       [NP042303_PCH_epoch.fif] -124.533389\n",
      "1       [NP042304_PCH_epoch.fif] -124.260235\n",
      "2       [NP042306_PCH_epoch.fif] -123.755132\n",
      "3   [NP042307_mu1_PCH_epoch.fif] -123.806306\n",
      "4       [NP042309_PCH_epoch.fif] -122.029172\n",
      "5       [NP042317_PCH_epoch.fif] -124.171606\n",
      "6       [NP042331_PCH_epoch.fif] -124.171189\n",
      "7       [NP052310_PCH_epoch.fif] -121.177003\n",
      "8       [NP052315_PCH_epoch.fif] -123.753293\n",
      "9       [NP062306_PCH_epoch.fif] -123.404241\n",
      "10      [NP112314_PCH_epoch.fif] -123.449047\n",
      "11      [NP112317_PCH_epoch.fif] -122.587959\n",
      "12      [NP112318_PCH_epoch.fif] -121.883610\n",
      "13  [NP112321_mu1_PCH_epoch.fif] -124.961098\n",
      "NP042303_CE_epoch.fif\n",
      "Reading D:\\all_eeg\\mu_eeg\\chernovik_2\\mu1_and_mu2_3-4_years_preprocecc\\MU_hg_epoch (1)\\MU_hg_epoch (1)\\NP042303_CE_epoch.fif ...\n",
      "    Found the data of interest:\n",
      "        t =       0.00 ...    1998.00 ms\n",
      "        0 CTF compensation matrices available\n",
      "Not setting metadata\n",
      "78 matching events found\n",
      "No baseline correction applied\n",
      "0 projection items activated\n",
      "Effective window size : 2.000 (s)\n"
     ]
    },
    {
     "name": "stderr",
     "output_type": "stream",
     "text": [
      "C:\\Users\\chuba\\AppData\\Local\\Temp\\ipykernel_4080\\2541085265.py:123: RuntimeWarning: This filename (NP042303_CE_epoch.fif) does not conform to MNE naming conventions. All epochs files should end with -epo.fif, -epo.fif.gz, _epo.fif or _epo.fif.gz\n",
      "  variable_second = mne.read_epochs(name, proj=True, preload=True, verbose=None)\n"
     ]
    },
    {
     "name": "stdout",
     "output_type": "stream",
     "text": [
      "NP042303_CE_epoch.fif -124.64933628467489\n",
      "NP042304_CE_epoch.fif\n",
      "Reading D:\\all_eeg\\mu_eeg\\chernovik_2\\mu1_and_mu2_3-4_years_preprocecc\\MU_hg_epoch (1)\\MU_hg_epoch (1)\\NP042304_CE_epoch.fif ...\n",
      "    Found the data of interest:\n",
      "        t =       0.00 ...    1998.00 ms\n",
      "        0 CTF compensation matrices available\n",
      "Not setting metadata\n",
      "79 matching events found\n",
      "No baseline correction applied\n",
      "0 projection items activated\n",
      "Effective window size : 2.000 (s)\n"
     ]
    },
    {
     "name": "stderr",
     "output_type": "stream",
     "text": [
      "C:\\Users\\chuba\\AppData\\Local\\Temp\\ipykernel_4080\\2541085265.py:123: RuntimeWarning: This filename (NP042304_CE_epoch.fif) does not conform to MNE naming conventions. All epochs files should end with -epo.fif, -epo.fif.gz, _epo.fif or _epo.fif.gz\n",
      "  variable_second = mne.read_epochs(name, proj=True, preload=True, verbose=None)\n"
     ]
    },
    {
     "name": "stdout",
     "output_type": "stream",
     "text": [
      "NP042304_CE_epoch.fif -123.99696652178108\n",
      "NP042306_CE_epoch.fif\n",
      "Reading D:\\all_eeg\\mu_eeg\\chernovik_2\\mu1_and_mu2_3-4_years_preprocecc\\MU_hg_epoch (1)\\MU_hg_epoch (1)\\NP042306_CE_epoch.fif ...\n",
      "    Found the data of interest:\n",
      "        t =       0.00 ...    1998.00 ms\n",
      "        0 CTF compensation matrices available\n",
      "Not setting metadata\n",
      "72 matching events found\n",
      "No baseline correction applied\n",
      "0 projection items activated\n",
      "Effective window size : 2.000 (s)\n"
     ]
    },
    {
     "name": "stderr",
     "output_type": "stream",
     "text": [
      "C:\\Users\\chuba\\AppData\\Local\\Temp\\ipykernel_4080\\2541085265.py:123: RuntimeWarning: This filename (NP042306_CE_epoch.fif) does not conform to MNE naming conventions. All epochs files should end with -epo.fif, -epo.fif.gz, _epo.fif or _epo.fif.gz\n",
      "  variable_second = mne.read_epochs(name, proj=True, preload=True, verbose=None)\n"
     ]
    },
    {
     "name": "stdout",
     "output_type": "stream",
     "text": [
      "NP042306_CE_epoch.fif -123.38674696275733\n",
      "NP042307_mu1_CE_epoch.fif\n",
      "Reading D:\\all_eeg\\mu_eeg\\chernovik_2\\mu1_and_mu2_3-4_years_preprocecc\\MU_hg_epoch (1)\\MU_hg_epoch (1)\\NP042307_mu1_CE_epoch.fif ...\n",
      "    Found the data of interest:\n",
      "        t =       0.00 ...    1998.00 ms\n",
      "        0 CTF compensation matrices available\n",
      "Not setting metadata\n",
      "3 matching events found\n",
      "No baseline correction applied\n",
      "0 projection items activated\n",
      "Effective window size : 2.000 (s)\n",
      "NP042307_mu1_CE_epoch.fif -123.9211963507647\n",
      "NP042309_CE_epoch.fif\n",
      "Reading D:\\all_eeg\\mu_eeg\\chernovik_2\\mu1_and_mu2_3-4_years_preprocecc\\MU_hg_epoch (1)\\MU_hg_epoch (1)\\NP042309_CE_epoch.fif ...\n",
      "    Found the data of interest:\n",
      "        t =       0.00 ...    1998.00 ms\n",
      "        0 CTF compensation matrices available\n",
      "Not setting metadata\n",
      "83 matching events found\n",
      "No baseline correction applied\n",
      "0 projection items activated\n"
     ]
    },
    {
     "name": "stderr",
     "output_type": "stream",
     "text": [
      "C:\\Users\\chuba\\AppData\\Local\\Temp\\ipykernel_4080\\2541085265.py:123: RuntimeWarning: This filename (NP042307_mu1_CE_epoch.fif) does not conform to MNE naming conventions. All epochs files should end with -epo.fif, -epo.fif.gz, _epo.fif or _epo.fif.gz\n",
      "  variable_second = mne.read_epochs(name, proj=True, preload=True, verbose=None)\n",
      "C:\\Users\\chuba\\AppData\\Local\\Temp\\ipykernel_4080\\2541085265.py:123: RuntimeWarning: This filename (NP042309_CE_epoch.fif) does not conform to MNE naming conventions. All epochs files should end with -epo.fif, -epo.fif.gz, _epo.fif or _epo.fif.gz\n",
      "  variable_second = mne.read_epochs(name, proj=True, preload=True, verbose=None)\n"
     ]
    },
    {
     "name": "stdout",
     "output_type": "stream",
     "text": [
      "Effective window size : 2.000 (s)\n",
      "NP042309_CE_epoch.fif -122.43376404335439\n",
      "NP042317_CE_epoch.fif\n",
      "Reading D:\\all_eeg\\mu_eeg\\chernovik_2\\mu1_and_mu2_3-4_years_preprocecc\\MU_hg_epoch (1)\\MU_hg_epoch (1)\\NP042317_CE_epoch.fif ...\n",
      "    Found the data of interest:\n",
      "        t =       0.00 ...    1998.00 ms\n",
      "        0 CTF compensation matrices available\n",
      "Not setting metadata\n",
      "84 matching events found\n",
      "No baseline correction applied\n",
      "0 projection items activated\n",
      "Effective window size : 2.000 (s)\n"
     ]
    },
    {
     "name": "stderr",
     "output_type": "stream",
     "text": [
      "C:\\Users\\chuba\\AppData\\Local\\Temp\\ipykernel_4080\\2541085265.py:123: RuntimeWarning: This filename (NP042317_CE_epoch.fif) does not conform to MNE naming conventions. All epochs files should end with -epo.fif, -epo.fif.gz, _epo.fif or _epo.fif.gz\n",
      "  variable_second = mne.read_epochs(name, proj=True, preload=True, verbose=None)\n"
     ]
    },
    {
     "name": "stdout",
     "output_type": "stream",
     "text": [
      "NP042317_CE_epoch.fif -123.241011870291\n",
      "NP042331_CE_epoch.fif\n",
      "Reading D:\\all_eeg\\mu_eeg\\chernovik_2\\mu1_and_mu2_3-4_years_preprocecc\\MU_hg_epoch (1)\\MU_hg_epoch (1)\\NP042331_CE_epoch.fif ...\n",
      "    Found the data of interest:\n",
      "        t =       0.00 ...    1998.00 ms\n",
      "        0 CTF compensation matrices available\n",
      "Not setting metadata\n",
      "87 matching events found\n",
      "No baseline correction applied\n",
      "0 projection items activated\n",
      "Effective window size : 2.000 (s)\n"
     ]
    },
    {
     "name": "stderr",
     "output_type": "stream",
     "text": [
      "C:\\Users\\chuba\\AppData\\Local\\Temp\\ipykernel_4080\\2541085265.py:123: RuntimeWarning: This filename (NP042331_CE_epoch.fif) does not conform to MNE naming conventions. All epochs files should end with -epo.fif, -epo.fif.gz, _epo.fif or _epo.fif.gz\n",
      "  variable_second = mne.read_epochs(name, proj=True, preload=True, verbose=None)\n"
     ]
    },
    {
     "name": "stdout",
     "output_type": "stream",
     "text": [
      "NP042331_CE_epoch.fif -124.11613203927858\n",
      "NP052310_CE_epoch.fif\n",
      "Reading D:\\all_eeg\\mu_eeg\\chernovik_2\\mu1_and_mu2_3-4_years_preprocecc\\MU_hg_epoch (1)\\MU_hg_epoch (1)\\NP052310_CE_epoch.fif ...\n",
      "    Found the data of interest:\n",
      "        t =       0.00 ...    1998.00 ms\n",
      "        0 CTF compensation matrices available\n",
      "Not setting metadata\n",
      "78 matching events found\n",
      "No baseline correction applied\n",
      "0 projection items activated\n",
      "Effective window size : 2.000 (s)\n"
     ]
    },
    {
     "name": "stderr",
     "output_type": "stream",
     "text": [
      "C:\\Users\\chuba\\AppData\\Local\\Temp\\ipykernel_4080\\2541085265.py:123: RuntimeWarning: This filename (NP052310_CE_epoch.fif) does not conform to MNE naming conventions. All epochs files should end with -epo.fif, -epo.fif.gz, _epo.fif or _epo.fif.gz\n",
      "  variable_second = mne.read_epochs(name, proj=True, preload=True, verbose=None)\n"
     ]
    },
    {
     "name": "stdout",
     "output_type": "stream",
     "text": [
      "NP052310_CE_epoch.fif -122.40991955020364\n",
      "NP052315_CE_epoch.fif\n",
      "Reading D:\\all_eeg\\mu_eeg\\chernovik_2\\mu1_and_mu2_3-4_years_preprocecc\\MU_hg_epoch (1)\\MU_hg_epoch (1)\\NP052315_CE_epoch.fif ...\n",
      "    Found the data of interest:\n",
      "        t =       0.00 ...    1998.00 ms\n",
      "        0 CTF compensation matrices available\n",
      "Not setting metadata\n",
      "79 matching events found\n",
      "No baseline correction applied\n",
      "0 projection items activated\n",
      "Effective window size : 2.000 (s)\n"
     ]
    },
    {
     "name": "stderr",
     "output_type": "stream",
     "text": [
      "C:\\Users\\chuba\\AppData\\Local\\Temp\\ipykernel_4080\\2541085265.py:123: RuntimeWarning: This filename (NP052315_CE_epoch.fif) does not conform to MNE naming conventions. All epochs files should end with -epo.fif, -epo.fif.gz, _epo.fif or _epo.fif.gz\n",
      "  variable_second = mne.read_epochs(name, proj=True, preload=True, verbose=None)\n"
     ]
    },
    {
     "name": "stdout",
     "output_type": "stream",
     "text": [
      "NP052315_CE_epoch.fif -122.1026595769643\n",
      "NP062306_CE_epoch.fif\n",
      "Reading D:\\all_eeg\\mu_eeg\\chernovik_2\\mu1_and_mu2_3-4_years_preprocecc\\MU_hg_epoch (1)\\MU_hg_epoch (1)\\NP062306_CE_epoch.fif ...\n",
      "    Found the data of interest:\n",
      "        t =       0.00 ...    1998.00 ms\n",
      "        0 CTF compensation matrices available\n",
      "Not setting metadata\n",
      "81 matching events found\n",
      "No baseline correction applied\n",
      "0 projection items activated\n",
      "Effective window size : 2.000 (s)\n"
     ]
    },
    {
     "name": "stderr",
     "output_type": "stream",
     "text": [
      "C:\\Users\\chuba\\AppData\\Local\\Temp\\ipykernel_4080\\2541085265.py:123: RuntimeWarning: This filename (NP062306_CE_epoch.fif) does not conform to MNE naming conventions. All epochs files should end with -epo.fif, -epo.fif.gz, _epo.fif or _epo.fif.gz\n",
      "  variable_second = mne.read_epochs(name, proj=True, preload=True, verbose=None)\n"
     ]
    },
    {
     "name": "stdout",
     "output_type": "stream",
     "text": [
      "NP062306_CE_epoch.fif -122.73756901609772\n",
      "NP112314_CE_epoch.fif\n",
      "Reading D:\\all_eeg\\mu_eeg\\chernovik_2\\mu1_and_mu2_3-4_years_preprocecc\\MU_hg_epoch (1)\\MU_hg_epoch (1)\\NP112314_CE_epoch.fif ...\n",
      "    Found the data of interest:\n",
      "        t =       0.00 ...    1998.00 ms\n",
      "        0 CTF compensation matrices available\n",
      "Not setting metadata\n",
      "37 matching events found\n",
      "No baseline correction applied\n",
      "0 projection items activated\n",
      "Effective window size : 2.000 (s)\n",
      "NP112314_CE_epoch.fif -122.18700238634227\n",
      "NP112317_CE_epoch.fif\n",
      "Reading D:\\all_eeg\\mu_eeg\\chernovik_2\\mu1_and_mu2_3-4_years_preprocecc\\MU_hg_epoch (1)\\MU_hg_epoch (1)\\NP112317_CE_epoch.fif ...\n",
      "    Found the data of interest:\n",
      "        t =       0.00 ...    1998.00 ms\n",
      "        0 CTF compensation matrices available\n",
      "Not setting metadata\n"
     ]
    },
    {
     "name": "stderr",
     "output_type": "stream",
     "text": [
      "C:\\Users\\chuba\\AppData\\Local\\Temp\\ipykernel_4080\\2541085265.py:123: RuntimeWarning: This filename (NP112314_CE_epoch.fif) does not conform to MNE naming conventions. All epochs files should end with -epo.fif, -epo.fif.gz, _epo.fif or _epo.fif.gz\n",
      "  variable_second = mne.read_epochs(name, proj=True, preload=True, verbose=None)\n",
      "C:\\Users\\chuba\\AppData\\Local\\Temp\\ipykernel_4080\\2541085265.py:123: RuntimeWarning: This filename (NP112317_CE_epoch.fif) does not conform to MNE naming conventions. All epochs files should end with -epo.fif, -epo.fif.gz, _epo.fif or _epo.fif.gz\n",
      "  variable_second = mne.read_epochs(name, proj=True, preload=True, verbose=None)\n"
     ]
    },
    {
     "name": "stdout",
     "output_type": "stream",
     "text": [
      "44 matching events found\n",
      "No baseline correction applied\n",
      "0 projection items activated\n",
      "Effective window size : 2.000 (s)\n",
      "NP112317_CE_epoch.fif -122.42668490837745\n",
      "NP112318_CE_epoch.fif\n",
      "Reading D:\\all_eeg\\mu_eeg\\chernovik_2\\mu1_and_mu2_3-4_years_preprocecc\\MU_hg_epoch (1)\\MU_hg_epoch (1)\\NP112318_CE_epoch.fif ...\n",
      "    Found the data of interest:\n",
      "        t =       0.00 ...    1998.00 ms\n",
      "        0 CTF compensation matrices available\n",
      "Not setting metadata\n",
      "88 matching events found\n",
      "No baseline correction applied\n",
      "0 projection items activated\n",
      "Effective window size : 2.000 (s)\n"
     ]
    },
    {
     "name": "stderr",
     "output_type": "stream",
     "text": [
      "C:\\Users\\chuba\\AppData\\Local\\Temp\\ipykernel_4080\\2541085265.py:123: RuntimeWarning: This filename (NP112318_CE_epoch.fif) does not conform to MNE naming conventions. All epochs files should end with -epo.fif, -epo.fif.gz, _epo.fif or _epo.fif.gz\n",
      "  variable_second = mne.read_epochs(name, proj=True, preload=True, verbose=None)\n"
     ]
    },
    {
     "name": "stdout",
     "output_type": "stream",
     "text": [
      "NP112318_CE_epoch.fif -121.06414146089129\n",
      "NP112321_mu1_CE_epoch.fif\n",
      "Reading D:\\all_eeg\\mu_eeg\\chernovik_2\\mu1_and_mu2_3-4_years_preprocecc\\MU_hg_epoch (1)\\MU_hg_epoch (1)\\NP112321_mu1_CE_epoch.fif ...\n",
      "    Found the data of interest:\n",
      "        t =       0.00 ...    1998.00 ms\n",
      "        0 CTF compensation matrices available\n",
      "Not setting metadata\n",
      "83 matching events found\n",
      "No baseline correction applied\n",
      "0 projection items activated\n",
      "Effective window size : 2.000 (s)\n"
     ]
    },
    {
     "name": "stderr",
     "output_type": "stream",
     "text": [
      "C:\\Users\\chuba\\AppData\\Local\\Temp\\ipykernel_4080\\2541085265.py:123: RuntimeWarning: This filename (NP112321_mu1_CE_epoch.fif) does not conform to MNE naming conventions. All epochs files should end with -epo.fif, -epo.fif.gz, _epo.fif or _epo.fif.gz\n",
      "  variable_second = mne.read_epochs(name, proj=True, preload=True, verbose=None)\n",
      "No artists with labels found to put in legend.  Note that artists whose label start with an underscore are ignored when legend() is called with no argument.\n"
     ]
    },
    {
     "name": "stdout",
     "output_type": "stream",
     "text": [
      "NP112321_mu1_CE_epoch.fif -125.38980382826887\n",
      "avr_PSD_variable_second = -123.00496716090649\n",
      "[-124.64933628467489, -123.99696652178108, -123.38674696275733, -123.9211963507647, -122.43376404335439, -123.241011870291, -124.11613203927858, -122.40991955020364, -122.1026595769643, -122.73756901609772, -122.18700238634227, -122.42668490837745, -121.06414146089129, -125.38980382826887]\n",
      "[['NP042303_CE_epoch.fif'], ['NP042304_CE_epoch.fif'], ['NP042306_CE_epoch.fif'], ['NP042307_mu1_CE_epoch.fif'], ['NP042309_CE_epoch.fif'], ['NP042317_CE_epoch.fif'], ['NP042331_CE_epoch.fif'], ['NP052310_CE_epoch.fif'], ['NP052315_CE_epoch.fif'], ['NP062306_CE_epoch.fif'], ['NP112314_CE_epoch.fif'], ['NP112317_CE_epoch.fif'], ['NP112318_CE_epoch.fif'], ['NP112321_mu1_CE_epoch.fif']]\n",
      "                             ID         PSD\n",
      "0       [NP042303_CE_epoch.fif] -124.649336\n",
      "1       [NP042304_CE_epoch.fif] -123.996967\n",
      "2       [NP042306_CE_epoch.fif] -123.386747\n",
      "3   [NP042307_mu1_CE_epoch.fif] -123.921196\n",
      "4       [NP042309_CE_epoch.fif] -122.433764\n",
      "5       [NP042317_CE_epoch.fif] -123.241012\n",
      "6       [NP042331_CE_epoch.fif] -124.116132\n",
      "7       [NP052310_CE_epoch.fif] -122.409920\n",
      "8       [NP052315_CE_epoch.fif] -122.102660\n",
      "9       [NP062306_CE_epoch.fif] -122.737569\n",
      "10      [NP112314_CE_epoch.fif] -122.187002\n",
      "11      [NP112317_CE_epoch.fif] -122.426685\n",
      "12      [NP112318_CE_epoch.fif] -121.064141\n",
      "13  [NP112321_mu1_CE_epoch.fif] -125.389804\n"
     ]
    }
   ],
   "source": [
    "#4 условия для канала с4 частота 13-30\n",
    "#необходимо изменить только название фафла для обработки и название файлов которые собираешься изменять \n",
    "fig, ax = plt.subplots()\n",
    "\n",
    "#перове условие Название: \n",
    "os.chdir('D:/all_eeg/mu_eeg/chernovik_2/NL_2_3-4_years_preprocecc/NL2_hg_epoch/NL2_hg_epoch/')\n",
    "psds_target_list = []\n",
    "data_variable_first = [] \n",
    "data_id = []\n",
    "\n",
    "for i in range(len(ID_f_b_epoch)):\n",
    "    print(ID_f_b_epoch[i])\n",
    "    name = ID_f_b_epoch[i]\n",
    "    variable_first = mne.read_epochs(name, proj=True, preload=True, verbose=None)#читаем запись \n",
    "    spectrum = variable_first.compute_psd(method='welch', fmin=13, fmax=30, tmin=None, tmax=None, proj=False, n_jobs=1, verbose=None)#считаем PSD\n",
    "    psds, freqs = spectrum.get_data(return_freqs=True)#Получите все эпохи в виде 3D-массива\n",
    "\n",
    "    # Find corresponding indices using mne.pick_types() \n",
    "    # mne.pick_types определяет индексы каналов ЭЭГ для обращения\n",
    "    picks_roi_vis = mne.pick_types(variable_first.info, eeg=True, stim=False, exclude='bads', selection=[\"C4\"])\n",
    "    psds_mean=np.mean(psds, axis=0)#cчитаем сред знач Эпох\n",
    "    psds_target = psds_mean[picks_roi_vis]#СОЗДАЕМ СПИСОК ИНДЕКСОВ \n",
    "    psd_variable_first = 10 * np.log10(psds_target.mean())#считаем PSD для подсчета \n",
    "    ID_namber = [ID_f_b_epoch[i]]\n",
    "    data_variable_first.append(psd_variable_first)\n",
    "    data_id.append(ID_namber)\n",
    "    print(ID_f_b_epoch[i], f'{psd_variable_first}')\n",
    "    \n",
    "    psds_target_list.append(psds_target[0])#создаем список (списков?) нужных нам отведений \n",
    "    #ax.plot(freqs, psds_target[0], color='white', alpha=0.1, label=f\"PSD {ID[i]}_all_epochs_new_fractal.fif: {psd_variable_first:.2f}\")\n",
    "av_psds_target_list =  np.mean(np.array(psds_target_list), axis=0)#считается усред PSD                             \n",
    "ax.plot(freqs,  av_psds_target_list, color='b')\n",
    "avr_PSD_variable_first = 10 * np.log10(av_psds_target_list.mean())#Считается усред PSD для принта \n",
    "df = pd.DataFrame({\"ID\": data_id, \"PSD\": data_variable_first})\n",
    "print(f'avr_PSD_variable_first = {avr_PSD_variable_first}')\n",
    "print(data_variable_first)\n",
    "print(data_id)\n",
    "print(df)\n",
    "df.to_excel('D:/all_eeg/mu_eeg/obrabot/общие графики/эпохи PSD для фракталов (С4(13-30Гц)).xlsx', index=False)\n",
    "\n",
    "#второе условие Название:   \n",
    "psds_target_list = []\n",
    "data_variable_second = []\n",
    "data_id_2 = []\n",
    "\n",
    "for i in range(len(ID_f_s_epoch)):\n",
    "    print(ID_f_s_epoch[i])\n",
    "    name = ID_f_s_epoch[i]\n",
    "    variable_second = mne.read_epochs(name, proj=True, preload=True, verbose=None)\n",
    "    spectrum = variable_second.compute_psd(method='welch', fmin=13, fmax=30, tmin=None, tmax=None, proj=False, n_jobs=1, verbose=None)\n",
    "    psds, freqs = spectrum.get_data(return_freqs=True)\n",
    "\n",
    "    # Find corresponding indices using mne.pick_types() \n",
    "    picks_roi_vis = mne.pick_types(variable_second.info, eeg=True, stim=False, exclude='bads', selection=[\"C4\"])\n",
    "    psds_mean=np.mean(psds, axis=0)   \n",
    "    psds_target = psds_mean[picks_roi_vis]\n",
    "    psd_variable_second = 10 * np.log10(psds_target.mean()) \n",
    "    ID_namber_2 = [ID_f_s_epoch[i]]\n",
    "    data_variable_second.append(psd_variable_second)\n",
    "    data_id_2.append(ID_namber_2)\n",
    "    print(ID_f_s_epoch[i], f'{psd_variable_second}')\n",
    "    \n",
    "    \n",
    "    psds_target_list.append(psds_target[0])\n",
    "    #ax.plot(freqs, psds_target[0], color='white', alpha=0.1, label=f\"PSD {ID[i]}_all_epochs_new_fractal_audio.fif: {psd_variable_second:.2f}\")\n",
    "av_psds_target_list =  np.mean(np.array(psds_target_list), axis=0)                              \n",
    "ax.plot(freqs,  av_psds_target_list, '--b')\n",
    "avr_PSD_variable_second = 10 * np.log10(av_psds_target_list.mean()) \n",
    "df = pd.DataFrame({\"ID\": data_id_2, \"PSD\": data_variable_second})\n",
    "print(f'avr_PSD_variable_second = {avr_PSD_variable_second}')\n",
    "print(data_variable_second)\n",
    "print(data_id_2)\n",
    "print(df)\n",
    "df.to_excel('D:/all_eeg/mu_eeg/obrabot/общие графики/эпохи PSD для фракталов с аудио (С4(13-30Гц)).xlsx', index=False)\n",
    "\n",
    "\n",
    "#третье условие Название:   \n",
    "\n",
    "os.chdir('D:/all_eeg/mu_eeg/chernovik_2/mu1_and_mu2_3-4_years_preprocecc/MU_hg_epoch (1)/MU_hg_epoch (1)/')\n",
    "psds_target_list = []\n",
    "data_variable_second = []\n",
    "data_id_3 = []\n",
    "\n",
    "for i in range(len(ID_PHC_epoch)):\n",
    "    print(ID_PHC_epoch[i])\n",
    "    name = ID_PHC_epoch[i]\n",
    "    variable_second = mne.read_epochs(name, proj=True, preload=True, verbose=None)\n",
    "    spectrum = variable_second.compute_psd(method='welch', fmin=13, fmax=30, tmin=None, tmax=None, proj=False, n_jobs=1, verbose=None)\n",
    "    psds, freqs = spectrum.get_data(return_freqs=True)\n",
    "\n",
    "    # Find corresponding indices using mne.pick_types() \n",
    "    picks_roi_vis = mne.pick_types(variable_second.info, eeg=True, stim=False, exclude='bads', selection=[\"C4\"])\n",
    "    psds_mean=np.mean(psds, axis=0)   \n",
    "    psds_target = psds_mean[picks_roi_vis]\n",
    "    psd_variable_second = 10 * np.log10(psds_target.mean()) \n",
    "    ID_namber_3 = [ID_PHC_epoch[i]]\n",
    "    data_variable_second.append(psd_variable_second)\n",
    "    data_id_3.append(ID_namber_3)\n",
    "    print(ID_PHC_epoch[i], f'{psd_variable_second}')\n",
    "    \n",
    "    \n",
    "    psds_target_list.append(psds_target[0])\n",
    "    #ax.plot(freqs, psds_target[0], color='white', alpha=0.1, label=f\"PSD {ID[i]}_all_epochs_new_fractal_audio.fif: {psd_variable_second:.2f}\")\n",
    "av_psds_target_list =  np.mean(np.array(psds_target_list), axis=0)                              \n",
    "ax.plot(freqs,  av_psds_target_list, 'g')\n",
    "avr_PSD_variable_second = 10 * np.log10(av_psds_target_list.mean()) \n",
    "df = pd.DataFrame({\"ID\": data_id_3, \"PSD\": data_variable_second})\n",
    "print(f'avr_PSD_variable_second = {avr_PSD_variable_second}')\n",
    "print(data_variable_second)\n",
    "print(data_id_3)\n",
    "print(df)\n",
    "df.to_excel('D:/all_eeg/mu_eeg/obrabot/общие графики/эпохи PSD пассивного сжатия руки(С4(13-30Гц)).xlsx', index=False)\n",
    "\n",
    "#четвертое условие Название:   - отредактировать!\n",
    "\n",
    "psds_target_list = []\n",
    "data_variable_second = []\n",
    "data_id_4 = []\n",
    "\n",
    "for i in range(len(ID_CE_epoch)):\n",
    "    print(ID_CE_epoch[i])\n",
    "    name = ID_CE_epoch[i]\n",
    "    variable_second = mne.read_epochs(name, proj=True, preload=True, verbose=None)\n",
    "    spectrum = variable_second.compute_psd(method='welch', fmin=13, fmax=30, tmin=None, tmax=None, proj=False, n_jobs=1, verbose=None)\n",
    "    psds, freqs = spectrum.get_data(return_freqs=True)\n",
    "\n",
    "    # Find corresponding indices using mne.pick_types() \n",
    "    picks_roi_vis = mne.pick_types(variable_second.info, eeg=True, stim=False, exclude='bads', selection=[\"C4\"])\n",
    "    psds_mean=np.mean(psds, axis=0)   \n",
    "    psds_target = psds_mean[picks_roi_vis]\n",
    "    psd_variable_second = 10 * np.log10(psds_target.mean()) \n",
    "    ID_namber_4 = [ID_CE_epoch[i]]\n",
    "    data_variable_second.append(psd_variable_second)\n",
    "    data_id_4.append(ID_namber_4)\n",
    "    print(ID_CE_epoch[i], f'{psd_variable_second}')\n",
    "    \n",
    "    \n",
    "    psds_target_list.append(psds_target[0])\n",
    "    #ax.plot(freqs, psds_target[0], color='white', alpha=0.1, label=f\"PSD {ID[i]}_all_epochs_new_fractal_audio.fif: {psd_variable_second:.2f}\")\n",
    "av_psds_target_list =  np.mean(np.array(psds_target_list), axis=0)                              \n",
    "ax.plot(freqs,  av_psds_target_list, 'k')\n",
    "avr_PSD_variable_second = 10 * np.log10(av_psds_target_list.mean()) \n",
    "df = pd.DataFrame({\"ID\": data_id_4, \"PSD\": data_variable_second})\n",
    "print(f'avr_PSD_variable_second = {avr_PSD_variable_second}')\n",
    "print(data_variable_second)\n",
    "print(data_id_4)\n",
    "print(df)\n",
    "df.to_excel('D:/all_eeg/mu_eeg/obrabot/общие графики/эпохи PSD закрытые глаза(С4(13-30Гц)).xlsx', index=False)\n",
    "\n",
    "# выводим легенду и оси\n",
    "ax.legend()\n",
    "ax.set_xlabel('Freguency (Hz)')\n",
    "ax.set_ylabel('PSD (fT/cm)^2/Hz (dB)')\n",
    "ax.set_title(f'PSD для 4 условий, 13-30Гц, С4 {len(ID_f_b_epoch)} человек. avr_PSD_var_first = {avr_PSD_variable_first}, avr_PSD_var_second  = {avr_PSD_variable_second}')\n",
    "ax.grid(True)\n",
    "\n",
    "plt.show()\n"
   ]
  },
  {
   "cell_type": "markdown",
   "id": "6f7ad619",
   "metadata": {},
   "source": [
    "# подсчет psd для двух и более отведений "
   ]
  },
  {
   "cell_type": "code",
   "execution_count": 92,
   "id": "9dddf269",
   "metadata": {
    "scrolled": false
   },
   "outputs": [
    {
     "name": "stdout",
     "output_type": "stream",
     "text": [
      "NP042303_NL_2_fractal_before_epoch.fif\n",
      "Reading D:\\all_eeg\\mu_eeg\\chernovik_2\\NL_2_3-4_years_preprocecc\\NL2_hg_epoch\\NL2_hg_epoch\\NP042303_NL_2_fractal_before_epoch.fif ...\n",
      "    Found the data of interest:\n",
      "        t =       0.00 ...    1998.00 ms\n",
      "        0 CTF compensation matrices available\n",
      "Not setting metadata\n",
      "22 matching events found\n",
      "No baseline correction applied\n",
      "0 projection items activated\n",
      "Effective window size : 2.000 (s)\n",
      "NP042303_NL_2_fractal_before_epoch.fif -124.13822099323143\n",
      "NP042304_NL_2_fractal_before_epoch.fif\n",
      "Reading D:\\all_eeg\\mu_eeg\\chernovik_2\\NL_2_3-4_years_preprocecc\\NL2_hg_epoch\\NL2_hg_epoch\\NP042304_NL_2_fractal_before_epoch.fif ...\n",
      "    Found the data of interest:\n",
      "        t =       0.00 ...    1998.00 ms\n",
      "        0 CTF compensation matrices available\n",
      "Not setting metadata\n",
      "15 matching events found\n",
      "No baseline correction applied\n",
      "0 projection items activated\n"
     ]
    },
    {
     "name": "stderr",
     "output_type": "stream",
     "text": [
      "C:\\Users\\chuba\\AppData\\Local\\Temp\\ipykernel_4080\\1278967360.py:14: RuntimeWarning: This filename (NP042303_NL_2_fractal_before_epoch.fif) does not conform to MNE naming conventions. All epochs files should end with -epo.fif, -epo.fif.gz, _epo.fif or _epo.fif.gz\n",
      "  variable_first = mne.read_epochs(name, proj=True, preload=True, verbose=None)#читаем запись\n",
      "C:\\Users\\chuba\\AppData\\Local\\Temp\\ipykernel_4080\\1278967360.py:14: RuntimeWarning: This filename (NP042304_NL_2_fractal_before_epoch.fif) does not conform to MNE naming conventions. All epochs files should end with -epo.fif, -epo.fif.gz, _epo.fif or _epo.fif.gz\n",
      "  variable_first = mne.read_epochs(name, proj=True, preload=True, verbose=None)#читаем запись\n"
     ]
    },
    {
     "name": "stdout",
     "output_type": "stream",
     "text": [
      "Effective window size : 2.000 (s)\n",
      "NP042304_NL_2_fractal_before_epoch.fif -121.57534869061047\n",
      "NP042306_NL_2_fractal_before_epoch.fif\n",
      "Reading D:\\all_eeg\\mu_eeg\\chernovik_2\\NL_2_3-4_years_preprocecc\\NL2_hg_epoch\\NL2_hg_epoch\\NP042306_NL_2_fractal_before_epoch.fif ...\n",
      "    Found the data of interest:\n",
      "        t =       0.00 ...    1998.00 ms\n",
      "        0 CTF compensation matrices available\n",
      "Not setting metadata\n",
      "22 matching events found\n",
      "No baseline correction applied\n",
      "0 projection items activated\n",
      "Effective window size : 2.000 (s)\n",
      "NP042306_NL_2_fractal_before_epoch.fif -123.35728077932569\n",
      "NP042307_NL_2_fractal_before_epoch.fif\n",
      "Reading D:\\all_eeg\\mu_eeg\\chernovik_2\\NL_2_3-4_years_preprocecc\\NL2_hg_epoch\\NL2_hg_epoch\\NP042307_NL_2_fractal_before_epoch.fif ...\n",
      "    Found the data of interest:\n",
      "        t =       0.00 ...    1998.00 ms\n",
      "        0 CTF compensation matrices available\n",
      "Not setting metadata\n",
      "19 matching events found\n",
      "No baseline correction applied\n",
      "0 projection items activated\n",
      "Effective window size : 2.000 (s)\n",
      "NP042307_NL_2_fractal_before_epoch.fif -121.43676759597511\n",
      "NP042309_NL_2_fractal_before_epoch.fif\n"
     ]
    },
    {
     "name": "stderr",
     "output_type": "stream",
     "text": [
      "C:\\Users\\chuba\\AppData\\Local\\Temp\\ipykernel_4080\\1278967360.py:14: RuntimeWarning: This filename (NP042306_NL_2_fractal_before_epoch.fif) does not conform to MNE naming conventions. All epochs files should end with -epo.fif, -epo.fif.gz, _epo.fif or _epo.fif.gz\n",
      "  variable_first = mne.read_epochs(name, proj=True, preload=True, verbose=None)#читаем запись\n",
      "C:\\Users\\chuba\\AppData\\Local\\Temp\\ipykernel_4080\\1278967360.py:14: RuntimeWarning: This filename (NP042307_NL_2_fractal_before_epoch.fif) does not conform to MNE naming conventions. All epochs files should end with -epo.fif, -epo.fif.gz, _epo.fif or _epo.fif.gz\n",
      "  variable_first = mne.read_epochs(name, proj=True, preload=True, verbose=None)#читаем запись\n",
      "C:\\Users\\chuba\\AppData\\Local\\Temp\\ipykernel_4080\\1278967360.py:14: RuntimeWarning: This filename (NP042309_NL_2_fractal_before_epoch.fif) does not conform to MNE naming conventions. All epochs files should end with -epo.fif, -epo.fif.gz, _epo.fif or _epo.fif.gz\n",
      "  variable_first = mne.read_epochs(name, proj=True, preload=True, verbose=None)#читаем запись\n"
     ]
    },
    {
     "name": "stdout",
     "output_type": "stream",
     "text": [
      "Reading D:\\all_eeg\\mu_eeg\\chernovik_2\\NL_2_3-4_years_preprocecc\\NL2_hg_epoch\\NL2_hg_epoch\\NP042309_NL_2_fractal_before_epoch.fif ...\n",
      "    Found the data of interest:\n",
      "        t =       0.00 ...    1998.00 ms\n",
      "        0 CTF compensation matrices available\n",
      "Not setting metadata\n",
      "13 matching events found\n",
      "No baseline correction applied\n",
      "0 projection items activated\n",
      "Effective window size : 2.000 (s)\n",
      "NP042309_NL_2_fractal_before_epoch.fif -121.92951257523298\n",
      "NP042317_NL_2_fractal_before_epoch.fif\n",
      "Reading D:\\all_eeg\\mu_eeg\\chernovik_2\\NL_2_3-4_years_preprocecc\\NL2_hg_epoch\\NL2_hg_epoch\\NP042317_NL_2_fractal_before_epoch.fif ...\n",
      "    Found the data of interest:\n",
      "        t =       0.00 ...    1998.00 ms\n",
      "        0 CTF compensation matrices available\n",
      "Not setting metadata\n",
      "22 matching events found\n",
      "No baseline correction applied\n",
      "0 projection items activated\n",
      "Effective window size : 2.000 (s)\n",
      "NP042317_NL_2_fractal_before_epoch.fif -123.9995391109407\n",
      "NP042331_NL_2_fractal_before_epoch.fif\n",
      "Reading D:\\all_eeg\\mu_eeg\\chernovik_2\\NL_2_3-4_years_preprocecc\\NL2_hg_epoch\\NL2_hg_epoch\\NP042331_NL_2_fractal_before_epoch.fif ...\n",
      "    Found the data of interest:\n",
      "        t =       0.00 ...    1998.00 ms\n",
      "        0 CTF compensation matrices available\n",
      "Not setting metadata\n",
      "22 matching events found\n",
      "No baseline correction applied\n",
      "0 projection items activated\n",
      "Effective window size : 2.000 (s)\n"
     ]
    },
    {
     "name": "stderr",
     "output_type": "stream",
     "text": [
      "C:\\Users\\chuba\\AppData\\Local\\Temp\\ipykernel_4080\\1278967360.py:14: RuntimeWarning: This filename (NP042317_NL_2_fractal_before_epoch.fif) does not conform to MNE naming conventions. All epochs files should end with -epo.fif, -epo.fif.gz, _epo.fif or _epo.fif.gz\n",
      "  variable_first = mne.read_epochs(name, proj=True, preload=True, verbose=None)#читаем запись\n",
      "C:\\Users\\chuba\\AppData\\Local\\Temp\\ipykernel_4080\\1278967360.py:14: RuntimeWarning: This filename (NP042331_NL_2_fractal_before_epoch.fif) does not conform to MNE naming conventions. All epochs files should end with -epo.fif, -epo.fif.gz, _epo.fif or _epo.fif.gz\n",
      "  variable_first = mne.read_epochs(name, proj=True, preload=True, verbose=None)#читаем запись\n"
     ]
    },
    {
     "name": "stdout",
     "output_type": "stream",
     "text": [
      "NP042331_NL_2_fractal_before_epoch.fif -122.10552295058068\n",
      "NP052310_NL_2_fractal_before_epoch.fif\n",
      "Reading D:\\all_eeg\\mu_eeg\\chernovik_2\\NL_2_3-4_years_preprocecc\\NL2_hg_epoch\\NL2_hg_epoch\\NP052310_NL_2_fractal_before_epoch.fif ...\n",
      "    Found the data of interest:\n",
      "        t =       0.00 ...    1998.00 ms\n",
      "        0 CTF compensation matrices available\n",
      "Not setting metadata\n",
      "15 matching events found\n",
      "No baseline correction applied\n",
      "0 projection items activated\n",
      "Effective window size : 2.000 (s)\n",
      "NP052310_NL_2_fractal_before_epoch.fif -120.7451943011815\n",
      "NP052315_NL_2_fractal_before_epoch.fif\n",
      "Reading D:\\all_eeg\\mu_eeg\\chernovik_2\\NL_2_3-4_years_preprocecc\\NL2_hg_epoch\\NL2_hg_epoch\\NP052315_NL_2_fractal_before_epoch.fif ...\n",
      "    Found the data of interest:\n",
      "        t =       0.00 ...    1998.00 ms\n",
      "        0 CTF compensation matrices available\n",
      "Not setting metadata\n",
      "15 matching events found\n",
      "No baseline correction applied\n",
      "0 projection items activated\n",
      "Effective window size : 2.000 (s)\n",
      "NP052315_NL_2_fractal_before_epoch.fif -122.80414340217118\n",
      "NP062306_NL_2_fractal_before_epoch.fif\n",
      "Reading D:\\all_eeg\\mu_eeg\\chernovik_2\\NL_2_3-4_years_preprocecc\\NL2_hg_epoch\\NL2_hg_epoch\\NP062306_NL_2_fractal_before_epoch.fif ...\n",
      "    Found the data of interest:\n",
      "        t =       0.00 ...    1998.00 ms\n",
      "        0 CTF compensation matrices available\n"
     ]
    },
    {
     "name": "stderr",
     "output_type": "stream",
     "text": [
      "C:\\Users\\chuba\\AppData\\Local\\Temp\\ipykernel_4080\\1278967360.py:14: RuntimeWarning: This filename (NP052310_NL_2_fractal_before_epoch.fif) does not conform to MNE naming conventions. All epochs files should end with -epo.fif, -epo.fif.gz, _epo.fif or _epo.fif.gz\n",
      "  variable_first = mne.read_epochs(name, proj=True, preload=True, verbose=None)#читаем запись\n",
      "C:\\Users\\chuba\\AppData\\Local\\Temp\\ipykernel_4080\\1278967360.py:14: RuntimeWarning: This filename (NP052315_NL_2_fractal_before_epoch.fif) does not conform to MNE naming conventions. All epochs files should end with -epo.fif, -epo.fif.gz, _epo.fif or _epo.fif.gz\n",
      "  variable_first = mne.read_epochs(name, proj=True, preload=True, verbose=None)#читаем запись\n",
      "C:\\Users\\chuba\\AppData\\Local\\Temp\\ipykernel_4080\\1278967360.py:14: RuntimeWarning: This filename (NP062306_NL_2_fractal_before_epoch.fif) does not conform to MNE naming conventions. All epochs files should end with -epo.fif, -epo.fif.gz, _epo.fif or _epo.fif.gz\n",
      "  variable_first = mne.read_epochs(name, proj=True, preload=True, verbose=None)#читаем запись\n"
     ]
    },
    {
     "name": "stdout",
     "output_type": "stream",
     "text": [
      "Not setting metadata\n",
      "15 matching events found\n",
      "No baseline correction applied\n",
      "0 projection items activated\n",
      "Effective window size : 2.000 (s)\n",
      "NP062306_NL_2_fractal_before_epoch.fif -122.68131134088387\n",
      "NP112314_NL_2_fractal_before_epoch.fif\n",
      "Reading D:\\all_eeg\\mu_eeg\\chernovik_2\\NL_2_3-4_years_preprocecc\\NL2_hg_epoch\\NL2_hg_epoch\\NP112314_NL_2_fractal_before_epoch.fif ...\n",
      "    Found the data of interest:\n",
      "        t =       0.00 ...    1998.00 ms\n",
      "        0 CTF compensation matrices available\n",
      "Not setting metadata\n",
      "21 matching events found\n",
      "No baseline correction applied\n",
      "0 projection items activated\n",
      "Effective window size : 2.000 (s)\n",
      "NP112314_NL_2_fractal_before_epoch.fif -122.08373300524956\n",
      "NP112317_NL_2_fractal_before_epoch.fif\n",
      "Reading D:\\all_eeg\\mu_eeg\\chernovik_2\\NL_2_3-4_years_preprocecc\\NL2_hg_epoch\\NL2_hg_epoch\\NP112317_NL_2_fractal_before_epoch.fif ...\n",
      "    Found the data of interest:\n",
      "        t =       0.00 ...    1998.00 ms\n",
      "        0 CTF compensation matrices available\n",
      "Not setting metadata\n",
      "22 matching events found\n",
      "No baseline correction applied\n",
      "0 projection items activated\n",
      "Effective window size : 2.000 (s)\n"
     ]
    },
    {
     "name": "stderr",
     "output_type": "stream",
     "text": [
      "C:\\Users\\chuba\\AppData\\Local\\Temp\\ipykernel_4080\\1278967360.py:14: RuntimeWarning: This filename (NP112314_NL_2_fractal_before_epoch.fif) does not conform to MNE naming conventions. All epochs files should end with -epo.fif, -epo.fif.gz, _epo.fif or _epo.fif.gz\n",
      "  variable_first = mne.read_epochs(name, proj=True, preload=True, verbose=None)#читаем запись\n",
      "C:\\Users\\chuba\\AppData\\Local\\Temp\\ipykernel_4080\\1278967360.py:14: RuntimeWarning: This filename (NP112317_NL_2_fractal_before_epoch.fif) does not conform to MNE naming conventions. All epochs files should end with -epo.fif, -epo.fif.gz, _epo.fif or _epo.fif.gz\n",
      "  variable_first = mne.read_epochs(name, proj=True, preload=True, verbose=None)#читаем запись\n"
     ]
    },
    {
     "name": "stdout",
     "output_type": "stream",
     "text": [
      "NP112317_NL_2_fractal_before_epoch.fif -122.55059152669054\n",
      "NP112318_NL_2_fractal_before_epoch.fif\n",
      "Reading D:\\all_eeg\\mu_eeg\\chernovik_2\\NL_2_3-4_years_preprocecc\\NL2_hg_epoch\\NL2_hg_epoch\\NP112318_NL_2_fractal_before_epoch.fif ...\n",
      "    Found the data of interest:\n",
      "        t =       0.00 ...    1998.00 ms\n",
      "        0 CTF compensation matrices available\n",
      "Not setting metadata\n",
      "22 matching events found\n",
      "No baseline correction applied\n",
      "0 projection items activated\n",
      "Effective window size : 2.000 (s)\n",
      "NP112318_NL_2_fractal_before_epoch.fif -121.39180169953022\n",
      "NP112321_NL_2_fractal_before_epoch.fif\n",
      "Reading D:\\all_eeg\\mu_eeg\\chernovik_2\\NL_2_3-4_years_preprocecc\\NL2_hg_epoch\\NL2_hg_epoch\\NP112321_NL_2_fractal_before_epoch.fif ...\n",
      "    Found the data of interest:\n",
      "        t =       0.00 ...    1998.00 ms\n",
      "        0 CTF compensation matrices available\n",
      "Not setting metadata\n",
      "14 matching events found\n",
      "No baseline correction applied\n",
      "0 projection items activated\n",
      "Effective window size : 2.000 (s)\n"
     ]
    },
    {
     "name": "stderr",
     "output_type": "stream",
     "text": [
      "C:\\Users\\chuba\\AppData\\Local\\Temp\\ipykernel_4080\\1278967360.py:14: RuntimeWarning: This filename (NP112318_NL_2_fractal_before_epoch.fif) does not conform to MNE naming conventions. All epochs files should end with -epo.fif, -epo.fif.gz, _epo.fif or _epo.fif.gz\n",
      "  variable_first = mne.read_epochs(name, proj=True, preload=True, verbose=None)#читаем запись\n",
      "C:\\Users\\chuba\\AppData\\Local\\Temp\\ipykernel_4080\\1278967360.py:14: RuntimeWarning: This filename (NP112321_NL_2_fractal_before_epoch.fif) does not conform to MNE naming conventions. All epochs files should end with -epo.fif, -epo.fif.gz, _epo.fif or _epo.fif.gz\n",
      "  variable_first = mne.read_epochs(name, proj=True, preload=True, verbose=None)#читаем запись\n"
     ]
    },
    {
     "name": "stdout",
     "output_type": "stream",
     "text": [
      "NP112321_NL_2_fractal_before_epoch.fif -124.23962413913029\n",
      "avr_PSD_variable_first = -122.37651433739914\n",
      "[-124.13822099323143, -121.57534869061047, -123.35728077932569, -121.43676759597511, -121.92951257523298, -123.9995391109407, -122.10552295058068, -120.7451943011815, -122.80414340217118, -122.68131134088387, -122.08373300524956, -122.55059152669054, -121.39180169953022, -124.23962413913029]\n",
      "[['NP042303_NL_2_fractal_before_epoch.fif'], ['NP042304_NL_2_fractal_before_epoch.fif'], ['NP042306_NL_2_fractal_before_epoch.fif'], ['NP042307_NL_2_fractal_before_epoch.fif'], ['NP042309_NL_2_fractal_before_epoch.fif'], ['NP042317_NL_2_fractal_before_epoch.fif'], ['NP042331_NL_2_fractal_before_epoch.fif'], ['NP052310_NL_2_fractal_before_epoch.fif'], ['NP052315_NL_2_fractal_before_epoch.fif'], ['NP062306_NL_2_fractal_before_epoch.fif'], ['NP112314_NL_2_fractal_before_epoch.fif'], ['NP112317_NL_2_fractal_before_epoch.fif'], ['NP112318_NL_2_fractal_before_epoch.fif'], ['NP112321_NL_2_fractal_before_epoch.fif']]\n",
      "                                          ID         PSD\n",
      "0   [NP042303_NL_2_fractal_before_epoch.fif] -124.138221\n",
      "1   [NP042304_NL_2_fractal_before_epoch.fif] -121.575349\n",
      "2   [NP042306_NL_2_fractal_before_epoch.fif] -123.357281\n",
      "3   [NP042307_NL_2_fractal_before_epoch.fif] -121.436768\n",
      "4   [NP042309_NL_2_fractal_before_epoch.fif] -121.929513\n",
      "5   [NP042317_NL_2_fractal_before_epoch.fif] -123.999539\n",
      "6   [NP042331_NL_2_fractal_before_epoch.fif] -122.105523\n",
      "7   [NP052310_NL_2_fractal_before_epoch.fif] -120.745194\n",
      "8   [NP052315_NL_2_fractal_before_epoch.fif] -122.804143\n",
      "9   [NP062306_NL_2_fractal_before_epoch.fif] -122.681311\n",
      "10  [NP112314_NL_2_fractal_before_epoch.fif] -122.083733\n",
      "11  [NP112317_NL_2_fractal_before_epoch.fif] -122.550592\n",
      "12  [NP112318_NL_2_fractal_before_epoch.fif] -121.391802\n",
      "13  [NP112321_NL_2_fractal_before_epoch.fif] -124.239624\n",
      "NP042303_NL_2_fractal_story_epoch.fif\n",
      "Reading D:\\all_eeg\\mu_eeg\\chernovik_2\\NL_2_3-4_years_preprocecc\\NL2_hg_epoch\\NL2_hg_epoch\\NP042303_NL_2_fractal_story_epoch.fif ...\n",
      "    Found the data of interest:\n",
      "        t =       0.00 ...    1998.00 ms\n",
      "        0 CTF compensation matrices available\n",
      "Not setting metadata\n",
      "29 matching events found\n",
      "No baseline correction applied\n",
      "0 projection items activated\n",
      "Effective window size : 2.000 (s)\n",
      "NP042303_NL_2_fractal_story_epoch.fif -124.08865430623761\n",
      "NP042304_NL_2_fractal_story_epoch.fif\n",
      "Reading D:\\all_eeg\\mu_eeg\\chernovik_2\\NL_2_3-4_years_preprocecc\\NL2_hg_epoch\\NL2_hg_epoch\\NP042304_NL_2_fractal_story_epoch.fif ...\n",
      "    Found the data of interest:\n",
      "        t =       0.00 ...    1998.00 ms\n",
      "        0 CTF compensation matrices available\n",
      "Not setting metadata\n"
     ]
    },
    {
     "name": "stderr",
     "output_type": "stream",
     "text": [
      "C:\\Users\\chuba\\AppData\\Local\\Temp\\ipykernel_4080\\1278967360.py:50: RuntimeWarning: This filename (NP042303_NL_2_fractal_story_epoch.fif) does not conform to MNE naming conventions. All epochs files should end with -epo.fif, -epo.fif.gz, _epo.fif or _epo.fif.gz\n",
      "  variable_second = mne.read_epochs(name, proj=True, preload=True, verbose=None)\n",
      "C:\\Users\\chuba\\AppData\\Local\\Temp\\ipykernel_4080\\1278967360.py:50: RuntimeWarning: This filename (NP042304_NL_2_fractal_story_epoch.fif) does not conform to MNE naming conventions. All epochs files should end with -epo.fif, -epo.fif.gz, _epo.fif or _epo.fif.gz\n",
      "  variable_second = mne.read_epochs(name, proj=True, preload=True, verbose=None)\n"
     ]
    },
    {
     "name": "stdout",
     "output_type": "stream",
     "text": [
      "14 matching events found\n",
      "No baseline correction applied\n",
      "0 projection items activated\n",
      "Effective window size : 2.000 (s)\n",
      "NP042304_NL_2_fractal_story_epoch.fif -122.09524048317127\n",
      "NP042306_NL_2_fractal_story_epoch.fif\n",
      "Reading D:\\all_eeg\\mu_eeg\\chernovik_2\\NL_2_3-4_years_preprocecc\\NL2_hg_epoch\\NL2_hg_epoch\\NP042306_NL_2_fractal_story_epoch.fif ...\n",
      "    Found the data of interest:\n",
      "        t =       0.00 ...    1998.00 ms\n",
      "        0 CTF compensation matrices available\n",
      "Not setting metadata\n",
      "29 matching events found\n",
      "No baseline correction applied\n",
      "0 projection items activated\n",
      "Effective window size : 2.000 (s)\n",
      "NP042306_NL_2_fractal_story_epoch.fif -123.34887393449006\n",
      "NP042307_NL_2_fractal_story_epoch.fif\n",
      "Reading D:\\all_eeg\\mu_eeg\\chernovik_2\\NL_2_3-4_years_preprocecc\\NL2_hg_epoch\\NL2_hg_epoch\\NP042307_NL_2_fractal_story_epoch.fif ...\n",
      "    Found the data of interest:\n",
      "        t =       0.00 ...    1998.00 ms\n",
      "        0 CTF compensation matrices available\n"
     ]
    },
    {
     "name": "stderr",
     "output_type": "stream",
     "text": [
      "C:\\Users\\chuba\\AppData\\Local\\Temp\\ipykernel_4080\\1278967360.py:50: RuntimeWarning: This filename (NP042306_NL_2_fractal_story_epoch.fif) does not conform to MNE naming conventions. All epochs files should end with -epo.fif, -epo.fif.gz, _epo.fif or _epo.fif.gz\n",
      "  variable_second = mne.read_epochs(name, proj=True, preload=True, verbose=None)\n",
      "C:\\Users\\chuba\\AppData\\Local\\Temp\\ipykernel_4080\\1278967360.py:50: RuntimeWarning: This filename (NP042307_NL_2_fractal_story_epoch.fif) does not conform to MNE naming conventions. All epochs files should end with -epo.fif, -epo.fif.gz, _epo.fif or _epo.fif.gz\n",
      "  variable_second = mne.read_epochs(name, proj=True, preload=True, verbose=None)\n"
     ]
    },
    {
     "name": "stdout",
     "output_type": "stream",
     "text": [
      "Not setting metadata\n",
      "26 matching events found\n",
      "No baseline correction applied\n",
      "0 projection items activated\n",
      "Effective window size : 2.000 (s)\n",
      "NP042307_NL_2_fractal_story_epoch.fif -121.31774232388338\n",
      "NP042309_NL_2_fractal_story_epoch.fif\n",
      "Reading D:\\all_eeg\\mu_eeg\\chernovik_2\\NL_2_3-4_years_preprocecc\\NL2_hg_epoch\\NL2_hg_epoch\\NP042309_NL_2_fractal_story_epoch.fif ...\n",
      "    Found the data of interest:\n",
      "        t =       0.00 ...    1998.00 ms\n",
      "        0 CTF compensation matrices available\n",
      "Not setting metadata\n",
      "19 matching events found\n",
      "No baseline correction applied\n",
      "0 projection items activated\n",
      "Effective window size : 2.000 (s)\n",
      "NP042309_NL_2_fractal_story_epoch.fif -122.56266151250219\n",
      "NP042317_NL_2_fractal_story_epoch.fif\n",
      "Reading D:\\all_eeg\\mu_eeg\\chernovik_2\\NL_2_3-4_years_preprocecc\\NL2_hg_epoch\\NL2_hg_epoch\\NP042317_NL_2_fractal_story_epoch.fif ...\n",
      "    Found the data of interest:\n",
      "        t =       0.00 ...    1998.00 ms\n",
      "        0 CTF compensation matrices available\n",
      "Not setting metadata\n",
      "29 matching events found\n",
      "No baseline correction applied\n",
      "0 projection items activated\n",
      "Effective window size : 2.000 (s)\n",
      "NP042317_NL_2_fractal_story_epoch.fif -124.21928814135526\n",
      "NP042331_NL_2_fractal_story_epoch.fif\n",
      "Reading D:\\all_eeg\\mu_eeg\\chernovik_2\\NL_2_3-4_years_preprocecc\\NL2_hg_epoch\\NL2_hg_epoch\\NP042331_NL_2_fractal_story_epoch.fif ...\n",
      "    Found the data of interest:\n"
     ]
    },
    {
     "name": "stderr",
     "output_type": "stream",
     "text": [
      "C:\\Users\\chuba\\AppData\\Local\\Temp\\ipykernel_4080\\1278967360.py:50: RuntimeWarning: This filename (NP042309_NL_2_fractal_story_epoch.fif) does not conform to MNE naming conventions. All epochs files should end with -epo.fif, -epo.fif.gz, _epo.fif or _epo.fif.gz\n",
      "  variable_second = mne.read_epochs(name, proj=True, preload=True, verbose=None)\n",
      "C:\\Users\\chuba\\AppData\\Local\\Temp\\ipykernel_4080\\1278967360.py:50: RuntimeWarning: This filename (NP042317_NL_2_fractal_story_epoch.fif) does not conform to MNE naming conventions. All epochs files should end with -epo.fif, -epo.fif.gz, _epo.fif or _epo.fif.gz\n",
      "  variable_second = mne.read_epochs(name, proj=True, preload=True, verbose=None)\n",
      "C:\\Users\\chuba\\AppData\\Local\\Temp\\ipykernel_4080\\1278967360.py:50: RuntimeWarning: This filename (NP042331_NL_2_fractal_story_epoch.fif) does not conform to MNE naming conventions. All epochs files should end with -epo.fif, -epo.fif.gz, _epo.fif or _epo.fif.gz\n",
      "  variable_second = mne.read_epochs(name, proj=True, preload=True, verbose=None)\n"
     ]
    },
    {
     "name": "stdout",
     "output_type": "stream",
     "text": [
      "        t =       0.00 ...    1998.00 ms\n",
      "        0 CTF compensation matrices available\n",
      "Not setting metadata\n",
      "29 matching events found\n",
      "No baseline correction applied\n",
      "0 projection items activated\n",
      "Effective window size : 2.000 (s)\n",
      "NP042331_NL_2_fractal_story_epoch.fif -121.98554517491374\n",
      "NP052310_NL_2_fractal_story_epoch.fif\n",
      "Reading D:\\all_eeg\\mu_eeg\\chernovik_2\\NL_2_3-4_years_preprocecc\\NL2_hg_epoch\\NL2_hg_epoch\\NP052310_NL_2_fractal_story_epoch.fif ...\n",
      "    Found the data of interest:\n",
      "        t =       0.00 ...    1998.00 ms\n",
      "        0 CTF compensation matrices available\n",
      "Not setting metadata\n",
      "14 matching events found\n",
      "No baseline correction applied\n",
      "0 projection items activated\n",
      "Effective window size : 2.000 (s)\n",
      "NP052310_NL_2_fractal_story_epoch.fif -120.26808364257668\n",
      "NP052315_NL_2_fractal_story_epoch.fif\n",
      "Reading D:\\all_eeg\\mu_eeg\\chernovik_2\\NL_2_3-4_years_preprocecc\\NL2_hg_epoch\\NL2_hg_epoch\\NP052315_NL_2_fractal_story_epoch.fif ...\n",
      "    Found the data of interest:\n",
      "        t =       0.00 ...    1998.00 ms\n",
      "        0 CTF compensation matrices available\n",
      "Not setting metadata\n",
      "14 matching events found\n",
      "No baseline correction applied\n",
      "0 projection items activated\n",
      "Effective window size : 2.000 (s)\n"
     ]
    },
    {
     "name": "stderr",
     "output_type": "stream",
     "text": [
      "C:\\Users\\chuba\\AppData\\Local\\Temp\\ipykernel_4080\\1278967360.py:50: RuntimeWarning: This filename (NP052310_NL_2_fractal_story_epoch.fif) does not conform to MNE naming conventions. All epochs files should end with -epo.fif, -epo.fif.gz, _epo.fif or _epo.fif.gz\n",
      "  variable_second = mne.read_epochs(name, proj=True, preload=True, verbose=None)\n",
      "C:\\Users\\chuba\\AppData\\Local\\Temp\\ipykernel_4080\\1278967360.py:50: RuntimeWarning: This filename (NP052315_NL_2_fractal_story_epoch.fif) does not conform to MNE naming conventions. All epochs files should end with -epo.fif, -epo.fif.gz, _epo.fif or _epo.fif.gz\n",
      "  variable_second = mne.read_epochs(name, proj=True, preload=True, verbose=None)\n"
     ]
    },
    {
     "name": "stdout",
     "output_type": "stream",
     "text": [
      "NP052315_NL_2_fractal_story_epoch.fif -123.45776141845754\n",
      "NP062306_NL_2_fractal_story_epoch.fif\n",
      "Reading D:\\all_eeg\\mu_eeg\\chernovik_2\\NL_2_3-4_years_preprocecc\\NL2_hg_epoch\\NL2_hg_epoch\\NP062306_NL_2_fractal_story_epoch.fif ...\n",
      "    Found the data of interest:\n",
      "        t =       0.00 ...    1998.00 ms\n",
      "        0 CTF compensation matrices available\n",
      "Not setting metadata\n",
      "14 matching events found\n",
      "No baseline correction applied\n",
      "0 projection items activated\n",
      "Effective window size : 2.000 (s)\n",
      "NP062306_NL_2_fractal_story_epoch.fif -123.54653273745453\n",
      "NP112314_NL_2_fractal_story_epoch.fif\n",
      "Reading D:\\all_eeg\\mu_eeg\\chernovik_2\\NL_2_3-4_years_preprocecc\\NL2_hg_epoch\\NL2_hg_epoch\\NP112314_NL_2_fractal_story_epoch.fif ...\n",
      "    Found the data of interest:\n",
      "        t =       0.00 ...    1998.00 ms\n",
      "        0 CTF compensation matrices available\n",
      "Not setting metadata\n",
      "29 matching events found\n",
      "No baseline correction applied\n",
      "0 projection items activated\n",
      "Effective window size : 2.000 (s)\n",
      "NP112314_NL_2_fractal_story_epoch.fif"
     ]
    },
    {
     "name": "stderr",
     "output_type": "stream",
     "text": [
      "C:\\Users\\chuba\\AppData\\Local\\Temp\\ipykernel_4080\\1278967360.py:50: RuntimeWarning: This filename (NP062306_NL_2_fractal_story_epoch.fif) does not conform to MNE naming conventions. All epochs files should end with -epo.fif, -epo.fif.gz, _epo.fif or _epo.fif.gz\n",
      "  variable_second = mne.read_epochs(name, proj=True, preload=True, verbose=None)\n",
      "C:\\Users\\chuba\\AppData\\Local\\Temp\\ipykernel_4080\\1278967360.py:50: RuntimeWarning: This filename (NP112314_NL_2_fractal_story_epoch.fif) does not conform to MNE naming conventions. All epochs files should end with -epo.fif, -epo.fif.gz, _epo.fif or _epo.fif.gz\n",
      "  variable_second = mne.read_epochs(name, proj=True, preload=True, verbose=None)\n"
     ]
    },
    {
     "name": "stdout",
     "output_type": "stream",
     "text": [
      " -122.25564154766842\n",
      "NP112317_NL_2_fractal_story_epoch.fif\n",
      "Reading D:\\all_eeg\\mu_eeg\\chernovik_2\\NL_2_3-4_years_preprocecc\\NL2_hg_epoch\\NL2_hg_epoch\\NP112317_NL_2_fractal_story_epoch.fif ...\n",
      "    Found the data of interest:\n",
      "        t =       0.00 ...    1998.00 ms\n",
      "        0 CTF compensation matrices available\n",
      "Not setting metadata\n",
      "29 matching events found\n",
      "No baseline correction applied\n",
      "0 projection items activated\n",
      "Effective window size : 2.000 (s)\n",
      "NP112317_NL_2_fractal_story_epoch.fif -122.47823636315573\n",
      "NP112318_NL_2_fractal_story_epoch.fif\n",
      "Reading D:\\all_eeg\\mu_eeg\\chernovik_2\\NL_2_3-4_years_preprocecc\\NL2_hg_epoch\\NL2_hg_epoch\\NP112318_NL_2_fractal_story_epoch.fif ...\n",
      "    Found the data of interest:\n",
      "        t =       0.00 ...    1998.00 ms\n",
      "        0 CTF compensation matrices available\n",
      "Not setting metadata\n",
      "29 matching events found\n",
      "No baseline correction applied\n",
      "0 projection items activated\n",
      "Effective window size : 2.000 (s)\n",
      "NP112318_NL_2_fractal_story_epoch.fif -121.31006483183528\n",
      "NP112321_NL_2_fractal_story_epoch.fif\n",
      "Reading D:\\all_eeg\\mu_eeg\\chernovik_2\\NL_2_3-4_years_preprocecc\\NL2_hg_epoch\\NL2_hg_epoch\\NP112321_NL_2_fractal_story_epoch.fif ...\n",
      "    Found the data of interest:\n",
      "        t =       0.00 ...    1998.00 ms\n",
      "        0 CTF compensation matrices available\n",
      "Not setting metadata\n",
      "14 matching events found\n",
      "No baseline correction applied\n",
      "0 projection items activated\n",
      "Effective window size : 2.000 (s)\n"
     ]
    },
    {
     "name": "stderr",
     "output_type": "stream",
     "text": [
      "C:\\Users\\chuba\\AppData\\Local\\Temp\\ipykernel_4080\\1278967360.py:50: RuntimeWarning: This filename (NP112317_NL_2_fractal_story_epoch.fif) does not conform to MNE naming conventions. All epochs files should end with -epo.fif, -epo.fif.gz, _epo.fif or _epo.fif.gz\n",
      "  variable_second = mne.read_epochs(name, proj=True, preload=True, verbose=None)\n",
      "C:\\Users\\chuba\\AppData\\Local\\Temp\\ipykernel_4080\\1278967360.py:50: RuntimeWarning: This filename (NP112318_NL_2_fractal_story_epoch.fif) does not conform to MNE naming conventions. All epochs files should end with -epo.fif, -epo.fif.gz, _epo.fif or _epo.fif.gz\n",
      "  variable_second = mne.read_epochs(name, proj=True, preload=True, verbose=None)\n",
      "C:\\Users\\chuba\\AppData\\Local\\Temp\\ipykernel_4080\\1278967360.py:50: RuntimeWarning: This filename (NP112321_NL_2_fractal_story_epoch.fif) does not conform to MNE naming conventions. All epochs files should end with -epo.fif, -epo.fif.gz, _epo.fif or _epo.fif.gz\n",
      "  variable_second = mne.read_epochs(name, proj=True, preload=True, verbose=None)\n"
     ]
    },
    {
     "name": "stdout",
     "output_type": "stream",
     "text": [
      "NP112321_NL_2_fractal_story_epoch.fif -124.50253936894627\n",
      "avr_PSD_variable_second = -122.50631451297637\n",
      "[-124.08865430623761, -122.09524048317127, -123.34887393449006, -121.31774232388338, -122.56266151250219, -124.21928814135526, -121.98554517491374, -120.26808364257668, -123.45776141845754, -123.54653273745453, -122.25564154766842, -122.47823636315573, -121.31006483183528, -124.50253936894627]\n",
      "[['NP042303_NL_2_fractal_story_epoch.fif'], ['NP042304_NL_2_fractal_story_epoch.fif'], ['NP042306_NL_2_fractal_story_epoch.fif'], ['NP042307_NL_2_fractal_story_epoch.fif'], ['NP042309_NL_2_fractal_story_epoch.fif'], ['NP042317_NL_2_fractal_story_epoch.fif'], ['NP042331_NL_2_fractal_story_epoch.fif'], ['NP052310_NL_2_fractal_story_epoch.fif'], ['NP052315_NL_2_fractal_story_epoch.fif'], ['NP062306_NL_2_fractal_story_epoch.fif'], ['NP112314_NL_2_fractal_story_epoch.fif'], ['NP112317_NL_2_fractal_story_epoch.fif'], ['NP112318_NL_2_fractal_story_epoch.fif'], ['NP112321_NL_2_fractal_story_epoch.fif']]\n",
      "                                         ID         PSD\n",
      "0   [NP042303_NL_2_fractal_story_epoch.fif] -124.088654\n",
      "1   [NP042304_NL_2_fractal_story_epoch.fif] -122.095240\n",
      "2   [NP042306_NL_2_fractal_story_epoch.fif] -123.348874\n",
      "3   [NP042307_NL_2_fractal_story_epoch.fif] -121.317742\n",
      "4   [NP042309_NL_2_fractal_story_epoch.fif] -122.562662\n",
      "5   [NP042317_NL_2_fractal_story_epoch.fif] -124.219288\n",
      "6   [NP042331_NL_2_fractal_story_epoch.fif] -121.985545\n",
      "7   [NP052310_NL_2_fractal_story_epoch.fif] -120.268084\n",
      "8   [NP052315_NL_2_fractal_story_epoch.fif] -123.457761\n",
      "9   [NP062306_NL_2_fractal_story_epoch.fif] -123.546533\n",
      "10  [NP112314_NL_2_fractal_story_epoch.fif] -122.255642\n",
      "11  [NP112317_NL_2_fractal_story_epoch.fif] -122.478236\n",
      "12  [NP112318_NL_2_fractal_story_epoch.fif] -121.310065\n",
      "13  [NP112321_NL_2_fractal_story_epoch.fif] -124.502539\n",
      "NP042303_PCH_epoch.fif\n",
      "Reading D:\\all_eeg\\mu_eeg\\chernovik_2\\mu1_and_mu2_3-4_years_preprocecc\\MU_hg_epoch (1)\\MU_hg_epoch (1)\\NP042303_PCH_epoch.fif ...\n",
      "    Found the data of interest:\n",
      "        t =       0.00 ...    1998.00 ms\n",
      "        0 CTF compensation matrices available\n",
      "Not setting metadata\n",
      "44 matching events found\n",
      "No baseline correction applied\n",
      "0 projection items activated\n",
      "Effective window size : 2.000 (s)\n"
     ]
    },
    {
     "name": "stderr",
     "output_type": "stream",
     "text": [
      "C:\\Users\\chuba\\AppData\\Local\\Temp\\ipykernel_4080\\1278967360.py:89: RuntimeWarning: This filename (NP042303_PCH_epoch.fif) does not conform to MNE naming conventions. All epochs files should end with -epo.fif, -epo.fif.gz, _epo.fif or _epo.fif.gz\n",
      "  variable_second = mne.read_epochs(name, proj=True, preload=True, verbose=None)\n"
     ]
    },
    {
     "name": "stdout",
     "output_type": "stream",
     "text": [
      "NP042303_PCH_epoch.fif -124.49254004584274\n",
      "NP042304_PCH_epoch.fif\n",
      "Reading D:\\all_eeg\\mu_eeg\\chernovik_2\\mu1_and_mu2_3-4_years_preprocecc\\MU_hg_epoch (1)\\MU_hg_epoch (1)\\NP042304_PCH_epoch.fif ...\n",
      "    Found the data of interest:\n",
      "        t =       0.00 ...    1998.00 ms\n",
      "        0 CTF compensation matrices available\n",
      "Not setting metadata\n",
      "53 matching events found\n",
      "No baseline correction applied\n",
      "0 projection items activated\n",
      "Effective window size : 2.000 (s)\n"
     ]
    },
    {
     "name": "stderr",
     "output_type": "stream",
     "text": [
      "C:\\Users\\chuba\\AppData\\Local\\Temp\\ipykernel_4080\\1278967360.py:89: RuntimeWarning: This filename (NP042304_PCH_epoch.fif) does not conform to MNE naming conventions. All epochs files should end with -epo.fif, -epo.fif.gz, _epo.fif or _epo.fif.gz\n",
      "  variable_second = mne.read_epochs(name, proj=True, preload=True, verbose=None)\n"
     ]
    },
    {
     "name": "stdout",
     "output_type": "stream",
     "text": [
      "NP042304_PCH_epoch.fif -124.26438951396517\n",
      "NP042306_PCH_epoch.fif\n",
      "Reading D:\\all_eeg\\mu_eeg\\chernovik_2\\mu1_and_mu2_3-4_years_preprocecc\\MU_hg_epoch (1)\\MU_hg_epoch (1)\\NP042306_PCH_epoch.fif ...\n",
      "    Found the data of interest:\n",
      "        t =       0.00 ...    1998.00 ms\n",
      "        0 CTF compensation matrices available\n",
      "Not setting metadata\n",
      "64 matching events found\n",
      "No baseline correction applied\n",
      "0 projection items activated\n",
      "Effective window size : 2.000 (s)\n"
     ]
    },
    {
     "name": "stderr",
     "output_type": "stream",
     "text": [
      "C:\\Users\\chuba\\AppData\\Local\\Temp\\ipykernel_4080\\1278967360.py:89: RuntimeWarning: This filename (NP042306_PCH_epoch.fif) does not conform to MNE naming conventions. All epochs files should end with -epo.fif, -epo.fif.gz, _epo.fif or _epo.fif.gz\n",
      "  variable_second = mne.read_epochs(name, proj=True, preload=True, verbose=None)\n"
     ]
    },
    {
     "name": "stdout",
     "output_type": "stream",
     "text": [
      "NP042306_PCH_epoch.fif -124.16917381811304\n",
      "NP042307_mu1_PCH_epoch.fif\n",
      "Reading D:\\all_eeg\\mu_eeg\\chernovik_2\\mu1_and_mu2_3-4_years_preprocecc\\MU_hg_epoch (1)\\MU_hg_epoch (1)\\NP042307_mu1_PCH_epoch.fif ...\n",
      "    Found the data of interest:\n",
      "        t =       0.00 ...    1998.00 ms\n",
      "        0 CTF compensation matrices available\n",
      "Not setting metadata\n",
      "21 matching events found\n",
      "No baseline correction applied\n",
      "0 projection items activated\n",
      "Effective window size : 2.000 (s)\n",
      "NP042307_mu1_PCH_epoch.fif -123.56453035583027\n",
      "NP042309_PCH_epoch.fif\n",
      "Reading D:\\all_eeg\\mu_eeg\\chernovik_2\\mu1_and_mu2_3-4_years_preprocecc\\MU_hg_epoch (1)\\MU_hg_epoch (1)\\NP042309_PCH_epoch.fif ...\n"
     ]
    },
    {
     "name": "stderr",
     "output_type": "stream",
     "text": [
      "C:\\Users\\chuba\\AppData\\Local\\Temp\\ipykernel_4080\\1278967360.py:89: RuntimeWarning: This filename (NP042307_mu1_PCH_epoch.fif) does not conform to MNE naming conventions. All epochs files should end with -epo.fif, -epo.fif.gz, _epo.fif or _epo.fif.gz\n",
      "  variable_second = mne.read_epochs(name, proj=True, preload=True, verbose=None)\n",
      "C:\\Users\\chuba\\AppData\\Local\\Temp\\ipykernel_4080\\1278967360.py:89: RuntimeWarning: This filename (NP042309_PCH_epoch.fif) does not conform to MNE naming conventions. All epochs files should end with -epo.fif, -epo.fif.gz, _epo.fif or _epo.fif.gz\n",
      "  variable_second = mne.read_epochs(name, proj=True, preload=True, verbose=None)\n"
     ]
    },
    {
     "name": "stdout",
     "output_type": "stream",
     "text": [
      "    Found the data of interest:\n",
      "        t =       0.00 ...    1998.00 ms\n",
      "        0 CTF compensation matrices available\n",
      "Not setting metadata\n",
      "84 matching events found\n",
      "No baseline correction applied\n",
      "0 projection items activated\n",
      "Effective window size : 2.000 (s)\n",
      "NP042309_PCH_epoch.fif -122.81408862268148\n",
      "NP042317_PCH_epoch.fif\n",
      "Reading D:\\all_eeg\\mu_eeg\\chernovik_2\\mu1_and_mu2_3-4_years_preprocecc\\MU_hg_epoch (1)\\MU_hg_epoch (1)\\NP042317_PCH_epoch.fif ...\n",
      "    Found the data of interest:\n",
      "        t =       0.00 ...    1998.00 ms\n",
      "        0 CTF compensation matrices available\n",
      "Not setting metadata\n",
      "79 matching events found\n",
      "No baseline correction applied\n",
      "0 projection items activated\n",
      "Effective window size : 2.000 (s)\n"
     ]
    },
    {
     "name": "stderr",
     "output_type": "stream",
     "text": [
      "C:\\Users\\chuba\\AppData\\Local\\Temp\\ipykernel_4080\\1278967360.py:89: RuntimeWarning: This filename (NP042317_PCH_epoch.fif) does not conform to MNE naming conventions. All epochs files should end with -epo.fif, -epo.fif.gz, _epo.fif or _epo.fif.gz\n",
      "  variable_second = mne.read_epochs(name, proj=True, preload=True, verbose=None)\n"
     ]
    },
    {
     "name": "stdout",
     "output_type": "stream",
     "text": [
      "NP042317_PCH_epoch.fif -124.34033345752297\n",
      "NP042331_PCH_epoch.fif\n",
      "Reading D:\\all_eeg\\mu_eeg\\chernovik_2\\mu1_and_mu2_3-4_years_preprocecc\\MU_hg_epoch (1)\\MU_hg_epoch (1)\\NP042331_PCH_epoch.fif ...\n",
      "    Found the data of interest:\n",
      "        t =       0.00 ...    1998.00 ms\n",
      "        0 CTF compensation matrices available\n",
      "Not setting metadata\n",
      "65 matching events found\n",
      "No baseline correction applied\n",
      "0 projection items activated\n",
      "Effective window size : 2.000 (s)\n"
     ]
    },
    {
     "name": "stderr",
     "output_type": "stream",
     "text": [
      "C:\\Users\\chuba\\AppData\\Local\\Temp\\ipykernel_4080\\1278967360.py:89: RuntimeWarning: This filename (NP042331_PCH_epoch.fif) does not conform to MNE naming conventions. All epochs files should end with -epo.fif, -epo.fif.gz, _epo.fif or _epo.fif.gz\n",
      "  variable_second = mne.read_epochs(name, proj=True, preload=True, verbose=None)\n"
     ]
    },
    {
     "name": "stdout",
     "output_type": "stream",
     "text": [
      "NP042331_PCH_epoch.fif -124.13233641749407\n",
      "NP052310_PCH_epoch.fif\n",
      "Reading D:\\all_eeg\\mu_eeg\\chernovik_2\\mu1_and_mu2_3-4_years_preprocecc\\MU_hg_epoch (1)\\MU_hg_epoch (1)\\NP052310_PCH_epoch.fif ...\n",
      "    Found the data of interest:\n",
      "        t =       0.00 ...    1998.00 ms\n",
      "        0 CTF compensation matrices available\n",
      "Not setting metadata\n",
      "48 matching events found\n",
      "No baseline correction applied\n",
      "0 projection items activated\n",
      "Effective window size : 2.000 (s)\n"
     ]
    },
    {
     "name": "stderr",
     "output_type": "stream",
     "text": [
      "C:\\Users\\chuba\\AppData\\Local\\Temp\\ipykernel_4080\\1278967360.py:89: RuntimeWarning: This filename (NP052310_PCH_epoch.fif) does not conform to MNE naming conventions. All epochs files should end with -epo.fif, -epo.fif.gz, _epo.fif or _epo.fif.gz\n",
      "  variable_second = mne.read_epochs(name, proj=True, preload=True, verbose=None)\n"
     ]
    },
    {
     "name": "stdout",
     "output_type": "stream",
     "text": [
      "NP052310_PCH_epoch.fif -120.32220866337083\n",
      "NP052315_PCH_epoch.fif\n",
      "Reading D:\\all_eeg\\mu_eeg\\chernovik_2\\mu1_and_mu2_3-4_years_preprocecc\\MU_hg_epoch (1)\\MU_hg_epoch (1)\\NP052315_PCH_epoch.fif ...\n",
      "    Found the data of interest:\n",
      "        t =       0.00 ...    1998.00 ms\n",
      "        0 CTF compensation matrices available\n",
      "Not setting metadata\n",
      "40 matching events found\n",
      "No baseline correction applied\n",
      "0 projection items activated\n",
      "Effective window size : 2.000 (s)\n",
      "NP052315_PCH_epoch.fif -123.87300423619155\n",
      "NP062306_PCH_epoch.fif\n",
      "Reading D:\\all_eeg\\mu_eeg\\chernovik_2\\mu1_and_mu2_3-4_years_preprocecc\\MU_hg_epoch (1)\\MU_hg_epoch (1)\\NP062306_PCH_epoch.fif ...\n"
     ]
    },
    {
     "name": "stderr",
     "output_type": "stream",
     "text": [
      "C:\\Users\\chuba\\AppData\\Local\\Temp\\ipykernel_4080\\1278967360.py:89: RuntimeWarning: This filename (NP052315_PCH_epoch.fif) does not conform to MNE naming conventions. All epochs files should end with -epo.fif, -epo.fif.gz, _epo.fif or _epo.fif.gz\n",
      "  variable_second = mne.read_epochs(name, proj=True, preload=True, verbose=None)\n",
      "C:\\Users\\chuba\\AppData\\Local\\Temp\\ipykernel_4080\\1278967360.py:89: RuntimeWarning: This filename (NP062306_PCH_epoch.fif) does not conform to MNE naming conventions. All epochs files should end with -epo.fif, -epo.fif.gz, _epo.fif or _epo.fif.gz\n",
      "  variable_second = mne.read_epochs(name, proj=True, preload=True, verbose=None)\n"
     ]
    },
    {
     "name": "stdout",
     "output_type": "stream",
     "text": [
      "    Found the data of interest:\n",
      "        t =       0.00 ...    1998.00 ms\n",
      "        0 CTF compensation matrices available\n",
      "Not setting metadata\n",
      "39 matching events found\n",
      "No baseline correction applied\n",
      "0 projection items activated\n",
      "Effective window size : 2.000 (s)\n",
      "NP062306_PCH_epoch.fif -123.80286397113672\n",
      "NP112314_PCH_epoch.fif\n",
      "Reading D:\\all_eeg\\mu_eeg\\chernovik_2\\mu1_and_mu2_3-4_years_preprocecc\\MU_hg_epoch (1)\\MU_hg_epoch (1)\\NP112314_PCH_epoch.fif ...\n",
      "    Found the data of interest:\n",
      "        t =       0.00 ...    1998.00 ms\n",
      "        0 CTF compensation matrices available\n",
      "Not setting metadata\n",
      "13 matching events found\n",
      "No baseline correction applied\n",
      "0 projection items activated\n",
      "Effective window size : 2.000 (s)\n",
      "NP112314_PCH_epoch.fif -123.99243103534856\n",
      "NP112317_PCH_epoch.fif\n",
      "Reading D:\\all_eeg\\mu_eeg\\chernovik_2\\mu1_and_mu2_3-4_years_preprocecc\\MU_hg_epoch (1)\\MU_hg_epoch (1)\\NP112317_PCH_epoch.fif ...\n",
      "    Found the data of interest:\n",
      "        t =       0.00 ...    1998.00 ms\n",
      "        0 CTF compensation matrices available\n",
      "Not setting metadata\n",
      "21 matching events found\n",
      "No baseline correction applied\n",
      "0 projection items activated\n",
      "Effective window size : 2.000 (s)\n"
     ]
    },
    {
     "name": "stderr",
     "output_type": "stream",
     "text": [
      "C:\\Users\\chuba\\AppData\\Local\\Temp\\ipykernel_4080\\1278967360.py:89: RuntimeWarning: This filename (NP112314_PCH_epoch.fif) does not conform to MNE naming conventions. All epochs files should end with -epo.fif, -epo.fif.gz, _epo.fif or _epo.fif.gz\n",
      "  variable_second = mne.read_epochs(name, proj=True, preload=True, verbose=None)\n",
      "C:\\Users\\chuba\\AppData\\Local\\Temp\\ipykernel_4080\\1278967360.py:89: RuntimeWarning: This filename (NP112317_PCH_epoch.fif) does not conform to MNE naming conventions. All epochs files should end with -epo.fif, -epo.fif.gz, _epo.fif or _epo.fif.gz\n",
      "  variable_second = mne.read_epochs(name, proj=True, preload=True, verbose=None)\n"
     ]
    },
    {
     "name": "stdout",
     "output_type": "stream",
     "text": [
      "NP112317_PCH_epoch.fif -122.3132888156921\n",
      "NP112318_PCH_epoch.fif\n",
      "Reading D:\\all_eeg\\mu_eeg\\chernovik_2\\mu1_and_mu2_3-4_years_preprocecc\\MU_hg_epoch (1)\\MU_hg_epoch (1)\\NP112318_PCH_epoch.fif ...\n",
      "    Found the data of interest:\n",
      "        t =       0.00 ...    1998.00 ms\n",
      "        0 CTF compensation matrices available\n",
      "Not setting metadata\n",
      "46 matching events found\n",
      "No baseline correction applied\n",
      "0 projection items activated\n",
      "Effective window size : 2.000 (s)\n"
     ]
    },
    {
     "name": "stderr",
     "output_type": "stream",
     "text": [
      "C:\\Users\\chuba\\AppData\\Local\\Temp\\ipykernel_4080\\1278967360.py:89: RuntimeWarning: This filename (NP112318_PCH_epoch.fif) does not conform to MNE naming conventions. All epochs files should end with -epo.fif, -epo.fif.gz, _epo.fif or _epo.fif.gz\n",
      "  variable_second = mne.read_epochs(name, proj=True, preload=True, verbose=None)\n"
     ]
    },
    {
     "name": "stdout",
     "output_type": "stream",
     "text": [
      "NP112318_PCH_epoch.fif -121.45817332114001\n",
      "NP112321_mu1_PCH_epoch.fif\n",
      "Reading D:\\all_eeg\\mu_eeg\\chernovik_2\\mu1_and_mu2_3-4_years_preprocecc\\MU_hg_epoch (1)\\MU_hg_epoch (1)\\NP112321_mu1_PCH_epoch.fif ...\n",
      "    Found the data of interest:\n",
      "        t =       0.00 ...    1998.00 ms\n",
      "        0 CTF compensation matrices available\n",
      "Not setting metadata\n",
      "42 matching events found\n",
      "No baseline correction applied\n",
      "0 projection items activated\n",
      "Effective window size : 2.000 (s)\n"
     ]
    },
    {
     "name": "stderr",
     "output_type": "stream",
     "text": [
      "C:\\Users\\chuba\\AppData\\Local\\Temp\\ipykernel_4080\\1278967360.py:89: RuntimeWarning: This filename (NP112321_mu1_PCH_epoch.fif) does not conform to MNE naming conventions. All epochs files should end with -epo.fif, -epo.fif.gz, _epo.fif or _epo.fif.gz\n",
      "  variable_second = mne.read_epochs(name, proj=True, preload=True, verbose=None)\n"
     ]
    },
    {
     "name": "stdout",
     "output_type": "stream",
     "text": [
      "NP112321_mu1_PCH_epoch.fif -124.43771825656668\n",
      "avr_PSD_variable_second = -123.23569729197963\n",
      "[-124.49254004584274, -124.26438951396517, -124.16917381811304, -123.56453035583027, -122.81408862268148, -124.34033345752297, -124.13233641749407, -120.32220866337083, -123.87300423619155, -123.80286397113672, -123.99243103534856, -122.3132888156921, -121.45817332114001, -124.43771825656668]\n",
      "[['NP042303_PCH_epoch.fif'], ['NP042304_PCH_epoch.fif'], ['NP042306_PCH_epoch.fif'], ['NP042307_mu1_PCH_epoch.fif'], ['NP042309_PCH_epoch.fif'], ['NP042317_PCH_epoch.fif'], ['NP042331_PCH_epoch.fif'], ['NP052310_PCH_epoch.fif'], ['NP052315_PCH_epoch.fif'], ['NP062306_PCH_epoch.fif'], ['NP112314_PCH_epoch.fif'], ['NP112317_PCH_epoch.fif'], ['NP112318_PCH_epoch.fif'], ['NP112321_mu1_PCH_epoch.fif']]\n",
      "                              ID         PSD\n",
      "0       [NP042303_PCH_epoch.fif] -124.492540\n",
      "1       [NP042304_PCH_epoch.fif] -124.264390\n",
      "2       [NP042306_PCH_epoch.fif] -124.169174\n",
      "3   [NP042307_mu1_PCH_epoch.fif] -123.564530\n",
      "4       [NP042309_PCH_epoch.fif] -122.814089\n",
      "5       [NP042317_PCH_epoch.fif] -124.340333\n",
      "6       [NP042331_PCH_epoch.fif] -124.132336\n",
      "7       [NP052310_PCH_epoch.fif] -120.322209\n",
      "8       [NP052315_PCH_epoch.fif] -123.873004\n",
      "9       [NP062306_PCH_epoch.fif] -123.802864\n",
      "10      [NP112314_PCH_epoch.fif] -123.992431\n",
      "11      [NP112317_PCH_epoch.fif] -122.313289\n",
      "12      [NP112318_PCH_epoch.fif] -121.458173\n",
      "13  [NP112321_mu1_PCH_epoch.fif] -124.437718\n",
      "NP042303_CE_epoch.fif\n",
      "Reading D:\\all_eeg\\mu_eeg\\chernovik_2\\mu1_and_mu2_3-4_years_preprocecc\\MU_hg_epoch (1)\\MU_hg_epoch (1)\\NP042303_CE_epoch.fif ...\n",
      "    Found the data of interest:\n",
      "        t =       0.00 ...    1998.00 ms\n",
      "        0 CTF compensation matrices available\n",
      "Not setting metadata\n",
      "78 matching events found\n",
      "No baseline correction applied\n",
      "0 projection items activated\n",
      "Effective window size : 2.000 (s)\n"
     ]
    },
    {
     "name": "stderr",
     "output_type": "stream",
     "text": [
      "C:\\Users\\chuba\\AppData\\Local\\Temp\\ipykernel_4080\\1278967360.py:126: RuntimeWarning: This filename (NP042303_CE_epoch.fif) does not conform to MNE naming conventions. All epochs files should end with -epo.fif, -epo.fif.gz, _epo.fif or _epo.fif.gz\n",
      "  variable_second = mne.read_epochs(name, proj=True, preload=True, verbose=None)\n"
     ]
    },
    {
     "name": "stdout",
     "output_type": "stream",
     "text": [
      "NP042303_CE_epoch.fif -124.43304083559187\n",
      "NP042304_CE_epoch.fif\n",
      "Reading D:\\all_eeg\\mu_eeg\\chernovik_2\\mu1_and_mu2_3-4_years_preprocecc\\MU_hg_epoch (1)\\MU_hg_epoch (1)\\NP042304_CE_epoch.fif ...\n",
      "    Found the data of interest:\n",
      "        t =       0.00 ...    1998.00 ms\n",
      "        0 CTF compensation matrices available\n",
      "Not setting metadata\n",
      "79 matching events found\n",
      "No baseline correction applied\n",
      "0 projection items activated\n",
      "Effective window size : 2.000 (s)\n"
     ]
    },
    {
     "name": "stderr",
     "output_type": "stream",
     "text": [
      "C:\\Users\\chuba\\AppData\\Local\\Temp\\ipykernel_4080\\1278967360.py:126: RuntimeWarning: This filename (NP042304_CE_epoch.fif) does not conform to MNE naming conventions. All epochs files should end with -epo.fif, -epo.fif.gz, _epo.fif or _epo.fif.gz\n",
      "  variable_second = mne.read_epochs(name, proj=True, preload=True, verbose=None)\n"
     ]
    },
    {
     "name": "stdout",
     "output_type": "stream",
     "text": [
      "NP042304_CE_epoch.fif -123.99532525217148\n",
      "NP042306_CE_epoch.fif\n",
      "Reading D:\\all_eeg\\mu_eeg\\chernovik_2\\mu1_and_mu2_3-4_years_preprocecc\\MU_hg_epoch (1)\\MU_hg_epoch (1)\\NP042306_CE_epoch.fif ...\n",
      "    Found the data of interest:\n",
      "        t =       0.00 ...    1998.00 ms\n",
      "        0 CTF compensation matrices available\n",
      "Not setting metadata\n",
      "72 matching events found\n",
      "No baseline correction applied\n",
      "0 projection items activated\n",
      "Effective window size : 2.000 (s)\n"
     ]
    },
    {
     "name": "stderr",
     "output_type": "stream",
     "text": [
      "C:\\Users\\chuba\\AppData\\Local\\Temp\\ipykernel_4080\\1278967360.py:126: RuntimeWarning: This filename (NP042306_CE_epoch.fif) does not conform to MNE naming conventions. All epochs files should end with -epo.fif, -epo.fif.gz, _epo.fif or _epo.fif.gz\n",
      "  variable_second = mne.read_epochs(name, proj=True, preload=True, verbose=None)\n"
     ]
    },
    {
     "name": "stdout",
     "output_type": "stream",
     "text": [
      "NP042306_CE_epoch.fif -123.74827444779547\n",
      "NP042307_mu1_CE_epoch.fif\n",
      "Reading D:\\all_eeg\\mu_eeg\\chernovik_2\\mu1_and_mu2_3-4_years_preprocecc\\MU_hg_epoch (1)\\MU_hg_epoch (1)\\NP042307_mu1_CE_epoch.fif ...\n",
      "    Found the data of interest:\n",
      "        t =       0.00 ...    1998.00 ms\n",
      "        0 CTF compensation matrices available\n",
      "Not setting metadata\n",
      "3 matching events found\n",
      "No baseline correction applied\n",
      "0 projection items activated\n",
      "Effective window size : 2.000 (s)\n",
      "NP042307_mu1_CE_epoch.fif -123.80383479902271\n",
      "NP042309_CE_epoch.fif\n",
      "Reading D:\\all_eeg\\mu_eeg\\chernovik_2\\mu1_and_mu2_3-4_years_preprocecc\\MU_hg_epoch (1)\\MU_hg_epoch (1)\\NP042309_CE_epoch.fif ...\n",
      "    Found the data of interest:\n",
      "        t =       0.00 ...    1998.00 ms\n",
      "        0 CTF compensation matrices available\n",
      "Not setting metadata\n",
      "83 matching events found\n",
      "No baseline correction applied\n",
      "0 projection items activated\n"
     ]
    },
    {
     "name": "stderr",
     "output_type": "stream",
     "text": [
      "C:\\Users\\chuba\\AppData\\Local\\Temp\\ipykernel_4080\\1278967360.py:126: RuntimeWarning: This filename (NP042307_mu1_CE_epoch.fif) does not conform to MNE naming conventions. All epochs files should end with -epo.fif, -epo.fif.gz, _epo.fif or _epo.fif.gz\n",
      "  variable_second = mne.read_epochs(name, proj=True, preload=True, verbose=None)\n",
      "C:\\Users\\chuba\\AppData\\Local\\Temp\\ipykernel_4080\\1278967360.py:126: RuntimeWarning: This filename (NP042309_CE_epoch.fif) does not conform to MNE naming conventions. All epochs files should end with -epo.fif, -epo.fif.gz, _epo.fif or _epo.fif.gz\n",
      "  variable_second = mne.read_epochs(name, proj=True, preload=True, verbose=None)\n"
     ]
    },
    {
     "name": "stdout",
     "output_type": "stream",
     "text": [
      "Effective window size : 2.000 (s)\n",
      "NP042309_CE_epoch.fif -123.1403533159159\n",
      "NP042317_CE_epoch.fif\n",
      "Reading D:\\all_eeg\\mu_eeg\\chernovik_2\\mu1_and_mu2_3-4_years_preprocecc\\MU_hg_epoch (1)\\MU_hg_epoch (1)\\NP042317_CE_epoch.fif ...\n",
      "    Found the data of interest:\n",
      "        t =       0.00 ...    1998.00 ms\n",
      "        0 CTF compensation matrices available\n",
      "Not setting metadata\n",
      "84 matching events found\n",
      "No baseline correction applied\n",
      "0 projection items activated\n",
      "Effective window size : 2.000 (s)\n"
     ]
    },
    {
     "name": "stderr",
     "output_type": "stream",
     "text": [
      "C:\\Users\\chuba\\AppData\\Local\\Temp\\ipykernel_4080\\1278967360.py:126: RuntimeWarning: This filename (NP042317_CE_epoch.fif) does not conform to MNE naming conventions. All epochs files should end with -epo.fif, -epo.fif.gz, _epo.fif or _epo.fif.gz\n",
      "  variable_second = mne.read_epochs(name, proj=True, preload=True, verbose=None)\n"
     ]
    },
    {
     "name": "stdout",
     "output_type": "stream",
     "text": [
      "NP042317_CE_epoch.fif -123.61065012829194\n",
      "NP042331_CE_epoch.fif\n",
      "Reading D:\\all_eeg\\mu_eeg\\chernovik_2\\mu1_and_mu2_3-4_years_preprocecc\\MU_hg_epoch (1)\\MU_hg_epoch (1)\\NP042331_CE_epoch.fif ...\n",
      "    Found the data of interest:\n",
      "        t =       0.00 ...    1998.00 ms\n",
      "        0 CTF compensation matrices available\n",
      "Not setting metadata\n",
      "87 matching events found\n",
      "No baseline correction applied\n",
      "0 projection items activated\n"
     ]
    },
    {
     "name": "stderr",
     "output_type": "stream",
     "text": [
      "C:\\Users\\chuba\\AppData\\Local\\Temp\\ipykernel_4080\\1278967360.py:126: RuntimeWarning: This filename (NP042331_CE_epoch.fif) does not conform to MNE naming conventions. All epochs files should end with -epo.fif, -epo.fif.gz, _epo.fif or _epo.fif.gz\n",
      "  variable_second = mne.read_epochs(name, proj=True, preload=True, verbose=None)\n"
     ]
    },
    {
     "name": "stdout",
     "output_type": "stream",
     "text": [
      "Effective window size : 2.000 (s)\n",
      "NP042331_CE_epoch.fif -124.20870701018049\n",
      "NP052310_CE_epoch.fif\n",
      "Reading D:\\all_eeg\\mu_eeg\\chernovik_2\\mu1_and_mu2_3-4_years_preprocecc\\MU_hg_epoch (1)\\MU_hg_epoch (1)\\NP052310_CE_epoch.fif ...\n",
      "    Found the data of interest:\n",
      "        t =       0.00 ...    1998.00 ms\n",
      "        0 CTF compensation matrices available\n",
      "Not setting metadata\n",
      "78 matching events found\n",
      "No baseline correction applied\n",
      "0 projection items activated\n",
      "Effective window size : 2.000 (s)\n"
     ]
    },
    {
     "name": "stderr",
     "output_type": "stream",
     "text": [
      "C:\\Users\\chuba\\AppData\\Local\\Temp\\ipykernel_4080\\1278967360.py:126: RuntimeWarning: This filename (NP052310_CE_epoch.fif) does not conform to MNE naming conventions. All epochs files should end with -epo.fif, -epo.fif.gz, _epo.fif or _epo.fif.gz\n",
      "  variable_second = mne.read_epochs(name, proj=True, preload=True, verbose=None)\n"
     ]
    },
    {
     "name": "stdout",
     "output_type": "stream",
     "text": [
      "NP052310_CE_epoch.fif -121.71176311354327\n",
      "NP052315_CE_epoch.fif\n",
      "Reading D:\\all_eeg\\mu_eeg\\chernovik_2\\mu1_and_mu2_3-4_years_preprocecc\\MU_hg_epoch (1)\\MU_hg_epoch (1)\\NP052315_CE_epoch.fif ...\n",
      "    Found the data of interest:\n",
      "        t =       0.00 ...    1998.00 ms\n",
      "        0 CTF compensation matrices available\n",
      "Not setting metadata\n",
      "79 matching events found\n",
      "No baseline correction applied\n",
      "0 projection items activated\n",
      "Effective window size : 2.000 (s)\n"
     ]
    },
    {
     "name": "stderr",
     "output_type": "stream",
     "text": [
      "C:\\Users\\chuba\\AppData\\Local\\Temp\\ipykernel_4080\\1278967360.py:126: RuntimeWarning: This filename (NP052315_CE_epoch.fif) does not conform to MNE naming conventions. All epochs files should end with -epo.fif, -epo.fif.gz, _epo.fif or _epo.fif.gz\n",
      "  variable_second = mne.read_epochs(name, proj=True, preload=True, verbose=None)\n"
     ]
    },
    {
     "name": "stdout",
     "output_type": "stream",
     "text": [
      "NP052315_CE_epoch.fif -121.54966986349424\n",
      "NP062306_CE_epoch.fif\n",
      "Reading D:\\all_eeg\\mu_eeg\\chernovik_2\\mu1_and_mu2_3-4_years_preprocecc\\MU_hg_epoch (1)\\MU_hg_epoch (1)\\NP062306_CE_epoch.fif ...\n",
      "    Found the data of interest:\n",
      "        t =       0.00 ...    1998.00 ms\n",
      "        0 CTF compensation matrices available\n",
      "Not setting metadata\n",
      "81 matching events found\n",
      "No baseline correction applied\n",
      "0 projection items activated\n",
      "Effective window size : 2.000 (s)\n"
     ]
    },
    {
     "name": "stderr",
     "output_type": "stream",
     "text": [
      "C:\\Users\\chuba\\AppData\\Local\\Temp\\ipykernel_4080\\1278967360.py:126: RuntimeWarning: This filename (NP062306_CE_epoch.fif) does not conform to MNE naming conventions. All epochs files should end with -epo.fif, -epo.fif.gz, _epo.fif or _epo.fif.gz\n",
      "  variable_second = mne.read_epochs(name, proj=True, preload=True, verbose=None)\n"
     ]
    },
    {
     "name": "stdout",
     "output_type": "stream",
     "text": [
      "NP062306_CE_epoch.fif -123.34482187145618\n",
      "NP112314_CE_epoch.fif\n",
      "Reading D:\\all_eeg\\mu_eeg\\chernovik_2\\mu1_and_mu2_3-4_years_preprocecc\\MU_hg_epoch (1)\\MU_hg_epoch (1)\\NP112314_CE_epoch.fif ...\n",
      "    Found the data of interest:\n",
      "        t =       0.00 ...    1998.00 ms\n",
      "        0 CTF compensation matrices available\n",
      "Not setting metadata\n",
      "37 matching events found\n",
      "No baseline correction applied\n",
      "0 projection items activated\n",
      "Effective window size : 2.000 (s)\n",
      "NP112314_CE_epoch.fif -122.85988540903467\n",
      "NP112317_CE_epoch.fif\n",
      "Reading D:\\all_eeg\\mu_eeg\\chernovik_2\\mu1_and_mu2_3-4_years_preprocecc\\MU_hg_epoch (1)\\MU_hg_epoch (1)\\NP112317_CE_epoch.fif ...\n",
      "    Found the data of interest:\n"
     ]
    },
    {
     "name": "stderr",
     "output_type": "stream",
     "text": [
      "C:\\Users\\chuba\\AppData\\Local\\Temp\\ipykernel_4080\\1278967360.py:126: RuntimeWarning: This filename (NP112314_CE_epoch.fif) does not conform to MNE naming conventions. All epochs files should end with -epo.fif, -epo.fif.gz, _epo.fif or _epo.fif.gz\n",
      "  variable_second = mne.read_epochs(name, proj=True, preload=True, verbose=None)\n",
      "C:\\Users\\chuba\\AppData\\Local\\Temp\\ipykernel_4080\\1278967360.py:126: RuntimeWarning: This filename (NP112317_CE_epoch.fif) does not conform to MNE naming conventions. All epochs files should end with -epo.fif, -epo.fif.gz, _epo.fif or _epo.fif.gz\n",
      "  variable_second = mne.read_epochs(name, proj=True, preload=True, verbose=None)\n"
     ]
    },
    {
     "name": "stdout",
     "output_type": "stream",
     "text": [
      "        t =       0.00 ...    1998.00 ms\n",
      "        0 CTF compensation matrices available\n",
      "Not setting metadata\n",
      "44 matching events found\n",
      "No baseline correction applied\n",
      "0 projection items activated\n",
      "Effective window size : 2.000 (s)\n",
      "NP112317_CE_epoch.fif -122.28273602854345\n",
      "NP112318_CE_epoch.fif\n",
      "Reading D:\\all_eeg\\mu_eeg\\chernovik_2\\mu1_and_mu2_3-4_years_preprocecc\\MU_hg_epoch (1)\\MU_hg_epoch (1)\\NP112318_CE_epoch.fif ...\n",
      "    Found the data of interest:\n",
      "        t =       0.00 ...    1998.00 ms\n",
      "        0 CTF compensation matrices available\n",
      "Not setting metadata\n",
      "88 matching events found\n",
      "No baseline correction applied\n",
      "0 projection items activated\n",
      "Effective window size : 2.000 (s)\n"
     ]
    },
    {
     "name": "stderr",
     "output_type": "stream",
     "text": [
      "C:\\Users\\chuba\\AppData\\Local\\Temp\\ipykernel_4080\\1278967360.py:126: RuntimeWarning: This filename (NP112318_CE_epoch.fif) does not conform to MNE naming conventions. All epochs files should end with -epo.fif, -epo.fif.gz, _epo.fif or _epo.fif.gz\n",
      "  variable_second = mne.read_epochs(name, proj=True, preload=True, verbose=None)\n"
     ]
    },
    {
     "name": "stdout",
     "output_type": "stream",
     "text": [
      "NP112318_CE_epoch.fif -121.22599775602005\n",
      "NP112321_mu1_CE_epoch.fif\n",
      "Reading D:\\all_eeg\\mu_eeg\\chernovik_2\\mu1_and_mu2_3-4_years_preprocecc\\MU_hg_epoch (1)\\MU_hg_epoch (1)\\NP112321_mu1_CE_epoch.fif ...\n",
      "    Found the data of interest:\n",
      "        t =       0.00 ...    1998.00 ms\n",
      "        0 CTF compensation matrices available\n",
      "Not setting metadata\n",
      "83 matching events found\n",
      "No baseline correction applied\n",
      "0 projection items activated\n",
      "Effective window size : 2.000 (s)\n"
     ]
    },
    {
     "name": "stderr",
     "output_type": "stream",
     "text": [
      "C:\\Users\\chuba\\AppData\\Local\\Temp\\ipykernel_4080\\1278967360.py:126: RuntimeWarning: This filename (NP112321_mu1_CE_epoch.fif) does not conform to MNE naming conventions. All epochs files should end with -epo.fif, -epo.fif.gz, _epo.fif or _epo.fif.gz\n",
      "  variable_second = mne.read_epochs(name, proj=True, preload=True, verbose=None)\n",
      "No artists with labels found to put in legend.  Note that artists whose label start with an underscore are ignored when legend() is called with no argument.\n"
     ]
    },
    {
     "name": "stdout",
     "output_type": "stream",
     "text": [
      "NP112321_mu1_CE_epoch.fif -125.2657383309034\n",
      "avr_PSD_variable_second = -123.0760941730346\n",
      "[-124.43304083559187, -123.99532525217148, -123.74827444779547, -123.80383479902271, -123.1403533159159, -123.61065012829194, -124.20870701018049, -121.71176311354327, -121.54966986349424, -123.34482187145618, -122.85988540903467, -122.28273602854345, -121.22599775602005, -125.2657383309034]\n",
      "[['NP042303_CE_epoch.fif'], ['NP042304_CE_epoch.fif'], ['NP042306_CE_epoch.fif'], ['NP042307_mu1_CE_epoch.fif'], ['NP042309_CE_epoch.fif'], ['NP042317_CE_epoch.fif'], ['NP042331_CE_epoch.fif'], ['NP052310_CE_epoch.fif'], ['NP052315_CE_epoch.fif'], ['NP062306_CE_epoch.fif'], ['NP112314_CE_epoch.fif'], ['NP112317_CE_epoch.fif'], ['NP112318_CE_epoch.fif'], ['NP112321_mu1_CE_epoch.fif']]\n",
      "                             ID         PSD\n",
      "0       [NP042303_CE_epoch.fif] -124.433041\n",
      "1       [NP042304_CE_epoch.fif] -123.995325\n",
      "2       [NP042306_CE_epoch.fif] -123.748274\n",
      "3   [NP042307_mu1_CE_epoch.fif] -123.803835\n",
      "4       [NP042309_CE_epoch.fif] -123.140353\n",
      "5       [NP042317_CE_epoch.fif] -123.610650\n",
      "6       [NP042331_CE_epoch.fif] -124.208707\n",
      "7       [NP052310_CE_epoch.fif] -121.711763\n",
      "8       [NP052315_CE_epoch.fif] -121.549670\n",
      "9       [NP062306_CE_epoch.fif] -123.344822\n",
      "10      [NP112314_CE_epoch.fif] -122.859885\n",
      "11      [NP112317_CE_epoch.fif] -122.282736\n",
      "12      [NP112318_CE_epoch.fif] -121.225998\n",
      "13  [NP112321_mu1_CE_epoch.fif] -125.265738\n"
     ]
    }
   ],
   "source": [
    "#посчет по отвдениям с3 и с4 13-30Гц\n",
    "#необходимо изменить только название фафла для обработки и название файлов которые собираешься изменять \n",
    "fig, ax = plt.subplots()\n",
    "\n",
    "#перове условие Название: \n",
    "os.chdir('D:/all_eeg/mu_eeg/chernovik_2/NL_2_3-4_years_preprocecc/NL2_hg_epoch/NL2_hg_epoch/')\n",
    "psds_target_list = []\n",
    "data_variable_first = [] \n",
    "data_id = []\n",
    "\n",
    "for i in range(len(ID_f_b_epoch)):\n",
    "    print(ID_f_b_epoch[i])\n",
    "    name = ID_f_b_epoch[i]\n",
    "    variable_first = mne.read_epochs(name, proj=True, preload=True, verbose=None)#читаем запись \n",
    "    spectrum = variable_first.compute_psd(method='welch', fmin=13, fmax=30, tmin=None, tmax=None, proj=False, n_jobs=1, verbose=None)#считаем PSD\n",
    "    psds, freqs = spectrum.get_data(return_freqs=True)#Получите все эпохи в виде 3D-массива\n",
    "\n",
    "    # Find corresponding indices using mne.pick_types() \n",
    "    # mne.pick_types определяет индексы каналов ЭЭГ для обращения\n",
    "    picks_roi_vis = mne.pick_types(variable_first.info, eeg=True, stim=False, exclude='bads', selection=[\"C3\",\"C4\"])\n",
    "    psds_mean=np.mean(psds, axis=0)#cчитаем сред знач Эпох\n",
    "    psds_target = psds_mean[picks_roi_vis]#СОЗДАЕМ СПИСОК ИНДЕКСОВ \n",
    "    psd_variable_first = 10 * np.log10(psds_target.mean())#считаем PSD для подсчета \n",
    "    ID_namber = [ID_f_b_epoch[i]]\n",
    "    data_variable_first.append(psd_variable_first)\n",
    "    data_id.append(ID_namber)\n",
    "    print(ID_f_b_epoch[i], f'{psd_variable_first}')\n",
    "    \n",
    "    psds_mean_ch=np.mean(psds_target, axis=0)\n",
    "    psds_target_list.append(psds_mean_ch)#создаем список (списков?) нужных нам отведений \n",
    "    #ax.plot(freqs, psds_target[0], color='white', alpha=0.1, label = f\" {ID_f_b_epoch[i]}: {psd_variable_first:.2f}\")#правильный пример \n",
    "av_psds_target_list =  np.mean(np.array(psds_target_list), axis=0)#считается усред PSD                             \n",
    "ax.plot(freqs,  av_psds_target_list, color='b')\n",
    "avr_PSD_variable_first = 10 * np.log10(av_psds_target_list.mean())#Считается усред PSD для принта \n",
    "df = pd.DataFrame({\"ID\": data_id, \"PSD\": data_variable_first})\n",
    "print(f'avr_PSD_variable_first = {avr_PSD_variable_first}')\n",
    "print(data_variable_first)\n",
    "print(data_id)\n",
    "print(df)\n",
    "df.to_excel('D:/all_eeg/mu_eeg/obrabot/общие графики/эпохи PSD для фракталов (С3-с4, 13-30Гц).xlsx', index=False)\n",
    "\n",
    "#второе условие Название:   \n",
    "psds_target_list = []\n",
    "data_variable_second = []\n",
    "data_id_2 = []\n",
    "\n",
    "for i in range(len(ID_f_s_epoch)):\n",
    "    print(ID_f_s_epoch[i])\n",
    "    name = ID_f_s_epoch[i]\n",
    "    variable_second = mne.read_epochs(name, proj=True, preload=True, verbose=None)\n",
    "    spectrum = variable_second.compute_psd(method='welch', fmin=13, fmax=30, tmin=None, tmax=None, proj=False, n_jobs=1, verbose=None)\n",
    "    psds, freqs = spectrum.get_data(return_freqs=True)\n",
    "\n",
    "    # Find corresponding indices using mne.pick_types() \n",
    "    picks_roi_vis = mne.pick_types(variable_second.info, eeg=True, stim=False, exclude='bads', selection=[\"C3\",\"C4\"])\n",
    "    psds_mean=np.mean(psds, axis=0)   \n",
    "    psds_target = psds_mean[picks_roi_vis]\n",
    "    psd_variable_second = 10 * np.log10(psds_target.mean()) \n",
    "    ID_namber_2 = [ID_f_s_epoch[i]]\n",
    "    data_variable_second.append(psd_variable_second)\n",
    "    data_id_2.append(ID_namber_2)\n",
    "    print(ID_f_s_epoch[i], f'{psd_variable_second}')\n",
    "    \n",
    "    \n",
    "    psds_mean_ch=np.mean(psds_target, axis=0)\n",
    "    psds_target_list.append(psds_mean_ch)\n",
    "    #ax.plot(freqs, psds_target[0], color='white', alpha=0.1, label=f\"PSD {ID[i]}_all_epochs_new_fractal_audio.fif: {psd_variable_second:.2f}\")\n",
    "av_psds_target_list =  np.mean(np.array(psds_target_list), axis=0)                              \n",
    "ax.plot(freqs,  av_psds_target_list, '--b')\n",
    "avr_PSD_variable_second = 10 * np.log10(av_psds_target_list.mean()) \n",
    "df = pd.DataFrame({\"ID\": data_id_2, \"PSD\": data_variable_second})\n",
    "print(f'avr_PSD_variable_second = {avr_PSD_variable_second}')\n",
    "print(data_variable_second)\n",
    "print(data_id_2)\n",
    "print(df)\n",
    "df.to_excel('D:/all_eeg/mu_eeg/obrabot/общие графики/эпохи PSD для фракталов с аудио (С3-с4, 13-30Гц).xlsx', index=False)\n",
    "\n",
    "\n",
    "#третье условие Название:   \n",
    "\n",
    "os.chdir('D:/all_eeg/mu_eeg/chernovik_2/mu1_and_mu2_3-4_years_preprocecc/MU_hg_epoch (1)/MU_hg_epoch (1)/')\n",
    "psds_target_list = []\n",
    "data_variable_second = []\n",
    "data_id_3 = []\n",
    "\n",
    "for i in range(len(ID_PHC_epoch)):\n",
    "    print(ID_PHC_epoch[i])\n",
    "    name = ID_PHC_epoch[i]\n",
    "    variable_second = mne.read_epochs(name, proj=True, preload=True, verbose=None)\n",
    "    spectrum = variable_second.compute_psd(method='welch', fmin=13, fmax=30, tmin=None, tmax=None, proj=False, n_jobs=1, verbose=None)\n",
    "    psds, freqs = spectrum.get_data(return_freqs=True)\n",
    "\n",
    "    # Find corresponding indices using mne.pick_types() \n",
    "    picks_roi_vis = mne.pick_types(variable_second.info, eeg=True, stim=False, exclude='bads', selection=[\"C3\",\"C4\"])\n",
    "    psds_mean=np.mean(psds, axis=0)   \n",
    "    psds_target = psds_mean[picks_roi_vis]\n",
    "    psd_variable_second = 10 * np.log10(psds_target.mean()) \n",
    "    ID_namber_3 = [ID_PHC_epoch[i]]\n",
    "    data_variable_second.append(psd_variable_second)\n",
    "    data_id_3.append(ID_namber_3)\n",
    "    print(ID_PHC_epoch[i], f'{psd_variable_second}')\n",
    "    \n",
    "    \n",
    "    psds_mean_ch=np.mean(psds_target, axis=0)\n",
    "    psds_target_list.append(psds_mean_ch)\n",
    "    #ax.plot(freqs, psds_target[0], color='white', alpha=0.1, label=f\"PSD {ID[i]}_all_epochs_new_fractal_audio.fif: {psd_variable_second:.2f}\")\n",
    "av_psds_target_list =  np.mean(np.array(psds_target_list), axis=0)                              \n",
    "ax.plot(freqs,  av_psds_target_list, 'g')\n",
    "avr_PSD_variable_second = 10 * np.log10(av_psds_target_list.mean()) \n",
    "df = pd.DataFrame({\"ID\": data_id_3, \"PSD\": data_variable_second})\n",
    "print(f'avr_PSD_variable_second = {avr_PSD_variable_second}')\n",
    "print(data_variable_second)\n",
    "print(data_id_3)\n",
    "print(df)\n",
    "df.to_excel('D:/all_eeg/mu_eeg/obrabot/общие графики/эпохи PSD пассивного сжатия руки(С3-с4, 13-30Гц).xlsx', index=False)\n",
    "\n",
    "#четвертое условие Название:   - отредактировать!\n",
    "\n",
    "psds_target_list = []\n",
    "data_variable_second = []\n",
    "data_id_4 = []\n",
    "\n",
    "for i in range(len(ID_CE_epoch)):\n",
    "    print(ID_CE_epoch[i])\n",
    "    name = ID_CE_epoch[i]\n",
    "    variable_second = mne.read_epochs(name, proj=True, preload=True, verbose=None)\n",
    "    spectrum = variable_second.compute_psd(method='welch', fmin=13, fmax=30, tmin=None, tmax=None, proj=False, n_jobs=1, verbose=None)\n",
    "    psds, freqs = spectrum.get_data(return_freqs=True)\n",
    "\n",
    "    # Find corresponding indices using mne.pick_types() \n",
    "    picks_roi_vis = mne.pick_types(variable_second.info, eeg=True, stim=False, exclude='bads', selection=[\"C3\",\"C4\"])\n",
    "    psds_mean=np.mean(psds, axis=0)   \n",
    "    psds_target = psds_mean[picks_roi_vis]\n",
    "    psd_variable_second = 10 * np.log10(psds_target.mean()) \n",
    "    ID_namber_4 = [ID_CE_epoch[i]]\n",
    "    data_variable_second.append(psd_variable_second)\n",
    "    data_id_4.append(ID_namber_4)\n",
    "    print(ID_CE_epoch[i], f'{psd_variable_second}')\n",
    "    \n",
    "    psds_mean_ch=np.mean(psds_target, axis=0)\n",
    "    psds_target_list.append(psds_mean_ch)\n",
    "    #ax.plot(freqs, psds_target[0], color='white', alpha=0.1, label=f\"PSD {ID[i]}_all_epochs_new_fractal_audio.fif: {psd_variable_second:.2f}\")\n",
    "av_psds_target_list =  np.mean(np.array(psds_target_list), axis=0)                              \n",
    "ax.plot(freqs,  av_psds_target_list, 'k')\n",
    "avr_PSD_variable_second = 10 * np.log10(av_psds_target_list.mean()) \n",
    "df = pd.DataFrame({\"ID\": data_id_4, \"PSD\": data_variable_second})\n",
    "print(f'avr_PSD_variable_second = {avr_PSD_variable_second}')\n",
    "print(data_variable_second)\n",
    "print(data_id_4)\n",
    "print(df)\n",
    "df.to_excel('D:/all_eeg/mu_eeg/obrabot/общие графики/эпохи PSD закрытые глаза(С3-с4, 13-30Гц).xlsx', index=False)\n",
    "\n",
    "# выводим легенду и оси\n",
    "ax.legend()\n",
    "ax.set_xlabel('Freguency (Hz)')\n",
    "ax.set_ylabel('PSD (fT/cm)^2/Hz (dB)')\n",
    "ax.set_title(f'PSD для 4 условий, 13-30Гц, С3-C4 {len(ID_f_b_epoch)} человек. avr_PSD_var_first = {avr_PSD_variable_first}, avr_PSD_var_second  = {avr_PSD_variable_second}')\n",
    "ax.grid(True)\n",
    "\n",
    "plt.show()\n"
   ]
  },
  {
   "cell_type": "code",
   "execution_count": null,
   "id": "05f5d272",
   "metadata": {},
   "outputs": [],
   "source": []
  },
  {
   "cell_type": "code",
   "execution_count": null,
   "id": "fb788268",
   "metadata": {},
   "outputs": [],
   "source": []
  },
  {
   "cell_type": "code",
   "execution_count": null,
   "id": "8960b200",
   "metadata": {},
   "outputs": [],
   "source": []
  },
  {
   "cell_type": "code",
   "execution_count": null,
   "id": "c5673069",
   "metadata": {},
   "outputs": [],
   "source": []
  },
  {
   "cell_type": "code",
   "execution_count": null,
   "id": "71d50c27",
   "metadata": {},
   "outputs": [],
   "source": []
  },
  {
   "cell_type": "code",
   "execution_count": null,
   "id": "11780aca",
   "metadata": {},
   "outputs": [],
   "source": []
  },
  {
   "cell_type": "code",
   "execution_count": null,
   "id": "b7f41a2b",
   "metadata": {},
   "outputs": [],
   "source": []
  },
  {
   "cell_type": "code",
   "execution_count": null,
   "id": "3d2497e1",
   "metadata": {},
   "outputs": [],
   "source": []
  },
  {
   "cell_type": "code",
   "execution_count": null,
   "id": "cd6cb7de",
   "metadata": {},
   "outputs": [],
   "source": []
  },
  {
   "cell_type": "code",
   "execution_count": null,
   "id": "a80a1757",
   "metadata": {},
   "outputs": [],
   "source": []
  },
  {
   "cell_type": "code",
   "execution_count": null,
   "id": "fd472c07",
   "metadata": {},
   "outputs": [],
   "source": []
  },
  {
   "cell_type": "code",
   "execution_count": null,
   "id": "1413dd56",
   "metadata": {},
   "outputs": [],
   "source": []
  },
  {
   "cell_type": "code",
   "execution_count": null,
   "id": "dcc2e892",
   "metadata": {},
   "outputs": [],
   "source": []
  },
  {
   "cell_type": "code",
   "execution_count": null,
   "id": "eac09c36",
   "metadata": {},
   "outputs": [],
   "source": []
  },
  {
   "cell_type": "code",
   "execution_count": null,
   "id": "12e68b72",
   "metadata": {},
   "outputs": [],
   "source": []
  },
  {
   "cell_type": "code",
   "execution_count": null,
   "id": "8de63db7",
   "metadata": {},
   "outputs": [],
   "source": []
  },
  {
   "cell_type": "code",
   "execution_count": null,
   "id": "cb97db7b",
   "metadata": {},
   "outputs": [],
   "source": []
  },
  {
   "cell_type": "code",
   "execution_count": null,
   "id": "ce5ec411",
   "metadata": {},
   "outputs": [],
   "source": []
  },
  {
   "cell_type": "code",
   "execution_count": null,
   "id": "e41cff2b",
   "metadata": {},
   "outputs": [],
   "source": []
  },
  {
   "cell_type": "code",
   "execution_count": null,
   "id": "14a77e7d",
   "metadata": {},
   "outputs": [],
   "source": []
  },
  {
   "cell_type": "code",
   "execution_count": null,
   "id": "2ca9566c",
   "metadata": {},
   "outputs": [],
   "source": []
  },
  {
   "cell_type": "code",
   "execution_count": null,
   "id": "0a5e8aab",
   "metadata": {},
   "outputs": [],
   "source": []
  },
  {
   "cell_type": "code",
   "execution_count": null,
   "id": "6de0b045",
   "metadata": {},
   "outputs": [],
   "source": []
  },
  {
   "cell_type": "code",
   "execution_count": null,
   "id": "fd316eb1",
   "metadata": {},
   "outputs": [],
   "source": []
  },
  {
   "cell_type": "code",
   "execution_count": null,
   "id": "36c9397b",
   "metadata": {},
   "outputs": [],
   "source": []
  },
  {
   "cell_type": "code",
   "execution_count": null,
   "id": "5f9ad305",
   "metadata": {},
   "outputs": [],
   "source": []
  },
  {
   "cell_type": "code",
   "execution_count": null,
   "id": "3c4d6d9a",
   "metadata": {},
   "outputs": [],
   "source": []
  },
  {
   "cell_type": "code",
   "execution_count": null,
   "id": "ceb9acd5",
   "metadata": {},
   "outputs": [],
   "source": []
  },
  {
   "cell_type": "code",
   "execution_count": null,
   "id": "fd93ae2c",
   "metadata": {},
   "outputs": [],
   "source": []
  },
  {
   "cell_type": "code",
   "execution_count": null,
   "id": "81f04dfb",
   "metadata": {},
   "outputs": [],
   "source": []
  },
  {
   "cell_type": "code",
   "execution_count": null,
   "id": "dc65f0d0",
   "metadata": {},
   "outputs": [],
   "source": []
  },
  {
   "cell_type": "code",
   "execution_count": null,
   "id": "10590785",
   "metadata": {},
   "outputs": [],
   "source": []
  },
  {
   "cell_type": "code",
   "execution_count": null,
   "id": "07886749",
   "metadata": {},
   "outputs": [],
   "source": []
  },
  {
   "cell_type": "code",
   "execution_count": null,
   "id": "038908c4",
   "metadata": {},
   "outputs": [],
   "source": []
  },
  {
   "cell_type": "code",
   "execution_count": null,
   "id": "783cca7b",
   "metadata": {},
   "outputs": [],
   "source": []
  },
  {
   "cell_type": "code",
   "execution_count": null,
   "id": "8ea630bb",
   "metadata": {},
   "outputs": [],
   "source": []
  },
  {
   "cell_type": "code",
   "execution_count": null,
   "id": "13b8ff24",
   "metadata": {},
   "outputs": [],
   "source": []
  },
  {
   "cell_type": "code",
   "execution_count": null,
   "id": "71e32620",
   "metadata": {},
   "outputs": [],
   "source": []
  },
  {
   "cell_type": "code",
   "execution_count": null,
   "id": "f65a4200",
   "metadata": {},
   "outputs": [],
   "source": []
  },
  {
   "cell_type": "code",
   "execution_count": null,
   "id": "f158dfe3",
   "metadata": {},
   "outputs": [],
   "source": []
  },
  {
   "cell_type": "code",
   "execution_count": null,
   "id": "077b8c77",
   "metadata": {},
   "outputs": [],
   "source": []
  },
  {
   "cell_type": "code",
   "execution_count": null,
   "id": "606b6d35",
   "metadata": {},
   "outputs": [],
   "source": []
  },
  {
   "cell_type": "code",
   "execution_count": null,
   "id": "0c35a94f",
   "metadata": {},
   "outputs": [],
   "source": []
  },
  {
   "cell_type": "code",
   "execution_count": null,
   "id": "c680affb",
   "metadata": {},
   "outputs": [],
   "source": []
  },
  {
   "cell_type": "code",
   "execution_count": null,
   "id": "db2b8d1e",
   "metadata": {},
   "outputs": [],
   "source": []
  },
  {
   "cell_type": "code",
   "execution_count": null,
   "id": "fd10f7b0",
   "metadata": {},
   "outputs": [],
   "source": []
  },
  {
   "cell_type": "code",
   "execution_count": null,
   "id": "f66e70d8",
   "metadata": {},
   "outputs": [],
   "source": []
  },
  {
   "cell_type": "code",
   "execution_count": null,
   "id": "41223602",
   "metadata": {},
   "outputs": [],
   "source": []
  },
  {
   "cell_type": "code",
   "execution_count": null,
   "id": "741dfa48",
   "metadata": {},
   "outputs": [],
   "source": []
  },
  {
   "cell_type": "code",
   "execution_count": null,
   "id": "858d445d",
   "metadata": {},
   "outputs": [],
   "source": []
  },
  {
   "cell_type": "code",
   "execution_count": null,
   "id": "a0e69cbd",
   "metadata": {},
   "outputs": [],
   "source": []
  },
  {
   "cell_type": "code",
   "execution_count": null,
   "id": "5beef437",
   "metadata": {},
   "outputs": [],
   "source": []
  }
 ],
 "metadata": {
  "kernelspec": {
   "display_name": "Python 3 (ipykernel)",
   "language": "python",
   "name": "python3"
  },
  "language_info": {
   "codemirror_mode": {
    "name": "ipython",
    "version": 3
   },
   "file_extension": ".py",
   "mimetype": "text/x-python",
   "name": "python",
   "nbconvert_exporter": "python",
   "pygments_lexer": "ipython3",
   "version": "3.9.12"
  }
 },
 "nbformat": 4,
 "nbformat_minor": 5
}
